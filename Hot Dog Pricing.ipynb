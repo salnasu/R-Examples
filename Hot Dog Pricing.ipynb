{
 "cells": [
  {
   "cell_type": "code",
   "execution_count": 1,
   "metadata": {},
   "outputs": [
    {
     "name": "stderr",
     "output_type": "stream",
     "text": [
      "\n",
      "Attaching package: 'dplyr'\n",
      "\n",
      "\n",
      "The following objects are masked from 'package:stats':\n",
      "\n",
      "    filter, lag\n",
      "\n",
      "\n",
      "The following objects are masked from 'package:base':\n",
      "\n",
      "    intersect, setdiff, setequal, union\n",
      "\n",
      "\n",
      "-- \u001b[1mAttaching packages\u001b[22m --------------------------------------- tidyverse 1.3.0 --\n",
      "\n",
      "\u001b[32mv\u001b[39m \u001b[34mtibble \u001b[39m 3.0.3     \u001b[32mv\u001b[39m \u001b[34mpurrr  \u001b[39m 0.3.4\n",
      "\u001b[32mv\u001b[39m \u001b[34mtidyr  \u001b[39m 1.1.1     \u001b[32mv\u001b[39m \u001b[34mstringr\u001b[39m 1.4.0\n",
      "\u001b[32mv\u001b[39m \u001b[34mreadr  \u001b[39m 1.3.1     \u001b[32mv\u001b[39m \u001b[34mforcats\u001b[39m 0.5.0\n",
      "\n",
      "-- \u001b[1mConflicts\u001b[22m ------------------------------------------ tidyverse_conflicts() --\n",
      "\u001b[31mx\u001b[39m \u001b[34mdplyr\u001b[39m::\u001b[32mfilter()\u001b[39m masks \u001b[34mstats\u001b[39m::filter()\n",
      "\u001b[31mx\u001b[39m \u001b[34mdplyr\u001b[39m::\u001b[32mlag()\u001b[39m    masks \u001b[34mstats\u001b[39m::lag()\n",
      "\n",
      "Registered S3 method overwritten by 'pryr':\n",
      "  method      from\n",
      "  print.bytes Rcpp\n",
      "\n",
      "For best results, restart R session and update pander using devtools:: or remotes::install_github('rapporter/pander')\n",
      "\n",
      "\n",
      "Attaching package: 'summarytools'\n",
      "\n",
      "\n",
      "The following object is masked from 'package:tibble':\n",
      "\n",
      "    view\n",
      "\n",
      "\n",
      "\n",
      "Attaching package: 'igraph'\n",
      "\n",
      "\n",
      "The following objects are masked from 'package:purrr':\n",
      "\n",
      "    compose, simplify\n",
      "\n",
      "\n",
      "The following object is masked from 'package:tidyr':\n",
      "\n",
      "    crossing\n",
      "\n",
      "\n",
      "The following object is masked from 'package:tibble':\n",
      "\n",
      "    as_data_frame\n",
      "\n",
      "\n",
      "The following objects are masked from 'package:dplyr':\n",
      "\n",
      "    as_data_frame, groups, union\n",
      "\n",
      "\n",
      "The following objects are masked from 'package:stats':\n",
      "\n",
      "    decompose, spectrum\n",
      "\n",
      "\n",
      "The following object is masked from 'package:base':\n",
      "\n",
      "    union\n",
      "\n",
      "\n",
      "Loading required package: usethis\n",
      "\n"
     ]
    }
   ],
   "source": [
    "#```{r results='hide', message=FALSE, warning=FALSE}\n",
    "# install all Packages required\n",
    "# install.packages('ggplot2')\n",
    "# Load Libraries to be used\n",
    "library(ggplot2)\n",
    "library(knitr)\n",
    "library(dplyr)\n",
    "library(tidyverse)\n",
    "library(summarytools)\n",
    "library(visdat)\n",
    "library(igraph)\n",
    "#library(treemap)\n",
    "#library(dplyr)\n",
    "library(devtools)\n",
    "#```# Do not show warnings"
   ]
  },
  {
   "cell_type": "code",
   "execution_count": 2,
   "metadata": {},
   "outputs": [],
   "source": [
    "#install.packages(\"readxl\")\n",
    "library(\"readxl\")\n",
    "# my_data <- read_excel(file.choose())"
   ]
  },
  {
   "cell_type": "code",
   "execution_count": 3,
   "metadata": {
    "scrolled": true
   },
   "outputs": [
    {
     "data": {
      "text/html": [
       "<table>\n",
       "<caption>A tibble: 6 × 6</caption>\n",
       "<thead>\n",
       "\t<tr><th scope=col>WEEK</th><th scope=col>MSHARE</th><th scope=col>PDUB</th><th scope=col>PMAY</th><th scope=col>PBPREG</th><th scope=col>PBPALL</th></tr>\n",
       "\t<tr><th scope=col>&lt;dbl&gt;</th><th scope=col>&lt;dbl&gt;</th><th scope=col>&lt;dbl&gt;</th><th scope=col>&lt;dbl&gt;</th><th scope=col>&lt;dbl&gt;</th><th scope=col>&lt;dbl&gt;</th></tr>\n",
       "</thead>\n",
       "<tbody>\n",
       "\t<tr><td>1</td><td>4.54565</td><td>1.49</td><td>1.69</td><td>1.69</td><td>1.79</td></tr>\n",
       "\t<tr><td>2</td><td>9.30145</td><td>1.49</td><td>1.99</td><td>1.89</td><td>1.99</td></tr>\n",
       "\t<tr><td>3</td><td>5.96656</td><td>1.89</td><td>1.99</td><td>1.89</td><td>1.99</td></tr>\n",
       "\t<tr><td>4</td><td>3.45966</td><td>1.89</td><td>1.99</td><td>1.89</td><td>1.99</td></tr>\n",
       "\t<tr><td>5</td><td>2.76536</td><td>1.89</td><td>1.69</td><td>1.59</td><td>1.69</td></tr>\n",
       "\t<tr><td>6</td><td>2.94224</td><td>1.89</td><td>1.99</td><td>1.89</td><td>1.99</td></tr>\n",
       "</tbody>\n",
       "</table>\n"
      ],
      "text/latex": [
       "A tibble: 6 × 6\n",
       "\\begin{tabular}{llllll}\n",
       " WEEK & MSHARE & PDUB & PMAY & PBPREG & PBPALL\\\\\n",
       " <dbl> & <dbl> & <dbl> & <dbl> & <dbl> & <dbl>\\\\\n",
       "\\hline\n",
       "\t 1 & 4.54565 & 1.49 & 1.69 & 1.69 & 1.79\\\\\n",
       "\t 2 & 9.30145 & 1.49 & 1.99 & 1.89 & 1.99\\\\\n",
       "\t 3 & 5.96656 & 1.89 & 1.99 & 1.89 & 1.99\\\\\n",
       "\t 4 & 3.45966 & 1.89 & 1.99 & 1.89 & 1.99\\\\\n",
       "\t 5 & 2.76536 & 1.89 & 1.69 & 1.59 & 1.69\\\\\n",
       "\t 6 & 2.94224 & 1.89 & 1.99 & 1.89 & 1.99\\\\\n",
       "\\end{tabular}\n"
      ],
      "text/markdown": [
       "\n",
       "A tibble: 6 × 6\n",
       "\n",
       "| WEEK &lt;dbl&gt; | MSHARE &lt;dbl&gt; | PDUB &lt;dbl&gt; | PMAY &lt;dbl&gt; | PBPREG &lt;dbl&gt; | PBPALL &lt;dbl&gt; |\n",
       "|---|---|---|---|---|---|\n",
       "| 1 | 4.54565 | 1.49 | 1.69 | 1.69 | 1.79 |\n",
       "| 2 | 9.30145 | 1.49 | 1.99 | 1.89 | 1.99 |\n",
       "| 3 | 5.96656 | 1.89 | 1.99 | 1.89 | 1.99 |\n",
       "| 4 | 3.45966 | 1.89 | 1.99 | 1.89 | 1.99 |\n",
       "| 5 | 2.76536 | 1.89 | 1.69 | 1.59 | 1.69 |\n",
       "| 6 | 2.94224 | 1.89 | 1.99 | 1.89 | 1.99 |\n",
       "\n"
      ],
      "text/plain": [
       "  WEEK MSHARE  PDUB PMAY PBPREG PBPALL\n",
       "1 1    4.54565 1.49 1.69 1.69   1.79  \n",
       "2 2    9.30145 1.49 1.99 1.89   1.99  \n",
       "3 3    5.96656 1.89 1.99 1.89   1.99  \n",
       "4 4    3.45966 1.89 1.99 1.89   1.99  \n",
       "5 5    2.76536 1.89 1.69 1.59   1.69  \n",
       "6 6    2.94224 1.89 1.99 1.89   1.99  "
      ]
     },
     "metadata": {},
     "output_type": "display_data"
    }
   ],
   "source": [
    "hotdog_df <- read_excel(\"Data/hotdog.xlsx\", sheet=\"data\")\n",
    "head(hotdog_df)"
   ]
  },
  {
   "cell_type": "markdown",
   "metadata": {},
   "source": [
    "### Seasonality"
   ]
  },
  {
   "cell_type": "code",
   "execution_count": 4,
   "metadata": {
    "scrolled": true
   },
   "outputs": [
    {
     "data": {
      "text/html": [
       "<table>\n",
       "<caption>A data.frame: 6 × 1</caption>\n",
       "<thead>\n",
       "\t<tr><th></th><th scope=col>WEEK</th></tr>\n",
       "\t<tr><th></th><th scope=col>&lt;dbl&gt;</th></tr>\n",
       "</thead>\n",
       "<tbody>\n",
       "\t<tr><th scope=row>108</th><td>4</td></tr>\n",
       "\t<tr><th scope=row>109</th><td>5</td></tr>\n",
       "\t<tr><th scope=row>110</th><td>6</td></tr>\n",
       "\t<tr><th scope=row>111</th><td>7</td></tr>\n",
       "\t<tr><th scope=row>112</th><td>8</td></tr>\n",
       "\t<tr><th scope=row>113</th><td>9</td></tr>\n",
       "</tbody>\n",
       "</table>\n"
      ],
      "text/latex": [
       "A data.frame: 6 × 1\n",
       "\\begin{tabular}{r|l}\n",
       "  & WEEK\\\\\n",
       "  & <dbl>\\\\\n",
       "\\hline\n",
       "\t108 & 4\\\\\n",
       "\t109 & 5\\\\\n",
       "\t110 & 6\\\\\n",
       "\t111 & 7\\\\\n",
       "\t112 & 8\\\\\n",
       "\t113 & 9\\\\\n",
       "\\end{tabular}\n"
      ],
      "text/markdown": [
       "\n",
       "A data.frame: 6 × 1\n",
       "\n",
       "| <!--/--> | WEEK &lt;dbl&gt; |\n",
       "|---|---|\n",
       "| 108 | 4 |\n",
       "| 109 | 5 |\n",
       "| 110 | 6 |\n",
       "| 111 | 7 |\n",
       "| 112 | 8 |\n",
       "| 113 | 9 |\n",
       "\n"
      ],
      "text/plain": [
       "    WEEK\n",
       "108 4   \n",
       "109 5   \n",
       "110 6   \n",
       "111 7   \n",
       "112 8   \n",
       "113 9   "
      ]
     },
     "metadata": {},
     "output_type": "display_data"
    }
   ],
   "source": [
    "#tail(hotdog_df[,1]%%52)\n",
    "\n",
    "markShare <- select(hotdog_df,WEEK,MSHARE)\n",
    "markShare[,1] <- markShare[,1]%%52\n",
    "#tail(markShare)\n",
    "\n",
    "markShare1 <- markShare[1:52,]\n",
    "markShare2 <- markShare[53:104,]\n",
    "markShare1[52,1] <- 52\n",
    "markShare2[52,1] <- 52\n"
   ]
  },
  {
   "cell_type": "code",
   "execution_count": 8,
   "metadata": {},
   "outputs": [
    {
     "data": {
      "image/png": "[encoded data removed]",
      "text/plain": [
       "plot without title"
      ]
     },
     "metadata": {
      "image/png": {
       "height": 420,
       "width": 420
      }
     },
     "output_type": "display_data"
    }
   ],
   "source": [
    "p1 <- ggplot(markShare1, aes(x=WEEK))\n",
    "p1 <-p1 + geom_line(aes(y=MSHARE))\n",
    "#p <-p + geom_line(y=markShare$MSHARE)\n",
    "p2 <- geom_line(data=markShare2, aes(x=WEEK, y=MSHARE), colour = \"Red\")\n",
    "#p2 <-p + geom_line(aes(y=MSHARE))\n",
    "p <- p1 + p2\n",
    "p"
   ]
  },
  {
   "cell_type": "markdown",
   "metadata": {},
   "source": [
    "### Scenarios\n",
    "\n",
    "Actual Prices:\n",
    "\n",
    "- Duberque: $1.49\n",
    "\n",
    "- Oscar Mayer: $1.69\n",
    "\n",
    "- Ball Park:\n",
    "    - regular: $1.79\n",
    "    \n",
    "    - special: $1.89\n",
    "\n",
    "Rumor 1:\n",
    " - Ball Park decrease regular price to $1.45\n",
    "\n",
    "Rumor 2: \n",
    "- Ballpark increase special price to $1.95\n",
    "\n",
    "- Balpark decrease special price to $1.55"
   ]
  },
  {
   "cell_type": "code",
   "execution_count": 9,
   "metadata": {},
   "outputs": [
    {
     "name": "stderr",
     "output_type": "stream",
     "text": [
      "Warning message:\n",
      "\"`funs()` is deprecated as of dplyr 0.8.0.\n",
      "Please use a list of either functions or lambdas: \n",
      "\n",
      "  # Simple named list: \n",
      "  list(mean = mean, median = median)\n",
      "\n",
      "  # Auto named with `tibble::lst()`: \n",
      "  tibble::lst(mean, median)\n",
      "\n",
      "  # Using lambdas\n",
      "  list(~ mean(., trim = .2), ~ median(., na.rm = TRUE))\n",
      "\u001b[90mThis warning is displayed once every 8 hours.\u001b[39m\n",
      "\u001b[90mCall `lifecycle::last_warnings()` to see where this warning was generated.\u001b[39m\"\n"
     ]
    },
    {
     "data": {
      "text/plain": [
       "\n",
       "\n",
       "|var    |  mean|    sd|  min| median|    max|\n",
       "|:------|-----:|-----:|----:|------:|------:|\n",
       "|MSHARE |  3.49|  1.43| 1.39|   3.14|   9.30|\n",
       "|PBPALL |  1.77|  0.16| 1.49|   1.69|   1.99|\n",
       "|PBPREG |  1.68|  0.15| 1.39|   1.69|   1.89|\n",
       "|PDUB   |  1.67|  0.14| 1.39|   1.69|   1.89|\n",
       "|PMAY   |  1.70|  0.14| 1.29|   1.69|   1.99|\n",
       "|WEEK   | 57.00| 32.76| 1.00|  57.00| 113.00|"
      ]
     },
     "metadata": {},
     "output_type": "display_data"
    }
   ],
   "source": [
    "kable(hotdog_df %>% summarize_if(is.numeric, funs(mean,sd,max,median,min),na.rm = T) %>% gather(stat,val) %>% separate(stat,into = c(\"var\",\"stat\"), sep = \"_\") %>% spread(stat, val) %>% select(var,mean,sd,min,median,max), bookstabs =T, digits =2)\n"
   ]
  },
  {
   "cell_type": "markdown",
   "metadata": {},
   "source": [
    "|var    |  mean|    sd|  min| median|    max|\n",
    "|:------|:-----:|:-----:|:----:|:------:|------:|\n",
    "|MSHARE |  3.49|  1.43| 1.39|   3.14|   9.30|\n",
    "|PBPALL |  1.77|  0.16| 1.49|   1.69|   1.99|\n",
    "|PBPREG |  1.68|  0.15| 1.39|   1.69|   1.89|\n",
    "|PDUB   |  1.67|  0.14| 1.39|   1.69|   1.89|\n",
    "|PMAY   |  1.70|  0.14| 1.29|   1.69|   1.99|\n",
    "|WEEK   | 57.00| 32.76| 1.00|  57.00| 113.00|"
   ]
  },
  {
   "cell_type": "code",
   "execution_count": 10,
   "metadata": {},
   "outputs": [
    {
     "data": {
      "text/html": [
       "<table>\n",
       "<caption>A matrix: 5 × 5 of type dbl</caption>\n",
       "<thead>\n",
       "\t<tr><th></th><th scope=col>MSHARE</th><th scope=col>PDUB</th><th scope=col>PMAY</th><th scope=col>PBPREG</th><th scope=col>PBPALL</th></tr>\n",
       "</thead>\n",
       "<tbody>\n",
       "\t<tr><th scope=row>MSHARE</th><td> 1.00</td><td>-0.43</td><td>0.17</td><td>0.35</td><td>0.37</td></tr>\n",
       "\t<tr><th scope=row>PDUB</th><td>-0.43</td><td> 1.00</td><td>0.48</td><td>0.36</td><td>0.32</td></tr>\n",
       "\t<tr><th scope=row>PMAY</th><td> 0.17</td><td> 0.48</td><td>1.00</td><td>0.55</td><td>0.53</td></tr>\n",
       "\t<tr><th scope=row>PBPREG</th><td> 0.35</td><td> 0.36</td><td>0.55</td><td>1.00</td><td>0.98</td></tr>\n",
       "\t<tr><th scope=row>PBPALL</th><td> 0.37</td><td> 0.32</td><td>0.53</td><td>0.98</td><td>1.00</td></tr>\n",
       "</tbody>\n",
       "</table>\n"
      ],
      "text/latex": [
       "A matrix: 5 × 5 of type dbl\n",
       "\\begin{tabular}{r|lllll}\n",
       "  & MSHARE & PDUB & PMAY & PBPREG & PBPALL\\\\\n",
       "\\hline\n",
       "\tMSHARE &  1.00 & -0.43 & 0.17 & 0.35 & 0.37\\\\\n",
       "\tPDUB & -0.43 &  1.00 & 0.48 & 0.36 & 0.32\\\\\n",
       "\tPMAY &  0.17 &  0.48 & 1.00 & 0.55 & 0.53\\\\\n",
       "\tPBPREG &  0.35 &  0.36 & 0.55 & 1.00 & 0.98\\\\\n",
       "\tPBPALL &  0.37 &  0.32 & 0.53 & 0.98 & 1.00\\\\\n",
       "\\end{tabular}\n"
      ],
      "text/markdown": [
       "\n",
       "A matrix: 5 × 5 of type dbl\n",
       "\n",
       "| <!--/--> | MSHARE | PDUB | PMAY | PBPREG | PBPALL |\n",
       "|---|---|---|---|---|---|\n",
       "| MSHARE |  1.00 | -0.43 | 0.17 | 0.35 | 0.37 |\n",
       "| PDUB | -0.43 |  1.00 | 0.48 | 0.36 | 0.32 |\n",
       "| PMAY |  0.17 |  0.48 | 1.00 | 0.55 | 0.53 |\n",
       "| PBPREG |  0.35 |  0.36 | 0.55 | 1.00 | 0.98 |\n",
       "| PBPALL |  0.37 |  0.32 | 0.53 | 0.98 | 1.00 |\n",
       "\n"
      ],
      "text/plain": [
       "       MSHARE PDUB  PMAY PBPREG PBPALL\n",
       "MSHARE  1.00  -0.43 0.17 0.35   0.37  \n",
       "PDUB   -0.43   1.00 0.48 0.36   0.32  \n",
       "PMAY    0.17   0.48 1.00 0.55   0.53  \n",
       "PBPREG  0.35   0.36 0.55 1.00   0.98  \n",
       "PBPALL  0.37   0.32 0.53 0.98   1.00  "
      ]
     },
     "metadata": {},
     "output_type": "display_data"
    }
   ],
   "source": [
    "round(cor(hotdog_df[,-1]),2)"
   ]
  },
  {
   "cell_type": "markdown",
   "metadata": {},
   "source": [
    "## Question a\n",
    "\n",
    "Does Dubuque's price affect its market share?"
   ]
  },
  {
   "cell_type": "code",
   "execution_count": 11,
   "metadata": {},
   "outputs": [
    {
     "data": {
      "text/html": [
       "<table>\n",
       "<caption>A tibble: 6 × 2</caption>\n",
       "<thead>\n",
       "\t<tr><th scope=col>MSHARE</th><th scope=col>PDUB</th></tr>\n",
       "\t<tr><th scope=col>&lt;dbl&gt;</th><th scope=col>&lt;dbl&gt;</th></tr>\n",
       "</thead>\n",
       "<tbody>\n",
       "\t<tr><td>4.54565</td><td>1.49</td></tr>\n",
       "\t<tr><td>9.30145</td><td>1.49</td></tr>\n",
       "\t<tr><td>5.96656</td><td>1.89</td></tr>\n",
       "\t<tr><td>3.45966</td><td>1.89</td></tr>\n",
       "\t<tr><td>2.76536</td><td>1.89</td></tr>\n",
       "\t<tr><td>2.94224</td><td>1.89</td></tr>\n",
       "</tbody>\n",
       "</table>\n"
      ],
      "text/latex": [
       "A tibble: 6 × 2\n",
       "\\begin{tabular}{ll}\n",
       " MSHARE & PDUB\\\\\n",
       " <dbl> & <dbl>\\\\\n",
       "\\hline\n",
       "\t 4.54565 & 1.49\\\\\n",
       "\t 9.30145 & 1.49\\\\\n",
       "\t 5.96656 & 1.89\\\\\n",
       "\t 3.45966 & 1.89\\\\\n",
       "\t 2.76536 & 1.89\\\\\n",
       "\t 2.94224 & 1.89\\\\\n",
       "\\end{tabular}\n"
      ],
      "text/markdown": [
       "\n",
       "A tibble: 6 × 2\n",
       "\n",
       "| MSHARE &lt;dbl&gt; | PDUB &lt;dbl&gt; |\n",
       "|---|---|\n",
       "| 4.54565 | 1.49 |\n",
       "| 9.30145 | 1.49 |\n",
       "| 5.96656 | 1.89 |\n",
       "| 3.45966 | 1.89 |\n",
       "| 2.76536 | 1.89 |\n",
       "| 2.94224 | 1.89 |\n",
       "\n"
      ],
      "text/plain": [
       "  MSHARE  PDUB\n",
       "1 4.54565 1.49\n",
       "2 9.30145 1.49\n",
       "3 5.96656 1.89\n",
       "4 3.45966 1.89\n",
       "5 2.76536 1.89\n",
       "6 2.94224 1.89"
      ]
     },
     "metadata": {},
     "output_type": "display_data"
    }
   ],
   "source": [
    "Dub_df <- select(hotdog_df, MSHARE,PDUB)\n",
    "head(Dub_df)"
   ]
  },
  {
   "cell_type": "code",
   "execution_count": 12,
   "metadata": {},
   "outputs": [
    {
     "data": {
      "image/png": "[encoded data removed]",
      "text/plain": [
       "plot without title"
      ]
     },
     "metadata": {
      "image/png": {
       "height": 420,
       "width": 420
      }
     },
     "output_type": "display_data"
    }
   ],
   "source": [
    "coeff <- 0.25\n",
    "p <- ggplot(hotdog_df, aes(x=WEEK)) \n",
    "p <- p + geom_line(aes(y=MSHARE), colour=\"Red\")\n",
    "p <- p + geom_line(aes(y=PDUB/coeff), colour =\"black\")\n",
    "p <- p + scale_y_continuous(name= \"DUB Market Share (%)\",sec.axis = sec_axis(~.*coeff, name = \"Price [$]\"))\n",
    "p"
   ]
  },
  {
   "cell_type": "code",
   "execution_count": 13,
   "metadata": {},
   "outputs": [
    {
     "data": {
      "image/png": "[encoded data removed]",
      "text/plain": [
       "plot without title"
      ]
     },
     "metadata": {
      "image/png": {
       "height": 420,
       "width": 420
      }
     },
     "output_type": "display_data"
    }
   ],
   "source": [
    "ggplot(Dub_df, aes(PDUB,MSHARE)) + geom_point()"
   ]
  },
  {
   "cell_type": "code",
   "execution_count": null,
   "metadata": {},
   "outputs": [],
   "source": []
  },
  {
   "cell_type": "markdown",
   "metadata": {},
   "source": [
    "### Principal Components"
   ]
  },
  {
   "cell_type": "code",
   "execution_count": 14,
   "metadata": {},
   "outputs": [
    {
     "data": {
      "text/html": [
       "<table>\n",
       "<caption>A matrix: 2 × 2 of type dbl</caption>\n",
       "<thead>\n",
       "\t<tr><th></th><th scope=col>MSHARE</th><th scope=col>PDUB</th></tr>\n",
       "</thead>\n",
       "<tbody>\n",
       "\t<tr><th scope=row>MSHARE</th><td> 2.03801223</td><td>-0.08429013</td></tr>\n",
       "\t<tr><th scope=row>PDUB</th><td>-0.08429013</td><td> 0.01859960</td></tr>\n",
       "</tbody>\n",
       "</table>\n"
      ],
      "text/latex": [
       "A matrix: 2 × 2 of type dbl\n",
       "\\begin{tabular}{r|ll}\n",
       "  & MSHARE & PDUB\\\\\n",
       "\\hline\n",
       "\tMSHARE &  2.03801223 & -0.08429013\\\\\n",
       "\tPDUB & -0.08429013 &  0.01859960\\\\\n",
       "\\end{tabular}\n"
      ],
      "text/markdown": [
       "\n",
       "A matrix: 2 × 2 of type dbl\n",
       "\n",
       "| <!--/--> | MSHARE | PDUB |\n",
       "|---|---|---|\n",
       "| MSHARE |  2.03801223 | -0.08429013 |\n",
       "| PDUB | -0.08429013 |  0.01859960 |\n",
       "\n"
      ],
      "text/plain": [
       "       MSHARE      PDUB       \n",
       "MSHARE  2.03801223 -0.08429013\n",
       "PDUB   -0.08429013  0.01859960"
      ]
     },
     "metadata": {},
     "output_type": "display_data"
    }
   ],
   "source": [
    "CovMat <- cov(Dub_df)\n",
    "CovMat"
   ]
  },
  {
   "cell_type": "code",
   "execution_count": 15,
   "metadata": {},
   "outputs": [
    {
     "data": {
      "text/html": [
       "0.990956190863599"
      ],
      "text/latex": [
       "0.990956190863599"
      ],
      "text/markdown": [
       "0.990956190863599"
      ],
      "text/plain": [
       "[1] 0.9909562"
      ]
     },
     "metadata": {},
     "output_type": "display_data"
    }
   ],
   "source": [
    "# MSHARE Contribution to variability\n",
    "\n",
    "CovMat[1,1]/(CovMat[1,1]+ CovMat[2,2])"
   ]
  },
  {
   "cell_type": "code",
   "execution_count": 16,
   "metadata": {},
   "outputs": [
    {
     "data": {
      "text/html": [
       "0.00904380913640093"
      ],
      "text/latex": [
       "0.00904380913640093"
      ],
      "text/markdown": [
       "0.00904380913640093"
      ],
      "text/plain": [
       "[1] 0.009043809"
      ]
     },
     "metadata": {},
     "output_type": "display_data"
    }
   ],
   "source": [
    "# PDUB Contribution to variability\n",
    "\n",
    "CovMat[2,2]/(CovMat[1,1]+ CovMat[2,2])"
   ]
  },
  {
   "cell_type": "code",
   "execution_count": 17,
   "metadata": {},
   "outputs": [
    {
     "data": {
      "text/html": [
       "0.432933779034591"
      ],
      "text/latex": [
       "0.432933779034591"
      ],
      "text/markdown": [
       "0.432933779034591"
      ],
      "text/plain": [
       "[1] 0.4329338"
      ]
     },
     "metadata": {},
     "output_type": "display_data"
    }
   ],
   "source": [
    "CorelMat <- sqrt(CovMat[2,1]*CovMat[1,2])/ sqrt(CovMat[1,1]*CovMat[2,2])\n",
    "CorelMat"
   ]
  },
  {
   "cell_type": "code",
   "execution_count": 18,
   "metadata": {},
   "outputs": [
    {
     "data": {
      "text/html": [
       "<table>\n",
       "<caption>A matrix: 2 × 2 of type dbl</caption>\n",
       "<thead>\n",
       "\t<tr><th></th><th scope=col>MSHARE</th><th scope=col>PDUB</th></tr>\n",
       "</thead>\n",
       "<tbody>\n",
       "\t<tr><th scope=row>MSHARE</th><td> 1.0000000</td><td>-0.4329338</td></tr>\n",
       "\t<tr><th scope=row>PDUB</th><td>-0.4329338</td><td> 1.0000000</td></tr>\n",
       "</tbody>\n",
       "</table>\n"
      ],
      "text/latex": [
       "A matrix: 2 × 2 of type dbl\n",
       "\\begin{tabular}{r|ll}\n",
       "  & MSHARE & PDUB\\\\\n",
       "\\hline\n",
       "\tMSHARE &  1.0000000 & -0.4329338\\\\\n",
       "\tPDUB & -0.4329338 &  1.0000000\\\\\n",
       "\\end{tabular}\n"
      ],
      "text/markdown": [
       "\n",
       "A matrix: 2 × 2 of type dbl\n",
       "\n",
       "| <!--/--> | MSHARE | PDUB |\n",
       "|---|---|---|\n",
       "| MSHARE |  1.0000000 | -0.4329338 |\n",
       "| PDUB | -0.4329338 |  1.0000000 |\n",
       "\n"
      ],
      "text/plain": [
       "       MSHARE     PDUB      \n",
       "MSHARE  1.0000000 -0.4329338\n",
       "PDUB   -0.4329338  1.0000000"
      ]
     },
     "metadata": {},
     "output_type": "display_data"
    }
   ],
   "source": [
    "correl <- cor(Dub_df)\n",
    "correl"
   ]
  },
  {
   "cell_type": "code",
   "execution_count": 19,
   "metadata": {},
   "outputs": [
    {
     "data": {
      "text/plain": [
       "Importance of components:\n",
       "                          PC1    PC2\n",
       "Standard deviation     1.1971 0.7530\n",
       "Proportion of Variance 0.7165 0.2835\n",
       "Cumulative Proportion  0.7165 1.0000"
      ]
     },
     "metadata": {},
     "output_type": "display_data"
    }
   ],
   "source": [
    "two.pca <- prcomp(Dub_df,center = TRUE ,scale. = TRUE)\n",
    "summary(two.pca)"
   ]
  },
  {
   "cell_type": "code",
   "execution_count": 20,
   "metadata": {},
   "outputs": [
    {
     "data": {
      "text/plain": [
       "Standard deviations (1, .., p=2):\n",
       "[1] 1.197052 0.753038\n",
       "\n",
       "Rotation (n x k) = (2 x 2):\n",
       "              PC1        PC2\n",
       "MSHARE -0.7071068 -0.7071068\n",
       "PDUB    0.7071068 -0.7071068"
      ]
     },
     "metadata": {},
     "output_type": "display_data"
    }
   ],
   "source": [
    "two.pca"
   ]
  },
  {
   "cell_type": "code",
   "execution_count": 21,
   "metadata": {},
   "outputs": [],
   "source": [
    "pc1 <- two.pca$x[,1]\n",
    "pc2 <- two.pca$x[,2]\n"
   ]
  },
  {
   "cell_type": "code",
   "execution_count": 22,
   "metadata": {},
   "outputs": [
    {
     "data": {
      "image/png": "[encoded data removed]",
      "text/plain": [
       "plot without title"
      ]
     },
     "metadata": {
      "image/png": {
       "height": 420,
       "width": 420
      }
     },
     "output_type": "display_data"
    }
   ],
   "source": [
    "ggplot(data.frame(pc1,pc2), aes(pc1,pc2)) + geom_point(size=1, alpha=0.8)"
   ]
  },
  {
   "cell_type": "markdown",
   "metadata": {},
   "source": [
    "### Question b\n",
    "\n",
    "Does Oscar Mayer's price affect Dubuque's market share? If so, how?"
   ]
  },
  {
   "cell_type": "code",
   "execution_count": 23,
   "metadata": {},
   "outputs": [
    {
     "data": {
      "text/html": [
       "<table>\n",
       "<caption>A tibble: 6 × 2</caption>\n",
       "<thead>\n",
       "\t<tr><th scope=col>MSHARE</th><th scope=col>PMAY</th></tr>\n",
       "\t<tr><th scope=col>&lt;dbl&gt;</th><th scope=col>&lt;dbl&gt;</th></tr>\n",
       "</thead>\n",
       "<tbody>\n",
       "\t<tr><td>4.54565</td><td>1.69</td></tr>\n",
       "\t<tr><td>9.30145</td><td>1.99</td></tr>\n",
       "\t<tr><td>5.96656</td><td>1.99</td></tr>\n",
       "\t<tr><td>3.45966</td><td>1.99</td></tr>\n",
       "\t<tr><td>2.76536</td><td>1.69</td></tr>\n",
       "\t<tr><td>2.94224</td><td>1.99</td></tr>\n",
       "</tbody>\n",
       "</table>\n"
      ],
      "text/latex": [
       "A tibble: 6 × 2\n",
       "\\begin{tabular}{ll}\n",
       " MSHARE & PMAY\\\\\n",
       " <dbl> & <dbl>\\\\\n",
       "\\hline\n",
       "\t 4.54565 & 1.69\\\\\n",
       "\t 9.30145 & 1.99\\\\\n",
       "\t 5.96656 & 1.99\\\\\n",
       "\t 3.45966 & 1.99\\\\\n",
       "\t 2.76536 & 1.69\\\\\n",
       "\t 2.94224 & 1.99\\\\\n",
       "\\end{tabular}\n"
      ],
      "text/markdown": [
       "\n",
       "A tibble: 6 × 2\n",
       "\n",
       "| MSHARE &lt;dbl&gt; | PMAY &lt;dbl&gt; |\n",
       "|---|---|\n",
       "| 4.54565 | 1.69 |\n",
       "| 9.30145 | 1.99 |\n",
       "| 5.96656 | 1.99 |\n",
       "| 3.45966 | 1.99 |\n",
       "| 2.76536 | 1.69 |\n",
       "| 2.94224 | 1.99 |\n",
       "\n"
      ],
      "text/plain": [
       "  MSHARE  PMAY\n",
       "1 4.54565 1.69\n",
       "2 9.30145 1.99\n",
       "3 5.96656 1.99\n",
       "4 3.45966 1.99\n",
       "5 2.76536 1.69\n",
       "6 2.94224 1.99"
      ]
     },
     "metadata": {},
     "output_type": "display_data"
    }
   ],
   "source": [
    "Mayer_df <- select(hotdog_df, MSHARE, PMAY)\n",
    "head(Mayer_df)"
   ]
  },
  {
   "cell_type": "code",
   "execution_count": 24,
   "metadata": {},
   "outputs": [
    {
     "data": {
      "image/png": "[encoded data removed]",
      "text/plain": [
       "plot without title"
      ]
     },
     "metadata": {
      "image/png": {
       "height": 420,
       "width": 420
      }
     },
     "output_type": "display_data"
    }
   ],
   "source": [
    "coeff <- 0.25\n",
    "p <- ggplot(hotdog_df, aes(x=WEEK)) \n",
    "p <- p + geom_line(aes(y=MSHARE), colour=\"Red\")\n",
    "p <- p + geom_line(aes(y=PMAY/coeff), colour =\"blue\")\n",
    "p <- p + scale_y_continuous(name= \"DUB Market Share (%)\",sec.axis = sec_axis(~.*coeff, name = \"Price ($)\"))\n",
    "#p <- p + theme_ipsum()\n",
    "p"
   ]
  },
  {
   "cell_type": "code",
   "execution_count": 25,
   "metadata": {
    "scrolled": false
   },
   "outputs": [
    {
     "data": {
      "image/png": "[encoded data removed]",
      "text/plain": [
       "plot without title"
      ]
     },
     "metadata": {
      "image/png": {
       "height": 420,
       "width": 420
      }
     },
     "output_type": "display_data"
    }
   ],
   "source": [
    "ggplot(Mayer_df,aes(PMAY,MSHARE)) + geom_point()"
   ]
  },
  {
   "cell_type": "code",
   "execution_count": 26,
   "metadata": {},
   "outputs": [
    {
     "data": {
      "text/html": [
       "<table>\n",
       "<caption>A matrix: 2 × 2 of type dbl</caption>\n",
       "<thead>\n",
       "\t<tr><th></th><th scope=col>MSHARE</th><th scope=col>PMAY</th></tr>\n",
       "</thead>\n",
       "<tbody>\n",
       "\t<tr><th scope=row>MSHARE</th><td>2.03801223</td><td>0.03495809</td></tr>\n",
       "\t<tr><th scope=row>PMAY</th><td>0.03495809</td><td>0.02086620</td></tr>\n",
       "</tbody>\n",
       "</table>\n"
      ],
      "text/latex": [
       "A matrix: 2 × 2 of type dbl\n",
       "\\begin{tabular}{r|ll}\n",
       "  & MSHARE & PMAY\\\\\n",
       "\\hline\n",
       "\tMSHARE & 2.03801223 & 0.03495809\\\\\n",
       "\tPMAY & 0.03495809 & 0.02086620\\\\\n",
       "\\end{tabular}\n"
      ],
      "text/markdown": [
       "\n",
       "A matrix: 2 × 2 of type dbl\n",
       "\n",
       "| <!--/--> | MSHARE | PMAY |\n",
       "|---|---|---|\n",
       "| MSHARE | 2.03801223 | 0.03495809 |\n",
       "| PMAY | 0.03495809 | 0.02086620 |\n",
       "\n"
      ],
      "text/plain": [
       "       MSHARE     PMAY      \n",
       "MSHARE 2.03801223 0.03495809\n",
       "PMAY   0.03495809 0.02086620"
      ]
     },
     "metadata": {},
     "output_type": "display_data"
    }
   ],
   "source": [
    "CovMat <- cov(Mayer_df)\n",
    "CovMat"
   ]
  },
  {
   "cell_type": "code",
   "execution_count": 27,
   "metadata": {},
   "outputs": [
    {
     "data": {
      "text/html": [
       "0.98986525987279"
      ],
      "text/latex": [
       "0.98986525987279"
      ],
      "text/markdown": [
       "0.98986525987279"
      ],
      "text/plain": [
       "[1] 0.9898653"
      ]
     },
     "metadata": {},
     "output_type": "display_data"
    }
   ],
   "source": [
    "# MSHARE Contribution to variability\n",
    "\n",
    "CovMat[1,1]/(CovMat[1,1]+ CovMat[2,2])"
   ]
  },
  {
   "cell_type": "code",
   "execution_count": 28,
   "metadata": {},
   "outputs": [
    {
     "data": {
      "text/html": [
       "0.0101347401272105"
      ],
      "text/latex": [
       "0.0101347401272105"
      ],
      "text/markdown": [
       "0.0101347401272105"
      ],
      "text/plain": [
       "[1] 0.01013474"
      ]
     },
     "metadata": {},
     "output_type": "display_data"
    }
   ],
   "source": [
    "CovMat[2,2]/(CovMat[1,1]+ CovMat[2,2])"
   ]
  },
  {
   "cell_type": "code",
   "execution_count": 29,
   "metadata": {},
   "outputs": [
    {
     "data": {
      "text/html": [
       "0.169520667471581"
      ],
      "text/latex": [
       "0.169520667471581"
      ],
      "text/markdown": [
       "0.169520667471581"
      ],
      "text/plain": [
       "[1] 0.1695207"
      ]
     },
     "metadata": {},
     "output_type": "display_data"
    }
   ],
   "source": [
    "CorelMat <- sqrt(CovMat[2,1]*CovMat[1,2])/ sqrt(CovMat[1,1]*CovMat[2,2])\n",
    "CorelMat"
   ]
  },
  {
   "cell_type": "code",
   "execution_count": 30,
   "metadata": {},
   "outputs": [
    {
     "data": {
      "text/html": [
       "<table>\n",
       "<caption>A matrix: 2 × 2 of type dbl</caption>\n",
       "<thead>\n",
       "\t<tr><th></th><th scope=col>MSHARE</th><th scope=col>PMAY</th></tr>\n",
       "</thead>\n",
       "<tbody>\n",
       "\t<tr><th scope=row>MSHARE</th><td>1.0000000</td><td>0.1695207</td></tr>\n",
       "\t<tr><th scope=row>PMAY</th><td>0.1695207</td><td>1.0000000</td></tr>\n",
       "</tbody>\n",
       "</table>\n"
      ],
      "text/latex": [
       "A matrix: 2 × 2 of type dbl\n",
       "\\begin{tabular}{r|ll}\n",
       "  & MSHARE & PMAY\\\\\n",
       "\\hline\n",
       "\tMSHARE & 1.0000000 & 0.1695207\\\\\n",
       "\tPMAY & 0.1695207 & 1.0000000\\\\\n",
       "\\end{tabular}\n"
      ],
      "text/markdown": [
       "\n",
       "A matrix: 2 × 2 of type dbl\n",
       "\n",
       "| <!--/--> | MSHARE | PMAY |\n",
       "|---|---|---|\n",
       "| MSHARE | 1.0000000 | 0.1695207 |\n",
       "| PMAY | 0.1695207 | 1.0000000 |\n",
       "\n"
      ],
      "text/plain": [
       "       MSHARE    PMAY     \n",
       "MSHARE 1.0000000 0.1695207\n",
       "PMAY   0.1695207 1.0000000"
      ]
     },
     "metadata": {},
     "output_type": "display_data"
    }
   ],
   "source": [
    "correl <- cor(Mayer_df)\n",
    "correl"
   ]
  },
  {
   "cell_type": "code",
   "execution_count": 31,
   "metadata": {},
   "outputs": [
    {
     "data": {
      "text/plain": [
       "Importance of components:\n",
       "                          PC1    PC2\n",
       "Standard deviation     1.0814 0.9113\n",
       "Proportion of Variance 0.5848 0.4152\n",
       "Cumulative Proportion  0.5848 1.0000"
      ]
     },
     "metadata": {},
     "output_type": "display_data"
    }
   ],
   "source": [
    "two.pca <- prcomp(Mayer_df,center = TRUE ,scale. = TRUE)\n",
    "summary(two.pca)"
   ]
  },
  {
   "cell_type": "code",
   "execution_count": 32,
   "metadata": {},
   "outputs": [
    {
     "data": {
      "text/plain": [
       "Standard deviations (1, .., p=2):\n",
       "[1] 1.0814438 0.9113064\n",
       "\n",
       "Rotation (n x k) = (2 x 2):\n",
       "              PC1        PC2\n",
       "MSHARE -0.7071068  0.7071068\n",
       "PMAY   -0.7071068 -0.7071068"
      ]
     },
     "metadata": {},
     "output_type": "display_data"
    }
   ],
   "source": [
    "two.pca"
   ]
  },
  {
   "cell_type": "code",
   "execution_count": 33,
   "metadata": {},
   "outputs": [],
   "source": [
    "pc1 <- two.pca$x[,1]\n",
    "pc2 <- two.pca$x[,2]\n"
   ]
  },
  {
   "cell_type": "code",
   "execution_count": 34,
   "metadata": {},
   "outputs": [
    {
     "data": {
      "image/png": "[encoded data removed]",
      "text/plain": [
       "plot without title"
      ]
     },
     "metadata": {
      "image/png": {
       "height": 420,
       "width": 420
      }
     },
     "output_type": "display_data"
    }
   ],
   "source": [
    "ggplot(data.frame(pc1,pc2), aes(pc1,pc2)) + geom_point(size=1, alpha=0.8)"
   ]
  },
  {
   "cell_type": "markdown",
   "metadata": {},
   "source": [
    "### Question C\n",
    "\n",
    "Do Ball Park's prices affect Duberque's market share? If so, how?"
   ]
  },
  {
   "cell_type": "code",
   "execution_count": 35,
   "metadata": {},
   "outputs": [
    {
     "data": {
      "text/html": [
       "<table>\n",
       "<caption>A tibble: 6 × 3</caption>\n",
       "<thead>\n",
       "\t<tr><th scope=col>MSHARE</th><th scope=col>PBPREG</th><th scope=col>PBPALL</th></tr>\n",
       "\t<tr><th scope=col>&lt;dbl&gt;</th><th scope=col>&lt;dbl&gt;</th><th scope=col>&lt;dbl&gt;</th></tr>\n",
       "</thead>\n",
       "<tbody>\n",
       "\t<tr><td>4.54565</td><td>1.69</td><td>1.79</td></tr>\n",
       "\t<tr><td>9.30145</td><td>1.89</td><td>1.99</td></tr>\n",
       "\t<tr><td>5.96656</td><td>1.89</td><td>1.99</td></tr>\n",
       "\t<tr><td>3.45966</td><td>1.89</td><td>1.99</td></tr>\n",
       "\t<tr><td>2.76536</td><td>1.59</td><td>1.69</td></tr>\n",
       "\t<tr><td>2.94224</td><td>1.89</td><td>1.99</td></tr>\n",
       "</tbody>\n",
       "</table>\n"
      ],
      "text/latex": [
       "A tibble: 6 × 3\n",
       "\\begin{tabular}{lll}\n",
       " MSHARE & PBPREG & PBPALL\\\\\n",
       " <dbl> & <dbl> & <dbl>\\\\\n",
       "\\hline\n",
       "\t 4.54565 & 1.69 & 1.79\\\\\n",
       "\t 9.30145 & 1.89 & 1.99\\\\\n",
       "\t 5.96656 & 1.89 & 1.99\\\\\n",
       "\t 3.45966 & 1.89 & 1.99\\\\\n",
       "\t 2.76536 & 1.59 & 1.69\\\\\n",
       "\t 2.94224 & 1.89 & 1.99\\\\\n",
       "\\end{tabular}\n"
      ],
      "text/markdown": [
       "\n",
       "A tibble: 6 × 3\n",
       "\n",
       "| MSHARE &lt;dbl&gt; | PBPREG &lt;dbl&gt; | PBPALL &lt;dbl&gt; |\n",
       "|---|---|---|\n",
       "| 4.54565 | 1.69 | 1.79 |\n",
       "| 9.30145 | 1.89 | 1.99 |\n",
       "| 5.96656 | 1.89 | 1.99 |\n",
       "| 3.45966 | 1.89 | 1.99 |\n",
       "| 2.76536 | 1.59 | 1.69 |\n",
       "| 2.94224 | 1.89 | 1.99 |\n",
       "\n"
      ],
      "text/plain": [
       "  MSHARE  PBPREG PBPALL\n",
       "1 4.54565 1.69   1.79  \n",
       "2 9.30145 1.89   1.99  \n",
       "3 5.96656 1.89   1.99  \n",
       "4 3.45966 1.89   1.99  \n",
       "5 2.76536 1.59   1.69  \n",
       "6 2.94224 1.89   1.99  "
      ]
     },
     "metadata": {},
     "output_type": "display_data"
    }
   ],
   "source": [
    "Ball_df <- select(hotdog_df, MSHARE, PBPREG,PBPALL)\n",
    "head(Ball_df)"
   ]
  },
  {
   "cell_type": "code",
   "execution_count": 36,
   "metadata": {},
   "outputs": [
    {
     "data": {
      "image/png": "[encoded data removed]",
      "text/plain": [
       "plot without title"
      ]
     },
     "metadata": {
      "image/png": {
       "height": 420,
       "width": 420
      }
     },
     "output_type": "display_data"
    }
   ],
   "source": [
    "coeff <- 0.25\n",
    "p <- ggplot(hotdog_df, aes(x=WEEK)) \n",
    "p <- p + geom_line(aes(y=MSHARE), colour=\"Red\")\n",
    "p <- p + geom_line(aes(y=PBPREG/coeff), colour =\"orange\")\n",
    "p <- p + geom_line(aes(y=PBPALL/coeff), colour =\"grey40\")\n",
    "p <- p + scale_y_continuous(name= \"DUB Market Share (%)\",sec.axis = sec_axis(~.*coeff, name = \"Price ($)\"))\n",
    "p <- p + theme_bw()\n",
    "p <- p + theme(legend.position = \"top\")\n",
    "p"
   ]
  },
  {
   "cell_type": "code",
   "execution_count": 37,
   "metadata": {
    "scrolled": true
   },
   "outputs": [
    {
     "data": {
      "text/html": [
       "<table>\n",
       "<caption>A matrix: 3 × 3 of type dbl</caption>\n",
       "<thead>\n",
       "\t<tr><th></th><th scope=col>MSHARE</th><th scope=col>PBPREG</th><th scope=col>PBPALL</th></tr>\n",
       "</thead>\n",
       "<tbody>\n",
       "\t<tr><th scope=row>MSHARE</th><td>2.04</td><td>0.07</td><td>0.09</td></tr>\n",
       "\t<tr><th scope=row>PBPREG</th><td>0.07</td><td>0.02</td><td>0.02</td></tr>\n",
       "\t<tr><th scope=row>PBPALL</th><td>0.09</td><td>0.02</td><td>0.03</td></tr>\n",
       "</tbody>\n",
       "</table>\n"
      ],
      "text/latex": [
       "A matrix: 3 × 3 of type dbl\n",
       "\\begin{tabular}{r|lll}\n",
       "  & MSHARE & PBPREG & PBPALL\\\\\n",
       "\\hline\n",
       "\tMSHARE & 2.04 & 0.07 & 0.09\\\\\n",
       "\tPBPREG & 0.07 & 0.02 & 0.02\\\\\n",
       "\tPBPALL & 0.09 & 0.02 & 0.03\\\\\n",
       "\\end{tabular}\n"
      ],
      "text/markdown": [
       "\n",
       "A matrix: 3 × 3 of type dbl\n",
       "\n",
       "| <!--/--> | MSHARE | PBPREG | PBPALL |\n",
       "|---|---|---|---|\n",
       "| MSHARE | 2.04 | 0.07 | 0.09 |\n",
       "| PBPREG | 0.07 | 0.02 | 0.02 |\n",
       "| PBPALL | 0.09 | 0.02 | 0.03 |\n",
       "\n"
      ],
      "text/plain": [
       "       MSHARE PBPREG PBPALL\n",
       "MSHARE 2.04   0.07   0.09  \n",
       "PBPREG 0.07   0.02   0.02  \n",
       "PBPALL 0.09   0.02   0.03  "
      ]
     },
     "metadata": {},
     "output_type": "display_data"
    }
   ],
   "source": [
    "round(cov(Ball_df),2)"
   ]
  },
  {
   "cell_type": "code",
   "execution_count": 38,
   "metadata": {},
   "outputs": [
    {
     "name": "stderr",
     "output_type": "stream",
     "text": [
      "Warning message:\n",
      "\"`as.tibble()` is deprecated as of tibble 2.0.0.\n",
      "Please use `as_tibble()` instead.\n",
      "The signature and semantics have changed, see `?as_tibble`.\n",
      "\u001b[90mThis warning is displayed once every 8 hours.\u001b[39m\n",
      "\u001b[90mCall `lifecycle::last_warnings()` to see where this warning was generated.\u001b[39m\"\n"
     ]
    },
    {
     "data": {
      "text/html": [
       "<table>\n",
       "<caption>A tibble: 6 × 3</caption>\n",
       "<thead>\n",
       "\t<tr><th scope=col>MSHARE</th><th scope=col>PBPREG</th><th scope=col>PBPALL</th></tr>\n",
       "\t<tr><th scope=col>&lt;dbl&gt;</th><th scope=col>&lt;dbl&gt;</th><th scope=col>&lt;dbl&gt;</th></tr>\n",
       "</thead>\n",
       "<tbody>\n",
       "\t<tr><td> 0.74</td><td> 0.05</td><td> 0.13</td></tr>\n",
       "\t<tr><td> 4.07</td><td> 1.43</td><td> 1.37</td></tr>\n",
       "\t<tr><td> 1.74</td><td> 1.43</td><td> 1.37</td></tr>\n",
       "\t<tr><td>-0.02</td><td> 1.43</td><td> 1.37</td></tr>\n",
       "\t<tr><td>-0.51</td><td>-0.64</td><td>-0.49</td></tr>\n",
       "\t<tr><td>-0.38</td><td> 1.43</td><td> 1.37</td></tr>\n",
       "</tbody>\n",
       "</table>\n"
      ],
      "text/latex": [
       "A tibble: 6 × 3\n",
       "\\begin{tabular}{lll}\n",
       " MSHARE & PBPREG & PBPALL\\\\\n",
       " <dbl> & <dbl> & <dbl>\\\\\n",
       "\\hline\n",
       "\t  0.74 &  0.05 &  0.13\\\\\n",
       "\t  4.07 &  1.43 &  1.37\\\\\n",
       "\t  1.74 &  1.43 &  1.37\\\\\n",
       "\t -0.02 &  1.43 &  1.37\\\\\n",
       "\t -0.51 & -0.64 & -0.49\\\\\n",
       "\t -0.38 &  1.43 &  1.37\\\\\n",
       "\\end{tabular}\n"
      ],
      "text/markdown": [
       "\n",
       "A tibble: 6 × 3\n",
       "\n",
       "| MSHARE &lt;dbl&gt; | PBPREG &lt;dbl&gt; | PBPALL &lt;dbl&gt; |\n",
       "|---|---|---|\n",
       "|  0.74 |  0.05 |  0.13 |\n",
       "|  4.07 |  1.43 |  1.37 |\n",
       "|  1.74 |  1.43 |  1.37 |\n",
       "| -0.02 |  1.43 |  1.37 |\n",
       "| -0.51 | -0.64 | -0.49 |\n",
       "| -0.38 |  1.43 |  1.37 |\n",
       "\n"
      ],
      "text/plain": [
       "  MSHARE PBPREG PBPALL\n",
       "1  0.74   0.05   0.13 \n",
       "2  4.07   1.43   1.37 \n",
       "3  1.74   1.43   1.37 \n",
       "4 -0.02   1.43   1.37 \n",
       "5 -0.51  -0.64  -0.49 \n",
       "6 -0.38   1.43   1.37 "
      ]
     },
     "metadata": {},
     "output_type": "display_data"
    }
   ],
   "source": [
    "Ball_df_sd <- as.tibble(scale(Ball_df))\n",
    "head(round(Ball_df_sd,2))"
   ]
  },
  {
   "cell_type": "code",
   "execution_count": 39,
   "metadata": {},
   "outputs": [
    {
     "data": {
      "text/html": [
       "<table>\n",
       "<caption>A matrix: 3 × 3 of type dbl</caption>\n",
       "<thead>\n",
       "\t<tr><th></th><th scope=col>MSHARE</th><th scope=col>PBPREG</th><th scope=col>PBPALL</th></tr>\n",
       "</thead>\n",
       "<tbody>\n",
       "\t<tr><th scope=row>MSHARE</th><td>1.00</td><td>0.35</td><td>0.37</td></tr>\n",
       "\t<tr><th scope=row>PBPREG</th><td>0.35</td><td>1.00</td><td>0.98</td></tr>\n",
       "\t<tr><th scope=row>PBPALL</th><td>0.37</td><td>0.98</td><td>1.00</td></tr>\n",
       "</tbody>\n",
       "</table>\n"
      ],
      "text/latex": [
       "A matrix: 3 × 3 of type dbl\n",
       "\\begin{tabular}{r|lll}\n",
       "  & MSHARE & PBPREG & PBPALL\\\\\n",
       "\\hline\n",
       "\tMSHARE & 1.00 & 0.35 & 0.37\\\\\n",
       "\tPBPREG & 0.35 & 1.00 & 0.98\\\\\n",
       "\tPBPALL & 0.37 & 0.98 & 1.00\\\\\n",
       "\\end{tabular}\n"
      ],
      "text/markdown": [
       "\n",
       "A matrix: 3 × 3 of type dbl\n",
       "\n",
       "| <!--/--> | MSHARE | PBPREG | PBPALL |\n",
       "|---|---|---|---|\n",
       "| MSHARE | 1.00 | 0.35 | 0.37 |\n",
       "| PBPREG | 0.35 | 1.00 | 0.98 |\n",
       "| PBPALL | 0.37 | 0.98 | 1.00 |\n",
       "\n"
      ],
      "text/plain": [
       "       MSHARE PBPREG PBPALL\n",
       "MSHARE 1.00   0.35   0.37  \n",
       "PBPREG 0.35   1.00   0.98  \n",
       "PBPALL 0.37   0.98   1.00  "
      ]
     },
     "metadata": {},
     "output_type": "display_data"
    }
   ],
   "source": [
    "round(cov(Ball_df_sd),2)"
   ]
  },
  {
   "cell_type": "code",
   "execution_count": 40,
   "metadata": {},
   "outputs": [],
   "source": [
    "ball.pca <- prcomp(Ball_df_sd, center = TRUE, scale. =TRUE)"
   ]
  },
  {
   "cell_type": "code",
   "execution_count": 41,
   "metadata": {},
   "outputs": [
    {
     "data": {
      "text/plain": [
       "Importance of components:\n",
       "                          PC1    PC2     PC3\n",
       "Standard deviation     1.4821 0.8848 0.14294\n",
       "Proportion of Variance 0.7322 0.2610 0.00681\n",
       "Cumulative Proportion  0.7322 0.9932 1.00000"
      ]
     },
     "metadata": {},
     "output_type": "display_data"
    }
   ],
   "source": [
    "summary(ball.pca)"
   ]
  },
  {
   "cell_type": "markdown",
   "metadata": {},
   "source": [
    "Eigenvectors (weights of each variable in each PC)"
   ]
  },
  {
   "cell_type": "code",
   "execution_count": 42,
   "metadata": {},
   "outputs": [
    {
     "data": {
      "text/html": [
       "<table>\n",
       "<caption>A matrix: 3 × 3 of type dbl</caption>\n",
       "<thead>\n",
       "\t<tr><th></th><th scope=col>PC1</th><th scope=col>PC2</th><th scope=col>PC3</th></tr>\n",
       "</thead>\n",
       "<tbody>\n",
       "\t<tr><th scope=row>MSHARE</th><td>-0.3920504</td><td>-0.9198246</td><td>-0.01480658</td></tr>\n",
       "\t<tr><th scope=row>PBPREG</th><td>-0.6488990</td><td> 0.2879129</td><td>-0.70429840</td></tr>\n",
       "\t<tr><th scope=row>PBPALL</th><td>-0.6520940</td><td> 0.2665125</td><td> 0.70974962</td></tr>\n",
       "</tbody>\n",
       "</table>\n"
      ],
      "text/latex": [
       "A matrix: 3 × 3 of type dbl\n",
       "\\begin{tabular}{r|lll}\n",
       "  & PC1 & PC2 & PC3\\\\\n",
       "\\hline\n",
       "\tMSHARE & -0.3920504 & -0.9198246 & -0.01480658\\\\\n",
       "\tPBPREG & -0.6488990 &  0.2879129 & -0.70429840\\\\\n",
       "\tPBPALL & -0.6520940 &  0.2665125 &  0.70974962\\\\\n",
       "\\end{tabular}\n"
      ],
      "text/markdown": [
       "\n",
       "A matrix: 3 × 3 of type dbl\n",
       "\n",
       "| <!--/--> | PC1 | PC2 | PC3 |\n",
       "|---|---|---|---|\n",
       "| MSHARE | -0.3920504 | -0.9198246 | -0.01480658 |\n",
       "| PBPREG | -0.6488990 |  0.2879129 | -0.70429840 |\n",
       "| PBPALL | -0.6520940 |  0.2665125 |  0.70974962 |\n",
       "\n"
      ],
      "text/plain": [
       "       PC1        PC2        PC3        \n",
       "MSHARE -0.3920504 -0.9198246 -0.01480658\n",
       "PBPREG -0.6488990  0.2879129 -0.70429840\n",
       "PBPALL -0.6520940  0.2665125  0.70974962"
      ]
     },
     "metadata": {},
     "output_type": "display_data"
    }
   ],
   "source": [
    "ball.pca$rotation"
   ]
  },
  {
   "cell_type": "markdown",
   "metadata": {},
   "source": [
    "PC1 = -0,39*MSHARE - 0.649 * PBREG - 0.652 * PBPALL\n",
    "\n",
    "PC2 = -0.92*MSHARE + 0.288 * PBREG + 0.266 * PBPALL\n",
    "\n",
    "PC3 = -0.015*MSHARE + 0.704 * PBREG + 0.709 * PBPALL"
   ]
  },
  {
   "cell_type": "code",
   "execution_count": 43,
   "metadata": {},
   "outputs": [
    {
     "data": {
      "text/html": [
       "<table>\n",
       "<caption>A matrix: 3 × 3 of type dbl</caption>\n",
       "<thead>\n",
       "\t<tr><th></th><th scope=col>PC1</th><th scope=col>PC2</th><th scope=col>PC3</th></tr>\n",
       "</thead>\n",
       "<tbody>\n",
       "\t<tr><th scope=row>MSHARE</th><td>0.1537035</td><td>0.84607723</td><td>0.0002192347</td></tr>\n",
       "\t<tr><th scope=row>PBPREG</th><td>0.4210699</td><td>0.08289385</td><td>0.4960362416</td></tr>\n",
       "\t<tr><th scope=row>PBPALL</th><td>0.4252266</td><td>0.07102892</td><td>0.5037445238</td></tr>\n",
       "</tbody>\n",
       "</table>\n"
      ],
      "text/latex": [
       "A matrix: 3 × 3 of type dbl\n",
       "\\begin{tabular}{r|lll}\n",
       "  & PC1 & PC2 & PC3\\\\\n",
       "\\hline\n",
       "\tMSHARE & 0.1537035 & 0.84607723 & 0.0002192347\\\\\n",
       "\tPBPREG & 0.4210699 & 0.08289385 & 0.4960362416\\\\\n",
       "\tPBPALL & 0.4252266 & 0.07102892 & 0.5037445238\\\\\n",
       "\\end{tabular}\n"
      ],
      "text/markdown": [
       "\n",
       "A matrix: 3 × 3 of type dbl\n",
       "\n",
       "| <!--/--> | PC1 | PC2 | PC3 |\n",
       "|---|---|---|---|\n",
       "| MSHARE | 0.1537035 | 0.84607723 | 0.0002192347 |\n",
       "| PBPREG | 0.4210699 | 0.08289385 | 0.4960362416 |\n",
       "| PBPALL | 0.4252266 | 0.07102892 | 0.5037445238 |\n",
       "\n"
      ],
      "text/plain": [
       "       PC1       PC2        PC3         \n",
       "MSHARE 0.1537035 0.84607723 0.0002192347\n",
       "PBPREG 0.4210699 0.08289385 0.4960362416\n",
       "PBPALL 0.4252266 0.07102892 0.5037445238"
      ]
     },
     "metadata": {},
     "output_type": "display_data"
    }
   ],
   "source": [
    "ball.pca$rotation**2"
   ]
  },
  {
   "cell_type": "code",
   "execution_count": 44,
   "metadata": {},
   "outputs": [
    {
     "data": {
      "text/html": [
       "<style>\n",
       ".dl-inline {width: auto; margin:0; padding: 0}\n",
       ".dl-inline>dt, .dl-inline>dd {float: none; width: auto; display: inline-block}\n",
       ".dl-inline>dt::after {content: \":\\0020\"; padding-right: .5ex}\n",
       ".dl-inline>dt:not(:first-of-type) {padding-left: .5ex}\n",
       "</style><dl class=dl-inline><dt>PC1</dt><dd>1</dd><dt>PC2</dt><dd>1</dd><dt>PC3</dt><dd>1</dd></dl>\n"
      ],
      "text/latex": [
       "\\begin{description*}\n",
       "\\item[PC1] 1\n",
       "\\item[PC2] 1\n",
       "\\item[PC3] 1\n",
       "\\end{description*}\n"
      ],
      "text/markdown": [
       "PC1\n",
       ":   1PC2\n",
       ":   1PC3\n",
       ":   1\n",
       "\n"
      ],
      "text/plain": [
       "PC1 PC2 PC3 \n",
       "  1   1   1 "
      ]
     },
     "metadata": {},
     "output_type": "display_data"
    }
   ],
   "source": [
    "colSums(ball.pca$rotation**2)"
   ]
  },
  {
   "cell_type": "code",
   "execution_count": 45,
   "metadata": {},
   "outputs": [
    {
     "data": {
      "text/html": [
       "<table>\n",
       "<caption>A matrix: 5 × 3 of type dbl</caption>\n",
       "<thead>\n",
       "\t<tr><th scope=col>PC1</th><th scope=col>PC2</th><th scope=col>PC3</th></tr>\n",
       "</thead>\n",
       "<tbody>\n",
       "\t<tr><td>-0.41</td><td>-0.63</td><td> 0.05</td></tr>\n",
       "\t<tr><td>-3.42</td><td>-2.97</td><td>-0.09</td></tr>\n",
       "\t<tr><td>-2.50</td><td>-0.82</td><td>-0.06</td></tr>\n",
       "\t<tr><td>-1.82</td><td> 0.79</td><td>-0.03</td></tr>\n",
       "\t<tr><td> 0.93</td><td> 0.15</td><td> 0.11</td></tr>\n",
       "</tbody>\n",
       "</table>\n"
      ],
      "text/latex": [
       "A matrix: 5 × 3 of type dbl\n",
       "\\begin{tabular}{lll}\n",
       " PC1 & PC2 & PC3\\\\\n",
       "\\hline\n",
       "\t -0.41 & -0.63 &  0.05\\\\\n",
       "\t -3.42 & -2.97 & -0.09\\\\\n",
       "\t -2.50 & -0.82 & -0.06\\\\\n",
       "\t -1.82 &  0.79 & -0.03\\\\\n",
       "\t  0.93 &  0.15 &  0.11\\\\\n",
       "\\end{tabular}\n"
      ],
      "text/markdown": [
       "\n",
       "A matrix: 5 × 3 of type dbl\n",
       "\n",
       "| PC1 | PC2 | PC3 |\n",
       "|---|---|---|\n",
       "| -0.41 | -0.63 |  0.05 |\n",
       "| -3.42 | -2.97 | -0.09 |\n",
       "| -2.50 | -0.82 | -0.06 |\n",
       "| -1.82 |  0.79 | -0.03 |\n",
       "|  0.93 |  0.15 |  0.11 |\n",
       "\n"
      ],
      "text/plain": [
       "     PC1   PC2   PC3  \n",
       "[1,] -0.41 -0.63  0.05\n",
       "[2,] -3.42 -2.97 -0.09\n",
       "[3,] -2.50 -0.82 -0.06\n",
       "[4,] -1.82  0.79 -0.03\n",
       "[5,]  0.93  0.15  0.11"
      ]
     },
     "metadata": {},
     "output_type": "display_data"
    }
   ],
   "source": [
    "round(head(ball.pca$x,5),2)"
   ]
  },
  {
   "cell_type": "code",
   "execution_count": 46,
   "metadata": {},
   "outputs": [
    {
     "data": {
      "text/html": [
       "1.48213320033172"
      ],
      "text/latex": [
       "1.48213320033172"
      ],
      "text/markdown": [
       "1.48213320033172"
      ],
      "text/plain": [
       "[1] 1.482133"
      ]
     },
     "metadata": {},
     "output_type": "display_data"
    }
   ],
   "source": [
    "sd(ball.pca$x[,1])"
   ]
  },
  {
   "cell_type": "code",
   "execution_count": 47,
   "metadata": {},
   "outputs": [
    {
     "data": {
      "text/html": [
       "2.19671882352554"
      ],
      "text/latex": [
       "2.19671882352554"
      ],
      "text/markdown": [
       "2.19671882352554"
      ],
      "text/plain": [
       "[1] 2.196719"
      ]
     },
     "metadata": {},
     "output_type": "display_data"
    }
   ],
   "source": [
    "var(ball.pca$x[,1])"
   ]
  },
  {
   "cell_type": "code",
   "execution_count": null,
   "metadata": {},
   "outputs": [],
   "source": []
  },
  {
   "cell_type": "markdown",
   "metadata": {},
   "source": [
    "## Question d"
   ]
  },
  {
   "cell_type": "markdown",
   "metadata": {},
   "source": [
    "Is Ball Park or Oscar Mayer the leading competitor?"
   ]
  },
  {
   "cell_type": "markdown",
   "metadata": {},
   "source": [
    "|var    |  mean|    sd|  min| median|    max|\n",
    "|:------|:-----:|:-----:|:----:|:------:|------:|\n",
    "|MSHARE |  3.49|  1.43| 1.39|   3.14|   9.30|\n",
    "|PBPALL |  1.77|  0.16| 1.49|   1.69|   1.99|\n",
    "|PBPREG |  1.68|  0.15| 1.39|   1.69|   1.89|\n",
    "|PDUB   |  1.67|  0.14| 1.39|   1.69|   1.89|\n",
    "|PMAY   |  1.70|  0.14| 1.29|   1.69|   1.99|\n",
    "|WEEK   | 57.00| 32.76| 1.00|  57.00| 113.00|"
   ]
  },
  {
   "cell_type": "code",
   "execution_count": 48,
   "metadata": {
    "scrolled": true
   },
   "outputs": [
    {
     "data": {
      "text/html": [
       "<table>\n",
       "<caption>A matrix: 5 × 5 of type dbl</caption>\n",
       "<thead>\n",
       "\t<tr><th></th><th scope=col>MSHARE</th><th scope=col>PDUB</th><th scope=col>PMAY</th><th scope=col>PBPREG</th><th scope=col>PBPALL</th></tr>\n",
       "</thead>\n",
       "<tbody>\n",
       "\t<tr><th scope=row>MSHARE</th><td> 2.04</td><td>-0.08</td><td>0.03</td><td>0.07</td><td>0.09</td></tr>\n",
       "\t<tr><th scope=row>PDUB</th><td>-0.08</td><td> 0.02</td><td>0.01</td><td>0.01</td><td>0.01</td></tr>\n",
       "\t<tr><th scope=row>PMAY</th><td> 0.03</td><td> 0.01</td><td>0.02</td><td>0.01</td><td>0.01</td></tr>\n",
       "\t<tr><th scope=row>PBPREG</th><td> 0.07</td><td> 0.01</td><td>0.01</td><td>0.02</td><td>0.02</td></tr>\n",
       "\t<tr><th scope=row>PBPALL</th><td> 0.09</td><td> 0.01</td><td>0.01</td><td>0.02</td><td>0.03</td></tr>\n",
       "</tbody>\n",
       "</table>\n"
      ],
      "text/latex": [
       "A matrix: 5 × 5 of type dbl\n",
       "\\begin{tabular}{r|lllll}\n",
       "  & MSHARE & PDUB & PMAY & PBPREG & PBPALL\\\\\n",
       "\\hline\n",
       "\tMSHARE &  2.04 & -0.08 & 0.03 & 0.07 & 0.09\\\\\n",
       "\tPDUB & -0.08 &  0.02 & 0.01 & 0.01 & 0.01\\\\\n",
       "\tPMAY &  0.03 &  0.01 & 0.02 & 0.01 & 0.01\\\\\n",
       "\tPBPREG &  0.07 &  0.01 & 0.01 & 0.02 & 0.02\\\\\n",
       "\tPBPALL &  0.09 &  0.01 & 0.01 & 0.02 & 0.03\\\\\n",
       "\\end{tabular}\n"
      ],
      "text/markdown": [
       "\n",
       "A matrix: 5 × 5 of type dbl\n",
       "\n",
       "| <!--/--> | MSHARE | PDUB | PMAY | PBPREG | PBPALL |\n",
       "|---|---|---|---|---|---|\n",
       "| MSHARE |  2.04 | -0.08 | 0.03 | 0.07 | 0.09 |\n",
       "| PDUB | -0.08 |  0.02 | 0.01 | 0.01 | 0.01 |\n",
       "| PMAY |  0.03 |  0.01 | 0.02 | 0.01 | 0.01 |\n",
       "| PBPREG |  0.07 |  0.01 | 0.01 | 0.02 | 0.02 |\n",
       "| PBPALL |  0.09 |  0.01 | 0.01 | 0.02 | 0.03 |\n",
       "\n"
      ],
      "text/plain": [
       "       MSHARE PDUB  PMAY PBPREG PBPALL\n",
       "MSHARE  2.04  -0.08 0.03 0.07   0.09  \n",
       "PDUB   -0.08   0.02 0.01 0.01   0.01  \n",
       "PMAY    0.03   0.01 0.02 0.01   0.01  \n",
       "PBPREG  0.07   0.01 0.01 0.02   0.02  \n",
       "PBPALL  0.09   0.01 0.01 0.02   0.03  "
      ]
     },
     "metadata": {},
     "output_type": "display_data"
    }
   ],
   "source": [
    "round(cov(hotdog_df[,-1]),2) # Covariance without considering Weeks"
   ]
  },
  {
   "cell_type": "code",
   "execution_count": 49,
   "metadata": {},
   "outputs": [
    {
     "data": {
      "text/html": [
       "<table>\n",
       "<caption>A tibble: 6 × 5</caption>\n",
       "<thead>\n",
       "\t<tr><th scope=col>MSHARE</th><th scope=col>PDUB</th><th scope=col>PMAY</th><th scope=col>PBPREG</th><th scope=col>PBPALL</th></tr>\n",
       "\t<tr><th scope=col>&lt;dbl&gt;</th><th scope=col>&lt;dbl&gt;</th><th scope=col>&lt;dbl&gt;</th><th scope=col>&lt;dbl&gt;</th><th scope=col>&lt;dbl&gt;</th></tr>\n",
       "</thead>\n",
       "<tbody>\n",
       "\t<tr><td> 0.74</td><td>-1.30</td><td>-0.10</td><td> 0.05</td><td> 0.13</td></tr>\n",
       "\t<tr><td> 4.07</td><td>-1.30</td><td> 1.98</td><td> 1.43</td><td> 1.37</td></tr>\n",
       "\t<tr><td> 1.74</td><td> 1.63</td><td> 1.98</td><td> 1.43</td><td> 1.37</td></tr>\n",
       "\t<tr><td>-0.02</td><td> 1.63</td><td> 1.98</td><td> 1.43</td><td> 1.37</td></tr>\n",
       "\t<tr><td>-0.51</td><td> 1.63</td><td>-0.10</td><td>-0.64</td><td>-0.49</td></tr>\n",
       "\t<tr><td>-0.38</td><td> 1.63</td><td> 1.98</td><td> 1.43</td><td> 1.37</td></tr>\n",
       "</tbody>\n",
       "</table>\n"
      ],
      "text/latex": [
       "A tibble: 6 × 5\n",
       "\\begin{tabular}{lllll}\n",
       " MSHARE & PDUB & PMAY & PBPREG & PBPALL\\\\\n",
       " <dbl> & <dbl> & <dbl> & <dbl> & <dbl>\\\\\n",
       "\\hline\n",
       "\t  0.74 & -1.30 & -0.10 &  0.05 &  0.13\\\\\n",
       "\t  4.07 & -1.30 &  1.98 &  1.43 &  1.37\\\\\n",
       "\t  1.74 &  1.63 &  1.98 &  1.43 &  1.37\\\\\n",
       "\t -0.02 &  1.63 &  1.98 &  1.43 &  1.37\\\\\n",
       "\t -0.51 &  1.63 & -0.10 & -0.64 & -0.49\\\\\n",
       "\t -0.38 &  1.63 &  1.98 &  1.43 &  1.37\\\\\n",
       "\\end{tabular}\n"
      ],
      "text/markdown": [
       "\n",
       "A tibble: 6 × 5\n",
       "\n",
       "| MSHARE &lt;dbl&gt; | PDUB &lt;dbl&gt; | PMAY &lt;dbl&gt; | PBPREG &lt;dbl&gt; | PBPALL &lt;dbl&gt; |\n",
       "|---|---|---|---|---|\n",
       "|  0.74 | -1.30 | -0.10 |  0.05 |  0.13 |\n",
       "|  4.07 | -1.30 |  1.98 |  1.43 |  1.37 |\n",
       "|  1.74 |  1.63 |  1.98 |  1.43 |  1.37 |\n",
       "| -0.02 |  1.63 |  1.98 |  1.43 |  1.37 |\n",
       "| -0.51 |  1.63 | -0.10 | -0.64 | -0.49 |\n",
       "| -0.38 |  1.63 |  1.98 |  1.43 |  1.37 |\n",
       "\n"
      ],
      "text/plain": [
       "  MSHARE PDUB  PMAY  PBPREG PBPALL\n",
       "1  0.74  -1.30 -0.10  0.05   0.13 \n",
       "2  4.07  -1.30  1.98  1.43   1.37 \n",
       "3  1.74   1.63  1.98  1.43   1.37 \n",
       "4 -0.02   1.63  1.98  1.43   1.37 \n",
       "5 -0.51   1.63 -0.10 -0.64  -0.49 \n",
       "6 -0.38   1.63  1.98  1.43   1.37 "
      ]
     },
     "metadata": {},
     "output_type": "display_data"
    }
   ],
   "source": [
    "hotdog_df_sd <- as.tibble(scale(hotdog_df[,-1]))\n",
    "head(round(hotdog_df_sd,2))"
   ]
  },
  {
   "cell_type": "code",
   "execution_count": 50,
   "metadata": {
    "scrolled": true
   },
   "outputs": [
    {
     "data": {
      "text/html": [
       "<table>\n",
       "<caption>A matrix: 5 × 5 of type dbl</caption>\n",
       "<thead>\n",
       "\t<tr><th></th><th scope=col>MSHARE</th><th scope=col>PDUB</th><th scope=col>PMAY</th><th scope=col>PBPREG</th><th scope=col>PBPALL</th></tr>\n",
       "</thead>\n",
       "<tbody>\n",
       "\t<tr><th scope=row>MSHARE</th><td> 1.00</td><td>-0.43</td><td>0.17</td><td>0.35</td><td>0.37</td></tr>\n",
       "\t<tr><th scope=row>PDUB</th><td>-0.43</td><td> 1.00</td><td>0.48</td><td>0.36</td><td>0.32</td></tr>\n",
       "\t<tr><th scope=row>PMAY</th><td> 0.17</td><td> 0.48</td><td>1.00</td><td>0.55</td><td>0.53</td></tr>\n",
       "\t<tr><th scope=row>PBPREG</th><td> 0.35</td><td> 0.36</td><td>0.55</td><td>1.00</td><td>0.98</td></tr>\n",
       "\t<tr><th scope=row>PBPALL</th><td> 0.37</td><td> 0.32</td><td>0.53</td><td>0.98</td><td>1.00</td></tr>\n",
       "</tbody>\n",
       "</table>\n"
      ],
      "text/latex": [
       "A matrix: 5 × 5 of type dbl\n",
       "\\begin{tabular}{r|lllll}\n",
       "  & MSHARE & PDUB & PMAY & PBPREG & PBPALL\\\\\n",
       "\\hline\n",
       "\tMSHARE &  1.00 & -0.43 & 0.17 & 0.35 & 0.37\\\\\n",
       "\tPDUB & -0.43 &  1.00 & 0.48 & 0.36 & 0.32\\\\\n",
       "\tPMAY &  0.17 &  0.48 & 1.00 & 0.55 & 0.53\\\\\n",
       "\tPBPREG &  0.35 &  0.36 & 0.55 & 1.00 & 0.98\\\\\n",
       "\tPBPALL &  0.37 &  0.32 & 0.53 & 0.98 & 1.00\\\\\n",
       "\\end{tabular}\n"
      ],
      "text/markdown": [
       "\n",
       "A matrix: 5 × 5 of type dbl\n",
       "\n",
       "| <!--/--> | MSHARE | PDUB | PMAY | PBPREG | PBPALL |\n",
       "|---|---|---|---|---|---|\n",
       "| MSHARE |  1.00 | -0.43 | 0.17 | 0.35 | 0.37 |\n",
       "| PDUB | -0.43 |  1.00 | 0.48 | 0.36 | 0.32 |\n",
       "| PMAY |  0.17 |  0.48 | 1.00 | 0.55 | 0.53 |\n",
       "| PBPREG |  0.35 |  0.36 | 0.55 | 1.00 | 0.98 |\n",
       "| PBPALL |  0.37 |  0.32 | 0.53 | 0.98 | 1.00 |\n",
       "\n"
      ],
      "text/plain": [
       "       MSHARE PDUB  PMAY PBPREG PBPALL\n",
       "MSHARE  1.00  -0.43 0.17 0.35   0.37  \n",
       "PDUB   -0.43   1.00 0.48 0.36   0.32  \n",
       "PMAY    0.17   0.48 1.00 0.55   0.53  \n",
       "PBPREG  0.35   0.36 0.55 1.00   0.98  \n",
       "PBPALL  0.37   0.32 0.53 0.98   1.00  "
      ]
     },
     "metadata": {},
     "output_type": "display_data"
    }
   ],
   "source": [
    "round(cov(hotdog_df_sd),2)"
   ]
  },
  {
   "cell_type": "code",
   "execution_count": 51,
   "metadata": {},
   "outputs": [],
   "source": [
    "#round(cor(hotdog_df_sd),2)"
   ]
  },
  {
   "cell_type": "code",
   "execution_count": 52,
   "metadata": {},
   "outputs": [
    {
     "data": {
      "text/plain": [
       "Importance of components:\n",
       "                          PC1    PC2    PC3     PC4     PC5\n",
       "Standard deviation     1.6522 1.2142 0.7417 0.47549 0.14070\n",
       "Proportion of Variance 0.5459 0.2949 0.1100 0.04522 0.00396\n",
       "Cumulative Proportion  0.5459 0.8408 0.9508 0.99604 1.00000"
      ]
     },
     "metadata": {},
     "output_type": "display_data"
    }
   ],
   "source": [
    "hotdog.pca <- prcomp(hotdog_df_sd, center = TRUE, scale. =TRUE)\n",
    "summary(hotdog.pca)"
   ]
  },
  {
   "cell_type": "code",
   "execution_count": 53,
   "metadata": {},
   "outputs": [
    {
     "data": {
      "text/html": [
       "<table>\n",
       "<caption>A matrix: 5 × 5 of type dbl</caption>\n",
       "<thead>\n",
       "\t<tr><th></th><th scope=col>PC1</th><th scope=col>PC2</th><th scope=col>PC3</th><th scope=col>PC4</th><th scope=col>PC5</th></tr>\n",
       "</thead>\n",
       "<tbody>\n",
       "\t<tr><th scope=row>MSHARE</th><td>-0.2075416</td><td>-0.71485633</td><td> 0.295083459</td><td> 0.5989647</td><td>-0.0085978744</td></tr>\n",
       "\t<tr><th scope=row>PDUB</th><td>-0.3026070</td><td> 0.66071213</td><td>-0.005710873</td><td> 0.6860021</td><td>-0.0354535285</td></tr>\n",
       "\t<tr><th scope=row>PMAY</th><td>-0.4623343</td><td> 0.16447063</td><td> 0.795379418</td><td>-0.3557634</td><td>-0.0006616738</td></tr>\n",
       "\t<tr><th scope=row>PBPREG</th><td>-0.5734463</td><td>-0.09829234</td><td>-0.368064060</td><td>-0.1244245</td><td> 0.7145245260</td></tr>\n",
       "\t<tr><th scope=row>PBPALL</th><td>-0.5681213</td><td>-0.12541102</td><td>-0.380517499</td><td>-0.1690955</td><td>-0.6986582769</td></tr>\n",
       "</tbody>\n",
       "</table>\n"
      ],
      "text/latex": [
       "A matrix: 5 × 5 of type dbl\n",
       "\\begin{tabular}{r|lllll}\n",
       "  & PC1 & PC2 & PC3 & PC4 & PC5\\\\\n",
       "\\hline\n",
       "\tMSHARE & -0.2075416 & -0.71485633 &  0.295083459 &  0.5989647 & -0.0085978744\\\\\n",
       "\tPDUB & -0.3026070 &  0.66071213 & -0.005710873 &  0.6860021 & -0.0354535285\\\\\n",
       "\tPMAY & -0.4623343 &  0.16447063 &  0.795379418 & -0.3557634 & -0.0006616738\\\\\n",
       "\tPBPREG & -0.5734463 & -0.09829234 & -0.368064060 & -0.1244245 &  0.7145245260\\\\\n",
       "\tPBPALL & -0.5681213 & -0.12541102 & -0.380517499 & -0.1690955 & -0.6986582769\\\\\n",
       "\\end{tabular}\n"
      ],
      "text/markdown": [
       "\n",
       "A matrix: 5 × 5 of type dbl\n",
       "\n",
       "| <!--/--> | PC1 | PC2 | PC3 | PC4 | PC5 |\n",
       "|---|---|---|---|---|---|\n",
       "| MSHARE | -0.2075416 | -0.71485633 |  0.295083459 |  0.5989647 | -0.0085978744 |\n",
       "| PDUB | -0.3026070 |  0.66071213 | -0.005710873 |  0.6860021 | -0.0354535285 |\n",
       "| PMAY | -0.4623343 |  0.16447063 |  0.795379418 | -0.3557634 | -0.0006616738 |\n",
       "| PBPREG | -0.5734463 | -0.09829234 | -0.368064060 | -0.1244245 |  0.7145245260 |\n",
       "| PBPALL | -0.5681213 | -0.12541102 | -0.380517499 | -0.1690955 | -0.6986582769 |\n",
       "\n"
      ],
      "text/plain": [
       "       PC1        PC2         PC3          PC4        PC5          \n",
       "MSHARE -0.2075416 -0.71485633  0.295083459  0.5989647 -0.0085978744\n",
       "PDUB   -0.3026070  0.66071213 -0.005710873  0.6860021 -0.0354535285\n",
       "PMAY   -0.4623343  0.16447063  0.795379418 -0.3557634 -0.0006616738\n",
       "PBPREG -0.5734463 -0.09829234 -0.368064060 -0.1244245  0.7145245260\n",
       "PBPALL -0.5681213 -0.12541102 -0.380517499 -0.1690955 -0.6986582769"
      ]
     },
     "metadata": {},
     "output_type": "display_data"
    }
   ],
   "source": [
    "hotdog.pca$rotation"
   ]
  },
  {
   "cell_type": "code",
   "execution_count": 54,
   "metadata": {
    "scrolled": true
   },
   "outputs": [
    {
     "data": {
      "text/html": [
       "<style>\n",
       ".dl-inline {width: auto; margin:0; padding: 0}\n",
       ".dl-inline>dt, .dl-inline>dd {float: none; width: auto; display: inline-block}\n",
       ".dl-inline>dt::after {content: \":\\0020\"; padding-right: .5ex}\n",
       ".dl-inline>dt:not(:first-of-type) {padding-left: .5ex}\n",
       "</style><dl class=dl-inline><dt>PC1</dt><dd>1</dd><dt>PC2</dt><dd>1</dd><dt>PC3</dt><dd>1</dd><dt>PC4</dt><dd>1</dd><dt>PC5</dt><dd>1</dd></dl>\n"
      ],
      "text/latex": [
       "\\begin{description*}\n",
       "\\item[PC1] 1\n",
       "\\item[PC2] 1\n",
       "\\item[PC3] 1\n",
       "\\item[PC4] 1\n",
       "\\item[PC5] 1\n",
       "\\end{description*}\n"
      ],
      "text/markdown": [
       "PC1\n",
       ":   1PC2\n",
       ":   1PC3\n",
       ":   1PC4\n",
       ":   1PC5\n",
       ":   1\n",
       "\n"
      ],
      "text/plain": [
       "PC1 PC2 PC3 PC4 PC5 \n",
       "  1   1   1   1   1 "
      ]
     },
     "metadata": {},
     "output_type": "display_data"
    }
   ],
   "source": [
    "colSums(hotdog.pca$rotation**2)"
   ]
  },
  {
   "cell_type": "code",
   "execution_count": 55,
   "metadata": {},
   "outputs": [],
   "source": [
    "#install.packages(\"devtools\")\n",
    "#library(devtools)\n",
    "#install_github(\"vqv/ggbiplot\")\n",
    "#library(rtools)"
   ]
  },
  {
   "cell_type": "code",
   "execution_count": 56,
   "metadata": {},
   "outputs": [
    {
     "data": {
      "text/html": [
       "1.65216664005938"
      ],
      "text/latex": [
       "1.65216664005938"
      ],
      "text/markdown": [
       "1.65216664005938"
      ],
      "text/plain": [
       "[1] 1.652167"
      ]
     },
     "metadata": {},
     "output_type": "display_data"
    }
   ],
   "source": [
    "sd(hotdog.pca$x[,1])"
   ]
  },
  {
   "cell_type": "code",
   "execution_count": 57,
   "metadata": {},
   "outputs": [
    {
     "data": {
      "text/html": [
       "2.72965460652509"
      ],
      "text/latex": [
       "2.72965460652509"
      ],
      "text/markdown": [
       "2.72965460652509"
      ],
      "text/plain": [
       "[1] 2.729655"
      ]
     },
     "metadata": {},
     "output_type": "display_data"
    }
   ],
   "source": [
    "var(hotdog.pca$x[,1])"
   ]
  },
  {
   "cell_type": "markdown",
   "metadata": {},
   "source": [
    "## Question e\n",
    "\n",
    "If Dubuque does not respond to Ball Park's campaign, how much market share is expected to be lost?"
   ]
  },
  {
   "cell_type": "code",
   "execution_count": 58,
   "metadata": {},
   "outputs": [
    {
     "data": {
      "text/plain": [
       "\n",
       "Call:\n",
       "lm(formula = MSHARE ~ PDUB + PMAY + PBPREG + PBPALL, data = hotdog_df)\n",
       "\n",
       "Residuals:\n",
       "    Min      1Q  Median      3Q     Max \n",
       "-1.7885 -0.5982 -0.2072  0.4110  3.9366 \n",
       "\n",
       "Coefficients:\n",
       "            Estimate Std. Error t value Pr(>|t|)    \n",
       "(Intercept)   4.0303     1.4123   2.854  0.00518 ** \n",
       "PDUB         -7.5977     0.8092  -9.390 1.14e-15 ***\n",
       "PMAY          2.6223     0.8427   3.112  0.00238 ** \n",
       "PBPREG        3.4727     3.3161   1.047  0.29734    \n",
       "PBPALL        1.0249     2.9376   0.349  0.72784    \n",
       "---\n",
       "Signif. codes:  0 '***' 0.001 '**' 0.01 '*' 0.05 '.' 0.1 ' ' 1\n",
       "\n",
       "Residual standard error: 1.001 on 108 degrees of freedom\n",
       "Multiple R-squared:  0.5263,\tAdjusted R-squared:  0.5088 \n",
       "F-statistic:    30 on 4 and 108 DF,  p-value: < 2.2e-16\n"
      ]
     },
     "metadata": {},
     "output_type": "display_data"
    }
   ],
   "source": [
    "# reg2\n",
    "mod2 <- lm(MSHARE ~ PDUB+PMAY+PBPREG+PBPALL, data=hotdog_df)\n",
    "summary(mod2)"
   ]
  },
  {
   "cell_type": "code",
   "execution_count": 59,
   "metadata": {},
   "outputs": [
    {
     "data": {
      "text/plain": [
       "\n",
       "Call:\n",
       "lm(formula = MSHARE ~ PDUB + PMAY + PBPREG, data = hotdog_df)\n",
       "\n",
       "Residuals:\n",
       "    Min      1Q  Median      3Q     Max \n",
       "-1.7958 -0.5826 -0.1982  0.4266  3.9360 \n",
       "\n",
       "Coefficients:\n",
       "            Estimate Std. Error t value Pr(>|t|)    \n",
       "(Intercept)   4.0070     1.4050   2.852  0.00520 ** \n",
       "PDUB         -7.6424     0.7957  -9.604 3.42e-16 ***\n",
       "PMAY          2.6333     0.8387   3.140  0.00218 ** \n",
       "PBPREG        4.5968     0.7817   5.880 4.55e-08 ***\n",
       "---\n",
       "Signif. codes:  0 '***' 0.001 '**' 0.01 '*' 0.05 '.' 0.1 ' ' 1\n",
       "\n",
       "Residual standard error: 0.9965 on 109 degrees of freedom\n",
       "Multiple R-squared:  0.5258,\tAdjusted R-squared:  0.5127 \n",
       "F-statistic: 40.29 on 3 and 109 DF,  p-value: < 2.2e-16\n"
      ]
     },
     "metadata": {},
     "output_type": "display_data"
    }
   ],
   "source": [
    "# reg3\n",
    "mod3 <- lm(MSHARE ~ PDUB+PMAY+PBPREG, data=hotdog_df)\n",
    "summary(mod3)"
   ]
  },
  {
   "cell_type": "code",
   "execution_count": 61,
   "metadata": {},
   "outputs": [
    {
     "data": {
      "text/plain": [
       "\n",
       "Call:\n",
       "lm(formula = MSHARE ~ PDUB + PBPREG, data = hotdog_df)\n",
       "\n",
       "Residuals:\n",
       "    Min      1Q  Median      3Q     Max \n",
       "-2.2921 -0.6074 -0.2003  0.5403  4.1108 \n",
       "\n",
       "Coefficients:\n",
       "            Estimate Std. Error t value Pr(>|t|)    \n",
       "(Intercept)   5.0665     1.4177   3.574 0.000524 ***\n",
       "PDUB         -6.7224     0.7690  -8.741 2.95e-14 ***\n",
       "PBPREG        5.7234     0.7219   7.928 1.98e-12 ***\n",
       "---\n",
       "Signif. codes:  0 '***' 0.001 '**' 0.01 '*' 0.05 '.' 0.1 ' ' 1\n",
       "\n",
       "Residual standard error: 1.036 on 110 degrees of freedom\n",
       "Multiple R-squared:  0.4829,\tAdjusted R-squared:  0.4735 \n",
       "F-statistic: 51.36 on 2 and 110 DF,  p-value: < 2.2e-16\n"
      ]
     },
     "metadata": {},
     "output_type": "display_data"
    }
   ],
   "source": [
    "# reg4\n",
    "mod4 <- lm(MSHARE ~ PDUB+PBPREG, data=hotdog_df)\n",
    "summary(mod4)"
   ]
  },
  {
   "cell_type": "code",
   "execution_count": 63,
   "metadata": {},
   "outputs": [
    {
     "data": {
      "text/html": [
       "<table>\n",
       "<caption>A matrix: 5 × 5 of type dbl</caption>\n",
       "<thead>\n",
       "\t<tr><th></th><th scope=col>MSHARE</th><th scope=col>PDUB</th><th scope=col>PMAY</th><th scope=col>PBPREG</th><th scope=col>PBPALL</th></tr>\n",
       "</thead>\n",
       "<tbody>\n",
       "\t<tr><th scope=row>MSHARE</th><td> 1.0000000</td><td>-0.4329338</td><td>0.1695207</td><td>0.3517390</td><td>0.3694729</td></tr>\n",
       "\t<tr><th scope=row>PDUB</th><td>-0.4329338</td><td> 1.0000000</td><td>0.4844281</td><td>0.3592837</td><td>0.3225713</td></tr>\n",
       "\t<tr><th scope=row>PMAY</th><td> 0.1695207</td><td> 0.4844281</td><td>1.0000000</td><td>0.5488088</td><td>0.5336752</td></tr>\n",
       "\t<tr><th scope=row>PBPREG</th><td> 0.3517390</td><td> 0.3592837</td><td>0.5488088</td><td>1.0000000</td><td>0.9793837</td></tr>\n",
       "\t<tr><th scope=row>PBPALL</th><td> 0.3694729</td><td> 0.3225713</td><td>0.5336752</td><td>0.9793837</td><td>1.0000000</td></tr>\n",
       "</tbody>\n",
       "</table>\n"
      ],
      "text/latex": [
       "A matrix: 5 × 5 of type dbl\n",
       "\\begin{tabular}{r|lllll}\n",
       "  & MSHARE & PDUB & PMAY & PBPREG & PBPALL\\\\\n",
       "\\hline\n",
       "\tMSHARE &  1.0000000 & -0.4329338 & 0.1695207 & 0.3517390 & 0.3694729\\\\\n",
       "\tPDUB & -0.4329338 &  1.0000000 & 0.4844281 & 0.3592837 & 0.3225713\\\\\n",
       "\tPMAY &  0.1695207 &  0.4844281 & 1.0000000 & 0.5488088 & 0.5336752\\\\\n",
       "\tPBPREG &  0.3517390 &  0.3592837 & 0.5488088 & 1.0000000 & 0.9793837\\\\\n",
       "\tPBPALL &  0.3694729 &  0.3225713 & 0.5336752 & 0.9793837 & 1.0000000\\\\\n",
       "\\end{tabular}\n"
      ],
      "text/markdown": [
       "\n",
       "A matrix: 5 × 5 of type dbl\n",
       "\n",
       "| <!--/--> | MSHARE | PDUB | PMAY | PBPREG | PBPALL |\n",
       "|---|---|---|---|---|---|\n",
       "| MSHARE |  1.0000000 | -0.4329338 | 0.1695207 | 0.3517390 | 0.3694729 |\n",
       "| PDUB | -0.4329338 |  1.0000000 | 0.4844281 | 0.3592837 | 0.3225713 |\n",
       "| PMAY |  0.1695207 |  0.4844281 | 1.0000000 | 0.5488088 | 0.5336752 |\n",
       "| PBPREG |  0.3517390 |  0.3592837 | 0.5488088 | 1.0000000 | 0.9793837 |\n",
       "| PBPALL |  0.3694729 |  0.3225713 | 0.5336752 | 0.9793837 | 1.0000000 |\n",
       "\n"
      ],
      "text/plain": [
       "       MSHARE     PDUB       PMAY      PBPREG    PBPALL   \n",
       "MSHARE  1.0000000 -0.4329338 0.1695207 0.3517390 0.3694729\n",
       "PDUB   -0.4329338  1.0000000 0.4844281 0.3592837 0.3225713\n",
       "PMAY    0.1695207  0.4844281 1.0000000 0.5488088 0.5336752\n",
       "PBPREG  0.3517390  0.3592837 0.5488088 1.0000000 0.9793837\n",
       "PBPALL  0.3694729  0.3225713 0.5336752 0.9793837 1.0000000"
      ]
     },
     "metadata": {},
     "output_type": "display_data"
    }
   ],
   "source": [
    "cor(hotdog_df[,-1])"
   ]
  },
  {
   "cell_type": "code",
   "execution_count": null,
   "metadata": {},
   "outputs": [],
   "source": []
  },
  {
   "cell_type": "code",
   "execution_count": null,
   "metadata": {},
   "outputs": [],
   "source": [
    "\n",
    "# Predict values based on model and calculate Residuals\n",
    "\n",
    "#d$pred <- predict(mod, data = d)\n",
    "#d$resid <- d$price - d$pred\n",
    "#d\n",
    "\n",
    "# Calculate quantiles of Residuals\n",
    "#stats::quantile(d$resid)\n",
    "\n",
    "#hist(d$resid, xlab = \"Residuals\", main = \"\")\n",
    "# Show mean\n",
    "#paste(c(\"Error mean\", mean(d$resid)))"
   ]
  }
 ],
 "metadata": {
  "kernelspec": {
   "display_name": "R",
   "language": "R",
   "name": "ir"
  },
  "language_info": {
   "codemirror_mode": "r",
   "file_extension": ".r",
   "mimetype": "text/x-r-source",
   "name": "R",
   "pygments_lexer": "r",
   "version": "4.0.2"
  }
 },
 "nbformat": 4,
 "nbformat_minor": 2
}
