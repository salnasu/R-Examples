{
 "cells": [
  {
   "cell_type": "code",
   "execution_count": 12,
   "metadata": {},
   "outputs": [],
   "source": [
    "library(readxl)\n",
    "library(dplyr)\n",
    "library(lubridate)\n",
    "library(ggplot2)\n",
    "\n",
    "# import data\n",
    "d <- read_xlsx(\"Data/adfc-03.xlsx\", sheet= \"Data\")"
   ]
  },
  {
   "cell_type": "code",
   "execution_count": 13,
   "metadata": {},
   "outputs": [],
   "source": [
    "# time index\n",
    "d$time <- c(1:180)\n",
    "d$month <- month(d$Date)"
   ]
  },
  {
   "cell_type": "code",
   "execution_count": 14,
   "metadata": {},
   "outputs": [
    {
     "data": {
      "text/html": [
       "<table>\n",
       "<caption>A tibble: 6 × 4</caption>\n",
       "<thead>\n",
       "\t<tr><th scope=col>Date</th><th scope=col>Sales</th><th scope=col>time</th><th scope=col>month</th></tr>\n",
       "\t<tr><th scope=col>&lt;dttm&gt;</th><th scope=col>&lt;dbl&gt;</th><th scope=col>&lt;int&gt;</th><th scope=col>&lt;dbl&gt;</th></tr>\n",
       "</thead>\n",
       "<tbody>\n",
       "\t<tr><td>1995-01-01</td><td>1463.9</td><td>1</td><td>1</td></tr>\n",
       "\t<tr><td>1995-02-01</td><td>1373.3</td><td>2</td><td>2</td></tr>\n",
       "\t<tr><td>1995-03-01</td><td>1533.7</td><td>3</td><td>3</td></tr>\n",
       "\t<tr><td>1995-04-01</td><td>1420.6</td><td>4</td><td>4</td></tr>\n",
       "\t<tr><td>1995-05-01</td><td>1576.3</td><td>5</td><td>5</td></tr>\n",
       "\t<tr><td>1995-06-01</td><td>1607.5</td><td>6</td><td>6</td></tr>\n",
       "</tbody>\n",
       "</table>\n"
      ],
      "text/latex": [
       "A tibble: 6 × 4\n",
       "\\begin{tabular}{llll}\n",
       " Date & Sales & time & month\\\\\n",
       " <dttm> & <dbl> & <int> & <dbl>\\\\\n",
       "\\hline\n",
       "\t 1995-01-01 & 1463.9 & 1 & 1\\\\\n",
       "\t 1995-02-01 & 1373.3 & 2 & 2\\\\\n",
       "\t 1995-03-01 & 1533.7 & 3 & 3\\\\\n",
       "\t 1995-04-01 & 1420.6 & 4 & 4\\\\\n",
       "\t 1995-05-01 & 1576.3 & 5 & 5\\\\\n",
       "\t 1995-06-01 & 1607.5 & 6 & 6\\\\\n",
       "\\end{tabular}\n"
      ],
      "text/markdown": [
       "\n",
       "A tibble: 6 × 4\n",
       "\n",
       "| Date &lt;dttm&gt; | Sales &lt;dbl&gt; | time &lt;int&gt; | month &lt;dbl&gt; |\n",
       "|---|---|---|---|\n",
       "| 1995-01-01 | 1463.9 | 1 | 1 |\n",
       "| 1995-02-01 | 1373.3 | 2 | 2 |\n",
       "| 1995-03-01 | 1533.7 | 3 | 3 |\n",
       "| 1995-04-01 | 1420.6 | 4 | 4 |\n",
       "| 1995-05-01 | 1576.3 | 5 | 5 |\n",
       "| 1995-06-01 | 1607.5 | 6 | 6 |\n",
       "\n"
      ],
      "text/plain": [
       "  Date       Sales  time month\n",
       "1 1995-01-01 1463.9 1    1    \n",
       "2 1995-02-01 1373.3 2    2    \n",
       "3 1995-03-01 1533.7 3    3    \n",
       "4 1995-04-01 1420.6 4    4    \n",
       "5 1995-05-01 1576.3 5    5    \n",
       "6 1995-06-01 1607.5 6    6    "
      ]
     },
     "metadata": {},
     "output_type": "display_data"
    }
   ],
   "source": [
    "head(d)"
   ]
  },
  {
   "cell_type": "code",
   "execution_count": 15,
   "metadata": {},
   "outputs": [
    {
     "data": {
      "image/png": "[encoded data removed]",
      "text/plain": [
       "plot without title"
      ]
     },
     "metadata": {
      "image/png": {
       "height": 420,
       "width": 420
      }
     },
     "output_type": "display_data"
    }
   ],
   "source": [
    "ggplot(aes(Date,Sales), data= d) + geom_line()"
   ]
  },
  {
   "cell_type": "code",
   "execution_count": 16,
   "metadata": {},
   "outputs": [],
   "source": [
    "# trend\n",
    "trend <- lm(Sales ~ time, data = d)\n",
    "d$trend <-  predict(trend)"
   ]
  },
  {
   "cell_type": "code",
   "execution_count": 17,
   "metadata": {},
   "outputs": [
    {
     "data": {
      "text/plain": [
       "\n",
       "Call:\n",
       "lm(formula = Sales ~ time, data = d)\n",
       "\n",
       "Residuals:\n",
       "    Min      1Q  Median      3Q     Max \n",
       "-623.15 -196.32  -48.42   80.98 1344.21 \n",
       "\n",
       "Coefficients:\n",
       "             Estimate Std. Error t value Pr(>|t|)    \n",
       "(Intercept) 1299.4127    46.4006   28.00   <2e-16 ***\n",
       "time          13.4820     0.4446   30.32   <2e-16 ***\n",
       "---\n",
       "Signif. codes:  0 '***' 0.001 '**' 0.01 '*' 0.05 '.' 0.1 ' ' 1\n",
       "\n",
       "Residual standard error: 310 on 178 degrees of freedom\n",
       "Multiple R-squared:  0.8378,\tAdjusted R-squared:  0.8369 \n",
       "F-statistic: 919.4 on 1 and 178 DF,  p-value: < 2.2e-16\n"
      ]
     },
     "metadata": {},
     "output_type": "display_data"
    }
   ],
   "source": [
    "summary(trend)"
   ]
  },
  {
   "cell_type": "code",
   "execution_count": 18,
   "metadata": {
    "scrolled": false
   },
   "outputs": [
    {
     "data": {
      "image/png": "[encoded data removed]",
      "text/plain": [
       "plot without title"
      ]
     },
     "metadata": {
      "image/png": {
       "height": 420,
       "width": 420
      }
     },
     "output_type": "display_data"
    }
   ],
   "source": [
    "# linear trend residual\n",
    "plot(d$Date, resid(trend), type=\"l\")"
   ]
  },
  {
   "cell_type": "markdown",
   "metadata": {},
   "source": [
    "You see repetitive model "
   ]
  },
  {
   "cell_type": "code",
   "execution_count": 19,
   "metadata": {},
   "outputs": [],
   "source": [
    "# seasonal multiplicative\n",
    "d$multi <- d$Sales / d$trend \n",
    "d <- d %>% group_by(month) %>% mutate(seasonal = mean(multi))"
   ]
  },
  {
   "cell_type": "code",
   "execution_count": 20,
   "metadata": {},
   "outputs": [
    {
     "data": {
      "text/html": [
       "<table>\n",
       "<caption>A grouped_df: 6 × 7</caption>\n",
       "<thead>\n",
       "\t<tr><th scope=col>Date</th><th scope=col>Sales</th><th scope=col>time</th><th scope=col>month</th><th scope=col>trend</th><th scope=col>multi</th><th scope=col>seasonal</th></tr>\n",
       "\t<tr><th scope=col>&lt;dttm&gt;</th><th scope=col>&lt;dbl&gt;</th><th scope=col>&lt;int&gt;</th><th scope=col>&lt;dbl&gt;</th><th scope=col>&lt;dbl&gt;</th><th scope=col>&lt;dbl&gt;</th><th scope=col>&lt;dbl&gt;</th></tr>\n",
       "</thead>\n",
       "<tbody>\n",
       "\t<tr><td>1995-01-01</td><td>1463.9</td><td>1</td><td>1</td><td>1312.895</td><td>1.115017</td><td>0.9961990</td></tr>\n",
       "\t<tr><td>1995-02-01</td><td>1373.3</td><td>2</td><td>2</td><td>1326.377</td><td>1.035377</td><td>0.8901694</td></tr>\n",
       "\t<tr><td>1995-03-01</td><td>1533.7</td><td>3</td><td>3</td><td>1339.859</td><td>1.144673</td><td>0.9536796</td></tr>\n",
       "\t<tr><td>1995-04-01</td><td>1420.6</td><td>4</td><td>4</td><td>1353.341</td><td>1.049699</td><td>0.9133909</td></tr>\n",
       "\t<tr><td>1995-05-01</td><td>1576.3</td><td>5</td><td>5</td><td>1366.823</td><td>1.153259</td><td>0.9692161</td></tr>\n",
       "\t<tr><td>1995-06-01</td><td>1607.5</td><td>6</td><td>6</td><td>1380.305</td><td>1.164598</td><td>0.9933198</td></tr>\n",
       "</tbody>\n",
       "</table>\n"
      ],
      "text/latex": [
       "A grouped\\_df: 6 × 7\n",
       "\\begin{tabular}{lllllll}\n",
       " Date & Sales & time & month & trend & multi & seasonal\\\\\n",
       " <dttm> & <dbl> & <int> & <dbl> & <dbl> & <dbl> & <dbl>\\\\\n",
       "\\hline\n",
       "\t 1995-01-01 & 1463.9 & 1 & 1 & 1312.895 & 1.115017 & 0.9961990\\\\\n",
       "\t 1995-02-01 & 1373.3 & 2 & 2 & 1326.377 & 1.035377 & 0.8901694\\\\\n",
       "\t 1995-03-01 & 1533.7 & 3 & 3 & 1339.859 & 1.144673 & 0.9536796\\\\\n",
       "\t 1995-04-01 & 1420.6 & 4 & 4 & 1353.341 & 1.049699 & 0.9133909\\\\\n",
       "\t 1995-05-01 & 1576.3 & 5 & 5 & 1366.823 & 1.153259 & 0.9692161\\\\\n",
       "\t 1995-06-01 & 1607.5 & 6 & 6 & 1380.305 & 1.164598 & 0.9933198\\\\\n",
       "\\end{tabular}\n"
      ],
      "text/markdown": [
       "\n",
       "A grouped_df: 6 × 7\n",
       "\n",
       "| Date &lt;dttm&gt; | Sales &lt;dbl&gt; | time &lt;int&gt; | month &lt;dbl&gt; | trend &lt;dbl&gt; | multi &lt;dbl&gt; | seasonal &lt;dbl&gt; |\n",
       "|---|---|---|---|---|---|---|\n",
       "| 1995-01-01 | 1463.9 | 1 | 1 | 1312.895 | 1.115017 | 0.9961990 |\n",
       "| 1995-02-01 | 1373.3 | 2 | 2 | 1326.377 | 1.035377 | 0.8901694 |\n",
       "| 1995-03-01 | 1533.7 | 3 | 3 | 1339.859 | 1.144673 | 0.9536796 |\n",
       "| 1995-04-01 | 1420.6 | 4 | 4 | 1353.341 | 1.049699 | 0.9133909 |\n",
       "| 1995-05-01 | 1576.3 | 5 | 5 | 1366.823 | 1.153259 | 0.9692161 |\n",
       "| 1995-06-01 | 1607.5 | 6 | 6 | 1380.305 | 1.164598 | 0.9933198 |\n",
       "\n"
      ],
      "text/plain": [
       "  Date       Sales  time month trend    multi    seasonal \n",
       "1 1995-01-01 1463.9 1    1     1312.895 1.115017 0.9961990\n",
       "2 1995-02-01 1373.3 2    2     1326.377 1.035377 0.8901694\n",
       "3 1995-03-01 1533.7 3    3     1339.859 1.144673 0.9536796\n",
       "4 1995-04-01 1420.6 4    4     1353.341 1.049699 0.9133909\n",
       "5 1995-05-01 1576.3 5    5     1366.823 1.153259 0.9692161\n",
       "6 1995-06-01 1607.5 6    6     1380.305 1.164598 0.9933198"
      ]
     },
     "metadata": {},
     "output_type": "display_data"
    }
   ],
   "source": [
    "head(d)"
   ]
  },
  {
   "cell_type": "code",
   "execution_count": 21,
   "metadata": {},
   "outputs": [],
   "source": [
    "# model multiplicative\n",
    "d$predicted <- d$trend * d$seasonal "
   ]
  },
  {
   "cell_type": "code",
   "execution_count": 22,
   "metadata": {},
   "outputs": [
    {
     "data": {
      "image/png": "[encoded data removed]",
      "text/plain": [
       "plot without title"
      ]
     },
     "metadata": {
      "image/png": {
       "height": 420,
       "width": 420
      }
     },
     "output_type": "display_data"
    }
   ],
   "source": [
    "# plot\n",
    "plot(d$Date, d$Sales, type=\"l\")\n",
    "lines(d$Date, d$predicted, type=\"l\", col=\"blue\") "
   ]
  },
  {
   "cell_type": "code",
   "execution_count": 23,
   "metadata": {},
   "outputs": [
    {
     "data": {
      "image/png": "[encoded data removed]",
      "text/plain": [
       "plot without title"
      ]
     },
     "metadata": {
      "image/png": {
       "height": 420,
       "width": 420
      }
     },
     "output_type": "display_data"
    }
   ],
   "source": [
    "\n",
    "# residual\n",
    "resid <- d$Sales - d$predicted\n",
    "plot(d$Date, resid, type=\"l\")"
   ]
  },
  {
   "cell_type": "code",
   "execution_count": 24,
   "metadata": {},
   "outputs": [],
   "source": [
    "# forecast 2010\n",
    "y2010 <- data.frame(time = c(181:192), seasonal = d$seasonal[1:12])\n",
    "y2010$forecast <- predict(trend, y2010) * y2010$seasonal"
   ]
  },
  {
   "cell_type": "code",
   "execution_count": 25,
   "metadata": {},
   "outputs": [],
   "source": [
    "# confidence limits 95%\n",
    "y2010$upper <- y2010$forecast + 2 * sd(resid)\n",
    "y2010$lower <- y2010$forecast - 2 * sd(resid)\n"
   ]
  },
  {
   "cell_type": "code",
   "execution_count": 27,
   "metadata": {},
   "outputs": [
    {
     "data": {
      "text/html": [
       "<table>\n",
       "<caption>A data.frame: 6 × 5</caption>\n",
       "<thead>\n",
       "\t<tr><th></th><th scope=col>time</th><th scope=col>seasonal</th><th scope=col>forecast</th><th scope=col>upper</th><th scope=col>lower</th></tr>\n",
       "\t<tr><th></th><th scope=col>&lt;int&gt;</th><th scope=col>&lt;dbl&gt;</th><th scope=col>&lt;dbl&gt;</th><th scope=col>&lt;dbl&gt;</th><th scope=col>&lt;dbl&gt;</th></tr>\n",
       "</thead>\n",
       "<tbody>\n",
       "\t<tr><th scope=row>1</th><td>181</td><td>0.9961990</td><td>3725.439</td><td>3972.382</td><td>3478.495</td></tr>\n",
       "\t<tr><th scope=row>2</th><td>182</td><td>0.8901694</td><td>3340.926</td><td>3587.869</td><td>3093.982</td></tr>\n",
       "\t<tr><th scope=row>3</th><td>183</td><td>0.9536796</td><td>3592.146</td><td>3839.089</td><td>3345.202</td></tr>\n",
       "\t<tr><th scope=row>4</th><td>184</td><td>0.9133909</td><td>3452.708</td><td>3699.651</td><td>3205.764</td></tr>\n",
       "\t<tr><th scope=row>5</th><td>185</td><td>0.9692161</td><td>3676.800</td><td>3923.743</td><td>3429.856</td></tr>\n",
       "\t<tr><th scope=row>6</th><td>186</td><td>0.9933198</td><td>3781.631</td><td>4028.574</td><td>3534.687</td></tr>\n",
       "</tbody>\n",
       "</table>\n"
      ],
      "text/latex": [
       "A data.frame: 6 × 5\n",
       "\\begin{tabular}{r|lllll}\n",
       "  & time & seasonal & forecast & upper & lower\\\\\n",
       "  & <int> & <dbl> & <dbl> & <dbl> & <dbl>\\\\\n",
       "\\hline\n",
       "\t1 & 181 & 0.9961990 & 3725.439 & 3972.382 & 3478.495\\\\\n",
       "\t2 & 182 & 0.8901694 & 3340.926 & 3587.869 & 3093.982\\\\\n",
       "\t3 & 183 & 0.9536796 & 3592.146 & 3839.089 & 3345.202\\\\\n",
       "\t4 & 184 & 0.9133909 & 3452.708 & 3699.651 & 3205.764\\\\\n",
       "\t5 & 185 & 0.9692161 & 3676.800 & 3923.743 & 3429.856\\\\\n",
       "\t6 & 186 & 0.9933198 & 3781.631 & 4028.574 & 3534.687\\\\\n",
       "\\end{tabular}\n"
      ],
      "text/markdown": [
       "\n",
       "A data.frame: 6 × 5\n",
       "\n",
       "| <!--/--> | time &lt;int&gt; | seasonal &lt;dbl&gt; | forecast &lt;dbl&gt; | upper &lt;dbl&gt; | lower &lt;dbl&gt; |\n",
       "|---|---|---|---|---|---|\n",
       "| 1 | 181 | 0.9961990 | 3725.439 | 3972.382 | 3478.495 |\n",
       "| 2 | 182 | 0.8901694 | 3340.926 | 3587.869 | 3093.982 |\n",
       "| 3 | 183 | 0.9536796 | 3592.146 | 3839.089 | 3345.202 |\n",
       "| 4 | 184 | 0.9133909 | 3452.708 | 3699.651 | 3205.764 |\n",
       "| 5 | 185 | 0.9692161 | 3676.800 | 3923.743 | 3429.856 |\n",
       "| 6 | 186 | 0.9933198 | 3781.631 | 4028.574 | 3534.687 |\n",
       "\n"
      ],
      "text/plain": [
       "  time seasonal  forecast upper    lower   \n",
       "1 181  0.9961990 3725.439 3972.382 3478.495\n",
       "2 182  0.8901694 3340.926 3587.869 3093.982\n",
       "3 183  0.9536796 3592.146 3839.089 3345.202\n",
       "4 184  0.9133909 3452.708 3699.651 3205.764\n",
       "5 185  0.9692161 3676.800 3923.743 3429.856\n",
       "6 186  0.9933198 3781.631 4028.574 3534.687"
      ]
     },
     "metadata": {},
     "output_type": "display_data"
    }
   ],
   "source": [
    "head(y2010)"
   ]
  },
  {
   "cell_type": "code",
   "execution_count": null,
   "metadata": {},
   "outputs": [],
   "source": []
  }
 ],
 "metadata": {
  "kernelspec": {
   "display_name": "R",
   "language": "R",
   "name": "ir"
  },
  "language_info": {
   "codemirror_mode": "r",
   "file_extension": ".r",
   "mimetype": "text/x-r-source",
   "name": "R",
   "pygments_lexer": "r",
   "version": "4.0.2"
  }
 },
 "nbformat": 4,
 "nbformat_minor": 2
}
