{
 "cells": [
  {
   "cell_type": "code",
   "execution_count": 93,
   "metadata": {},
   "outputs": [],
   "source": [
    "#```{r results='hide', message=FALSE, warning=FALSE}\n",
    "# install all Packages required\n",
    "# install.packages('ggplot2')\n",
    "# Load Libraries to be used\n",
    "library(ggplot2)\n",
    "library(knitr)\n",
    "library(dplyr)\n",
    "library(tidyverse)\n",
    "library(summarytools)\n",
    "library(visdat)\n",
    "library(igraph)\n",
    "#library(treemap)\n",
    "#library(dplyr)\n",
    "library(devtools)\n",
    "library(\"readxl\")\n",
    "library(repr)\n",
    "\n",
    "#install.packages(\"readxl\")\n",
    "\n",
    "# my_data <- read_excel(file.choose())\n",
    "#```# Do not show warnings"
   ]
  },
  {
   "cell_type": "code",
   "execution_count": 2,
   "metadata": {},
   "outputs": [],
   "source": [
    "# Change plot size to 4 x 3\n",
    "options(repr.plot.width=12, repr.plot.height=12)"
   ]
  },
  {
   "cell_type": "code",
   "execution_count": 3,
   "metadata": {},
   "outputs": [
    {
     "data": {
      "text/html": [
       "<table>\n",
       "<caption>A tibble: 6 × 17</caption>\n",
       "<thead>\n",
       "\t<tr><th scope=col>check</th><th scope=col>savings</th><th scope=col>history</th><th scope=col>purpose</th><th scope=col>duration</th><th scope=col>amount</th><th scope=col>employed</th><th scope=col>perc_income</th><th scope=col>resid</th><th scope=col>age</th><th scope=col>other_credit</th><th scope=col>housing</th><th scope=col>n_loans</th><th scope=col>job</th><th scope=col>depend</th><th scope=col>phone</th><th scope=col>default</th></tr>\n",
       "\t<tr><th scope=col>&lt;chr&gt;</th><th scope=col>&lt;chr&gt;</th><th scope=col>&lt;chr&gt;</th><th scope=col>&lt;chr&gt;</th><th scope=col>&lt;dbl&gt;</th><th scope=col>&lt;dbl&gt;</th><th scope=col>&lt;chr&gt;</th><th scope=col>&lt;dbl&gt;</th><th scope=col>&lt;dbl&gt;</th><th scope=col>&lt;dbl&gt;</th><th scope=col>&lt;chr&gt;</th><th scope=col>&lt;chr&gt;</th><th scope=col>&lt;dbl&gt;</th><th scope=col>&lt;chr&gt;</th><th scope=col>&lt;dbl&gt;</th><th scope=col>&lt;chr&gt;</th><th scope=col>&lt;chr&gt;</th></tr>\n",
       "</thead>\n",
       "<tbody>\n",
       "\t<tr><td><span style=white-space:pre-wrap>&lt; 0 SEK      </span></td><td><span style=white-space:pre-wrap>unknown    </span></td><td>critical</td><td>furniture/appliances</td><td> 6</td><td>116900</td><td><span style=white-space:pre-wrap>&gt; 7 years  </span></td><td>4</td><td>4</td><td>67</td><td>none</td><td><span style=white-space:pre-wrap>own  </span></td><td>2</td><td><span style=white-space:pre-wrap>skilled  </span></td><td>1</td><td>yes</td><td>no </td></tr>\n",
       "\t<tr><td>1 - 20000 SEK</td><td>&lt; 10000 SEK</td><td><span style=white-space:pre-wrap>good    </span></td><td>furniture/appliances</td><td>48</td><td>595100</td><td>1 - 4 years</td><td>2</td><td>2</td><td>22</td><td>none</td><td><span style=white-space:pre-wrap>own  </span></td><td>1</td><td><span style=white-space:pre-wrap>skilled  </span></td><td>1</td><td>no </td><td>yes</td></tr>\n",
       "\t<tr><td><span style=white-space:pre-wrap>unknown      </span></td><td>&lt; 10000 SEK</td><td>critical</td><td><span style=white-space:pre-wrap>education           </span></td><td>12</td><td>209600</td><td>4 - 7 years</td><td>2</td><td>3</td><td>49</td><td>none</td><td><span style=white-space:pre-wrap>own  </span></td><td>1</td><td>unskilled</td><td>2</td><td>no </td><td>no </td></tr>\n",
       "\t<tr><td><span style=white-space:pre-wrap>&lt; 0 SEK      </span></td><td>&lt; 10000 SEK</td><td><span style=white-space:pre-wrap>good    </span></td><td>furniture/appliances</td><td>42</td><td>788200</td><td>4 - 7 years</td><td>2</td><td>4</td><td>45</td><td>none</td><td>other</td><td>1</td><td><span style=white-space:pre-wrap>skilled  </span></td><td>2</td><td>no </td><td>no </td></tr>\n",
       "\t<tr><td><span style=white-space:pre-wrap>&lt; 0 SEK      </span></td><td>&lt; 10000 SEK</td><td><span style=white-space:pre-wrap>poor    </span></td><td><span style=white-space:pre-wrap>car                 </span></td><td>24</td><td>487000</td><td>1 - 4 years</td><td>3</td><td>4</td><td>53</td><td>none</td><td>other</td><td>2</td><td><span style=white-space:pre-wrap>skilled  </span></td><td>2</td><td>no </td><td>yes</td></tr>\n",
       "\t<tr><td>unknown      </td><td>unknown    </td><td>good    </td><td>education           </td><td>36</td><td>905500</td><td>1 - 4 years</td><td>2</td><td>4</td><td>35</td><td>none</td><td>other</td><td>1</td><td>unskilled</td><td>2</td><td>yes</td><td>no </td></tr>\n",
       "</tbody>\n",
       "</table>\n"
      ],
      "text/latex": [
       "A tibble: 6 × 17\n",
       "\\begin{tabular}{lllllllllllllllll}\n",
       " check & savings & history & purpose & duration & amount & employed & perc\\_income & resid & age & other\\_credit & housing & n\\_loans & job & depend & phone & default\\\\\n",
       " <chr> & <chr> & <chr> & <chr> & <dbl> & <dbl> & <chr> & <dbl> & <dbl> & <dbl> & <chr> & <chr> & <dbl> & <chr> & <dbl> & <chr> & <chr>\\\\\n",
       "\\hline\n",
       "\t < 0 SEK       & unknown     & critical & furniture/appliances &  6 & 116900 & > 7 years   & 4 & 4 & 67 & none & own   & 2 & skilled   & 1 & yes & no \\\\\n",
       "\t 1 - 20000 SEK & < 10000 SEK & good     & furniture/appliances & 48 & 595100 & 1 - 4 years & 2 & 2 & 22 & none & own   & 1 & skilled   & 1 & no  & yes\\\\\n",
       "\t unknown       & < 10000 SEK & critical & education            & 12 & 209600 & 4 - 7 years & 2 & 3 & 49 & none & own   & 1 & unskilled & 2 & no  & no \\\\\n",
       "\t < 0 SEK       & < 10000 SEK & good     & furniture/appliances & 42 & 788200 & 4 - 7 years & 2 & 4 & 45 & none & other & 1 & skilled   & 2 & no  & no \\\\\n",
       "\t < 0 SEK       & < 10000 SEK & poor     & car                  & 24 & 487000 & 1 - 4 years & 3 & 4 & 53 & none & other & 2 & skilled   & 2 & no  & yes\\\\\n",
       "\t unknown       & unknown     & good     & education            & 36 & 905500 & 1 - 4 years & 2 & 4 & 35 & none & other & 1 & unskilled & 2 & yes & no \\\\\n",
       "\\end{tabular}\n"
      ],
      "text/markdown": [
       "\n",
       "A tibble: 6 × 17\n",
       "\n",
       "| check &lt;chr&gt; | savings &lt;chr&gt; | history &lt;chr&gt; | purpose &lt;chr&gt; | duration &lt;dbl&gt; | amount &lt;dbl&gt; | employed &lt;chr&gt; | perc_income &lt;dbl&gt; | resid &lt;dbl&gt; | age &lt;dbl&gt; | other_credit &lt;chr&gt; | housing &lt;chr&gt; | n_loans &lt;dbl&gt; | job &lt;chr&gt; | depend &lt;dbl&gt; | phone &lt;chr&gt; | default &lt;chr&gt; |\n",
       "|---|---|---|---|---|---|---|---|---|---|---|---|---|---|---|---|---|\n",
       "| &lt; 0 SEK       | unknown     | critical | furniture/appliances |  6 | 116900 | &gt; 7 years   | 4 | 4 | 67 | none | own   | 2 | skilled   | 1 | yes | no  |\n",
       "| 1 - 20000 SEK | &lt; 10000 SEK | good     | furniture/appliances | 48 | 595100 | 1 - 4 years | 2 | 2 | 22 | none | own   | 1 | skilled   | 1 | no  | yes |\n",
       "| unknown       | &lt; 10000 SEK | critical | education            | 12 | 209600 | 4 - 7 years | 2 | 3 | 49 | none | own   | 1 | unskilled | 2 | no  | no  |\n",
       "| &lt; 0 SEK       | &lt; 10000 SEK | good     | furniture/appliances | 42 | 788200 | 4 - 7 years | 2 | 4 | 45 | none | other | 1 | skilled   | 2 | no  | no  |\n",
       "| &lt; 0 SEK       | &lt; 10000 SEK | poor     | car                  | 24 | 487000 | 1 - 4 years | 3 | 4 | 53 | none | other | 2 | skilled   | 2 | no  | yes |\n",
       "| unknown       | unknown     | good     | education            | 36 | 905500 | 1 - 4 years | 2 | 4 | 35 | none | other | 1 | unskilled | 2 | yes | no  |\n",
       "\n"
      ],
      "text/plain": [
       "  check         savings     history  purpose              duration amount\n",
       "1 < 0 SEK       unknown     critical furniture/appliances  6       116900\n",
       "2 1 - 20000 SEK < 10000 SEK good     furniture/appliances 48       595100\n",
       "3 unknown       < 10000 SEK critical education            12       209600\n",
       "4 < 0 SEK       < 10000 SEK good     furniture/appliances 42       788200\n",
       "5 < 0 SEK       < 10000 SEK poor     car                  24       487000\n",
       "6 unknown       unknown     good     education            36       905500\n",
       "  employed    perc_income resid age other_credit housing n_loans job      \n",
       "1 > 7 years   4           4     67  none         own     2       skilled  \n",
       "2 1 - 4 years 2           2     22  none         own     1       skilled  \n",
       "3 4 - 7 years 2           3     49  none         own     1       unskilled\n",
       "4 4 - 7 years 2           4     45  none         other   1       skilled  \n",
       "5 1 - 4 years 3           4     53  none         other   2       skilled  \n",
       "6 1 - 4 years 2           4     35  none         other   1       unskilled\n",
       "  depend phone default\n",
       "1 1      yes   no     \n",
       "2 1      no    yes    \n",
       "3 2      no    no     \n",
       "4 2      no    no     \n",
       "5 2      no    yes    \n",
       "6 2      yes   no     "
      ]
     },
     "metadata": {},
     "output_type": "display_data"
    }
   ],
   "source": [
    "credit_df <- read_excel(\"Data/credit.xlsx\", sheet=\"Sheet1\")\n",
    "head(credit_df)"
   ]
  },
  {
   "cell_type": "code",
   "execution_count": 4,
   "metadata": {},
   "outputs": [
    {
     "data": {
      "text/html": [
       "<style>\n",
       ".list-inline {list-style: none; margin:0; padding: 0}\n",
       ".list-inline>li {display: inline-block}\n",
       ".list-inline>li:not(:last-child)::after {content: \"\\00b7\"; padding: 0 .5ex}\n",
       "</style>\n",
       "<ol class=list-inline><li>'check'</li><li>'savings'</li><li>'history'</li><li>'purpose'</li><li>'duration'</li><li>'amount'</li><li>'employed'</li><li>'perc_income'</li><li>'resid'</li><li>'age'</li><li>'other_credit'</li><li>'housing'</li><li>'n_loans'</li><li>'job'</li><li>'depend'</li><li>'phone'</li><li>'default'</li></ol>\n"
      ],
      "text/latex": [
       "\\begin{enumerate*}\n",
       "\\item 'check'\n",
       "\\item 'savings'\n",
       "\\item 'history'\n",
       "\\item 'purpose'\n",
       "\\item 'duration'\n",
       "\\item 'amount'\n",
       "\\item 'employed'\n",
       "\\item 'perc\\_income'\n",
       "\\item 'resid'\n",
       "\\item 'age'\n",
       "\\item 'other\\_credit'\n",
       "\\item 'housing'\n",
       "\\item 'n\\_loans'\n",
       "\\item 'job'\n",
       "\\item 'depend'\n",
       "\\item 'phone'\n",
       "\\item 'default'\n",
       "\\end{enumerate*}\n"
      ],
      "text/markdown": [
       "1. 'check'\n",
       "2. 'savings'\n",
       "3. 'history'\n",
       "4. 'purpose'\n",
       "5. 'duration'\n",
       "6. 'amount'\n",
       "7. 'employed'\n",
       "8. 'perc_income'\n",
       "9. 'resid'\n",
       "10. 'age'\n",
       "11. 'other_credit'\n",
       "12. 'housing'\n",
       "13. 'n_loans'\n",
       "14. 'job'\n",
       "15. 'depend'\n",
       "16. 'phone'\n",
       "17. 'default'\n",
       "\n",
       "\n"
      ],
      "text/plain": [
       " [1] \"check\"        \"savings\"      \"history\"      \"purpose\"      \"duration\"    \n",
       " [6] \"amount\"       \"employed\"     \"perc_income\"  \"resid\"        \"age\"         \n",
       "[11] \"other_credit\" \"housing\"      \"n_loans\"      \"job\"          \"depend\"      \n",
       "[16] \"phone\"        \"default\"     "
      ]
     },
     "metadata": {},
     "output_type": "display_data"
    }
   ],
   "source": [
    "colnames(credit_df)"
   ]
  },
  {
   "cell_type": "code",
   "execution_count": 5,
   "metadata": {},
   "outputs": [
    {
     "data": {
      "text/html": [
       "<table>\n",
       "<caption>A tibble: 6 × 4</caption>\n",
       "<thead>\n",
       "\t<tr><th scope=col>check</th><th scope=col>savings</th><th scope=col>duration</th><th scope=col>default</th></tr>\n",
       "\t<tr><th scope=col>&lt;chr&gt;</th><th scope=col>&lt;chr&gt;</th><th scope=col>&lt;dbl&gt;</th><th scope=col>&lt;chr&gt;</th></tr>\n",
       "</thead>\n",
       "<tbody>\n",
       "\t<tr><td><span style=white-space:pre-wrap>&lt; 0 SEK      </span></td><td><span style=white-space:pre-wrap>unknown    </span></td><td> 6</td><td>no </td></tr>\n",
       "\t<tr><td>1 - 20000 SEK</td><td>&lt; 10000 SEK</td><td>48</td><td>yes</td></tr>\n",
       "\t<tr><td><span style=white-space:pre-wrap>unknown      </span></td><td>&lt; 10000 SEK</td><td>12</td><td>no </td></tr>\n",
       "\t<tr><td><span style=white-space:pre-wrap>&lt; 0 SEK      </span></td><td>&lt; 10000 SEK</td><td>42</td><td>no </td></tr>\n",
       "\t<tr><td><span style=white-space:pre-wrap>&lt; 0 SEK      </span></td><td>&lt; 10000 SEK</td><td>24</td><td>yes</td></tr>\n",
       "\t<tr><td>unknown      </td><td>unknown    </td><td>36</td><td>no </td></tr>\n",
       "</tbody>\n",
       "</table>\n"
      ],
      "text/latex": [
       "A tibble: 6 × 4\n",
       "\\begin{tabular}{llll}\n",
       " check & savings & duration & default\\\\\n",
       " <chr> & <chr> & <dbl> & <chr>\\\\\n",
       "\\hline\n",
       "\t < 0 SEK       & unknown     &  6 & no \\\\\n",
       "\t 1 - 20000 SEK & < 10000 SEK & 48 & yes\\\\\n",
       "\t unknown       & < 10000 SEK & 12 & no \\\\\n",
       "\t < 0 SEK       & < 10000 SEK & 42 & no \\\\\n",
       "\t < 0 SEK       & < 10000 SEK & 24 & yes\\\\\n",
       "\t unknown       & unknown     & 36 & no \\\\\n",
       "\\end{tabular}\n"
      ],
      "text/markdown": [
       "\n",
       "A tibble: 6 × 4\n",
       "\n",
       "| check &lt;chr&gt; | savings &lt;chr&gt; | duration &lt;dbl&gt; | default &lt;chr&gt; |\n",
       "|---|---|---|---|\n",
       "| &lt; 0 SEK       | unknown     |  6 | no  |\n",
       "| 1 - 20000 SEK | &lt; 10000 SEK | 48 | yes |\n",
       "| unknown       | &lt; 10000 SEK | 12 | no  |\n",
       "| &lt; 0 SEK       | &lt; 10000 SEK | 42 | no  |\n",
       "| &lt; 0 SEK       | &lt; 10000 SEK | 24 | yes |\n",
       "| unknown       | unknown     | 36 | no  |\n",
       "\n"
      ],
      "text/plain": [
       "  check         savings     duration default\n",
       "1 < 0 SEK       unknown      6       no     \n",
       "2 1 - 20000 SEK < 10000 SEK 48       yes    \n",
       "3 unknown       < 10000 SEK 12       no     \n",
       "4 < 0 SEK       < 10000 SEK 42       no     \n",
       "5 < 0 SEK       < 10000 SEK 24       yes    \n",
       "6 unknown       unknown     36       no     "
      ]
     },
     "metadata": {},
     "output_type": "display_data"
    }
   ],
   "source": [
    "simple_df <- select(credit_df, check,savings,duration,default)\n",
    "head(simple_df)"
   ]
  },
  {
   "cell_type": "code",
   "execution_count": 6,
   "metadata": {},
   "outputs": [
    {
     "data": {
      "text/html": [
       "<table>\n",
       "<caption>A tibble: 6 × 4</caption>\n",
       "<thead>\n",
       "\t<tr><th scope=col>check</th><th scope=col>savings</th><th scope=col>duration</th><th scope=col>default</th></tr>\n",
       "\t<tr><th scope=col>&lt;fct&gt;</th><th scope=col>&lt;fct&gt;</th><th scope=col>&lt;dbl&gt;</th><th scope=col>&lt;fct&gt;</th></tr>\n",
       "</thead>\n",
       "<tbody>\n",
       "\t<tr><td><span style=white-space:pre-wrap>&lt; 0 SEK      </span></td><td><span style=white-space:pre-wrap>unknown    </span></td><td> 6</td><td>no </td></tr>\n",
       "\t<tr><td>1 - 20000 SEK</td><td>&lt; 10000 SEK</td><td>48</td><td>yes</td></tr>\n",
       "\t<tr><td><span style=white-space:pre-wrap>unknown      </span></td><td>&lt; 10000 SEK</td><td>12</td><td>no </td></tr>\n",
       "\t<tr><td><span style=white-space:pre-wrap>&lt; 0 SEK      </span></td><td>&lt; 10000 SEK</td><td>42</td><td>no </td></tr>\n",
       "\t<tr><td><span style=white-space:pre-wrap>&lt; 0 SEK      </span></td><td>&lt; 10000 SEK</td><td>24</td><td>yes</td></tr>\n",
       "\t<tr><td>unknown      </td><td>unknown    </td><td>36</td><td>no </td></tr>\n",
       "</tbody>\n",
       "</table>\n"
      ],
      "text/latex": [
       "A tibble: 6 × 4\n",
       "\\begin{tabular}{llll}\n",
       " check & savings & duration & default\\\\\n",
       " <fct> & <fct> & <dbl> & <fct>\\\\\n",
       "\\hline\n",
       "\t < 0 SEK       & unknown     &  6 & no \\\\\n",
       "\t 1 - 20000 SEK & < 10000 SEK & 48 & yes\\\\\n",
       "\t unknown       & < 10000 SEK & 12 & no \\\\\n",
       "\t < 0 SEK       & < 10000 SEK & 42 & no \\\\\n",
       "\t < 0 SEK       & < 10000 SEK & 24 & yes\\\\\n",
       "\t unknown       & unknown     & 36 & no \\\\\n",
       "\\end{tabular}\n"
      ],
      "text/markdown": [
       "\n",
       "A tibble: 6 × 4\n",
       "\n",
       "| check &lt;fct&gt; | savings &lt;fct&gt; | duration &lt;dbl&gt; | default &lt;fct&gt; |\n",
       "|---|---|---|---|\n",
       "| &lt; 0 SEK       | unknown     |  6 | no  |\n",
       "| 1 - 20000 SEK | &lt; 10000 SEK | 48 | yes |\n",
       "| unknown       | &lt; 10000 SEK | 12 | no  |\n",
       "| &lt; 0 SEK       | &lt; 10000 SEK | 42 | no  |\n",
       "| &lt; 0 SEK       | &lt; 10000 SEK | 24 | yes |\n",
       "| unknown       | unknown     | 36 | no  |\n",
       "\n"
      ],
      "text/plain": [
       "  check         savings     duration default\n",
       "1 < 0 SEK       unknown      6       no     \n",
       "2 1 - 20000 SEK < 10000 SEK 48       yes    \n",
       "3 unknown       < 10000 SEK 12       no     \n",
       "4 < 0 SEK       < 10000 SEK 42       no     \n",
       "5 < 0 SEK       < 10000 SEK 24       yes    \n",
       "6 unknown       unknown     36       no     "
      ]
     },
     "metadata": {},
     "output_type": "display_data"
    }
   ],
   "source": [
    "# Change to factors\n",
    "\n",
    "simple_df$check <- as.factor(simple_df$check)\n",
    "simple_df$savings <- as.factor(simple_df$savings)\n",
    "simple_df$default <- as.factor(simple_df$default)\n",
    "head(simple_df)"
   ]
  },
  {
   "cell_type": "code",
   "execution_count": 7,
   "metadata": {},
   "outputs": [
    {
     "name": "stderr",
     "output_type": "stream",
     "text": [
      "Registered S3 method overwritten by 'GGally':\n",
      "  method from   \n",
      "  +.gg   ggplot2\n",
      "\n",
      "`stat_bin()` using `bins = 30`. Pick better value with `binwidth`.\n",
      "\n",
      "`stat_bin()` using `bins = 30`. Pick better value with `binwidth`.\n",
      "\n",
      "`stat_bin()` using `bins = 30`. Pick better value with `binwidth`.\n",
      "\n"
     ]
    },
    {
     "data": {
      "image/png": "[encoded data removed]",
      "text/plain": [
       "plot without title"
      ]
     },
     "metadata": {
      "image/png": {
       "height": 720,
       "width": 720
      }
     },
     "output_type": "display_data"
    }
   ],
   "source": [
    "GGally::ggpairs(select(simple_df, check:default), mapping = aes(color=default))"
   ]
  },
  {
   "cell_type": "code",
   "execution_count": 8,
   "metadata": {},
   "outputs": [
    {
     "data": {
      "text/html": [
       "<table>\n",
       "<caption>A tibble: 6 × 5</caption>\n",
       "<thead>\n",
       "\t<tr><th scope=col>check</th><th scope=col>savings</th><th scope=col>duration</th><th scope=col>default</th><th scope=col>dur_pred</th></tr>\n",
       "\t<tr><th scope=col>&lt;fct&gt;</th><th scope=col>&lt;fct&gt;</th><th scope=col>&lt;dbl&gt;</th><th scope=col>&lt;fct&gt;</th><th scope=col>&lt;fct&gt;</th></tr>\n",
       "</thead>\n",
       "<tbody>\n",
       "\t<tr><td><span style=white-space:pre-wrap>&lt; 0 SEK      </span></td><td><span style=white-space:pre-wrap>unknown    </span></td><td> 6</td><td>no </td><td>no </td></tr>\n",
       "\t<tr><td>1 - 20000 SEK</td><td>&lt; 10000 SEK</td><td>48</td><td>yes</td><td>yes</td></tr>\n",
       "\t<tr><td><span style=white-space:pre-wrap>unknown      </span></td><td>&lt; 10000 SEK</td><td>12</td><td>no </td><td>no </td></tr>\n",
       "\t<tr><td><span style=white-space:pre-wrap>&lt; 0 SEK      </span></td><td>&lt; 10000 SEK</td><td>42</td><td>no </td><td>yes</td></tr>\n",
       "\t<tr><td><span style=white-space:pre-wrap>&lt; 0 SEK      </span></td><td>&lt; 10000 SEK</td><td>24</td><td>yes</td><td>no </td></tr>\n",
       "\t<tr><td>unknown      </td><td>unknown    </td><td>36</td><td>no </td><td>yes</td></tr>\n",
       "</tbody>\n",
       "</table>\n"
      ],
      "text/latex": [
       "A tibble: 6 × 5\n",
       "\\begin{tabular}{lllll}\n",
       " check & savings & duration & default & dur\\_pred\\\\\n",
       " <fct> & <fct> & <dbl> & <fct> & <fct>\\\\\n",
       "\\hline\n",
       "\t < 0 SEK       & unknown     &  6 & no  & no \\\\\n",
       "\t 1 - 20000 SEK & < 10000 SEK & 48 & yes & yes\\\\\n",
       "\t unknown       & < 10000 SEK & 12 & no  & no \\\\\n",
       "\t < 0 SEK       & < 10000 SEK & 42 & no  & yes\\\\\n",
       "\t < 0 SEK       & < 10000 SEK & 24 & yes & no \\\\\n",
       "\t unknown       & unknown     & 36 & no  & yes\\\\\n",
       "\\end{tabular}\n"
      ],
      "text/markdown": [
       "\n",
       "A tibble: 6 × 5\n",
       "\n",
       "| check &lt;fct&gt; | savings &lt;fct&gt; | duration &lt;dbl&gt; | default &lt;fct&gt; | dur_pred &lt;fct&gt; |\n",
       "|---|---|---|---|---|\n",
       "| &lt; 0 SEK       | unknown     |  6 | no  | no  |\n",
       "| 1 - 20000 SEK | &lt; 10000 SEK | 48 | yes | yes |\n",
       "| unknown       | &lt; 10000 SEK | 12 | no  | no  |\n",
       "| &lt; 0 SEK       | &lt; 10000 SEK | 42 | no  | yes |\n",
       "| &lt; 0 SEK       | &lt; 10000 SEK | 24 | yes | no  |\n",
       "| unknown       | unknown     | 36 | no  | yes |\n",
       "\n"
      ],
      "text/plain": [
       "  check         savings     duration default dur_pred\n",
       "1 < 0 SEK       unknown      6       no      no      \n",
       "2 1 - 20000 SEK < 10000 SEK 48       yes     yes     \n",
       "3 unknown       < 10000 SEK 12       no      no      \n",
       "4 < 0 SEK       < 10000 SEK 42       no      yes     \n",
       "5 < 0 SEK       < 10000 SEK 24       yes     no      \n",
       "6 unknown       unknown     36       no      yes     "
      ]
     },
     "metadata": {},
     "output_type": "display_data"
    }
   ],
   "source": [
    "simple_df$dur_pred <- factor(ifelse(simple_df$duration >= 35,\"yes\",\"no\"))\n",
    "head(simple_df)"
   ]
  },
  {
   "cell_type": "code",
   "execution_count": 9,
   "metadata": {
    "scrolled": false
   },
   "outputs": [
    {
     "data": {
      "text/plain": [
       "         actual\n",
       "predicted  no yes\n",
       "      no  612 218\n",
       "      yes  88  82"
      ]
     },
     "metadata": {},
     "output_type": "display_data"
    }
   ],
   "source": [
    "x <- table(simple_df$dur_pred,simple_df$default, dnn=c(\"predicted\",\"actual\"))\n",
    "x"
   ]
  },
  {
   "cell_type": "code",
   "execution_count": 10,
   "metadata": {},
   "outputs": [
    {
     "data": {
      "text/html": [
       "0.694"
      ],
      "text/latex": [
       "0.694"
      ],
      "text/markdown": [
       "0.694"
      ],
      "text/plain": [
       "[1] 0.694"
      ]
     },
     "metadata": {},
     "output_type": "display_data"
    }
   ],
   "source": [
    "acc <- (x[1,1]+x[2,2])/sum(x)\n",
    "acc"
   ]
  },
  {
   "cell_type": "markdown",
   "metadata": {},
   "source": [
    "Marginal Frequencies"
   ]
  },
  {
   "cell_type": "code",
   "execution_count": 11,
   "metadata": {
    "scrolled": true
   },
   "outputs": [
    {
     "data": {
      "text/plain": [
       "predicted\n",
       " no yes \n",
       "830 170 "
      ]
     },
     "metadata": {},
     "output_type": "display_data"
    }
   ],
   "source": [
    "margin.table(x,1) # Row marginal frequencies"
   ]
  },
  {
   "cell_type": "code",
   "execution_count": 12,
   "metadata": {},
   "outputs": [
    {
     "data": {
      "text/plain": [
       "actual\n",
       " no yes \n",
       "700 300 "
      ]
     },
     "metadata": {},
     "output_type": "display_data"
    }
   ],
   "source": [
    "margin.table(x,2) # Column marginal frequencies"
   ]
  },
  {
   "cell_type": "code",
   "execution_count": 13,
   "metadata": {
    "scrolled": true
   },
   "outputs": [
    {
     "data": {
      "text/plain": [
       "         actual\n",
       "predicted    no   yes\n",
       "      no  0.737 0.263\n",
       "      yes 0.518 0.482"
      ]
     },
     "metadata": {},
     "output_type": "display_data"
    }
   ],
   "source": [
    "round(prop.table(x,1),3) # Row %"
   ]
  },
  {
   "cell_type": "code",
   "execution_count": 14,
   "metadata": {
    "scrolled": true
   },
   "outputs": [
    {
     "data": {
      "text/plain": [
       "         actual\n",
       "predicted    no   yes\n",
       "      no  0.874 0.727\n",
       "      yes 0.126 0.273"
      ]
     },
     "metadata": {},
     "output_type": "display_data"
    }
   ],
   "source": [
    "round(prop.table(x,2),3) # Column %"
   ]
  },
  {
   "cell_type": "code",
   "execution_count": 15,
   "metadata": {},
   "outputs": [
    {
     "data": {
      "text/plain": [
       "         actual\n",
       "predicted    no   yes\n",
       "      no  0.612 0.218\n",
       "      yes 0.088 0.082"
      ]
     },
     "metadata": {},
     "output_type": "display_data"
    }
   ],
   "source": [
    "round(prop.table(x),3) # Cell %"
   ]
  },
  {
   "cell_type": "code",
   "execution_count": 16,
   "metadata": {
    "scrolled": false
   },
   "outputs": [
    {
     "name": "stdout",
     "output_type": "stream",
     "text": [
      "\n",
      " \n",
      "   Cell Contents\n",
      "|-------------------------|\n",
      "|                       N |\n",
      "|           N / Row Total |\n",
      "|           N / Col Total |\n",
      "|         N / Table Total |\n",
      "|-------------------------|\n",
      "\n",
      " \n",
      "Total Observations in Table:  1000 \n",
      "\n",
      " \n",
      "                   | simple_df$default \n",
      "simple_df$dur_pred |        no |       yes | Row Total | \n",
      "-------------------|-----------|-----------|-----------|\n",
      "                no |       612 |       218 |       830 | \n",
      "                   |     0.737 |     0.263 |     0.830 | \n",
      "                   |     0.874 |     0.727 |           | \n",
      "                   |     0.612 |     0.218 |           | \n",
      "-------------------|-----------|-----------|-----------|\n",
      "               yes |        88 |        82 |       170 | \n",
      "                   |     0.518 |     0.482 |     0.170 | \n",
      "                   |     0.126 |     0.273 |           | \n",
      "                   |     0.088 |     0.082 |           | \n",
      "-------------------|-----------|-----------|-----------|\n",
      "      Column Total |       700 |       300 |      1000 | \n",
      "                   |     0.700 |     0.300 |           | \n",
      "-------------------|-----------|-----------|-----------|\n",
      "\n",
      " \n"
     ]
    }
   ],
   "source": [
    "gmodels::CrossTable(x= simple_df$dur_pred,y= simple_df$default, prop.chisq = F)"
   ]
  },
  {
   "cell_type": "markdown",
   "metadata": {},
   "source": [
    "Chi-square Test of the Table"
   ]
  },
  {
   "cell_type": "code",
   "execution_count": 17,
   "metadata": {
    "scrolled": true
   },
   "outputs": [
    {
     "data": {
      "text/plain": [
       "\n",
       "\tPearson's Chi-squared test with Yates' continuity correction\n",
       "\n",
       "data:  x\n",
       "X-squared = 31.394, df = 1, p-value = 2.106e-08\n"
      ]
     },
     "metadata": {},
     "output_type": "display_data"
    }
   ],
   "source": [
    "chisq.test(x)"
   ]
  },
  {
   "cell_type": "code",
   "execution_count": 18,
   "metadata": {
    "scrolled": false
   },
   "outputs": [
    {
     "data": {
      "text/plain": [
       "Confusion Matrix and Statistics\n",
       "\n",
       "         actual\n",
       "predicted  no yes\n",
       "      no  612 218\n",
       "      yes  88  82\n",
       "                                          \n",
       "               Accuracy : 0.694           \n",
       "                 95% CI : (0.6644, 0.7225)\n",
       "    No Information Rate : 0.7             \n",
       "    P-Value [Acc > NIR] : 0.6744          \n",
       "                                          \n",
       "                  Kappa : 0.1685          \n",
       "                                          \n",
       " Mcnemar's Test P-Value : 1.65e-13        \n",
       "                                          \n",
       "            Sensitivity : 0.8743          \n",
       "            Specificity : 0.2733          \n",
       "         Pos Pred Value : 0.7373          \n",
       "         Neg Pred Value : 0.4824          \n",
       "             Prevalence : 0.7000          \n",
       "         Detection Rate : 0.6120          \n",
       "   Detection Prevalence : 0.8300          \n",
       "      Balanced Accuracy : 0.5738          \n",
       "                                          \n",
       "       'Positive' Class : no              \n",
       "                                          "
      ]
     },
     "metadata": {},
     "output_type": "display_data"
    }
   ],
   "source": [
    "caret::confusionMatrix(simple_df$dur_pred,simple_df$default,dnn=c(\"predicted\",\"actual\") )"
   ]
  },
  {
   "cell_type": "markdown",
   "metadata": {},
   "source": [
    "![Alt text](./Data/confMat.jpeg)"
   ]
  },
  {
   "cell_type": "code",
   "execution_count": 19,
   "metadata": {},
   "outputs": [],
   "source": [
    "mod <- glm(default~duration, family =binomial(link = \"logit\"), data=simple_df)"
   ]
  },
  {
   "cell_type": "code",
   "execution_count": 20,
   "metadata": {},
   "outputs": [
    {
     "data": {
      "text/plain": [
       "\n",
       "Call:\n",
       "glm(formula = default ~ duration, family = binomial(link = \"logit\"), \n",
       "    data = simple_df)\n",
       "\n",
       "Deviance Residuals: \n",
       "    Min       1Q   Median       3Q      Max  \n",
       "-1.4342  -0.8740  -0.7206   1.3138   1.8185  \n",
       "\n",
       "Coefficients:\n",
       "             Estimate Std. Error z value Pr(>|z|)    \n",
       "(Intercept) -1.666351   0.146615 -11.365  < 2e-16 ***\n",
       "duration     0.037538   0.005703   6.582 4.63e-11 ***\n",
       "---\n",
       "Signif. codes:  0 '***' 0.001 '**' 0.01 '*' 0.05 '.' 0.1 ' ' 1\n",
       "\n",
       "(Dispersion parameter for binomial family taken to be 1)\n",
       "\n",
       "    Null deviance: 1221.7  on 999  degrees of freedom\n",
       "Residual deviance: 1177.1  on 998  degrees of freedom\n",
       "AIC: 1181.1\n",
       "\n",
       "Number of Fisher Scoring iterations: 4\n"
      ]
     },
     "metadata": {},
     "output_type": "display_data"
    }
   ],
   "source": [
    "summary(mod)"
   ]
  },
  {
   "cell_type": "code",
   "execution_count": 21,
   "metadata": {},
   "outputs": [],
   "source": [
    "p <- predict(mod)"
   ]
  },
  {
   "cell_type": "code",
   "execution_count": 22,
   "metadata": {},
   "outputs": [
    {
     "data": {
      "text/plain": [
       "   Min. 1st Qu.  Median    Mean 3rd Qu.    Max. \n",
       "-1.5162 -1.2159 -0.9907 -0.8817 -0.7654  1.0364 "
      ]
     },
     "metadata": {},
     "output_type": "display_data"
    }
   ],
   "source": [
    "summary(p)"
   ]
  },
  {
   "cell_type": "code",
   "execution_count": 23,
   "metadata": {},
   "outputs": [
    {
     "data": {
      "text/plain": [
       "p_class\n",
       " no yes \n",
       "936  64 "
      ]
     },
     "metadata": {},
     "output_type": "display_data"
    }
   ],
   "source": [
    "p_class <- factor(ifelse(p>0.1, \"yes\", \"no\"))\n",
    "table(p_class)"
   ]
  },
  {
   "cell_type": "code",
   "execution_count": 24,
   "metadata": {},
   "outputs": [
    {
     "data": {
      "text/plain": [
       "         actual\n",
       "predicted  no yes\n",
       "      no  672 264\n",
       "      yes  28  36"
      ]
     },
     "metadata": {},
     "output_type": "display_data"
    }
   ],
   "source": [
    "table(p_class, simple_df$default, dnn=c(\"predicted\",\"actual\"))"
   ]
  },
  {
   "cell_type": "code",
   "execution_count": 25,
   "metadata": {},
   "outputs": [
    {
     "data": {
      "text/plain": [
       "Confusion Matrix and Statistics\n",
       "\n",
       "          Reference\n",
       "Prediction  no yes\n",
       "       no  672 264\n",
       "       yes  28  36\n",
       "                                         \n",
       "               Accuracy : 0.708          \n",
       "                 95% CI : (0.6787, 0.736)\n",
       "    No Information Rate : 0.7            \n",
       "    P-Value [Acc > NIR] : 0.3036         \n",
       "                                         \n",
       "                  Kappa : 0.1032         \n",
       "                                         \n",
       " Mcnemar's Test P-Value : <2e-16         \n",
       "                                         \n",
       "            Sensitivity : 0.9600         \n",
       "            Specificity : 0.1200         \n",
       "         Pos Pred Value : 0.7179         \n",
       "         Neg Pred Value : 0.5625         \n",
       "             Prevalence : 0.7000         \n",
       "         Detection Rate : 0.6720         \n",
       "   Detection Prevalence : 0.9360         \n",
       "      Balanced Accuracy : 0.5400         \n",
       "                                         \n",
       "       'Positive' Class : no             \n",
       "                                         "
      ]
     },
     "metadata": {},
     "output_type": "display_data"
    }
   ],
   "source": [
    "caret::confusionMatrix(p_class, simple_df[[\"default\"]])"
   ]
  },
  {
   "cell_type": "code",
   "execution_count": 26,
   "metadata": {},
   "outputs": [
    {
     "data": {
      "text/html": [
       "<style>\n",
       ".list-inline {list-style: none; margin:0; padding: 0}\n",
       ".list-inline>li {display: inline-block}\n",
       ".list-inline>li:not(:last-child)::after {content: \"\\00b7\"; padding: 0 .5ex}\n",
       "</style>\n",
       "<ol class=list-inline><li>'check'</li><li>'savings'</li><li>'duration'</li><li>'default'</li><li>'dur_pred'</li></ol>\n"
      ],
      "text/latex": [
       "\\begin{enumerate*}\n",
       "\\item 'check'\n",
       "\\item 'savings'\n",
       "\\item 'duration'\n",
       "\\item 'default'\n",
       "\\item 'dur\\_pred'\n",
       "\\end{enumerate*}\n"
      ],
      "text/markdown": [
       "1. 'check'\n",
       "2. 'savings'\n",
       "3. 'duration'\n",
       "4. 'default'\n",
       "5. 'dur_pred'\n",
       "\n",
       "\n"
      ],
      "text/plain": [
       "[1] \"check\"    \"savings\"  \"duration\" \"default\"  \"dur_pred\""
      ]
     },
     "metadata": {},
     "output_type": "display_data"
    }
   ],
   "source": [
    "colnames(simple_df)"
   ]
  },
  {
   "cell_type": "code",
   "execution_count": 27,
   "metadata": {},
   "outputs": [
    {
     "data": {
      "text/plain": [
       "\n",
       "Call:\n",
       "glm(formula = default ~ duration + check + savings, family = binomial(link = \"logit\"), \n",
       "    data = simple_df)\n",
       "\n",
       "Deviance Residuals: \n",
       "    Min       1Q   Median       3Q      Max  \n",
       "-1.6793  -0.8413  -0.4751   0.9414   2.5235  \n",
       "\n",
       "Coefficients:\n",
       "                           Estimate Std. Error z value Pr(>|z|)    \n",
       "(Intercept)               -0.729609   0.181524  -4.019 5.84e-05 ***\n",
       "duration                   0.038745   0.006284   6.165 7.03e-10 ***\n",
       "check> 20000 SEK          -1.056790   0.334928  -3.155 0.001603 ** \n",
       "check1 - 20000 SEK        -0.411894   0.185635  -2.219 0.026498 *  \n",
       "checkunknown              -1.860026   0.207133  -8.980  < 2e-16 ***\n",
       "savings> 100000 SEK       -1.016961   0.465378  -2.185 0.028871 *  \n",
       "savings10000 - 50000 SEK  -0.070301   0.253174  -0.278 0.781258    \n",
       "savings50000 - 100000 SEK -0.459951   0.366495  -1.255 0.209479    \n",
       "savingsunknown            -0.805320   0.231038  -3.486 0.000491 ***\n",
       "---\n",
       "Signif. codes:  0 '***' 0.001 '**' 0.01 '*' 0.05 '.' 0.1 ' ' 1\n",
       "\n",
       "(Dispersion parameter for binomial family taken to be 1)\n",
       "\n",
       "    Null deviance: 1221.7  on 999  degrees of freedom\n",
       "Residual deviance: 1033.9  on 991  degrees of freedom\n",
       "AIC: 1051.9\n",
       "\n",
       "Number of Fisher Scoring iterations: 4\n"
      ]
     },
     "metadata": {},
     "output_type": "display_data"
    }
   ],
   "source": [
    "#mod <- glm(default~ as.factor(check) + as.factor(savings) + duration, data=simple_df)\n",
    "#summary(mod)\n",
    "\n",
    "mod <- glm(default~duration+check+savings, family =binomial(link = \"logit\"), data=simple_df)\n",
    "summary(mod)"
   ]
  },
  {
   "cell_type": "code",
   "execution_count": 28,
   "metadata": {},
   "outputs": [
    {
     "data": {
      "text/plain": [
       "   Min. 1st Qu.  Median    Mean 3rd Qu.    Max. \n",
       "-3.3741 -2.0001 -0.9571 -1.0624 -0.2597  1.5951 "
      ]
     },
     "metadata": {},
     "output_type": "display_data"
    }
   ],
   "source": [
    "p <- predict(mod)\n",
    "summary(p)"
   ]
  },
  {
   "cell_type": "code",
   "execution_count": 29,
   "metadata": {},
   "outputs": [
    {
     "data": {
      "text/plain": [
       "p_class\n",
       " no yes \n",
       "917  83 "
      ]
     },
     "metadata": {},
     "output_type": "display_data"
    }
   ],
   "source": [
    "p_class <- factor(ifelse(p>0.3, \"yes\", \"no\"))\n",
    "table(p_class)"
   ]
  },
  {
   "cell_type": "code",
   "execution_count": 31,
   "metadata": {},
   "outputs": [
    {
     "name": "stderr",
     "output_type": "stream",
     "text": [
      "Installing package into 'C:/Users/woosh/Documents/R/win-library/4.0'\n",
      "(as 'lib' is unspecified)\n",
      "\n"
     ]
    },
    {
     "name": "stdout",
     "output_type": "stream",
     "text": [
      "package 'gmodels' successfully unpacked and MD5 sums checked\n",
      "\n",
      "The downloaded binary packages are in\n",
      "\tC:\\Users\\woosh\\AppData\\Local\\Temp\\RtmpsZwB5W\\downloaded_packages\n"
     ]
    }
   ],
   "source": [
    "#install.packages(\"gmodels\")"
   ]
  },
  {
   "cell_type": "code",
   "execution_count": 32,
   "metadata": {},
   "outputs": [
    {
     "name": "stdout",
     "output_type": "stream",
     "text": [
      "\n",
      " \n",
      "   Cell Contents\n",
      "|-------------------------|\n",
      "|                       N |\n",
      "| Chi-square contribution |\n",
      "|           N / Row Total |\n",
      "|           N / Col Total |\n",
      "|         N / Table Total |\n",
      "|-------------------------|\n",
      "\n",
      " \n",
      "Total Observations in Table:  1000 \n",
      "\n",
      " \n",
      "             | actual \n",
      "   predicted |        no |       yes | Row Total | \n",
      "-------------|-----------|-----------|-----------|\n",
      "          no |       674 |       243 |       917 | \n",
      "             |     1.605 |     3.746 |           | \n",
      "             |     0.735 |     0.265 |     0.917 | \n",
      "             |     0.963 |     0.810 |           | \n",
      "             |     0.674 |     0.243 |           | \n",
      "-------------|-----------|-----------|-----------|\n",
      "         yes |        26 |        57 |        83 | \n",
      "             |    17.735 |    41.382 |           | \n",
      "             |     0.313 |     0.687 |     0.083 | \n",
      "             |     0.037 |     0.190 |           | \n",
      "             |     0.026 |     0.057 |           | \n",
      "-------------|-----------|-----------|-----------|\n",
      "Column Total |       700 |       300 |      1000 | \n",
      "             |     0.700 |     0.300 |           | \n",
      "-------------|-----------|-----------|-----------|\n",
      "\n",
      " \n"
     ]
    }
   ],
   "source": [
    "gmodels::CrossTable(p_class, simple_df$default, dnn=c(\"predicted\",\"actual\"))"
   ]
  },
  {
   "cell_type": "code",
   "execution_count": 33,
   "metadata": {},
   "outputs": [
    {
     "data": {
      "text/plain": [
       "Confusion Matrix and Statistics\n",
       "\n",
       "          Reference\n",
       "Prediction  no yes\n",
       "       no  674 243\n",
       "       yes  26  57\n",
       "                                          \n",
       "               Accuracy : 0.731           \n",
       "                 95% CI : (0.7024, 0.7583)\n",
       "    No Information Rate : 0.7             \n",
       "    P-Value [Acc > NIR] : 0.01694         \n",
       "                                          \n",
       "                  Kappa : 0.1927          \n",
       "                                          \n",
       " Mcnemar's Test P-Value : < 2e-16         \n",
       "                                          \n",
       "            Sensitivity : 0.9629          \n",
       "            Specificity : 0.1900          \n",
       "         Pos Pred Value : 0.7350          \n",
       "         Neg Pred Value : 0.6867          \n",
       "             Prevalence : 0.7000          \n",
       "         Detection Rate : 0.6740          \n",
       "   Detection Prevalence : 0.9170          \n",
       "      Balanced Accuracy : 0.5764          \n",
       "                                          \n",
       "       'Positive' Class : no              \n",
       "                                          "
      ]
     },
     "metadata": {},
     "output_type": "display_data"
    }
   ],
   "source": [
    "caret::confusionMatrix(p_class, simple_df[[\"default\"]])"
   ]
  },
  {
   "cell_type": "code",
   "execution_count": 35,
   "metadata": {},
   "outputs": [
    {
     "name": "stdout",
     "output_type": "stream",
     "text": [
      "\n",
      " \n",
      "   Cell Contents\n",
      "|-------------------------|\n",
      "|                       N |\n",
      "| Chi-square contribution |\n",
      "|           N / Row Total |\n",
      "|           N / Col Total |\n",
      "|         N / Table Total |\n",
      "|-------------------------|\n",
      "\n",
      " \n",
      "Total Observations in Table:  1000 \n",
      "\n",
      " \n",
      "             | actual \n",
      "   predicted |        no |       yes | Row Total | \n",
      "-------------|-----------|-----------|-----------|\n",
      "          no |       644 |       207 |       851 | \n",
      "             |     3.916 |     9.138 |           | \n",
      "             |     0.757 |     0.243 |     0.851 | \n",
      "             |     0.920 |     0.690 |           | \n",
      "             |     0.644 |     0.207 |           | \n",
      "-------------|-----------|-----------|-----------|\n",
      "         yes |        56 |        93 |       149 | \n",
      "             |    22.367 |    52.190 |           | \n",
      "             |     0.376 |     0.624 |     0.149 | \n",
      "             |     0.080 |     0.310 |           | \n",
      "             |     0.056 |     0.093 |           | \n",
      "-------------|-----------|-----------|-----------|\n",
      "Column Total |       700 |       300 |      1000 | \n",
      "             |     0.700 |     0.300 |           | \n",
      "-------------|-----------|-----------|-----------|\n",
      "\n",
      " \n"
     ]
    },
    {
     "data": {
      "text/plain": [
       "Confusion Matrix and Statistics\n",
       "\n",
       "          Reference\n",
       "Prediction  no yes\n",
       "       no  644 207\n",
       "       yes  56  93\n",
       "                                          \n",
       "               Accuracy : 0.737           \n",
       "                 95% CI : (0.7085, 0.7641)\n",
       "    No Information Rate : 0.7             \n",
       "    P-Value [Acc > NIR] : 0.005458        \n",
       "                                          \n",
       "                  Kappa : 0.2686          \n",
       "                                          \n",
       " Mcnemar's Test P-Value : < 2.2e-16       \n",
       "                                          \n",
       "            Sensitivity : 0.9200          \n",
       "            Specificity : 0.3100          \n",
       "         Pos Pred Value : 0.7568          \n",
       "         Neg Pred Value : 0.6242          \n",
       "             Prevalence : 0.7000          \n",
       "         Detection Rate : 0.6440          \n",
       "   Detection Prevalence : 0.8510          \n",
       "      Balanced Accuracy : 0.6150          \n",
       "                                          \n",
       "       'Positive' Class : no              \n",
       "                                          "
      ]
     },
     "metadata": {},
     "output_type": "display_data"
    }
   ],
   "source": [
    "p_class <- factor(ifelse(p>0.1, \"yes\", \"no\"))\n",
    "gmodels::CrossTable(p_class, simple_df$default, dnn=c(\"predicted\",\"actual\"))\n",
    "caret::confusionMatrix(p_class, simple_df[[\"default\"]])"
   ]
  },
  {
   "cell_type": "markdown",
   "metadata": {},
   "source": [
    "![Alt text](./Data/confusionMatrix.jpg)"
   ]
  },
  {
   "cell_type": "code",
   "execution_count": 36,
   "metadata": {},
   "outputs": [
    {
     "data": {
      "text/html": [
       "<style>\n",
       ".list-inline {list-style: none; margin:0; padding: 0}\n",
       ".list-inline>li {display: inline-block}\n",
       ".list-inline>li:not(:last-child)::after {content: \"\\00b7\"; padding: 0 .5ex}\n",
       "</style>\n",
       "<ol class=list-inline><li>'check'</li><li>'savings'</li><li>'history'</li><li>'purpose'</li><li>'duration'</li><li>'amount'</li><li>'employed'</li><li>'perc_income'</li><li>'resid'</li><li>'age'</li><li>'other_credit'</li><li>'housing'</li><li>'n_loans'</li><li>'job'</li><li>'depend'</li><li>'phone'</li><li>'default'</li></ol>\n"
      ],
      "text/latex": [
       "\\begin{enumerate*}\n",
       "\\item 'check'\n",
       "\\item 'savings'\n",
       "\\item 'history'\n",
       "\\item 'purpose'\n",
       "\\item 'duration'\n",
       "\\item 'amount'\n",
       "\\item 'employed'\n",
       "\\item 'perc\\_income'\n",
       "\\item 'resid'\n",
       "\\item 'age'\n",
       "\\item 'other\\_credit'\n",
       "\\item 'housing'\n",
       "\\item 'n\\_loans'\n",
       "\\item 'job'\n",
       "\\item 'depend'\n",
       "\\item 'phone'\n",
       "\\item 'default'\n",
       "\\end{enumerate*}\n"
      ],
      "text/markdown": [
       "1. 'check'\n",
       "2. 'savings'\n",
       "3. 'history'\n",
       "4. 'purpose'\n",
       "5. 'duration'\n",
       "6. 'amount'\n",
       "7. 'employed'\n",
       "8. 'perc_income'\n",
       "9. 'resid'\n",
       "10. 'age'\n",
       "11. 'other_credit'\n",
       "12. 'housing'\n",
       "13. 'n_loans'\n",
       "14. 'job'\n",
       "15. 'depend'\n",
       "16. 'phone'\n",
       "17. 'default'\n",
       "\n",
       "\n"
      ],
      "text/plain": [
       " [1] \"check\"        \"savings\"      \"history\"      \"purpose\"      \"duration\"    \n",
       " [6] \"amount\"       \"employed\"     \"perc_income\"  \"resid\"        \"age\"         \n",
       "[11] \"other_credit\" \"housing\"      \"n_loans\"      \"job\"          \"depend\"      \n",
       "[16] \"phone\"        \"default\"     "
      ]
     },
     "metadata": {},
     "output_type": "display_data"
    }
   ],
   "source": [
    "colnames(credit_df)"
   ]
  },
  {
   "cell_type": "code",
   "execution_count": 37,
   "metadata": {},
   "outputs": [
    {
     "data": {
      "text/html": [
       "<table>\n",
       "<caption>A tibble: 3 × 17</caption>\n",
       "<thead>\n",
       "\t<tr><th scope=col>check</th><th scope=col>savings</th><th scope=col>history</th><th scope=col>purpose</th><th scope=col>duration</th><th scope=col>amount</th><th scope=col>employed</th><th scope=col>perc_income</th><th scope=col>resid</th><th scope=col>age</th><th scope=col>other_credit</th><th scope=col>housing</th><th scope=col>n_loans</th><th scope=col>job</th><th scope=col>depend</th><th scope=col>phone</th><th scope=col>default</th></tr>\n",
       "\t<tr><th scope=col>&lt;chr&gt;</th><th scope=col>&lt;chr&gt;</th><th scope=col>&lt;chr&gt;</th><th scope=col>&lt;chr&gt;</th><th scope=col>&lt;dbl&gt;</th><th scope=col>&lt;dbl&gt;</th><th scope=col>&lt;chr&gt;</th><th scope=col>&lt;dbl&gt;</th><th scope=col>&lt;dbl&gt;</th><th scope=col>&lt;dbl&gt;</th><th scope=col>&lt;chr&gt;</th><th scope=col>&lt;chr&gt;</th><th scope=col>&lt;dbl&gt;</th><th scope=col>&lt;chr&gt;</th><th scope=col>&lt;dbl&gt;</th><th scope=col>&lt;chr&gt;</th><th scope=col>&lt;chr&gt;</th></tr>\n",
       "</thead>\n",
       "<tbody>\n",
       "\t<tr><td><span style=white-space:pre-wrap>&lt; 0 SEK      </span></td><td><span style=white-space:pre-wrap>unknown    </span></td><td>critical</td><td>furniture/appliances</td><td> 6</td><td>116900</td><td><span style=white-space:pre-wrap>&gt; 7 years  </span></td><td>4</td><td>4</td><td>67</td><td>none</td><td>own</td><td>2</td><td><span style=white-space:pre-wrap>skilled  </span></td><td>1</td><td>yes</td><td>no </td></tr>\n",
       "\t<tr><td>1 - 20000 SEK</td><td>&lt; 10000 SEK</td><td><span style=white-space:pre-wrap>good    </span></td><td>furniture/appliances</td><td>48</td><td>595100</td><td>1 - 4 years</td><td>2</td><td>2</td><td>22</td><td>none</td><td>own</td><td>1</td><td><span style=white-space:pre-wrap>skilled  </span></td><td>1</td><td>no </td><td>yes</td></tr>\n",
       "\t<tr><td><span style=white-space:pre-wrap>unknown      </span></td><td>&lt; 10000 SEK</td><td>critical</td><td><span style=white-space:pre-wrap>education           </span></td><td>12</td><td>209600</td><td>4 - 7 years</td><td>2</td><td>3</td><td>49</td><td>none</td><td>own</td><td>1</td><td>unskilled</td><td>2</td><td>no </td><td>no </td></tr>\n",
       "</tbody>\n",
       "</table>\n"
      ],
      "text/latex": [
       "A tibble: 3 × 17\n",
       "\\begin{tabular}{lllllllllllllllll}\n",
       " check & savings & history & purpose & duration & amount & employed & perc\\_income & resid & age & other\\_credit & housing & n\\_loans & job & depend & phone & default\\\\\n",
       " <chr> & <chr> & <chr> & <chr> & <dbl> & <dbl> & <chr> & <dbl> & <dbl> & <dbl> & <chr> & <chr> & <dbl> & <chr> & <dbl> & <chr> & <chr>\\\\\n",
       "\\hline\n",
       "\t < 0 SEK       & unknown     & critical & furniture/appliances &  6 & 116900 & > 7 years   & 4 & 4 & 67 & none & own & 2 & skilled   & 1 & yes & no \\\\\n",
       "\t 1 - 20000 SEK & < 10000 SEK & good     & furniture/appliances & 48 & 595100 & 1 - 4 years & 2 & 2 & 22 & none & own & 1 & skilled   & 1 & no  & yes\\\\\n",
       "\t unknown       & < 10000 SEK & critical & education            & 12 & 209600 & 4 - 7 years & 2 & 3 & 49 & none & own & 1 & unskilled & 2 & no  & no \\\\\n",
       "\\end{tabular}\n"
      ],
      "text/markdown": [
       "\n",
       "A tibble: 3 × 17\n",
       "\n",
       "| check &lt;chr&gt; | savings &lt;chr&gt; | history &lt;chr&gt; | purpose &lt;chr&gt; | duration &lt;dbl&gt; | amount &lt;dbl&gt; | employed &lt;chr&gt; | perc_income &lt;dbl&gt; | resid &lt;dbl&gt; | age &lt;dbl&gt; | other_credit &lt;chr&gt; | housing &lt;chr&gt; | n_loans &lt;dbl&gt; | job &lt;chr&gt; | depend &lt;dbl&gt; | phone &lt;chr&gt; | default &lt;chr&gt; |\n",
       "|---|---|---|---|---|---|---|---|---|---|---|---|---|---|---|---|---|\n",
       "| &lt; 0 SEK       | unknown     | critical | furniture/appliances |  6 | 116900 | &gt; 7 years   | 4 | 4 | 67 | none | own | 2 | skilled   | 1 | yes | no  |\n",
       "| 1 - 20000 SEK | &lt; 10000 SEK | good     | furniture/appliances | 48 | 595100 | 1 - 4 years | 2 | 2 | 22 | none | own | 1 | skilled   | 1 | no  | yes |\n",
       "| unknown       | &lt; 10000 SEK | critical | education            | 12 | 209600 | 4 - 7 years | 2 | 3 | 49 | none | own | 1 | unskilled | 2 | no  | no  |\n",
       "\n"
      ],
      "text/plain": [
       "  check         savings     history  purpose              duration amount\n",
       "1 < 0 SEK       unknown     critical furniture/appliances  6       116900\n",
       "2 1 - 20000 SEK < 10000 SEK good     furniture/appliances 48       595100\n",
       "3 unknown       < 10000 SEK critical education            12       209600\n",
       "  employed    perc_income resid age other_credit housing n_loans job      \n",
       "1 > 7 years   4           4     67  none         own     2       skilled  \n",
       "2 1 - 4 years 2           2     22  none         own     1       skilled  \n",
       "3 4 - 7 years 2           3     49  none         own     1       unskilled\n",
       "  depend phone default\n",
       "1 1      yes   no     \n",
       "2 1      no    yes    \n",
       "3 2      no    no     "
      ]
     },
     "metadata": {},
     "output_type": "display_data"
    }
   ],
   "source": [
    "head(credit_df,3)"
   ]
  },
  {
   "cell_type": "code",
   "execution_count": 54,
   "metadata": {},
   "outputs": [
    {
     "data": {
      "text/html": [
       "<style>\n",
       ".list-inline {list-style: none; margin:0; padding: 0}\n",
       ".list-inline>li {display: inline-block}\n",
       ".list-inline>li:not(:last-child)::after {content: \"\\00b7\"; padding: 0 .5ex}\n",
       "</style>\n",
       "<ol class=list-inline><li>'&gt; 7 years'</li><li>'1 - 4 years'</li><li>'4 - 7 years'</li><li>'unemployed'</li><li>'&lt; 1 year'</li></ol>\n"
      ],
      "text/latex": [
       "\\begin{enumerate*}\n",
       "\\item '> 7 years'\n",
       "\\item '1 - 4 years'\n",
       "\\item '4 - 7 years'\n",
       "\\item 'unemployed'\n",
       "\\item '< 1 year'\n",
       "\\end{enumerate*}\n"
      ],
      "text/markdown": [
       "1. '&gt; 7 years'\n",
       "2. '1 - 4 years'\n",
       "3. '4 - 7 years'\n",
       "4. 'unemployed'\n",
       "5. '&lt; 1 year'\n",
       "\n",
       "\n"
      ],
      "text/plain": [
       "[1] \"> 7 years\"   \"1 - 4 years\" \"4 - 7 years\" \"unemployed\"  \"< 1 year\"   "
      ]
     },
     "metadata": {},
     "output_type": "display_data"
    }
   ],
   "source": [
    "unique(credit_df$employed)"
   ]
  },
  {
   "cell_type": "code",
   "execution_count": 73,
   "metadata": {},
   "outputs": [
    {
     "data": {
      "text/html": [
       "<style>\n",
       ".dl-inline {width: auto; margin:0; padding: 0}\n",
       ".dl-inline>dt, .dl-inline>dd {float: none; width: auto; display: inline-block}\n",
       ".dl-inline>dt::after {content: \":\\0020\"; padding-right: .5ex}\n",
       ".dl-inline>dt:not(:first-of-type) {padding-left: .5ex}\n",
       "</style><dl class=dl-inline><dt>check</dt><dd>'factor'</dd><dt>savings</dt><dd>'factor'</dd><dt>history</dt><dd>'factor'</dd><dt>purpose</dt><dd>'factor'</dd><dt>duration</dt><dd>'numeric'</dd><dt>amount</dt><dd>'numeric'</dd><dt>employed</dt><dd>'factor'</dd><dt>perc_income</dt><dd>'numeric'</dd><dt>resid</dt><dd>'numeric'</dd><dt>age</dt><dd>'numeric'</dd><dt>other_credit</dt><dd>'factor'</dd><dt>housing</dt><dd>'factor'</dd><dt>n_loans</dt><dd>'numeric'</dd><dt>job</dt><dd>'factor'</dd><dt>depend</dt><dd>'numeric'</dd><dt>phone</dt><dd>'factor'</dd><dt>default</dt><dd>'factor'</dd></dl>\n"
      ],
      "text/latex": [
       "\\begin{description*}\n",
       "\\item[check] 'factor'\n",
       "\\item[savings] 'factor'\n",
       "\\item[history] 'factor'\n",
       "\\item[purpose] 'factor'\n",
       "\\item[duration] 'numeric'\n",
       "\\item[amount] 'numeric'\n",
       "\\item[employed] 'factor'\n",
       "\\item[perc\\textbackslash{}\\_income] 'numeric'\n",
       "\\item[resid] 'numeric'\n",
       "\\item[age] 'numeric'\n",
       "\\item[other\\textbackslash{}\\_credit] 'factor'\n",
       "\\item[housing] 'factor'\n",
       "\\item[n\\textbackslash{}\\_loans] 'numeric'\n",
       "\\item[job] 'factor'\n",
       "\\item[depend] 'numeric'\n",
       "\\item[phone] 'factor'\n",
       "\\item[default] 'factor'\n",
       "\\end{description*}\n"
      ],
      "text/markdown": [
       "check\n",
       ":   'factor'savings\n",
       ":   'factor'history\n",
       ":   'factor'purpose\n",
       ":   'factor'duration\n",
       ":   'numeric'amount\n",
       ":   'numeric'employed\n",
       ":   'factor'perc_income\n",
       ":   'numeric'resid\n",
       ":   'numeric'age\n",
       ":   'numeric'other_credit\n",
       ":   'factor'housing\n",
       ":   'factor'n_loans\n",
       ":   'numeric'job\n",
       ":   'factor'depend\n",
       ":   'numeric'phone\n",
       ":   'factor'default\n",
       ":   'factor'\n",
       "\n"
      ],
      "text/plain": [
       "       check      savings      history      purpose     duration       amount \n",
       "    \"factor\"     \"factor\"     \"factor\"     \"factor\"    \"numeric\"    \"numeric\" \n",
       "    employed  perc_income        resid          age other_credit      housing \n",
       "    \"factor\"    \"numeric\"    \"numeric\"    \"numeric\"     \"factor\"     \"factor\" \n",
       "     n_loans          job       depend        phone      default \n",
       "   \"numeric\"     \"factor\"    \"numeric\"     \"factor\"     \"factor\" "
      ]
     },
     "metadata": {},
     "output_type": "display_data"
    }
   ],
   "source": [
    "credit_df2$default <- as.factor(credit_df2$default )\n",
    "credit_df2$check <- as.factor(credit_df2$check)\n",
    "credit_df2$savings <- as.factor(credit_df2$savings)\n",
    "credit_df2$history <- as.factor(credit_df2$history)\n",
    "credit_df2$purpose <- as.factor(credit_df2$purpose)\n",
    "credit_df2$employed <- as.factor(credit_df2$employed)\n",
    "credit_df2$other_credit <- as.factor(credit_df2$other_credit)\n",
    "credit_df2$housing <- as.factor(credit_df2$housing)\n",
    "credit_df2$job <- as.factor(credit_df2$job)\n",
    "credit_df2$phone <- as.factor(credit_df2$phone)\n",
    "\n",
    "#sapply(credit_df2,mode)\n",
    "\n",
    "#sapply(credit_df2, class)"
   ]
  },
  {
   "cell_type": "code",
   "execution_count": 81,
   "metadata": {},
   "outputs": [
    {
     "data": {
      "text/plain": [
       "\n",
       "Call:\n",
       "glm(formula = default ~ check + savings + history + purpose + \n",
       "    duration + amount + employed + perc_income + resid + age + \n",
       "    other_credit + housing + n_loans + job + depend + phone, \n",
       "    family = binomial(link = \"logit\"), data = credit_df2)\n",
       "\n",
       "Deviance Residuals: \n",
       "    Min       1Q   Median       3Q      Max  \n",
       "-1.9135  -0.7726  -0.4109   0.8111   2.6446  \n",
       "\n",
       "Coefficients:\n",
       "                              Estimate Std. Error z value Pr(>|z|)    \n",
       "(Intercept)                 -1.510e+00  8.935e-01  -1.690 0.090968 .  \n",
       "check> 20000 SEK            -8.787e-01  3.585e-01  -2.451 0.014241 *  \n",
       "check1 - 20000 SEK          -4.031e-01  2.038e-01  -1.978 0.047943 *  \n",
       "checkunknown                -1.730e+00  2.228e-01  -7.764 8.25e-15 ***\n",
       "savings> 100000 SEK         -1.144e+00  4.999e-01  -2.288 0.022157 *  \n",
       "savings10000 - 50000 SEK    -1.878e-01  2.696e-01  -0.696 0.486134    \n",
       "savings50000 - 100000 SEK   -3.879e-01  3.969e-01  -0.977 0.328374    \n",
       "savingsunknown              -9.154e-01  2.491e-01  -3.675 0.000238 ***\n",
       "historygood                  8.639e-01  2.506e-01   3.447 0.000566 ***\n",
       "historyperfect               1.361e+00  4.208e-01   3.233 0.001225 ** \n",
       "historypoor                  6.782e-01  3.224e-01   2.104 0.035387 *  \n",
       "historyvery good             1.496e+00  4.102e-01   3.646 0.000266 ***\n",
       "purposecar                   2.296e-01  3.100e-01   0.741 0.458810    \n",
       "purposecar0                 -6.746e-01  7.473e-01  -0.903 0.366660    \n",
       "purposeeducation             6.338e-01  4.267e-01   1.485 0.137453    \n",
       "purposefurniture/appliances -1.816e-01  3.042e-01  -0.597 0.550501    \n",
       "purposerenovations           3.828e-01  5.714e-01   0.670 0.502918    \n",
       "duration                     2.826e-02  8.849e-03   3.194 0.001404 ** \n",
       "amount                       9.776e-07  4.146e-07   2.358 0.018385 *  \n",
       "employed> 7 years           -4.027e-01  2.791e-01  -1.443 0.149125    \n",
       "employed1 - 4 years         -2.819e-01  2.267e-01  -1.244 0.213669    \n",
       "employed4 - 7 years         -9.657e-01  2.870e-01  -3.364 0.000767 ***\n",
       "employedunemployed          -4.725e-02  4.062e-01  -0.116 0.907387    \n",
       "perc_income                  2.925e-01  8.335e-02   3.509 0.000450 ***\n",
       "resid                        5.160e-03  8.279e-02   0.062 0.950298    \n",
       "age                         -1.399e-02  8.773e-03  -1.595 0.110731    \n",
       "other_creditnone            -5.578e-01  2.293e-01  -2.433 0.014992 *  \n",
       "other_creditstore           -1.383e-01  4.028e-01  -0.343 0.731302    \n",
       "housingown                  -1.142e-01  2.850e-01  -0.401 0.688658    \n",
       "housingrent                  3.320e-01  3.277e-01   1.013 0.310936    \n",
       "n_loans                      2.787e-01  1.838e-01   1.516 0.129451    \n",
       "jobskilled                   6.712e-02  2.734e-01   0.246 0.806038    \n",
       "jobunemployed               -2.166e-01  6.184e-01  -0.350 0.726184    \n",
       "jobunskilled                -4.480e-02  3.315e-01  -0.135 0.892506    \n",
       "depend                       6.564e-03  2.324e-01   0.028 0.977468    \n",
       "phoneyes                    -2.518e-01  1.930e-01  -1.305 0.191821    \n",
       "---\n",
       "Signif. codes:  0 '***' 0.001 '**' 0.01 '*' 0.05 '.' 0.1 ' ' 1\n",
       "\n",
       "(Dispersion parameter for binomial family taken to be 1)\n",
       "\n",
       "    Null deviance: 1221.7  on 999  degrees of freedom\n",
       "Residual deviance:  951.7  on 964  degrees of freedom\n",
       "AIC: 1023.7\n",
       "\n",
       "Number of Fisher Scoring iterations: 5\n"
      ]
     },
     "metadata": {},
     "output_type": "display_data"
    }
   ],
   "source": [
    "mod <- glm(default~check+savings+history+purpose+duration+amount+employed+perc_income+resid+age+other_credit+housing+n_loans+job+depend+phone,family =binomial(link = \"logit\"), data=credit_df2)\n",
    "summary(mod)"
   ]
  },
  {
   "cell_type": "code",
   "execution_count": 82,
   "metadata": {},
   "outputs": [
    {
     "data": {
      "text/plain": [
       "   Min. 1st Qu.  Median    Mean 3rd Qu.    Max. \n",
       "-5.1167 -2.2074 -1.0990 -1.1743 -0.1336  2.4934 "
      ]
     },
     "metadata": {},
     "output_type": "display_data"
    }
   ],
   "source": [
    "p <- predict(mod)\n",
    "summary(p)"
   ]
  },
  {
   "cell_type": "code",
   "execution_count": 91,
   "metadata": {},
   "outputs": [
    {
     "name": "stdout",
     "output_type": "stream",
     "text": [
      "\n",
      " \n",
      "   Cell Contents\n",
      "|-------------------------|\n",
      "|                       N |\n",
      "| Chi-square contribution |\n",
      "|           N / Row Total |\n",
      "|           N / Col Total |\n",
      "|         N / Table Total |\n",
      "|-------------------------|\n",
      "\n",
      " \n",
      "Total Observations in Table:  1000 \n",
      "\n",
      " \n",
      "             | actual \n",
      "   predicted |        no |       yes | Row Total | \n",
      "-------------|-----------|-----------|-----------|\n",
      "          no |       652 |       185 |       837 | \n",
      "             |     7.457 |    17.400 |           | \n",
      "             |     0.779 |     0.221 |     0.837 | \n",
      "             |     0.931 |     0.617 |           | \n",
      "             |     0.652 |     0.185 |           | \n",
      "-------------|-----------|-----------|-----------|\n",
      "         yes |        48 |       115 |       163 | \n",
      "             |    38.293 |    89.350 |           | \n",
      "             |     0.294 |     0.706 |     0.163 | \n",
      "             |     0.069 |     0.383 |           | \n",
      "             |     0.048 |     0.115 |           | \n",
      "-------------|-----------|-----------|-----------|\n",
      "Column Total |       700 |       300 |      1000 | \n",
      "             |     0.700 |     0.300 |           | \n",
      "-------------|-----------|-----------|-----------|\n",
      "\n",
      " \n"
     ]
    },
    {
     "data": {
      "text/plain": [
       "Confusion Matrix and Statistics\n",
       "\n",
       "          Reference\n",
       "Prediction  no yes\n",
       "       no  652 185\n",
       "       yes  48 115\n",
       "                                          \n",
       "               Accuracy : 0.767           \n",
       "                 95% CI : (0.7395, 0.7929)\n",
       "    No Information Rate : 0.7             \n",
       "    P-Value [Acc > NIR] : 1.33e-06        \n",
       "                                          \n",
       "                  Kappa : 0.362           \n",
       "                                          \n",
       " Mcnemar's Test P-Value : < 2.2e-16       \n",
       "                                          \n",
       "            Sensitivity : 0.9314          \n",
       "            Specificity : 0.3833          \n",
       "         Pos Pred Value : 0.7790          \n",
       "         Neg Pred Value : 0.7055          \n",
       "             Prevalence : 0.7000          \n",
       "         Detection Rate : 0.6520          \n",
       "   Detection Prevalence : 0.8370          \n",
       "      Balanced Accuracy : 0.6574          \n",
       "                                          \n",
       "       'Positive' Class : no              \n",
       "                                          "
      ]
     },
     "metadata": {},
     "output_type": "display_data"
    }
   ],
   "source": [
    "p_class <- factor(ifelse(p>0.3, \"yes\", \"no\"))\n",
    "gmodels::CrossTable(p_class, simple_df$default, dnn=c(\"predicted\",\"actual\"))\n",
    "caret::confusionMatrix(p_class, credit_df2[[\"default\"]])"
   ]
  },
  {
   "cell_type": "code",
   "execution_count": null,
   "metadata": {},
   "outputs": [],
   "source": []
  }
 ],
 "metadata": {
  "kernelspec": {
   "display_name": "R",
   "language": "R",
   "name": "ir"
  },
  "language_info": {
   "codemirror_mode": "r",
   "file_extension": ".r",
   "mimetype": "text/x-r-source",
   "name": "R",
   "pygments_lexer": "r",
   "version": "4.0.2"
  }
 },
 "nbformat": 4,
 "nbformat_minor": 2
}
