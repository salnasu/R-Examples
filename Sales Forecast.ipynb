{
 "cells": [
  {
   "cell_type": "code",
   "execution_count": 16,
   "metadata": {},
   "outputs": [
    {
     "name": "stderr",
     "output_type": "stream",
     "text": [
      "Registered S3 method overwritten by 'quantmod':\n",
      "  method            from\n",
      "  as.zoo.data.frame zoo \n",
      "\n"
     ]
    }
   ],
   "source": [
    "#```{r results='hide', message=FALSE, warning=FALSE}\n",
    "# install all Packages required\n",
    "# install.packages('ggplot2')\n",
    "# Load Libraries to be used\n",
    "library(ggplot2)\n",
    "library(knitr)\n",
    "library(dplyr)\n",
    "library(tidyverse)\n",
    "library(summarytools)\n",
    "library(visdat)\n",
    "library(igraph)\n",
    "#library(treemap)\n",
    "#library(dplyr)\n",
    "library(devtools)\n",
    "library(\"readxl\")\n",
    "library(repr)\n",
    "library(forecast)\n",
    "#install.packages(\"readxl\")\n",
    "#install.packages(\"lubridate\")\n",
    "#install.packages(\"forecast\")\n",
    "# my_data <- read_excel(file.choose())\n",
    "#```# Do not show warnings"
   ]
  },
  {
   "cell_type": "code",
   "execution_count": 3,
   "metadata": {},
   "outputs": [],
   "source": [
    "# Change plot size to 12 x 12\n",
    "options(repr.plot.width=12, repr.plot.height=12)"
   ]
  },
  {
   "cell_type": "code",
   "execution_count": 4,
   "metadata": {},
   "outputs": [
    {
     "data": {
      "text/html": [
       "<table>\n",
       "<caption>A tibble: 6 × 2</caption>\n",
       "<thead>\n",
       "\t<tr><th scope=col>Date</th><th scope=col>Sales</th></tr>\n",
       "\t<tr><th scope=col>&lt;dttm&gt;</th><th scope=col>&lt;dbl&gt;</th></tr>\n",
       "</thead>\n",
       "<tbody>\n",
       "\t<tr><td>1995-01-01</td><td>1463.9</td></tr>\n",
       "\t<tr><td>1995-02-01</td><td>1373.3</td></tr>\n",
       "\t<tr><td>1995-03-01</td><td>1533.7</td></tr>\n",
       "\t<tr><td>1995-04-01</td><td>1420.6</td></tr>\n",
       "\t<tr><td>1995-05-01</td><td>1576.3</td></tr>\n",
       "\t<tr><td>1995-06-01</td><td>1607.5</td></tr>\n",
       "</tbody>\n",
       "</table>\n"
      ],
      "text/latex": [
       "A tibble: 6 × 2\n",
       "\\begin{tabular}{ll}\n",
       " Date & Sales\\\\\n",
       " <dttm> & <dbl>\\\\\n",
       "\\hline\n",
       "\t 1995-01-01 & 1463.9\\\\\n",
       "\t 1995-02-01 & 1373.3\\\\\n",
       "\t 1995-03-01 & 1533.7\\\\\n",
       "\t 1995-04-01 & 1420.6\\\\\n",
       "\t 1995-05-01 & 1576.3\\\\\n",
       "\t 1995-06-01 & 1607.5\\\\\n",
       "\\end{tabular}\n"
      ],
      "text/markdown": [
       "\n",
       "A tibble: 6 × 2\n",
       "\n",
       "| Date &lt;dttm&gt; | Sales &lt;dbl&gt; |\n",
       "|---|---|\n",
       "| 1995-01-01 | 1463.9 |\n",
       "| 1995-02-01 | 1373.3 |\n",
       "| 1995-03-01 | 1533.7 |\n",
       "| 1995-04-01 | 1420.6 |\n",
       "| 1995-05-01 | 1576.3 |\n",
       "| 1995-06-01 | 1607.5 |\n",
       "\n"
      ],
      "text/plain": [
       "  Date       Sales \n",
       "1 1995-01-01 1463.9\n",
       "2 1995-02-01 1373.3\n",
       "3 1995-03-01 1533.7\n",
       "4 1995-04-01 1420.6\n",
       "5 1995-05-01 1576.3\n",
       "6 1995-06-01 1607.5"
      ]
     },
     "metadata": {},
     "output_type": "display_data"
    }
   ],
   "source": [
    "sales_df <- read_excel(\"Data/adfc-03.xlsx\", sheet=\"Data\")\n",
    "head(sales_df)"
   ]
  },
  {
   "cell_type": "code",
   "execution_count": 5,
   "metadata": {},
   "outputs": [
    {
     "data": {
      "image/png": "[encoded data removed]",
      "text/plain": [
       "plot without title"
      ]
     },
     "metadata": {
      "image/png": {
       "height": 720,
       "width": 720
      }
     },
     "output_type": "display_data"
    }
   ],
   "source": [
    "ggplot(sales_df, aes(Date,Sales))+geom_line()"
   ]
  },
  {
   "cell_type": "code",
   "execution_count": 12,
   "metadata": {},
   "outputs": [],
   "source": [
    "#create an index of time\n",
    "sales_df$time<- seq(1,nrow(sales_df))\n",
    "sales_df$month <- as.character(lubridate::month(sales_df$Date))"
   ]
  },
  {
   "cell_type": "code",
   "execution_count": 13,
   "metadata": {},
   "outputs": [
    {
     "name": "stderr",
     "output_type": "stream",
     "text": [
      "`summarise()` ungrouping output (override with `.groups` argument)\n",
      "\n"
     ]
    }
   ],
   "source": [
    "monthly <- sales_df %>% group_by(month) %>% summarize(mean=mean(Sales))\n",
    "sales_df$year <- lubridate::year(sales_df$Date)\n",
    "lastYear <- sales_df %>% filter(year==2009)"
   ]
  },
  {
   "cell_type": "code",
   "execution_count": 14,
   "metadata": {},
   "outputs": [
    {
     "data": {
      "text/html": [
       "<table>\n",
       "<caption>A tibble: 6 × 5</caption>\n",
       "<thead>\n",
       "\t<tr><th scope=col>Date</th><th scope=col>Sales</th><th scope=col>time</th><th scope=col>month</th><th scope=col>year</th></tr>\n",
       "\t<tr><th scope=col>&lt;dttm&gt;</th><th scope=col>&lt;dbl&gt;</th><th scope=col>&lt;int&gt;</th><th scope=col>&lt;chr&gt;</th><th scope=col>&lt;dbl&gt;</th></tr>\n",
       "</thead>\n",
       "<tbody>\n",
       "\t<tr><td>1995-01-01</td><td>1463.9</td><td>1</td><td>1</td><td>1995</td></tr>\n",
       "\t<tr><td>1995-02-01</td><td>1373.3</td><td>2</td><td>2</td><td>1995</td></tr>\n",
       "\t<tr><td>1995-03-01</td><td>1533.7</td><td>3</td><td>3</td><td>1995</td></tr>\n",
       "\t<tr><td>1995-04-01</td><td>1420.6</td><td>4</td><td>4</td><td>1995</td></tr>\n",
       "\t<tr><td>1995-05-01</td><td>1576.3</td><td>5</td><td>5</td><td>1995</td></tr>\n",
       "\t<tr><td>1995-06-01</td><td>1607.5</td><td>6</td><td>6</td><td>1995</td></tr>\n",
       "</tbody>\n",
       "</table>\n"
      ],
      "text/latex": [
       "A tibble: 6 × 5\n",
       "\\begin{tabular}{lllll}\n",
       " Date & Sales & time & month & year\\\\\n",
       " <dttm> & <dbl> & <int> & <chr> & <dbl>\\\\\n",
       "\\hline\n",
       "\t 1995-01-01 & 1463.9 & 1 & 1 & 1995\\\\\n",
       "\t 1995-02-01 & 1373.3 & 2 & 2 & 1995\\\\\n",
       "\t 1995-03-01 & 1533.7 & 3 & 3 & 1995\\\\\n",
       "\t 1995-04-01 & 1420.6 & 4 & 4 & 1995\\\\\n",
       "\t 1995-05-01 & 1576.3 & 5 & 5 & 1995\\\\\n",
       "\t 1995-06-01 & 1607.5 & 6 & 6 & 1995\\\\\n",
       "\\end{tabular}\n"
      ],
      "text/markdown": [
       "\n",
       "A tibble: 6 × 5\n",
       "\n",
       "| Date &lt;dttm&gt; | Sales &lt;dbl&gt; | time &lt;int&gt; | month &lt;chr&gt; | year &lt;dbl&gt; |\n",
       "|---|---|---|---|---|\n",
       "| 1995-01-01 | 1463.9 | 1 | 1 | 1995 |\n",
       "| 1995-02-01 | 1373.3 | 2 | 2 | 1995 |\n",
       "| 1995-03-01 | 1533.7 | 3 | 3 | 1995 |\n",
       "| 1995-04-01 | 1420.6 | 4 | 4 | 1995 |\n",
       "| 1995-05-01 | 1576.3 | 5 | 5 | 1995 |\n",
       "| 1995-06-01 | 1607.5 | 6 | 6 | 1995 |\n",
       "\n"
      ],
      "text/plain": [
       "  Date       Sales  time month year\n",
       "1 1995-01-01 1463.9 1    1     1995\n",
       "2 1995-02-01 1373.3 2    2     1995\n",
       "3 1995-03-01 1533.7 3    3     1995\n",
       "4 1995-04-01 1420.6 4    4     1995\n",
       "5 1995-05-01 1576.3 5    5     1995\n",
       "6 1995-06-01 1607.5 6    6     1995"
      ]
     },
     "metadata": {},
     "output_type": "display_data"
    }
   ],
   "source": [
    "head(sales_df)"
   ]
  },
  {
   "cell_type": "code",
   "execution_count": 15,
   "metadata": {},
   "outputs": [
    {
     "name": "stderr",
     "output_type": "stream",
     "text": [
      "Installing package into 'C:/Users/woosh/Documents/R/win-library/4.0'\n",
      "(as 'lib' is unspecified)\n",
      "\n",
      "also installing the dependencies 'xts', 'TTR', 'quadprog', 'quantmod', 'fracdiff', 'tseries', 'urca', 'RcppArmadillo'\n",
      "\n",
      "\n"
     ]
    },
    {
     "name": "stdout",
     "output_type": "stream",
     "text": [
      "package 'xts' successfully unpacked and MD5 sums checked\n",
      "package 'TTR' successfully unpacked and MD5 sums checked\n",
      "package 'quadprog' successfully unpacked and MD5 sums checked\n",
      "package 'quantmod' successfully unpacked and MD5 sums checked\n",
      "package 'fracdiff' successfully unpacked and MD5 sums checked\n",
      "package 'tseries' successfully unpacked and MD5 sums checked\n",
      "package 'urca' successfully unpacked and MD5 sums checked\n",
      "package 'RcppArmadillo' successfully unpacked and MD5 sums checked\n",
      "package 'forecast' successfully unpacked and MD5 sums checked\n",
      "\n",
      "The downloaded binary packages are in\n",
      "\tC:\\Users\\woosh\\AppData\\Local\\Temp\\Rtmp6ppStO\\downloaded_packages\n"
     ]
    }
   ],
   "source": [
    "install.packages(\"forecast\")"
   ]
  },
  {
   "cell_type": "code",
   "execution_count": 17,
   "metadata": {},
   "outputs": [],
   "source": [
    "sales_df.ts <- ts(sales_df$Sales,frequency = 12)"
   ]
  },
  {
   "cell_type": "code",
   "execution_count": 21,
   "metadata": {},
   "outputs": [
    {
     "data": {
      "text/html": [
       "<table>\n",
       "<caption>A Time Series: 15 × 12</caption>\n",
       "<thead>\n",
       "\t<tr><th></th><th scope=col>Jan</th><th scope=col>Feb</th><th scope=col>Mar</th><th scope=col>Apr</th><th scope=col>May</th><th scope=col>Jun</th><th scope=col>Jul</th><th scope=col>Aug</th><th scope=col>Sep</th><th scope=col>Oct</th><th scope=col>Nov</th><th scope=col>Dec</th></tr>\n",
       "</thead>\n",
       "<tbody>\n",
       "\t<tr><th scope=row>1</th><td>1463.9</td><td>1373.3</td><td>1533.7</td><td>1420.6</td><td>1576.3</td><td>1607.5</td><td>1545.7</td><td>1550.8</td><td>1583.0</td><td>1622.6</td><td>1705.5</td><td>2212.4</td></tr>\n",
       "\t<tr><th scope=row>2</th><td>1580.7</td><td>1485.5</td><td>1582.6</td><td>1498.9</td><td>1644.5</td><td>1610.9</td><td>1695.0</td><td>1664.9</td><td>1583.8</td><td>1740.4</td><td>1798.7</td><td>2296.1</td></tr>\n",
       "\t<tr><th scope=row>3</th><td>1686.0</td><td>1576.9</td><td>1608.8</td><td>1610.8</td><td>1712.9</td><td>1664.3</td><td>1698.0</td><td>1662.9</td><td>1678.9</td><td>1811.1</td><td>1835.5</td><td>2418.4</td></tr>\n",
       "\t<tr><th scope=row>4</th><td>1724.9</td><td>1531.3</td><td>1660.0</td><td>1602.0</td><td>1677.0</td><td>1668.8</td><td>1699.6</td><td>1649.9</td><td>1685.0</td><td>1783.6</td><td>1776.0</td><td>2323.2</td></tr>\n",
       "\t<tr><th scope=row>5</th><td>1775.4</td><td>1597.2</td><td>1733.6</td><td>1681.0</td><td>1764.5</td><td>1779.0</td><td>1817.4</td><td>1830.7</td><td>1894.3</td><td>2000.7</td><td>2037.0</td><td>2568.3</td></tr>\n",
       "\t<tr><th scope=row>6</th><td>1924.7</td><td>1813.6</td><td>1919.9</td><td>1769.8</td><td>1985.7</td><td>2346.3</td><td>1875.7</td><td>2013.1</td><td>2015.7</td><td>2098.2</td><td>2213.3</td><td>2776.0</td></tr>\n",
       "\t<tr><th scope=row>7</th><td>2095.8</td><td>1887.4</td><td>2063.2</td><td>1982.7</td><td>2118.3</td><td>2205.1</td><td>2217.5</td><td>2253.1</td><td>2188.7</td><td>2404.9</td><td>2517.4</td><td>3113.9</td></tr>\n",
       "\t<tr><th scope=row>8</th><td>2438.8</td><td>2123.9</td><td>2296.4</td><td>2336.0</td><td>2478.6</td><td>2475.0</td><td>2465.3</td><td>2501.2</td><td>2460.6</td><td>2635.3</td><td>2752.9</td><td>3366.1</td></tr>\n",
       "\t<tr><th scope=row>9</th><td>2528.5</td><td>2231.8</td><td>2430.7</td><td>2368.9</td><td>2539.9</td><td>2595.6</td><td>2675.1</td><td>2665.2</td><td>2726.7</td><td>2903.8</td><td>2948.3</td><td>3650.5</td></tr>\n",
       "\t<tr><th scope=row>10</th><td>2829.9</td><td>2545.4</td><td>2746.3</td><td>2569.2</td><td>2675.2</td><td>2793.8</td><td>2843.3</td><td>2798.1</td><td>2848.0</td><td>3078.3</td><td>3185.1</td><td>3877.3</td></tr>\n",
       "\t<tr><th scope=row>11</th><td>2963.1</td><td>2622.9</td><td>2782.9</td><td>2787.4</td><td>2879.3</td><td>2969.3</td><td>2964.4</td><td>2984.4</td><td>2971.0</td><td>3099.2</td><td>3252.9</td><td>4088.1</td></tr>\n",
       "\t<tr><th scope=row>12</th><td>3036.0</td><td>2692.5</td><td>2953.4</td><td>2804.1</td><td>3026.2</td><td>3148.2</td><td>3120.4</td><td>3150.1</td><td>3196.1</td><td>3346.8</td><td>3494.0</td><td>4301.3</td></tr>\n",
       "\t<tr><th scope=row>13</th><td>3332.3</td><td>2963.4</td><td>3283.3</td><td>3010.1</td><td>3239.8</td><td>3399.0</td><td>3333.5</td><td>3433.6</td><td>3443.2</td><td>3591.4</td><td>3774.4</td><td>4684.7</td></tr>\n",
       "\t<tr><th scope=row>14</th><td>3535.1</td><td>3142.9</td><td>3212.5</td><td>3238.4</td><td>3349.2</td><td>3443.7</td><td>3413.8</td><td>3411.0</td><td>3327.8</td><td>3530.5</td><td>3595.6</td><td>4908.6</td></tr>\n",
       "\t<tr><th scope=row>15</th><td>3560.7</td><td>2968.2</td><td>3301.6</td><td>3203.9</td><td>3379.7</td><td>3620.6</td><td>3452.3</td><td>3467.7</td><td>3406.1</td><td>3641.3</td><td>3787.3</td><td>4707.5</td></tr>\n",
       "</tbody>\n",
       "</table>\n"
      ],
      "text/latex": [
       "A Time Series: 15 × 12\n",
       "\\begin{tabular}{r|llllllllllll}\n",
       "  & Jan & Feb & Mar & Apr & May & Jun & Jul & Aug & Sep & Oct & Nov & Dec\\\\\n",
       "\\hline\n",
       "\t1 & 1463.9 & 1373.3 & 1533.7 & 1420.6 & 1576.3 & 1607.5 & 1545.7 & 1550.8 & 1583.0 & 1622.6 & 1705.5 & 2212.4\\\\\n",
       "\t2 & 1580.7 & 1485.5 & 1582.6 & 1498.9 & 1644.5 & 1610.9 & 1695.0 & 1664.9 & 1583.8 & 1740.4 & 1798.7 & 2296.1\\\\\n",
       "\t3 & 1686.0 & 1576.9 & 1608.8 & 1610.8 & 1712.9 & 1664.3 & 1698.0 & 1662.9 & 1678.9 & 1811.1 & 1835.5 & 2418.4\\\\\n",
       "\t4 & 1724.9 & 1531.3 & 1660.0 & 1602.0 & 1677.0 & 1668.8 & 1699.6 & 1649.9 & 1685.0 & 1783.6 & 1776.0 & 2323.2\\\\\n",
       "\t5 & 1775.4 & 1597.2 & 1733.6 & 1681.0 & 1764.5 & 1779.0 & 1817.4 & 1830.7 & 1894.3 & 2000.7 & 2037.0 & 2568.3\\\\\n",
       "\t6 & 1924.7 & 1813.6 & 1919.9 & 1769.8 & 1985.7 & 2346.3 & 1875.7 & 2013.1 & 2015.7 & 2098.2 & 2213.3 & 2776.0\\\\\n",
       "\t7 & 2095.8 & 1887.4 & 2063.2 & 1982.7 & 2118.3 & 2205.1 & 2217.5 & 2253.1 & 2188.7 & 2404.9 & 2517.4 & 3113.9\\\\\n",
       "\t8 & 2438.8 & 2123.9 & 2296.4 & 2336.0 & 2478.6 & 2475.0 & 2465.3 & 2501.2 & 2460.6 & 2635.3 & 2752.9 & 3366.1\\\\\n",
       "\t9 & 2528.5 & 2231.8 & 2430.7 & 2368.9 & 2539.9 & 2595.6 & 2675.1 & 2665.2 & 2726.7 & 2903.8 & 2948.3 & 3650.5\\\\\n",
       "\t10 & 2829.9 & 2545.4 & 2746.3 & 2569.2 & 2675.2 & 2793.8 & 2843.3 & 2798.1 & 2848.0 & 3078.3 & 3185.1 & 3877.3\\\\\n",
       "\t11 & 2963.1 & 2622.9 & 2782.9 & 2787.4 & 2879.3 & 2969.3 & 2964.4 & 2984.4 & 2971.0 & 3099.2 & 3252.9 & 4088.1\\\\\n",
       "\t12 & 3036.0 & 2692.5 & 2953.4 & 2804.1 & 3026.2 & 3148.2 & 3120.4 & 3150.1 & 3196.1 & 3346.8 & 3494.0 & 4301.3\\\\\n",
       "\t13 & 3332.3 & 2963.4 & 3283.3 & 3010.1 & 3239.8 & 3399.0 & 3333.5 & 3433.6 & 3443.2 & 3591.4 & 3774.4 & 4684.7\\\\\n",
       "\t14 & 3535.1 & 3142.9 & 3212.5 & 3238.4 & 3349.2 & 3443.7 & 3413.8 & 3411.0 & 3327.8 & 3530.5 & 3595.6 & 4908.6\\\\\n",
       "\t15 & 3560.7 & 2968.2 & 3301.6 & 3203.9 & 3379.7 & 3620.6 & 3452.3 & 3467.7 & 3406.1 & 3641.3 & 3787.3 & 4707.5\\\\\n",
       "\\end{tabular}\n"
      ],
      "text/markdown": [
       "\n",
       "A Time Series: 15 × 12\n",
       "\n",
       "| <!--/--> | Jan | Feb | Mar | Apr | May | Jun | Jul | Aug | Sep | Oct | Nov | Dec |\n",
       "|---|---|---|---|---|---|---|---|---|---|---|---|---|\n",
       "| 1 | 1463.9 | 1373.3 | 1533.7 | 1420.6 | 1576.3 | 1607.5 | 1545.7 | 1550.8 | 1583.0 | 1622.6 | 1705.5 | 2212.4 |\n",
       "| 2 | 1580.7 | 1485.5 | 1582.6 | 1498.9 | 1644.5 | 1610.9 | 1695.0 | 1664.9 | 1583.8 | 1740.4 | 1798.7 | 2296.1 |\n",
       "| 3 | 1686.0 | 1576.9 | 1608.8 | 1610.8 | 1712.9 | 1664.3 | 1698.0 | 1662.9 | 1678.9 | 1811.1 | 1835.5 | 2418.4 |\n",
       "| 4 | 1724.9 | 1531.3 | 1660.0 | 1602.0 | 1677.0 | 1668.8 | 1699.6 | 1649.9 | 1685.0 | 1783.6 | 1776.0 | 2323.2 |\n",
       "| 5 | 1775.4 | 1597.2 | 1733.6 | 1681.0 | 1764.5 | 1779.0 | 1817.4 | 1830.7 | 1894.3 | 2000.7 | 2037.0 | 2568.3 |\n",
       "| 6 | 1924.7 | 1813.6 | 1919.9 | 1769.8 | 1985.7 | 2346.3 | 1875.7 | 2013.1 | 2015.7 | 2098.2 | 2213.3 | 2776.0 |\n",
       "| 7 | 2095.8 | 1887.4 | 2063.2 | 1982.7 | 2118.3 | 2205.1 | 2217.5 | 2253.1 | 2188.7 | 2404.9 | 2517.4 | 3113.9 |\n",
       "| 8 | 2438.8 | 2123.9 | 2296.4 | 2336.0 | 2478.6 | 2475.0 | 2465.3 | 2501.2 | 2460.6 | 2635.3 | 2752.9 | 3366.1 |\n",
       "| 9 | 2528.5 | 2231.8 | 2430.7 | 2368.9 | 2539.9 | 2595.6 | 2675.1 | 2665.2 | 2726.7 | 2903.8 | 2948.3 | 3650.5 |\n",
       "| 10 | 2829.9 | 2545.4 | 2746.3 | 2569.2 | 2675.2 | 2793.8 | 2843.3 | 2798.1 | 2848.0 | 3078.3 | 3185.1 | 3877.3 |\n",
       "| 11 | 2963.1 | 2622.9 | 2782.9 | 2787.4 | 2879.3 | 2969.3 | 2964.4 | 2984.4 | 2971.0 | 3099.2 | 3252.9 | 4088.1 |\n",
       "| 12 | 3036.0 | 2692.5 | 2953.4 | 2804.1 | 3026.2 | 3148.2 | 3120.4 | 3150.1 | 3196.1 | 3346.8 | 3494.0 | 4301.3 |\n",
       "| 13 | 3332.3 | 2963.4 | 3283.3 | 3010.1 | 3239.8 | 3399.0 | 3333.5 | 3433.6 | 3443.2 | 3591.4 | 3774.4 | 4684.7 |\n",
       "| 14 | 3535.1 | 3142.9 | 3212.5 | 3238.4 | 3349.2 | 3443.7 | 3413.8 | 3411.0 | 3327.8 | 3530.5 | 3595.6 | 4908.6 |\n",
       "| 15 | 3560.7 | 2968.2 | 3301.6 | 3203.9 | 3379.7 | 3620.6 | 3452.3 | 3467.7 | 3406.1 | 3641.3 | 3787.3 | 4707.5 |\n",
       "\n"
      ],
      "text/plain": [
       "   Jan    Feb    Mar    Apr    May    Jun    Jul    Aug    Sep    Oct    Nov   \n",
       "1  1463.9 1373.3 1533.7 1420.6 1576.3 1607.5 1545.7 1550.8 1583.0 1622.6 1705.5\n",
       "2  1580.7 1485.5 1582.6 1498.9 1644.5 1610.9 1695.0 1664.9 1583.8 1740.4 1798.7\n",
       "3  1686.0 1576.9 1608.8 1610.8 1712.9 1664.3 1698.0 1662.9 1678.9 1811.1 1835.5\n",
       "4  1724.9 1531.3 1660.0 1602.0 1677.0 1668.8 1699.6 1649.9 1685.0 1783.6 1776.0\n",
       "5  1775.4 1597.2 1733.6 1681.0 1764.5 1779.0 1817.4 1830.7 1894.3 2000.7 2037.0\n",
       "6  1924.7 1813.6 1919.9 1769.8 1985.7 2346.3 1875.7 2013.1 2015.7 2098.2 2213.3\n",
       "7  2095.8 1887.4 2063.2 1982.7 2118.3 2205.1 2217.5 2253.1 2188.7 2404.9 2517.4\n",
       "8  2438.8 2123.9 2296.4 2336.0 2478.6 2475.0 2465.3 2501.2 2460.6 2635.3 2752.9\n",
       "9  2528.5 2231.8 2430.7 2368.9 2539.9 2595.6 2675.1 2665.2 2726.7 2903.8 2948.3\n",
       "10 2829.9 2545.4 2746.3 2569.2 2675.2 2793.8 2843.3 2798.1 2848.0 3078.3 3185.1\n",
       "11 2963.1 2622.9 2782.9 2787.4 2879.3 2969.3 2964.4 2984.4 2971.0 3099.2 3252.9\n",
       "12 3036.0 2692.5 2953.4 2804.1 3026.2 3148.2 3120.4 3150.1 3196.1 3346.8 3494.0\n",
       "13 3332.3 2963.4 3283.3 3010.1 3239.8 3399.0 3333.5 3433.6 3443.2 3591.4 3774.4\n",
       "14 3535.1 3142.9 3212.5 3238.4 3349.2 3443.7 3413.8 3411.0 3327.8 3530.5 3595.6\n",
       "15 3560.7 2968.2 3301.6 3203.9 3379.7 3620.6 3452.3 3467.7 3406.1 3641.3 3787.3\n",
       "   Dec   \n",
       "1  2212.4\n",
       "2  2296.1\n",
       "3  2418.4\n",
       "4  2323.2\n",
       "5  2568.3\n",
       "6  2776.0\n",
       "7  3113.9\n",
       "8  3366.1\n",
       "9  3650.5\n",
       "10 3877.3\n",
       "11 4088.1\n",
       "12 4301.3\n",
       "13 4684.7\n",
       "14 4908.6\n",
       "15 4707.5"
      ]
     },
     "metadata": {},
     "output_type": "display_data"
    }
   ],
   "source": [
    "sales_df.ts"
   ]
  },
  {
   "cell_type": "code",
   "execution_count": 23,
   "metadata": {},
   "outputs": [
    {
     "data": {
      "image/png": "[encoded data removed]",
      "text/plain": [
       "plot without title"
      ]
     },
     "metadata": {
      "image/png": {
       "height": 720,
       "width": 720
      }
     },
     "output_type": "display_data"
    }
   ],
   "source": [
    "plot(sales_df.ts, xlab='Month', ylab='Sales')"
   ]
  },
  {
   "cell_type": "code",
   "execution_count": 24,
   "metadata": {},
   "outputs": [],
   "source": [
    "ntrain = 168\n",
    "ntest = 12"
   ]
  },
  {
   "cell_type": "code",
   "execution_count": 26,
   "metadata": {},
   "outputs": [],
   "source": [
    "train.ts <-window(sales_df.ts, start=c(1,1), end=c(1,ntrain))\n",
    "test.ts <- window(sales_df.ts, start=c(1,ntrain+1), end=c(1,ntrain+ntest))"
   ]
  },
  {
   "cell_type": "code",
   "execution_count": 31,
   "metadata": {},
   "outputs": [],
   "source": [
    "naive.pred <- naive(train.ts, h=ntest)\n",
    "snaive.pred <- snaive(train.ts, h=ntest)"
   ]
  },
  {
   "cell_type": "code",
   "execution_count": 33,
   "metadata": {},
   "outputs": [
    {
     "name": "stderr",
     "output_type": "stream",
     "text": [
      "Downloading GitHub repo mlr-org/measures@HEAD\n",
      "\n"
     ]
    },
    {
     "name": "stdout",
     "output_type": "stream",
     "text": [
      "\u001b[32mv\u001b[39m  \u001b[90mchecking for file 'C:\\Users\\woosh\\AppData\\Local\\Temp\\Rtmp6ppStO\\remotes41681cad3a2a\\pat-s-measures-6d4762c/DESCRIPTION'\u001b[39m\u001b[36m\u001b[36m (496ms)\u001b[36m\u001b[39m\n",
      "\u001b[90m-\u001b[39m\u001b[90m  \u001b[39m\u001b[90mpreparing 'measures':\u001b[39m\u001b[36m\u001b[36m (548ms)\u001b[36m\u001b[39m\n",
      "\u001b[32mv\u001b[39m  \u001b[90mchecking DESCRIPTION meta-information\u001b[39m\u001b[36m\u001b[39m\n",
      "\u001b[90m-\u001b[39m\u001b[90m  \u001b[39m\u001b[90mchecking for LF line-endings in source and make files and shell scripts\u001b[39m\u001b[36m\u001b[36m (543ms)\u001b[36m\u001b[39m\n",
      "\u001b[90m-\u001b[39m\u001b[90m  \u001b[39m\u001b[90mchecking for empty or unneeded directories\u001b[39m\u001b[36m\u001b[39m\n",
      "\u001b[90m-\u001b[39m\u001b[90m  \u001b[39m\u001b[90mbuilding 'measures_0.2.tar.gz'\u001b[39m\u001b[36m\u001b[39m\n",
      "   \n",
      "\r"
     ]
    },
    {
     "name": "stderr",
     "output_type": "stream",
     "text": [
      "Installing package into 'C:/Users/woosh/Documents/R/win-library/4.0'\n",
      "(as 'lib' is unspecified)\n",
      "\n"
     ]
    }
   ],
   "source": [
    "devtools::install_github(\"mlr-org/measures\")"
   ]
  },
  {
   "cell_type": "code",
   "execution_count": 35,
   "metadata": {},
   "outputs": [
    {
     "data": {
      "text/html": [
       "1426.6870075458"
      ],
      "text/latex": [
       "1426.6870075458"
      ],
      "text/markdown": [
       "1426.6870075458"
      ],
      "text/plain": [
       "[1] 1426.687"
      ]
     },
     "metadata": {},
     "output_type": "display_data"
    }
   ],
   "source": [
    "fit <- measures::RMSE(test.ts,naive.pred$mean)\n",
    "fit"
   ]
  },
  {
   "cell_type": "code",
   "execution_count": 36,
   "metadata": {},
   "outputs": [
    {
     "name": "stdout",
     "output_type": "stream",
     "text": [
      "\n",
      "Call:\n",
      "lm(formula = Sales ~ time, data = sales_df)\n",
      "\n",
      "Residuals:\n",
      "   Min     1Q Median     3Q    Max \n",
      "  -623   -196    -48     81   1344 \n",
      "\n",
      "Coefficients:\n",
      "            Estimate Std. Error t value Pr(>|t|)    \n",
      "(Intercept)  1299.41      46.40      28   <2e-16 ***\n",
      "time           13.48       0.44      30   <2e-16 ***\n",
      "---\n",
      "Signif. codes:  0 '***' 0.001 '**' 0.01 '*' 0.05 '.' 0.1 ' ' 1\n",
      "\n",
      "Residual standard error: 310 on 178 degrees of freedom\n",
      "Multiple R-squared:  0.84,\tAdjusted R-squared:  0.84 \n",
      "F-statistic: 9.2e+02 on 1 and 178 DF,  p-value: <2e-16\n",
      "\n"
     ]
    }
   ],
   "source": [
    "mod <- lm(Sales ~ time, data=sales_df)\n",
    "print(summary(mod), digits=2)"
   ]
  },
  {
   "cell_type": "code",
   "execution_count": 38,
   "metadata": {},
   "outputs": [
    {
     "data": {
      "image/png": "[encoded data removed]",
      "text/plain": [
       "plot without title"
      ]
     },
     "metadata": {
      "image/png": {
       "height": 720,
       "width": 720
      }
     },
     "output_type": "display_data"
    }
   ],
   "source": [
    "\n",
    "pred <- predict(mod,sales_df)\n",
    "plot(sales_df$Sales, ylab='Sales', xlab='Time')\n",
    "lines(pred, lwd=1,col=\"blue\", lty=1)"
   ]
  },
  {
   "cell_type": "code",
   "execution_count": 40,
   "metadata": {},
   "outputs": [
    {
     "name": "stdout",
     "output_type": "stream",
     "text": [
      "\n",
      "Call:\n",
      "lm(formula = Sales ~ time + I(time^2) + factor(month), data = sales_df)\n",
      "\n",
      "Residuals:\n",
      "   Min     1Q Median     3Q    Max \n",
      "  -441    -79      6     98    464 \n",
      "\n",
      "Coefficients:\n",
      "                Estimate Std. Error t value Pr(>|t|)    \n",
      "(Intercept)      1.4e+03    4.7e+01    30.2   <2e-16 ***\n",
      "time             9.3e+00    8.2e-01    11.4   <2e-16 ***\n",
      "I(time^2)        2.2e-02    4.4e-03     5.0    2e-06 ***\n",
      "factor(month)10  6.9e+01    5.2e+01     1.3    0.188    \n",
      "factor(month)11  1.5e+02    5.2e+01     2.8    0.005 ** \n",
      "factor(month)12  8.4e+02    5.2e+01    16.2   <2e-16 ***\n",
      "factor(month)2  -2.7e+02    5.2e+01    -5.3    4e-07 ***\n",
      "factor(month)3  -1.2e+02    5.2e+01    -2.3    0.025 *  \n",
      "factor(month)4  -2.1e+02    5.2e+01    -4.1    7e-05 ***\n",
      "factor(month)5  -8.1e+01    5.2e+01    -1.6    0.121    \n",
      "factor(month)6  -8.8e+00    5.2e+01    -0.2    0.865    \n",
      "factor(month)7  -5.6e+01    5.2e+01    -1.1    0.282    \n",
      "factor(month)8  -5.5e+01    5.2e+01    -1.1    0.293    \n",
      "factor(month)9  -7.0e+01    5.2e+01    -1.3    0.180    \n",
      "---\n",
      "Signif. codes:  0 '***' 0.001 '**' 0.01 '*' 0.05 '.' 0.1 ' ' 1\n",
      "\n",
      "Residual standard error: 140 on 166 degrees of freedom\n",
      "Multiple R-squared:  0.97,\tAdjusted R-squared:  0.97 \n",
      "F-statistic: 3.9e+02 on 13 and 166 DF,  p-value: <2e-16\n",
      "\n"
     ]
    }
   ],
   "source": [
    "mod <- lm(Sales ~ time + I(time^2) + factor(month), data=sales_df)\n",
    "print(summary(mod), digits=2)"
   ]
  },
  {
   "cell_type": "code",
   "execution_count": 42,
   "metadata": {},
   "outputs": [
    {
     "data": {
      "image/png": "[encoded data removed]",
      "text/plain": [
       "plot without title"
      ]
     },
     "metadata": {
      "image/png": {
       "height": 720,
       "width": 720
      }
     },
     "output_type": "display_data"
    }
   ],
   "source": [
    "pred <- predict(mod,sales_df)\n",
    "plot(sales_df$Sales, ylab='Sales', xlab='Time')\n",
    "lines(pred, lwd=1,col=\"blue\", lty=1)"
   ]
  },
  {
   "cell_type": "code",
   "execution_count": null,
   "metadata": {},
   "outputs": [],
   "source": []
  }
 ],
 "metadata": {
  "kernelspec": {
   "display_name": "R",
   "language": "R",
   "name": "ir"
  },
  "language_info": {
   "codemirror_mode": "r",
   "file_extension": ".r",
   "mimetype": "text/x-r-source",
   "name": "R",
   "pygments_lexer": "r",
   "version": "4.0.2"
  }
 },
 "nbformat": 4,
 "nbformat_minor": 2
}
