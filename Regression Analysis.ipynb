{
 "cells": [
  {
   "cell_type": "code",
   "execution_count": null,
   "metadata": {},
   "outputs": [],
   "source": [
    "Sys.which(\"make\")"
   ]
  },
  {
   "cell_type": "code",
   "execution_count": null,
   "metadata": {
    "scrolled": true
   },
   "outputs": [],
   "source": [
    "#install.packages(\"tidyverse\", dependencies = TRUE)\n",
    "\n",
    "#install.packages(\"devtools\", dependencies = TRUE)\n",
    "\n",
    "#devtools::install_github(\"vqv/ggbiplot\")\n",
    "\n",
    "install.packages(\"jsonlite\", type = \"source\")\n",
    "\n",
    "#install.packages(\"Rtools40\")\n",
    "\n"
   ]
  },
  {
   "cell_type": "code",
   "execution_count": 9,
   "metadata": {},
   "outputs": [
    {
     "name": "stderr",
     "output_type": "stream",
     "text": [
      "Warning message:\n",
      "\"package 'ggplot2' was built under R version 3.6.3\"Warning message:\n",
      "\"package 'knitr' was built under R version 3.6.3\"Warning message:\n",
      "\"package 'tidyverse' was built under R version 3.6.3\"-- Attaching packages --------------------------------------- tidyverse 1.3.0 --\n",
      "v tibble  3.0.3     v dplyr   1.0.2\n",
      "v tidyr   1.1.1     v stringr 1.4.0\n",
      "v readr   1.3.1     v forcats 0.4.0\n",
      "v purrr   0.3.4     \n",
      "Warning message:\n",
      "\"package 'tibble' was built under R version 3.6.3\"Warning message:\n",
      "\"package 'tidyr' was built under R version 3.6.3\"Warning message:\n",
      "\"package 'purrr' was built under R version 3.6.3\"Warning message:\n",
      "\"package 'dplyr' was built under R version 3.6.3\"-- Conflicts ------------------------------------------ tidyverse_conflicts() --\n",
      "x dplyr::filter() masks stats::filter()\n",
      "x dplyr::lag()    masks stats::lag()\n"
     ]
    },
    {
     "ename": "ERROR",
     "evalue": "Error in library(summarytools): there is no package called 'summarytools'\n",
     "output_type": "error",
     "traceback": [
      "Error in library(summarytools): there is no package called 'summarytools'\nTraceback:\n",
      "1. library(summarytools)"
     ]
    }
   ],
   "source": [
    "library(ggplot2)\n",
    "library(knitr)\n",
    "library(tidyverse)\n",
    "#library(summarytools)\n",
    "library(visdat)\n",
    "library(igraph)\n",
    "library(treemap)\n",
    "library(dplr)\n",
    "library(devtools)\n",
    "\n",
    "\n",
    "smart <- read_csv(\"Data/smartphones.csv\")\n",
    "\n",
    "smart2 <- smart %>% dplyr::filter(complete.cases(.))\n",
    "\n",
    "# Select numeric variables only\n",
    "smart_num <- select(smart2,weight:release)"
   ]
  },
  {
   "cell_type": "code",
   "execution_count": 10,
   "metadata": {},
   "outputs": [],
   "source": [
    "\n"
   ]
  },
  {
   "cell_type": "code",
   "execution_count": null,
   "metadata": {},
   "outputs": [],
   "source": []
  }
 ],
 "metadata": {
  "kernelspec": {
   "display_name": "R",
   "language": "R",
   "name": "ir"
  },
  "language_info": {
   "codemirror_mode": "r",
   "file_extension": ".r",
   "mimetype": "text/x-r-source",
   "name": "R",
   "pygments_lexer": "r",
   "version": "3.6.1"
  }
 },
 "nbformat": 4,
 "nbformat_minor": 4
}
