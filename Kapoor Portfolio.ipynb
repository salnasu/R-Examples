{
 "cells": [
  {
   "cell_type": "code",
   "execution_count": 1,
   "metadata": {},
   "outputs": [
    {
     "name": "stderr",
     "output_type": "stream",
     "text": [
      "Warning message:\n",
      "\"package 'ggplot2' was built under R version 3.6.3\"Warning message:\n",
      "\"package 'knitr' was built under R version 3.6.3\"Warning message:\n",
      "\"package 'dplyr' was built under R version 3.6.3\"\n",
      "Attaching package: 'dplyr'\n",
      "\n",
      "The following objects are masked from 'package:stats':\n",
      "\n",
      "    filter, lag\n",
      "\n",
      "The following objects are masked from 'package:base':\n",
      "\n",
      "    intersect, setdiff, setequal, union\n",
      "\n",
      "Warning message:\n",
      "\"package 'tidyverse' was built under R version 3.6.3\"-- Attaching packages --------------------------------------- tidyverse 1.3.0 --\n",
      "v tibble  3.0.3     v purrr   0.3.4\n",
      "v tidyr   1.1.2     v stringr 1.4.0\n",
      "v readr   1.3.1     v forcats 0.5.0\n",
      "Warning message:\n",
      "\"package 'tibble' was built under R version 3.6.3\"Warning message:\n",
      "\"package 'tidyr' was built under R version 3.6.3\"Warning message:\n",
      "\"package 'readr' was built under R version 3.6.3\"Warning message:\n",
      "\"package 'purrr' was built under R version 3.6.3\"Warning message:\n",
      "\"package 'stringr' was built under R version 3.6.3\"Warning message:\n",
      "\"package 'forcats' was built under R version 3.6.3\"-- Conflicts ------------------------------------------ tidyverse_conflicts() --\n",
      "x dplyr::filter() masks stats::filter()\n",
      "x dplyr::lag()    masks stats::lag()\n",
      "Warning message:\n",
      "\"package 'summarytools' was built under R version 3.6.3\"Registered S3 method overwritten by 'pryr':\n",
      "  method      from\n",
      "  print.bytes Rcpp\n",
      "For best results, restart R session and update pander using devtools:: or remotes::install_github('rapporter/pander')\n",
      "\n",
      "Attaching package: 'summarytools'\n",
      "\n",
      "The following object is masked from 'package:tibble':\n",
      "\n",
      "    view\n",
      "\n",
      "Warning message:\n",
      "\"package 'visdat' was built under R version 3.6.3\"Warning message:\n",
      "\"package 'igraph' was built under R version 3.6.3\"\n",
      "Attaching package: 'igraph'\n",
      "\n",
      "The following objects are masked from 'package:purrr':\n",
      "\n",
      "    compose, simplify\n",
      "\n",
      "The following object is masked from 'package:tidyr':\n",
      "\n",
      "    crossing\n",
      "\n",
      "The following object is masked from 'package:tibble':\n",
      "\n",
      "    as_data_frame\n",
      "\n",
      "The following objects are masked from 'package:dplyr':\n",
      "\n",
      "    as_data_frame, groups, union\n",
      "\n",
      "The following objects are masked from 'package:stats':\n",
      "\n",
      "    decompose, spectrum\n",
      "\n",
      "The following object is masked from 'package:base':\n",
      "\n",
      "    union\n",
      "\n",
      "Warning message:\n",
      "\"package 'devtools' was built under R version 3.6.3\"Loading required package: usethis\n",
      "Warning message:\n",
      "\"package 'usethis' was built under R version 3.6.3\""
     ]
    }
   ],
   "source": [
    "#```{r results='hide', message=FALSE, warning=FALSE}\n",
    "# install all Packages required\n",
    "# install.packages('ggplot2')\n",
    "# Load Libraries to be used\n",
    "library(ggplot2)\n",
    "library(knitr)\n",
    "library(dplyr)\n",
    "library(tidyverse)\n",
    "library(summarytools)\n",
    "library(visdat)\n",
    "library(igraph)\n",
    "#library(treemap)\n",
    "#library(dplyr)\n",
    "library(devtools)\n",
    "#```# Do not show warnings"
   ]
  },
  {
   "cell_type": "code",
   "execution_count": 2,
   "metadata": {},
   "outputs": [
    {
     "name": "stderr",
     "output_type": "stream",
     "text": [
      "Warning message:\n",
      "\"package 'readxl' was built under R version 3.6.3\""
     ]
    }
   ],
   "source": [
    "#install.packages(\"readxl\")\n",
    "library(\"readxl\")\n",
    "# my_data <- read_excel(file.choose())"
   ]
  },
  {
   "cell_type": "code",
   "execution_count": 3,
   "metadata": {},
   "outputs": [
    {
     "data": {
      "text/html": [
       "<table>\n",
       "<thead><tr><th scope=col>DATE</th><th scope=col>CNX</th><th scope=col>TATA AUTO</th><th scope=col>HDFC</th><th scope=col>LARSEN</th><th scope=col>TKK</th><th scope=col>DABUR</th><th scope=col>SUN</th><th scope=col>WIPRO</th><th scope=col>TATA STEEL</th><th scope=col>INDIAN</th><th scope=col>NTPC</th><th scope=col>BHARTI</th></tr></thead>\n",
       "<tbody>\n",
       "\t<tr><td>2008-01-01</td><td>5384.55   </td><td>95.8682   </td><td>295.96    </td><td>1244.579  </td><td>182.45    </td><td>51.85673  </td><td>87.251    </td><td>265.176   </td><td>756.5146  </td><td>315.9688  </td><td>211.65    </td><td>468.007   </td></tr>\n",
       "\t<tr><td>2008-01-02</td><td>5437.80   </td><td>99.7002   </td><td>291.19    </td><td>1242.210  </td><td>179.69    </td><td>51.56961  </td><td>86.596    </td><td>262.504   </td><td>757.5695  </td><td>312.7114  </td><td>211.36    </td><td>467.233   </td></tr>\n",
       "\t<tr><td>2008-01-03</td><td>5442.20   </td><td>99.6373   </td><td>288.63    </td><td>1217.149  </td><td>185.25    </td><td>52.56346  </td><td>82.962    </td><td>254.799   </td><td>751.5648  </td><td>317.6993  </td><td>226.98    </td><td>459.924   </td></tr>\n",
       "\t<tr><td>2008-01-04</td><td>5502.60   </td><td>98.5376   </td><td>288.63    </td><td>1275.376  </td><td>200.73    </td><td>53.64565  </td><td>81.049    </td><td>253.258   </td><td>755.7032  </td><td>318.0047  </td><td>223.16    </td><td>459.343   </td></tr>\n",
       "\t<tr><td>2008-01-07</td><td>5500.15   </td><td>98.7452   </td><td>282.33    </td><td>1285.615  </td><td>189.72    </td><td>54.90452  </td><td>81.572    </td><td>247.093   </td><td>751.2402  </td><td>306.1965  </td><td>220.98    </td><td>452.615   </td></tr>\n",
       "\t<tr><td>2008-01-08</td><td>5460.30   </td><td>96.7476   </td><td>292.21    </td><td>1301.986  </td><td>181.50    </td><td>52.85057  </td><td>81.378    </td><td>252.693   </td><td>723.2452  </td><td>293.6555  </td><td>217.77    </td><td>470.573   </td></tr>\n",
       "</tbody>\n",
       "</table>\n"
      ],
      "text/latex": [
       "\\begin{tabular}{r|lllllllllllll}\n",
       " DATE & CNX & TATA AUTO & HDFC & LARSEN & TKK & DABUR & SUN & WIPRO & TATA STEEL & INDIAN & NTPC & BHARTI\\\\\n",
       "\\hline\n",
       "\t 2008-01-01 & 5384.55    & 95.8682    & 295.96     & 1244.579   & 182.45     & 51.85673   & 87.251     & 265.176    & 756.5146   & 315.9688   & 211.65     & 468.007   \\\\\n",
       "\t 2008-01-02 & 5437.80    & 99.7002    & 291.19     & 1242.210   & 179.69     & 51.56961   & 86.596     & 262.504    & 757.5695   & 312.7114   & 211.36     & 467.233   \\\\\n",
       "\t 2008-01-03 & 5442.20    & 99.6373    & 288.63     & 1217.149   & 185.25     & 52.56346   & 82.962     & 254.799    & 751.5648   & 317.6993   & 226.98     & 459.924   \\\\\n",
       "\t 2008-01-04 & 5502.60    & 98.5376    & 288.63     & 1275.376   & 200.73     & 53.64565   & 81.049     & 253.258    & 755.7032   & 318.0047   & 223.16     & 459.343   \\\\\n",
       "\t 2008-01-07 & 5500.15    & 98.7452    & 282.33     & 1285.615   & 189.72     & 54.90452   & 81.572     & 247.093    & 751.2402   & 306.1965   & 220.98     & 452.615   \\\\\n",
       "\t 2008-01-08 & 5460.30    & 96.7476    & 292.21     & 1301.986   & 181.50     & 52.85057   & 81.378     & 252.693    & 723.2452   & 293.6555   & 217.77     & 470.573   \\\\\n",
       "\\end{tabular}\n"
      ],
      "text/markdown": [
       "\n",
       "| DATE | CNX | TATA AUTO | HDFC | LARSEN | TKK | DABUR | SUN | WIPRO | TATA STEEL | INDIAN | NTPC | BHARTI |\n",
       "|---|---|---|---|---|---|---|---|---|---|---|---|---|\n",
       "| 2008-01-01 | 5384.55    | 95.8682    | 295.96     | 1244.579   | 182.45     | 51.85673   | 87.251     | 265.176    | 756.5146   | 315.9688   | 211.65     | 468.007    |\n",
       "| 2008-01-02 | 5437.80    | 99.7002    | 291.19     | 1242.210   | 179.69     | 51.56961   | 86.596     | 262.504    | 757.5695   | 312.7114   | 211.36     | 467.233    |\n",
       "| 2008-01-03 | 5442.20    | 99.6373    | 288.63     | 1217.149   | 185.25     | 52.56346   | 82.962     | 254.799    | 751.5648   | 317.6993   | 226.98     | 459.924    |\n",
       "| 2008-01-04 | 5502.60    | 98.5376    | 288.63     | 1275.376   | 200.73     | 53.64565   | 81.049     | 253.258    | 755.7032   | 318.0047   | 223.16     | 459.343    |\n",
       "| 2008-01-07 | 5500.15    | 98.7452    | 282.33     | 1285.615   | 189.72     | 54.90452   | 81.572     | 247.093    | 751.2402   | 306.1965   | 220.98     | 452.615    |\n",
       "| 2008-01-08 | 5460.30    | 96.7476    | 292.21     | 1301.986   | 181.50     | 52.85057   | 81.378     | 252.693    | 723.2452   | 293.6555   | 217.77     | 470.573    |\n",
       "\n"
      ],
      "text/plain": [
       "  DATE       CNX     TATA AUTO HDFC   LARSEN   TKK    DABUR    SUN    WIPRO  \n",
       "1 2008-01-01 5384.55 95.8682   295.96 1244.579 182.45 51.85673 87.251 265.176\n",
       "2 2008-01-02 5437.80 99.7002   291.19 1242.210 179.69 51.56961 86.596 262.504\n",
       "3 2008-01-03 5442.20 99.6373   288.63 1217.149 185.25 52.56346 82.962 254.799\n",
       "4 2008-01-04 5502.60 98.5376   288.63 1275.376 200.73 53.64565 81.049 253.258\n",
       "5 2008-01-07 5500.15 98.7452   282.33 1285.615 189.72 54.90452 81.572 247.093\n",
       "6 2008-01-08 5460.30 96.7476   292.21 1301.986 181.50 52.85057 81.378 252.693\n",
       "  TATA STEEL INDIAN   NTPC   BHARTI \n",
       "1 756.5146   315.9688 211.65 468.007\n",
       "2 757.5695   312.7114 211.36 467.233\n",
       "3 751.5648   317.6993 226.98 459.924\n",
       "4 755.7032   318.0047 223.16 459.343\n",
       "5 751.2402   306.1965 220.98 452.615\n",
       "6 723.2452   293.6555 217.77 470.573"
      ]
     },
     "metadata": {},
     "output_type": "display_data"
    }
   ],
   "source": [
    "kapoor_df <- read_excel(\"Data/kapoor.xlsx\")\n",
    "head(kapoor_df)"
   ]
  },
  {
   "cell_type": "code",
   "execution_count": 4,
   "metadata": {},
   "outputs": [
    {
     "data": {
      "text/html": [
       "<ol class=list-inline>\n",
       "\t<li>'DATE'</li>\n",
       "\t<li>'CNX'</li>\n",
       "\t<li>'TATA AUTO'</li>\n",
       "\t<li>'HDFC'</li>\n",
       "\t<li>'LARSEN'</li>\n",
       "\t<li>'TKK'</li>\n",
       "\t<li>'DABUR'</li>\n",
       "\t<li>'SUN'</li>\n",
       "\t<li>'WIPRO'</li>\n",
       "\t<li>'TATA STEEL'</li>\n",
       "\t<li>'INDIAN'</li>\n",
       "\t<li>'NTPC'</li>\n",
       "\t<li>'BHARTI'</li>\n",
       "</ol>\n"
      ],
      "text/latex": [
       "\\begin{enumerate*}\n",
       "\\item 'DATE'\n",
       "\\item 'CNX'\n",
       "\\item 'TATA AUTO'\n",
       "\\item 'HDFC'\n",
       "\\item 'LARSEN'\n",
       "\\item 'TKK'\n",
       "\\item 'DABUR'\n",
       "\\item 'SUN'\n",
       "\\item 'WIPRO'\n",
       "\\item 'TATA STEEL'\n",
       "\\item 'INDIAN'\n",
       "\\item 'NTPC'\n",
       "\\item 'BHARTI'\n",
       "\\end{enumerate*}\n"
      ],
      "text/markdown": [
       "1. 'DATE'\n",
       "2. 'CNX'\n",
       "3. 'TATA AUTO'\n",
       "4. 'HDFC'\n",
       "5. 'LARSEN'\n",
       "6. 'TKK'\n",
       "7. 'DABUR'\n",
       "8. 'SUN'\n",
       "9. 'WIPRO'\n",
       "10. 'TATA STEEL'\n",
       "11. 'INDIAN'\n",
       "12. 'NTPC'\n",
       "13. 'BHARTI'\n",
       "\n",
       "\n"
      ],
      "text/plain": [
       " [1] \"DATE\"       \"CNX\"        \"TATA AUTO\"  \"HDFC\"       \"LARSEN\"    \n",
       " [6] \"TKK\"        \"DABUR\"      \"SUN\"        \"WIPRO\"      \"TATA STEEL\"\n",
       "[11] \"INDIAN\"     \"NTPC\"       \"BHARTI\"    "
      ]
     },
     "metadata": {},
     "output_type": "display_data"
    }
   ],
   "source": [
    "#kapoor_diff <- diff(select(kapoor_df,CNX:BHARTI))\n",
    "#head(kapoor_df)\n",
    "names(kapoor_df)"
   ]
  },
  {
   "cell_type": "code",
   "execution_count": 8,
   "metadata": {},
   "outputs": [],
   "source": [
    "#sapply(kapoor_df, class)"
   ]
  },
  {
   "cell_type": "code",
   "execution_count": 9,
   "metadata": {
    "scrolled": true
   },
   "outputs": [],
   "source": [
    "#head(kapoor_df[-1,2]) # P(t)"
   ]
  },
  {
   "cell_type": "code",
   "execution_count": 10,
   "metadata": {},
   "outputs": [],
   "source": [
    "#tail(kapoor_df[,2]) #P(t-1)"
   ]
  },
  {
   "cell_type": "code",
   "execution_count": 15,
   "metadata": {},
   "outputs": [
    {
     "data": {
      "text/html": [
       "<table>\n",
       "<thead><tr><th scope=col>DATE</th><th scope=col>CNX</th><th scope=col>TATA AUTO</th><th scope=col>HDFC</th><th scope=col>LARSEN</th><th scope=col>TKK</th><th scope=col>DABUR</th><th scope=col>SUN</th><th scope=col>WIPRO</th><th scope=col>TATA STEEL</th><th scope=col>INDIAN</th><th scope=col>NTPC</th><th scope=col>BHARTI</th></tr></thead>\n",
       "<tbody>\n",
       "\t<tr><td>2014-12-31</td><td>6773.65   </td><td>490.291   </td><td>944.50    </td><td>1479.624  </td><td>3574.58   </td><td>233.1141  </td><td>826.15    </td><td>543.705   </td><td>388.0048  </td><td>326.7645  </td><td>141.10    </td><td>350.736   </td></tr>\n",
       "\t<tr><td>2014-12-30</td><td>6733.75   </td><td>488.510   </td><td>949.31    </td><td>1483.188  </td><td>3532.07   </td><td>231.6681  </td><td>820.55    </td><td>541.109   </td><td>384.9933  </td><td>327.0103  </td><td>139.09    </td><td>347.803   </td></tr>\n",
       "\t<tr><td>2014-12-29</td><td>6718.60   </td><td>489.796   </td><td>944.60    </td><td>1475.318  </td><td>3488.51   </td><td>227.8285  </td><td>820.25    </td><td>538.759   </td><td>392.5708  </td><td>326.4694  </td><td>137.28    </td><td>349.244   </td></tr>\n",
       "\t<tr><td>2014-12-26</td><td>6674.80   </td><td>480.001   </td><td>941.57    </td><td>1475.219  </td><td>3482.94   </td><td>229.3245  </td><td>811.20    </td><td>536.066   </td><td>386.8877  </td><td>322.3387  </td><td>136.49    </td><td>352.327   </td></tr>\n",
       "\t<tr><td>2014-12-24</td><td>6650.60   </td><td>478.814   </td><td>938.20    </td><td>1462.993  </td><td>3494.03   </td><td>227.7787  </td><td>804.70    </td><td>534.205   </td><td>383.9733  </td><td>321.4536  </td><td>136.54    </td><td>351.134   </td></tr>\n",
       "\t<tr><td>2014-12-23</td><td>6703.00   </td><td>482.970   </td><td>952.59    </td><td>1482.743  </td><td>3492.59   </td><td>232.1667  </td><td>813.05    </td><td>540.963   </td><td>383.5361  </td><td>329.5182  </td><td>140.07    </td><td>353.222   </td></tr>\n",
       "</tbody>\n",
       "</table>\n"
      ],
      "text/latex": [
       "\\begin{tabular}{r|lllllllllllll}\n",
       " DATE & CNX & TATA AUTO & HDFC & LARSEN & TKK & DABUR & SUN & WIPRO & TATA STEEL & INDIAN & NTPC & BHARTI\\\\\n",
       "\\hline\n",
       "\t 2014-12-31 & 6773.65    & 490.291    & 944.50     & 1479.624   & 3574.58    & 233.1141   & 826.15     & 543.705    & 388.0048   & 326.7645   & 141.10     & 350.736   \\\\\n",
       "\t 2014-12-30 & 6733.75    & 488.510    & 949.31     & 1483.188   & 3532.07    & 231.6681   & 820.55     & 541.109    & 384.9933   & 327.0103   & 139.09     & 347.803   \\\\\n",
       "\t 2014-12-29 & 6718.60    & 489.796    & 944.60     & 1475.318   & 3488.51    & 227.8285   & 820.25     & 538.759    & 392.5708   & 326.4694   & 137.28     & 349.244   \\\\\n",
       "\t 2014-12-26 & 6674.80    & 480.001    & 941.57     & 1475.219   & 3482.94    & 229.3245   & 811.20     & 536.066    & 386.8877   & 322.3387   & 136.49     & 352.327   \\\\\n",
       "\t 2014-12-24 & 6650.60    & 478.814    & 938.20     & 1462.993   & 3494.03    & 227.7787   & 804.70     & 534.205    & 383.9733   & 321.4536   & 136.54     & 351.134   \\\\\n",
       "\t 2014-12-23 & 6703.00    & 482.970    & 952.59     & 1482.743   & 3492.59    & 232.1667   & 813.05     & 540.963    & 383.5361   & 329.5182   & 140.07     & 353.222   \\\\\n",
       "\\end{tabular}\n"
      ],
      "text/markdown": [
       "\n",
       "| DATE | CNX | TATA AUTO | HDFC | LARSEN | TKK | DABUR | SUN | WIPRO | TATA STEEL | INDIAN | NTPC | BHARTI |\n",
       "|---|---|---|---|---|---|---|---|---|---|---|---|---|\n",
       "| 2014-12-31 | 6773.65    | 490.291    | 944.50     | 1479.624   | 3574.58    | 233.1141   | 826.15     | 543.705    | 388.0048   | 326.7645   | 141.10     | 350.736    |\n",
       "| 2014-12-30 | 6733.75    | 488.510    | 949.31     | 1483.188   | 3532.07    | 231.6681   | 820.55     | 541.109    | 384.9933   | 327.0103   | 139.09     | 347.803    |\n",
       "| 2014-12-29 | 6718.60    | 489.796    | 944.60     | 1475.318   | 3488.51    | 227.8285   | 820.25     | 538.759    | 392.5708   | 326.4694   | 137.28     | 349.244    |\n",
       "| 2014-12-26 | 6674.80    | 480.001    | 941.57     | 1475.219   | 3482.94    | 229.3245   | 811.20     | 536.066    | 386.8877   | 322.3387   | 136.49     | 352.327    |\n",
       "| 2014-12-24 | 6650.60    | 478.814    | 938.20     | 1462.993   | 3494.03    | 227.7787   | 804.70     | 534.205    | 383.9733   | 321.4536   | 136.54     | 351.134    |\n",
       "| 2014-12-23 | 6703.00    | 482.970    | 952.59     | 1482.743   | 3492.59    | 232.1667   | 813.05     | 540.963    | 383.5361   | 329.5182   | 140.07     | 353.222    |\n",
       "\n"
      ],
      "text/plain": [
       "  DATE       CNX     TATA AUTO HDFC   LARSEN   TKK     DABUR    SUN    WIPRO  \n",
       "1 2014-12-31 6773.65 490.291   944.50 1479.624 3574.58 233.1141 826.15 543.705\n",
       "2 2014-12-30 6733.75 488.510   949.31 1483.188 3532.07 231.6681 820.55 541.109\n",
       "3 2014-12-29 6718.60 489.796   944.60 1475.318 3488.51 227.8285 820.25 538.759\n",
       "4 2014-12-26 6674.80 480.001   941.57 1475.219 3482.94 229.3245 811.20 536.066\n",
       "5 2014-12-24 6650.60 478.814   938.20 1462.993 3494.03 227.7787 804.70 534.205\n",
       "6 2014-12-23 6703.00 482.970   952.59 1482.743 3492.59 232.1667 813.05 540.963\n",
       "  TATA STEEL INDIAN   NTPC   BHARTI \n",
       "1 388.0048   326.7645 141.10 350.736\n",
       "2 384.9933   327.0103 139.09 347.803\n",
       "3 392.5708   326.4694 137.28 349.244\n",
       "4 386.8877   322.3387 136.49 352.327\n",
       "5 383.9733   321.4536 136.54 351.134\n",
       "6 383.5361   329.5182 140.07 353.222"
      ]
     },
     "metadata": {},
     "output_type": "display_data"
    }
   ],
   "source": [
    "head(kapoor_df[order(kapoor_df$DATE, decreasing=TRUE),])"
   ]
  },
  {
   "cell_type": "code",
   "execution_count": 16,
   "metadata": {},
   "outputs": [
    {
     "data": {
      "text/html": [
       "<table>\n",
       "<thead><tr><th scope=col>CNX</th></tr></thead>\n",
       "<tbody>\n",
       "\t<tr><td>6744.15</td></tr>\n",
       "\t<tr><td>6703.00</td></tr>\n",
       "\t<tr><td>6650.60</td></tr>\n",
       "\t<tr><td>6674.80</td></tr>\n",
       "\t<tr><td>6718.60</td></tr>\n",
       "\t<tr><td>6733.75</td></tr>\n",
       "</tbody>\n",
       "</table>\n"
      ],
      "text/latex": [
       "\\begin{tabular}{r|l}\n",
       " CNX\\\\\n",
       "\\hline\n",
       "\t 6744.15\\\\\n",
       "\t 6703.00\\\\\n",
       "\t 6650.60\\\\\n",
       "\t 6674.80\\\\\n",
       "\t 6718.60\\\\\n",
       "\t 6733.75\\\\\n",
       "\\end{tabular}\n"
      ],
      "text/markdown": [
       "\n",
       "| CNX |\n",
       "|---|\n",
       "| 6744.15 |\n",
       "| 6703.00 |\n",
       "| 6650.60 |\n",
       "| 6674.80 |\n",
       "| 6718.60 |\n",
       "| 6733.75 |\n",
       "\n"
      ],
      "text/plain": [
       "  CNX    \n",
       "1 6744.15\n",
       "2 6703.00\n",
       "3 6650.60\n",
       "4 6674.80\n",
       "5 6718.60\n",
       "6 6733.75"
      ]
     },
     "metadata": {},
     "output_type": "display_data"
    }
   ],
   "source": [
    "tail(kapoor_df[-nrow(kapoor_df[,2]),2])"
   ]
  },
  {
   "cell_type": "code",
   "execution_count": 17,
   "metadata": {},
   "outputs": [
    {
     "data": {
      "text/html": [
       "<table>\n",
       "<thead><tr><th scope=col>CNX</th></tr></thead>\n",
       "<tbody>\n",
       "\t<tr><td>1.0098894</td></tr>\n",
       "\t<tr><td>1.0008092</td></tr>\n",
       "\t<tr><td>1.0110984</td></tr>\n",
       "\t<tr><td>0.9995547</td></tr>\n",
       "\t<tr><td>0.9927547</td></tr>\n",
       "\t<tr><td>0.9984616</td></tr>\n",
       "</tbody>\n",
       "</table>\n"
      ],
      "text/latex": [
       "\\begin{tabular}{r|l}\n",
       " CNX\\\\\n",
       "\\hline\n",
       "\t 1.0098894\\\\\n",
       "\t 1.0008092\\\\\n",
       "\t 1.0110984\\\\\n",
       "\t 0.9995547\\\\\n",
       "\t 0.9927547\\\\\n",
       "\t 0.9984616\\\\\n",
       "\\end{tabular}\n"
      ],
      "text/markdown": [
       "\n",
       "| CNX |\n",
       "|---|\n",
       "| 1.0098894 |\n",
       "| 1.0008092 |\n",
       "| 1.0110984 |\n",
       "| 0.9995547 |\n",
       "| 0.9927547 |\n",
       "| 0.9984616 |\n",
       "\n"
      ],
      "text/plain": [
       "  CNX      \n",
       "1 1.0098894\n",
       "2 1.0008092\n",
       "3 1.0110984\n",
       "4 0.9995547\n",
       "5 0.9927547\n",
       "6 0.9984616"
      ]
     },
     "metadata": {},
     "output_type": "display_data"
    }
   ],
   "source": [
    "head((kapoor_df[-1,2]/kapoor_df[-nrow(kapoor_df[,2]),2]))"
   ]
  },
  {
   "cell_type": "code",
   "execution_count": 18,
   "metadata": {},
   "outputs": [
    {
     "data": {
      "text/html": [
       "<ol class=list-inline>\n",
       "\t<li>2</li>\n",
       "\t<li>3</li>\n",
       "\t<li>4</li>\n",
       "\t<li>5</li>\n",
       "\t<li>6</li>\n",
       "\t<li>7</li>\n",
       "\t<li>8</li>\n",
       "\t<li>9</li>\n",
       "\t<li>10</li>\n",
       "\t<li>11</li>\n",
       "\t<li>12</li>\n",
       "\t<li>13</li>\n",
       "</ol>\n"
      ],
      "text/latex": [
       "\\begin{enumerate*}\n",
       "\\item 2\n",
       "\\item 3\n",
       "\\item 4\n",
       "\\item 5\n",
       "\\item 6\n",
       "\\item 7\n",
       "\\item 8\n",
       "\\item 9\n",
       "\\item 10\n",
       "\\item 11\n",
       "\\item 12\n",
       "\\item 13\n",
       "\\end{enumerate*}\n"
      ],
      "text/markdown": [
       "1. 2\n",
       "2. 3\n",
       "3. 4\n",
       "4. 5\n",
       "5. 6\n",
       "6. 7\n",
       "7. 8\n",
       "8. 9\n",
       "9. 10\n",
       "10. 11\n",
       "11. 12\n",
       "12. 13\n",
       "\n",
       "\n"
      ],
      "text/plain": [
       " [1]  2  3  4  5  6  7  8  9 10 11 12 13"
      ]
     },
     "metadata": {},
     "output_type": "display_data"
    }
   ],
   "source": [
    "seq(2,ncol(kapoor_df))"
   ]
  },
  {
   "cell_type": "code",
   "execution_count": 19,
   "metadata": {},
   "outputs": [
    {
     "data": {
      "text/html": [
       "13"
      ],
      "text/latex": [
       "13"
      ],
      "text/markdown": [
       "13"
      ],
      "text/plain": [
       "[1] 13"
      ]
     },
     "metadata": {},
     "output_type": "display_data"
    }
   ],
   "source": [
    "ncol(kapoor_df)"
   ]
  },
  {
   "cell_type": "markdown",
   "metadata": {},
   "source": [
    "### Simple Gross Returns\n",
    "\n",
    "$$ \\frac{P_{t}}{P_{t-1}}=1+R_{t} $$\n",
    "\n",
    "Over the last k periods\n",
    "\n",
    "$$ 1+R_{t}(k) = \\frac{P_{t}}{P_{t-k}} = \\left(\\frac{P_{t}}{P_{t-1}}\\right)\\left(\\frac{P_{t-1}}{P_{t-2}}\\right)...\\left(\\frac{P_{t-k+1}}{P_{t-k}}\\right) $$\n",
    "\n",
    "$$ = (1+R_{t})...(1+R_{t-k+1}) $$"
   ]
  },
  {
   "cell_type": "code",
   "execution_count": 20,
   "metadata": {},
   "outputs": [],
   "source": [
    "GrossRet_df <- (kapoor_df[-1,-1]/kapoor_df[-nrow(kapoor_df[,]),-1])"
   ]
  },
  {
   "cell_type": "code",
   "execution_count": 21,
   "metadata": {},
   "outputs": [
    {
     "data": {
      "text/html": [
       "<table>\n",
       "<thead><tr><th scope=col>CNX</th><th scope=col>TATA AUTO</th><th scope=col>HDFC</th><th scope=col>LARSEN</th><th scope=col>TKK</th><th scope=col>DABUR</th><th scope=col>SUN</th><th scope=col>WIPRO</th><th scope=col>TATA STEEL</th><th scope=col>INDIAN</th><th scope=col>NTPC</th><th scope=col>BHARTI</th></tr></thead>\n",
       "<tbody>\n",
       "\t<tr><td>1.0098894</td><td>1.0399715</td><td>0.9838830</td><td>0.9980970</td><td>0.9848726</td><td>0.9944632</td><td>0.9924929</td><td>0.9899237</td><td>1.0013944</td><td>0.9896908</td><td>0.9986298</td><td>0.9983462</td></tr>\n",
       "\t<tr><td>1.0008092</td><td>0.9993691</td><td>0.9912085</td><td>0.9798254</td><td>1.0309422</td><td>1.0192720</td><td>0.9580350</td><td>0.9706481</td><td>0.9920737</td><td>1.0159505</td><td>1.0739023</td><td>0.9843568</td></tr>\n",
       "\t<tr><td>1.0110984</td><td>0.9889630</td><td>1.0000000</td><td>1.0478388</td><td>1.0835628</td><td>1.0205883</td><td>0.9769413</td><td>0.9939521</td><td>1.0055064</td><td>1.0009613</td><td>0.9831703</td><td>0.9987367</td></tr>\n",
       "\t<tr><td>0.9995547</td><td>1.0021068</td><td>0.9781727</td><td>1.0080281</td><td>0.9451502</td><td>1.0234664</td><td>1.0064529</td><td>0.9756572</td><td>0.9940942</td><td>0.9628678</td><td>0.9902312</td><td>0.9853530</td></tr>\n",
       "\t<tr><td>0.9927547</td><td>0.9797702</td><td>1.0349945</td><td>1.0127342</td><td>0.9566730</td><td>0.9625905</td><td>0.9976217</td><td>1.0226635</td><td>0.9627350</td><td>0.9590426</td><td>0.9854738</td><td>1.0396761</td></tr>\n",
       "\t<tr><td>0.9984616</td><td>1.0019494</td><td>1.0177612</td><td>1.0012104</td><td>0.9701377</td><td>0.9908065</td><td>0.9874659</td><td>1.0004037</td><td>1.0028049</td><td>0.9957018</td><td>1.0462414</td><td>0.9989205</td></tr>\n",
       "</tbody>\n",
       "</table>\n"
      ],
      "text/latex": [
       "\\begin{tabular}{r|llllllllllll}\n",
       " CNX & TATA AUTO & HDFC & LARSEN & TKK & DABUR & SUN & WIPRO & TATA STEEL & INDIAN & NTPC & BHARTI\\\\\n",
       "\\hline\n",
       "\t 1.0098894 & 1.0399715 & 0.9838830 & 0.9980970 & 0.9848726 & 0.9944632 & 0.9924929 & 0.9899237 & 1.0013944 & 0.9896908 & 0.9986298 & 0.9983462\\\\\n",
       "\t 1.0008092 & 0.9993691 & 0.9912085 & 0.9798254 & 1.0309422 & 1.0192720 & 0.9580350 & 0.9706481 & 0.9920737 & 1.0159505 & 1.0739023 & 0.9843568\\\\\n",
       "\t 1.0110984 & 0.9889630 & 1.0000000 & 1.0478388 & 1.0835628 & 1.0205883 & 0.9769413 & 0.9939521 & 1.0055064 & 1.0009613 & 0.9831703 & 0.9987367\\\\\n",
       "\t 0.9995547 & 1.0021068 & 0.9781727 & 1.0080281 & 0.9451502 & 1.0234664 & 1.0064529 & 0.9756572 & 0.9940942 & 0.9628678 & 0.9902312 & 0.9853530\\\\\n",
       "\t 0.9927547 & 0.9797702 & 1.0349945 & 1.0127342 & 0.9566730 & 0.9625905 & 0.9976217 & 1.0226635 & 0.9627350 & 0.9590426 & 0.9854738 & 1.0396761\\\\\n",
       "\t 0.9984616 & 1.0019494 & 1.0177612 & 1.0012104 & 0.9701377 & 0.9908065 & 0.9874659 & 1.0004037 & 1.0028049 & 0.9957018 & 1.0462414 & 0.9989205\\\\\n",
       "\\end{tabular}\n"
      ],
      "text/markdown": [
       "\n",
       "| CNX | TATA AUTO | HDFC | LARSEN | TKK | DABUR | SUN | WIPRO | TATA STEEL | INDIAN | NTPC | BHARTI |\n",
       "|---|---|---|---|---|---|---|---|---|---|---|---|\n",
       "| 1.0098894 | 1.0399715 | 0.9838830 | 0.9980970 | 0.9848726 | 0.9944632 | 0.9924929 | 0.9899237 | 1.0013944 | 0.9896908 | 0.9986298 | 0.9983462 |\n",
       "| 1.0008092 | 0.9993691 | 0.9912085 | 0.9798254 | 1.0309422 | 1.0192720 | 0.9580350 | 0.9706481 | 0.9920737 | 1.0159505 | 1.0739023 | 0.9843568 |\n",
       "| 1.0110984 | 0.9889630 | 1.0000000 | 1.0478388 | 1.0835628 | 1.0205883 | 0.9769413 | 0.9939521 | 1.0055064 | 1.0009613 | 0.9831703 | 0.9987367 |\n",
       "| 0.9995547 | 1.0021068 | 0.9781727 | 1.0080281 | 0.9451502 | 1.0234664 | 1.0064529 | 0.9756572 | 0.9940942 | 0.9628678 | 0.9902312 | 0.9853530 |\n",
       "| 0.9927547 | 0.9797702 | 1.0349945 | 1.0127342 | 0.9566730 | 0.9625905 | 0.9976217 | 1.0226635 | 0.9627350 | 0.9590426 | 0.9854738 | 1.0396761 |\n",
       "| 0.9984616 | 1.0019494 | 1.0177612 | 1.0012104 | 0.9701377 | 0.9908065 | 0.9874659 | 1.0004037 | 1.0028049 | 0.9957018 | 1.0462414 | 0.9989205 |\n",
       "\n"
      ],
      "text/plain": [
       "  CNX       TATA AUTO HDFC      LARSEN    TKK       DABUR     SUN      \n",
       "1 1.0098894 1.0399715 0.9838830 0.9980970 0.9848726 0.9944632 0.9924929\n",
       "2 1.0008092 0.9993691 0.9912085 0.9798254 1.0309422 1.0192720 0.9580350\n",
       "3 1.0110984 0.9889630 1.0000000 1.0478388 1.0835628 1.0205883 0.9769413\n",
       "4 0.9995547 1.0021068 0.9781727 1.0080281 0.9451502 1.0234664 1.0064529\n",
       "5 0.9927547 0.9797702 1.0349945 1.0127342 0.9566730 0.9625905 0.9976217\n",
       "6 0.9984616 1.0019494 1.0177612 1.0012104 0.9701377 0.9908065 0.9874659\n",
       "  WIPRO     TATA STEEL INDIAN    NTPC      BHARTI   \n",
       "1 0.9899237 1.0013944  0.9896908 0.9986298 0.9983462\n",
       "2 0.9706481 0.9920737  1.0159505 1.0739023 0.9843568\n",
       "3 0.9939521 1.0055064  1.0009613 0.9831703 0.9987367\n",
       "4 0.9756572 0.9940942  0.9628678 0.9902312 0.9853530\n",
       "5 1.0226635 0.9627350  0.9590426 0.9854738 1.0396761\n",
       "6 1.0004037 1.0028049  0.9957018 1.0462414 0.9989205"
      ]
     },
     "metadata": {},
     "output_type": "display_data"
    }
   ],
   "source": [
    "head(GrossRet_df)"
   ]
  },
  {
   "cell_type": "code",
   "execution_count": 22,
   "metadata": {},
   "outputs": [
    {
     "data": {
      "text/plain": [
       "      CNX           TATA AUTO           HDFC            LARSEN      \n",
       " Min.   :0.8905   Min.   :0.8235   Min.   :0.8854   Min.   :0.8911  \n",
       " 1st Qu.:0.9932   1st Qu.:0.9846   1st Qu.:0.9905   1st Qu.:0.9874  \n",
       " Median :1.0006   Median :1.0000   Median :1.0001   Median :0.9998  \n",
       " Mean   :1.0003   Mean   :1.0014   Mean   :1.0009   Mean   :1.0004  \n",
       " 3rd Qu.:1.0074   3rd Qu.:1.0171   3rd Qu.:1.0110   3rd Qu.:1.0133  \n",
       " Max.   :1.1622   Max.   :1.1908   Max.   :1.1581   Max.   :1.2453  \n",
       "      TKK             DABUR             SUN             WIPRO       \n",
       " Min.   :0.8236   Min.   :0.8366   Min.   :0.8783   Min.   :0.8219  \n",
       " 1st Qu.:0.9876   1st Qu.:0.9912   1st Qu.:0.9916   1st Qu.:0.9895  \n",
       " Median :1.0000   Median :1.0005   Median :1.0003   Median :1.0007  \n",
       " Mean   :1.0022   Mean   :1.0011   Mean   :1.0015   Mean   :1.0007  \n",
       " 3rd Qu.:1.0134   3rd Qu.:1.0106   3rd Qu.:1.0111   3rd Qu.:1.0120  \n",
       " Max.   :1.2031   Max.   :1.1774   Max.   :1.1383   Max.   :1.1254  \n",
       "   TATA STEEL         INDIAN            NTPC            BHARTI      \n",
       " Min.   :0.8486   Min.   :0.7907   Min.   :0.8604   Min.   :0.8293  \n",
       " 1st Qu.:0.9836   1st Qu.:0.9878   1st Qu.:0.9895   1st Qu.:0.9863  \n",
       " Median :1.0000   Median :1.0000   Median :1.0000   Median :0.9997  \n",
       " Mean   :1.0001   Mean   :1.0003   Mean   :1.0000   Mean   :1.0001  \n",
       " 3rd Qu.:1.0156   3rd Qu.:1.0113   3rd Qu.:1.0092   3rd Qu.:1.0136  \n",
       " Max.   :1.1700   Max.   :1.1643   Max.   :1.1283   Max.   :1.2541  "
      ]
     },
     "metadata": {},
     "output_type": "display_data"
    }
   ],
   "source": [
    "summary(GrossRet_df)"
   ]
  },
  {
   "cell_type": "code",
   "execution_count": null,
   "metadata": {},
   "outputs": [],
   "source": []
  },
  {
   "cell_type": "code",
   "execution_count": 23,
   "metadata": {},
   "outputs": [
    {
     "name": "stderr",
     "output_type": "stream",
     "text": [
      "Output file written: C:\\Users\\woosh\\Documents\\R Scripts\\Data\\dfSummary_GRkapoor.html\n"
     ]
    }
   ],
   "source": [
    "view(dfSummary(GrossRet_df), method = \"viewer\", file = \"Data/dfSummary_GRkapoor.html\")"
   ]
  },
  {
   "cell_type": "code",
   "execution_count": 24,
   "metadata": {},
   "outputs": [
    {
     "data": {
      "text/html": [
       "<iframe src=\"./Data/dfSummary_GRkapoor.html\" width=1000, height=1000></iframe>"
      ]
     },
     "metadata": {},
     "output_type": "display_data"
    }
   ],
   "source": [
    "#install.packages('IRdisplay')\n",
    "IRdisplay::display_html('<iframe src=\"./Data/dfSummary_GRkapoor.html\" width=1000, height=1000></iframe>')"
   ]
  },
  {
   "cell_type": "code",
   "execution_count": 25,
   "metadata": {},
   "outputs": [
    {
     "data": {
      "text/html": [
       "<table>\n",
       "<thead><tr><th scope=col>CNX</th><th scope=col>TATA AUTO</th><th scope=col>HDFC</th><th scope=col>LARSEN</th><th scope=col>TKK</th><th scope=col>DABUR</th><th scope=col>SUN</th><th scope=col>WIPRO</th><th scope=col>TATA STEEL</th><th scope=col>INDIAN</th><th scope=col>NTPC</th><th scope=col>BHARTI</th></tr></thead>\n",
       "<tbody>\n",
       "\t<tr><td>1.000253 </td><td>1.001412 </td><td>1.000897 </td><td>1.00041  </td><td>1.002181 </td><td>1.001058 </td><td>1.00149  </td><td>1.000689 </td><td>1.000073 </td><td>1.00029  </td><td>0.9999701</td><td>1.000133 </td></tr>\n",
       "</tbody>\n",
       "</table>\n"
      ],
      "text/latex": [
       "\\begin{tabular}{r|llllllllllll}\n",
       " CNX & TATA AUTO & HDFC & LARSEN & TKK & DABUR & SUN & WIPRO & TATA STEEL & INDIAN & NTPC & BHARTI\\\\\n",
       "\\hline\n",
       "\t 1.000253  & 1.001412  & 1.000897  & 1.00041   & 1.002181  & 1.001058  & 1.00149   & 1.000689  & 1.000073  & 1.00029   & 0.9999701 & 1.000133 \\\\\n",
       "\\end{tabular}\n"
      ],
      "text/markdown": [
       "\n",
       "| CNX | TATA AUTO | HDFC | LARSEN | TKK | DABUR | SUN | WIPRO | TATA STEEL | INDIAN | NTPC | BHARTI |\n",
       "|---|---|---|---|---|---|---|---|---|---|---|---|\n",
       "| 1.000253  | 1.001412  | 1.000897  | 1.00041   | 1.002181  | 1.001058  | 1.00149   | 1.000689  | 1.000073  | 1.00029   | 0.9999701 | 1.000133  |\n",
       "\n"
      ],
      "text/plain": [
       "  CNX      TATA AUTO HDFC     LARSEN  TKK      DABUR    SUN     WIPRO   \n",
       "1 1.000253 1.001412  1.000897 1.00041 1.002181 1.001058 1.00149 1.000689\n",
       "  TATA STEEL INDIAN  NTPC      BHARTI  \n",
       "1 1.000073   1.00029 0.9999701 1.000133"
      ]
     },
     "metadata": {},
     "output_type": "display_data"
    }
   ],
   "source": [
    "dplyr::summarise_all(GrossRet_df, mean)"
   ]
  },
  {
   "cell_type": "code",
   "execution_count": 26,
   "metadata": {},
   "outputs": [
    {
     "data": {
      "text/html": [
       "<table>\n",
       "<thead><tr><th scope=col>CNX</th><th scope=col>TATA AUTO</th><th scope=col>HDFC</th><th scope=col>LARSEN</th><th scope=col>TKK</th><th scope=col>DABUR</th><th scope=col>SUN</th><th scope=col>WIPRO</th><th scope=col>TATA STEEL</th><th scope=col>INDIAN</th><th scope=col>NTPC</th><th scope=col>BHARTI</th></tr></thead>\n",
       "<tbody>\n",
       "\t<tr><td>0.0155368 </td><td>0.0307536 </td><td>0.02129764</td><td>0.02503423</td><td>0.03065582</td><td>0.01948208</td><td>0.01958096</td><td>0.02337076</td><td>0.03027715</td><td>0.02329676</td><td>0.0202055 </td><td>0.02454893</td></tr>\n",
       "</tbody>\n",
       "</table>\n"
      ],
      "text/latex": [
       "\\begin{tabular}{r|llllllllllll}\n",
       " CNX & TATA AUTO & HDFC & LARSEN & TKK & DABUR & SUN & WIPRO & TATA STEEL & INDIAN & NTPC & BHARTI\\\\\n",
       "\\hline\n",
       "\t 0.0155368  & 0.0307536  & 0.02129764 & 0.02503423 & 0.03065582 & 0.01948208 & 0.01958096 & 0.02337076 & 0.03027715 & 0.02329676 & 0.0202055  & 0.02454893\\\\\n",
       "\\end{tabular}\n"
      ],
      "text/markdown": [
       "\n",
       "| CNX | TATA AUTO | HDFC | LARSEN | TKK | DABUR | SUN | WIPRO | TATA STEEL | INDIAN | NTPC | BHARTI |\n",
       "|---|---|---|---|---|---|---|---|---|---|---|---|\n",
       "| 0.0155368  | 0.0307536  | 0.02129764 | 0.02503423 | 0.03065582 | 0.01948208 | 0.01958096 | 0.02337076 | 0.03027715 | 0.02329676 | 0.0202055  | 0.02454893 |\n",
       "\n"
      ],
      "text/plain": [
       "  CNX       TATA AUTO HDFC       LARSEN     TKK        DABUR      SUN       \n",
       "1 0.0155368 0.0307536 0.02129764 0.02503423 0.03065582 0.01948208 0.01958096\n",
       "  WIPRO      TATA STEEL INDIAN     NTPC      BHARTI    \n",
       "1 0.02337076 0.03027715 0.02329676 0.0202055 0.02454893"
      ]
     },
     "metadata": {},
     "output_type": "display_data"
    }
   ],
   "source": [
    "dplyr::summarise_all(GrossRet_df, sd)"
   ]
  },
  {
   "cell_type": "code",
   "execution_count": null,
   "metadata": {},
   "outputs": [],
   "source": []
  },
  {
   "cell_type": "code",
   "execution_count": 27,
   "metadata": {
    "scrolled": true
   },
   "outputs": [
    {
     "data": {
      "text/html": [
       "<table>\n",
       "<thead><tr><th scope=col>DATE</th><th scope=col>CNX</th><th scope=col>TATA AUTO</th><th scope=col>HDFC</th><th scope=col>LARSEN</th><th scope=col>TKK</th><th scope=col>DABUR</th><th scope=col>SUN</th><th scope=col>WIPRO</th><th scope=col>TATA STEEL</th><th scope=col>INDIAN</th><th scope=col>NTPC</th><th scope=col>BHARTI</th></tr></thead>\n",
       "<tbody>\n",
       "\t<tr><td>2008-01-02</td><td>1.0098894 </td><td>1.0399715 </td><td>0.9838830 </td><td>0.9980970 </td><td>0.9848726 </td><td>0.9944632 </td><td>0.9924929 </td><td>0.9899237 </td><td>1.0013944 </td><td>0.9896908 </td><td>0.9986298 </td><td>0.9983462 </td></tr>\n",
       "\t<tr><td>2008-01-03</td><td>1.0008092 </td><td>0.9993691 </td><td>0.9912085 </td><td>0.9798254 </td><td>1.0309422 </td><td>1.0192720 </td><td>0.9580350 </td><td>0.9706481 </td><td>0.9920737 </td><td>1.0159505 </td><td>1.0739023 </td><td>0.9843568 </td></tr>\n",
       "\t<tr><td>2008-01-04</td><td>1.0110984 </td><td>0.9889630 </td><td>1.0000000 </td><td>1.0478388 </td><td>1.0835628 </td><td>1.0205883 </td><td>0.9769413 </td><td>0.9939521 </td><td>1.0055064 </td><td>1.0009613 </td><td>0.9831703 </td><td>0.9987367 </td></tr>\n",
       "\t<tr><td>2008-01-07</td><td>0.9995547 </td><td>1.0021068 </td><td>0.9781727 </td><td>1.0080281 </td><td>0.9451502 </td><td>1.0234664 </td><td>1.0064529 </td><td>0.9756572 </td><td>0.9940942 </td><td>0.9628678 </td><td>0.9902312 </td><td>0.9853530 </td></tr>\n",
       "\t<tr><td>2008-01-08</td><td>0.9927547 </td><td>0.9797702 </td><td>1.0349945 </td><td>1.0127342 </td><td>0.9566730 </td><td>0.9625905 </td><td>0.9976217 </td><td>1.0226635 </td><td>0.9627350 </td><td>0.9590426 </td><td>0.9854738 </td><td>1.0396761 </td></tr>\n",
       "\t<tr><td>2008-01-09</td><td>0.9984616 </td><td>1.0019494 </td><td>1.0177612 </td><td>1.0012104 </td><td>0.9701377 </td><td>0.9908065 </td><td>0.9874659 </td><td>1.0004037 </td><td>1.0028049 </td><td>0.9957018 </td><td>1.0462414 </td><td>0.9989205 </td></tr>\n",
       "</tbody>\n",
       "</table>\n"
      ],
      "text/latex": [
       "\\begin{tabular}{r|lllllllllllll}\n",
       " DATE & CNX & TATA AUTO & HDFC & LARSEN & TKK & DABUR & SUN & WIPRO & TATA STEEL & INDIAN & NTPC & BHARTI\\\\\n",
       "\\hline\n",
       "\t 2008-01-02 & 1.0098894  & 1.0399715  & 0.9838830  & 0.9980970  & 0.9848726  & 0.9944632  & 0.9924929  & 0.9899237  & 1.0013944  & 0.9896908  & 0.9986298  & 0.9983462 \\\\\n",
       "\t 2008-01-03 & 1.0008092  & 0.9993691  & 0.9912085  & 0.9798254  & 1.0309422  & 1.0192720  & 0.9580350  & 0.9706481  & 0.9920737  & 1.0159505  & 1.0739023  & 0.9843568 \\\\\n",
       "\t 2008-01-04 & 1.0110984  & 0.9889630  & 1.0000000  & 1.0478388  & 1.0835628  & 1.0205883  & 0.9769413  & 0.9939521  & 1.0055064  & 1.0009613  & 0.9831703  & 0.9987367 \\\\\n",
       "\t 2008-01-07 & 0.9995547  & 1.0021068  & 0.9781727  & 1.0080281  & 0.9451502  & 1.0234664  & 1.0064529  & 0.9756572  & 0.9940942  & 0.9628678  & 0.9902312  & 0.9853530 \\\\\n",
       "\t 2008-01-08 & 0.9927547  & 0.9797702  & 1.0349945  & 1.0127342  & 0.9566730  & 0.9625905  & 0.9976217  & 1.0226635  & 0.9627350  & 0.9590426  & 0.9854738  & 1.0396761 \\\\\n",
       "\t 2008-01-09 & 0.9984616  & 1.0019494  & 1.0177612  & 1.0012104  & 0.9701377  & 0.9908065  & 0.9874659  & 1.0004037  & 1.0028049  & 0.9957018  & 1.0462414  & 0.9989205 \\\\\n",
       "\\end{tabular}\n"
      ],
      "text/markdown": [
       "\n",
       "| DATE | CNX | TATA AUTO | HDFC | LARSEN | TKK | DABUR | SUN | WIPRO | TATA STEEL | INDIAN | NTPC | BHARTI |\n",
       "|---|---|---|---|---|---|---|---|---|---|---|---|---|\n",
       "| 2008-01-02 | 1.0098894  | 1.0399715  | 0.9838830  | 0.9980970  | 0.9848726  | 0.9944632  | 0.9924929  | 0.9899237  | 1.0013944  | 0.9896908  | 0.9986298  | 0.9983462  |\n",
       "| 2008-01-03 | 1.0008092  | 0.9993691  | 0.9912085  | 0.9798254  | 1.0309422  | 1.0192720  | 0.9580350  | 0.9706481  | 0.9920737  | 1.0159505  | 1.0739023  | 0.9843568  |\n",
       "| 2008-01-04 | 1.0110984  | 0.9889630  | 1.0000000  | 1.0478388  | 1.0835628  | 1.0205883  | 0.9769413  | 0.9939521  | 1.0055064  | 1.0009613  | 0.9831703  | 0.9987367  |\n",
       "| 2008-01-07 | 0.9995547  | 1.0021068  | 0.9781727  | 1.0080281  | 0.9451502  | 1.0234664  | 1.0064529  | 0.9756572  | 0.9940942  | 0.9628678  | 0.9902312  | 0.9853530  |\n",
       "| 2008-01-08 | 0.9927547  | 0.9797702  | 1.0349945  | 1.0127342  | 0.9566730  | 0.9625905  | 0.9976217  | 1.0226635  | 0.9627350  | 0.9590426  | 0.9854738  | 1.0396761  |\n",
       "| 2008-01-09 | 0.9984616  | 1.0019494  | 1.0177612  | 1.0012104  | 0.9701377  | 0.9908065  | 0.9874659  | 1.0004037  | 1.0028049  | 0.9957018  | 1.0462414  | 0.9989205  |\n",
       "\n"
      ],
      "text/plain": [
       "  DATE       CNX       TATA AUTO HDFC      LARSEN    TKK       DABUR    \n",
       "1 2008-01-02 1.0098894 1.0399715 0.9838830 0.9980970 0.9848726 0.9944632\n",
       "2 2008-01-03 1.0008092 0.9993691 0.9912085 0.9798254 1.0309422 1.0192720\n",
       "3 2008-01-04 1.0110984 0.9889630 1.0000000 1.0478388 1.0835628 1.0205883\n",
       "4 2008-01-07 0.9995547 1.0021068 0.9781727 1.0080281 0.9451502 1.0234664\n",
       "5 2008-01-08 0.9927547 0.9797702 1.0349945 1.0127342 0.9566730 0.9625905\n",
       "6 2008-01-09 0.9984616 1.0019494 1.0177612 1.0012104 0.9701377 0.9908065\n",
       "  SUN       WIPRO     TATA STEEL INDIAN    NTPC      BHARTI   \n",
       "1 0.9924929 0.9899237 1.0013944  0.9896908 0.9986298 0.9983462\n",
       "2 0.9580350 0.9706481 0.9920737  1.0159505 1.0739023 0.9843568\n",
       "3 0.9769413 0.9939521 1.0055064  1.0009613 0.9831703 0.9987367\n",
       "4 1.0064529 0.9756572 0.9940942  0.9628678 0.9902312 0.9853530\n",
       "5 0.9976217 1.0226635 0.9627350  0.9590426 0.9854738 1.0396761\n",
       "6 0.9874659 1.0004037 1.0028049  0.9957018 1.0462414 0.9989205"
      ]
     },
     "metadata": {},
     "output_type": "display_data"
    }
   ],
   "source": [
    "GrossRet_df<- add_column(GrossRet_df,kapoor_df[-1,1],.before = TRUE)\n",
    "head(GrossRet_df)"
   ]
  },
  {
   "cell_type": "code",
   "execution_count": null,
   "metadata": {},
   "outputs": [],
   "source": []
  },
  {
   "cell_type": "code",
   "execution_count": 28,
   "metadata": {
    "scrolled": true
   },
   "outputs": [
    {
     "data": {
      "text/html": [
       "<ol class=list-inline>\n",
       "\t<li>'DATE'</li>\n",
       "\t<li>'CNX'</li>\n",
       "\t<li>'TATA AUTO'</li>\n",
       "\t<li>'HDFC'</li>\n",
       "\t<li>'LARSEN'</li>\n",
       "\t<li>'TKK'</li>\n",
       "\t<li>'DABUR'</li>\n",
       "\t<li>'SUN'</li>\n",
       "\t<li>'WIPRO'</li>\n",
       "\t<li>'TATA STEEL'</li>\n",
       "\t<li>'INDIAN'</li>\n",
       "\t<li>'NTPC'</li>\n",
       "\t<li>'BHARTI'</li>\n",
       "</ol>\n"
      ],
      "text/latex": [
       "\\begin{enumerate*}\n",
       "\\item 'DATE'\n",
       "\\item 'CNX'\n",
       "\\item 'TATA AUTO'\n",
       "\\item 'HDFC'\n",
       "\\item 'LARSEN'\n",
       "\\item 'TKK'\n",
       "\\item 'DABUR'\n",
       "\\item 'SUN'\n",
       "\\item 'WIPRO'\n",
       "\\item 'TATA STEEL'\n",
       "\\item 'INDIAN'\n",
       "\\item 'NTPC'\n",
       "\\item 'BHARTI'\n",
       "\\end{enumerate*}\n"
      ],
      "text/markdown": [
       "1. 'DATE'\n",
       "2. 'CNX'\n",
       "3. 'TATA AUTO'\n",
       "4. 'HDFC'\n",
       "5. 'LARSEN'\n",
       "6. 'TKK'\n",
       "7. 'DABUR'\n",
       "8. 'SUN'\n",
       "9. 'WIPRO'\n",
       "10. 'TATA STEEL'\n",
       "11. 'INDIAN'\n",
       "12. 'NTPC'\n",
       "13. 'BHARTI'\n",
       "\n",
       "\n"
      ],
      "text/plain": [
       " [1] \"DATE\"       \"CNX\"        \"TATA AUTO\"  \"HDFC\"       \"LARSEN\"    \n",
       " [6] \"TKK\"        \"DABUR\"      \"SUN\"        \"WIPRO\"      \"TATA STEEL\"\n",
       "[11] \"INDIAN\"     \"NTPC\"       \"BHARTI\"    "
      ]
     },
     "metadata": {},
     "output_type": "display_data"
    }
   ],
   "source": [
    "names(GrossRet_df)"
   ]
  },
  {
   "cell_type": "code",
   "execution_count": 29,
   "metadata": {},
   "outputs": [
    {
     "data": {
      "image/png": "[encoded data removed]",
      "text/plain": [
       "plot without title"
      ]
     },
     "metadata": {},
     "output_type": "display_data"
    }
   ],
   "source": [
    "ggplot(GrossRet_df) + geom_line(aes(DATE, CNX ))"
   ]
  },
  {
   "cell_type": "code",
   "execution_count": 30,
   "metadata": {},
   "outputs": [],
   "source": [
    "SimpleRet_df <- (kapoor_df[-1,-1]/kapoor_df[-nrow(kapoor_df[,]),-1]-1)"
   ]
  },
  {
   "cell_type": "code",
   "execution_count": 31,
   "metadata": {},
   "outputs": [
    {
     "data": {
      "text/html": [
       "<table>\n",
       "<thead><tr><th scope=col>CNX</th><th scope=col>TATA AUTO</th><th scope=col>HDFC</th><th scope=col>LARSEN</th><th scope=col>TKK</th><th scope=col>DABUR</th><th scope=col>SUN</th><th scope=col>WIPRO</th><th scope=col>TATA STEEL</th><th scope=col>INDIAN</th><th scope=col>NTPC</th><th scope=col>BHARTI</th></tr></thead>\n",
       "<tbody>\n",
       "\t<tr><td> 0.0098894062</td><td> 0.0399715443</td><td>-0.016117043 </td><td>-0.001902974 </td><td>-0.01512743  </td><td>-0.005536793 </td><td>-0.007507077 </td><td>-0.0100763267</td><td> 0.001394421 </td><td>-0.0103092457</td><td>-0.001370187 </td><td>-0.001653821 </td></tr>\n",
       "\t<tr><td> 0.0008092225</td><td>-0.0006308914</td><td>-0.008791511 </td><td>-0.020174607 </td><td> 0.03094218  </td><td> 0.019272009 </td><td>-0.041964987 </td><td>-0.0293519337</td><td>-0.007926269 </td><td> 0.0159504898</td><td> 0.073902347 </td><td>-0.015643159 </td></tr>\n",
       "\t<tr><td> 0.0110984346</td><td>-0.0110370313</td><td> 0.000000000 </td><td> 0.047838843 </td><td> 0.08356275  </td><td> 0.020588257 </td><td>-0.023058750 </td><td>-0.0060479044</td><td> 0.005506378 </td><td> 0.0009612863</td><td>-0.016829677 </td><td>-0.001263252 </td></tr>\n",
       "\t<tr><td>-0.0004452797</td><td> 0.0021068100</td><td>-0.021827253 </td><td> 0.008028064 </td><td>-0.05484980  </td><td> 0.023466395 </td><td> 0.006452887 </td><td>-0.0243427651</td><td>-0.005905758 </td><td>-0.0371321556</td><td>-0.009768776 </td><td>-0.014647007 </td></tr>\n",
       "\t<tr><td>-0.0072452747</td><td>-0.0202298441</td><td> 0.034994510 </td><td> 0.012734219 </td><td>-0.04332701  </td><td>-0.037409488 </td><td>-0.002378267 </td><td> 0.0226635315</td><td>-0.037265045 </td><td>-0.0409573591</td><td>-0.014526201 </td><td> 0.039676104 </td></tr>\n",
       "\t<tr><td>-0.0015383593</td><td> 0.0019494024</td><td> 0.017761199 </td><td> 0.001210382 </td><td>-0.02986226  </td><td>-0.009193468 </td><td>-0.012534100 </td><td> 0.0004036519</td><td> 0.002804858 </td><td>-0.0042982338</td><td> 0.046241447 </td><td>-0.001079535 </td></tr>\n",
       "</tbody>\n",
       "</table>\n"
      ],
      "text/latex": [
       "\\begin{tabular}{r|llllllllllll}\n",
       " CNX & TATA AUTO & HDFC & LARSEN & TKK & DABUR & SUN & WIPRO & TATA STEEL & INDIAN & NTPC & BHARTI\\\\\n",
       "\\hline\n",
       "\t  0.0098894062 &  0.0399715443 & -0.016117043  & -0.001902974  & -0.01512743   & -0.005536793  & -0.007507077  & -0.0100763267 &  0.001394421  & -0.0103092457 & -0.001370187  & -0.001653821 \\\\\n",
       "\t  0.0008092225 & -0.0006308914 & -0.008791511  & -0.020174607  &  0.03094218   &  0.019272009  & -0.041964987  & -0.0293519337 & -0.007926269  &  0.0159504898 &  0.073902347  & -0.015643159 \\\\\n",
       "\t  0.0110984346 & -0.0110370313 &  0.000000000  &  0.047838843  &  0.08356275   &  0.020588257  & -0.023058750  & -0.0060479044 &  0.005506378  &  0.0009612863 & -0.016829677  & -0.001263252 \\\\\n",
       "\t -0.0004452797 &  0.0021068100 & -0.021827253  &  0.008028064  & -0.05484980   &  0.023466395  &  0.006452887  & -0.0243427651 & -0.005905758  & -0.0371321556 & -0.009768776  & -0.014647007 \\\\\n",
       "\t -0.0072452747 & -0.0202298441 &  0.034994510  &  0.012734219  & -0.04332701   & -0.037409488  & -0.002378267  &  0.0226635315 & -0.037265045  & -0.0409573591 & -0.014526201  &  0.039676104 \\\\\n",
       "\t -0.0015383593 &  0.0019494024 &  0.017761199  &  0.001210382  & -0.02986226   & -0.009193468  & -0.012534100  &  0.0004036519 &  0.002804858  & -0.0042982338 &  0.046241447  & -0.001079535 \\\\\n",
       "\\end{tabular}\n"
      ],
      "text/markdown": [
       "\n",
       "| CNX | TATA AUTO | HDFC | LARSEN | TKK | DABUR | SUN | WIPRO | TATA STEEL | INDIAN | NTPC | BHARTI |\n",
       "|---|---|---|---|---|---|---|---|---|---|---|---|\n",
       "|  0.0098894062 |  0.0399715443 | -0.016117043  | -0.001902974  | -0.01512743   | -0.005536793  | -0.007507077  | -0.0100763267 |  0.001394421  | -0.0103092457 | -0.001370187  | -0.001653821  |\n",
       "|  0.0008092225 | -0.0006308914 | -0.008791511  | -0.020174607  |  0.03094218   |  0.019272009  | -0.041964987  | -0.0293519337 | -0.007926269  |  0.0159504898 |  0.073902347  | -0.015643159  |\n",
       "|  0.0110984346 | -0.0110370313 |  0.000000000  |  0.047838843  |  0.08356275   |  0.020588257  | -0.023058750  | -0.0060479044 |  0.005506378  |  0.0009612863 | -0.016829677  | -0.001263252  |\n",
       "| -0.0004452797 |  0.0021068100 | -0.021827253  |  0.008028064  | -0.05484980   |  0.023466395  |  0.006452887  | -0.0243427651 | -0.005905758  | -0.0371321556 | -0.009768776  | -0.014647007  |\n",
       "| -0.0072452747 | -0.0202298441 |  0.034994510  |  0.012734219  | -0.04332701   | -0.037409488  | -0.002378267  |  0.0226635315 | -0.037265045  | -0.0409573591 | -0.014526201  |  0.039676104  |\n",
       "| -0.0015383593 |  0.0019494024 |  0.017761199  |  0.001210382  | -0.02986226   | -0.009193468  | -0.012534100  |  0.0004036519 |  0.002804858  | -0.0042982338 |  0.046241447  | -0.001079535  |\n",
       "\n"
      ],
      "text/plain": [
       "  CNX           TATA AUTO     HDFC         LARSEN       TKK        \n",
       "1  0.0098894062  0.0399715443 -0.016117043 -0.001902974 -0.01512743\n",
       "2  0.0008092225 -0.0006308914 -0.008791511 -0.020174607  0.03094218\n",
       "3  0.0110984346 -0.0110370313  0.000000000  0.047838843  0.08356275\n",
       "4 -0.0004452797  0.0021068100 -0.021827253  0.008028064 -0.05484980\n",
       "5 -0.0072452747 -0.0202298441  0.034994510  0.012734219 -0.04332701\n",
       "6 -0.0015383593  0.0019494024  0.017761199  0.001210382 -0.02986226\n",
       "  DABUR        SUN          WIPRO         TATA STEEL   INDIAN       \n",
       "1 -0.005536793 -0.007507077 -0.0100763267  0.001394421 -0.0103092457\n",
       "2  0.019272009 -0.041964987 -0.0293519337 -0.007926269  0.0159504898\n",
       "3  0.020588257 -0.023058750 -0.0060479044  0.005506378  0.0009612863\n",
       "4  0.023466395  0.006452887 -0.0243427651 -0.005905758 -0.0371321556\n",
       "5 -0.037409488 -0.002378267  0.0226635315 -0.037265045 -0.0409573591\n",
       "6 -0.009193468 -0.012534100  0.0004036519  0.002804858 -0.0042982338\n",
       "  NTPC         BHARTI      \n",
       "1 -0.001370187 -0.001653821\n",
       "2  0.073902347 -0.015643159\n",
       "3 -0.016829677 -0.001263252\n",
       "4 -0.009768776 -0.014647007\n",
       "5 -0.014526201  0.039676104\n",
       "6  0.046241447 -0.001079535"
      ]
     },
     "metadata": {},
     "output_type": "display_data"
    }
   ],
   "source": [
    "head(SimpleRet_df)"
   ]
  },
  {
   "cell_type": "code",
   "execution_count": null,
   "metadata": {},
   "outputs": [],
   "source": []
  },
  {
   "cell_type": "code",
   "execution_count": 32,
   "metadata": {},
   "outputs": [
    {
     "data": {
      "text/html": [
       "<table>\n",
       "<thead><tr><th scope=col>DATE</th><th scope=col>CNX</th><th scope=col>TATA AUTO</th><th scope=col>HDFC</th><th scope=col>LARSEN</th><th scope=col>TKK</th><th scope=col>DABUR</th><th scope=col>SUN</th><th scope=col>WIPRO</th><th scope=col>TATA STEEL</th><th scope=col>INDIAN</th><th scope=col>NTPC</th><th scope=col>BHARTI</th></tr></thead>\n",
       "<tbody>\n",
       "\t<tr><td>2008-01-02   </td><td> 0.0098894062</td><td> 0.0399715443</td><td>-0.016117043 </td><td>-0.001902974 </td><td>-0.01512743  </td><td>-0.005536793 </td><td>-0.007507077 </td><td>-0.0100763267</td><td> 0.001394421 </td><td>-0.0103092457</td><td>-0.001370187 </td><td>-0.001653821 </td></tr>\n",
       "\t<tr><td>2008-01-03   </td><td> 0.0008092225</td><td>-0.0006308914</td><td>-0.008791511 </td><td>-0.020174607 </td><td> 0.03094218  </td><td> 0.019272009 </td><td>-0.041964987 </td><td>-0.0293519337</td><td>-0.007926269 </td><td> 0.0159504898</td><td> 0.073902347 </td><td>-0.015643159 </td></tr>\n",
       "\t<tr><td>2008-01-04   </td><td> 0.0110984346</td><td>-0.0110370313</td><td> 0.000000000 </td><td> 0.047838843 </td><td> 0.08356275  </td><td> 0.020588257 </td><td>-0.023058750 </td><td>-0.0060479044</td><td> 0.005506378 </td><td> 0.0009612863</td><td>-0.016829677 </td><td>-0.001263252 </td></tr>\n",
       "\t<tr><td>2008-01-07   </td><td>-0.0004452797</td><td> 0.0021068100</td><td>-0.021827253 </td><td> 0.008028064 </td><td>-0.05484980  </td><td> 0.023466395 </td><td> 0.006452887 </td><td>-0.0243427651</td><td>-0.005905758 </td><td>-0.0371321556</td><td>-0.009768776 </td><td>-0.014647007 </td></tr>\n",
       "\t<tr><td>2008-01-08   </td><td>-0.0072452747</td><td>-0.0202298441</td><td> 0.034994510 </td><td> 0.012734219 </td><td>-0.04332701  </td><td>-0.037409488 </td><td>-0.002378267 </td><td> 0.0226635315</td><td>-0.037265045 </td><td>-0.0409573591</td><td>-0.014526201 </td><td> 0.039676104 </td></tr>\n",
       "\t<tr><td>2008-01-09   </td><td>-0.0015383593</td><td> 0.0019494024</td><td> 0.017761199 </td><td> 0.001210382 </td><td>-0.02986226  </td><td>-0.009193468 </td><td>-0.012534100 </td><td> 0.0004036519</td><td> 0.002804858 </td><td>-0.0042982338</td><td> 0.046241447 </td><td>-0.001079535 </td></tr>\n",
       "</tbody>\n",
       "</table>\n"
      ],
      "text/latex": [
       "\\begin{tabular}{r|lllllllllllll}\n",
       " DATE & CNX & TATA AUTO & HDFC & LARSEN & TKK & DABUR & SUN & WIPRO & TATA STEEL & INDIAN & NTPC & BHARTI\\\\\n",
       "\\hline\n",
       "\t 2008-01-02    &  0.0098894062 &  0.0399715443 & -0.016117043  & -0.001902974  & -0.01512743   & -0.005536793  & -0.007507077  & -0.0100763267 &  0.001394421  & -0.0103092457 & -0.001370187  & -0.001653821 \\\\\n",
       "\t 2008-01-03    &  0.0008092225 & -0.0006308914 & -0.008791511  & -0.020174607  &  0.03094218   &  0.019272009  & -0.041964987  & -0.0293519337 & -0.007926269  &  0.0159504898 &  0.073902347  & -0.015643159 \\\\\n",
       "\t 2008-01-04    &  0.0110984346 & -0.0110370313 &  0.000000000  &  0.047838843  &  0.08356275   &  0.020588257  & -0.023058750  & -0.0060479044 &  0.005506378  &  0.0009612863 & -0.016829677  & -0.001263252 \\\\\n",
       "\t 2008-01-07    & -0.0004452797 &  0.0021068100 & -0.021827253  &  0.008028064  & -0.05484980   &  0.023466395  &  0.006452887  & -0.0243427651 & -0.005905758  & -0.0371321556 & -0.009768776  & -0.014647007 \\\\\n",
       "\t 2008-01-08    & -0.0072452747 & -0.0202298441 &  0.034994510  &  0.012734219  & -0.04332701   & -0.037409488  & -0.002378267  &  0.0226635315 & -0.037265045  & -0.0409573591 & -0.014526201  &  0.039676104 \\\\\n",
       "\t 2008-01-09    & -0.0015383593 &  0.0019494024 &  0.017761199  &  0.001210382  & -0.02986226   & -0.009193468  & -0.012534100  &  0.0004036519 &  0.002804858  & -0.0042982338 &  0.046241447  & -0.001079535 \\\\\n",
       "\\end{tabular}\n"
      ],
      "text/markdown": [
       "\n",
       "| DATE | CNX | TATA AUTO | HDFC | LARSEN | TKK | DABUR | SUN | WIPRO | TATA STEEL | INDIAN | NTPC | BHARTI |\n",
       "|---|---|---|---|---|---|---|---|---|---|---|---|---|\n",
       "| 2008-01-02    |  0.0098894062 |  0.0399715443 | -0.016117043  | -0.001902974  | -0.01512743   | -0.005536793  | -0.007507077  | -0.0100763267 |  0.001394421  | -0.0103092457 | -0.001370187  | -0.001653821  |\n",
       "| 2008-01-03    |  0.0008092225 | -0.0006308914 | -0.008791511  | -0.020174607  |  0.03094218   |  0.019272009  | -0.041964987  | -0.0293519337 | -0.007926269  |  0.0159504898 |  0.073902347  | -0.015643159  |\n",
       "| 2008-01-04    |  0.0110984346 | -0.0110370313 |  0.000000000  |  0.047838843  |  0.08356275   |  0.020588257  | -0.023058750  | -0.0060479044 |  0.005506378  |  0.0009612863 | -0.016829677  | -0.001263252  |\n",
       "| 2008-01-07    | -0.0004452797 |  0.0021068100 | -0.021827253  |  0.008028064  | -0.05484980   |  0.023466395  |  0.006452887  | -0.0243427651 | -0.005905758  | -0.0371321556 | -0.009768776  | -0.014647007  |\n",
       "| 2008-01-08    | -0.0072452747 | -0.0202298441 |  0.034994510  |  0.012734219  | -0.04332701   | -0.037409488  | -0.002378267  |  0.0226635315 | -0.037265045  | -0.0409573591 | -0.014526201  |  0.039676104  |\n",
       "| 2008-01-09    | -0.0015383593 |  0.0019494024 |  0.017761199  |  0.001210382  | -0.02986226   | -0.009193468  | -0.012534100  |  0.0004036519 |  0.002804858  | -0.0042982338 |  0.046241447  | -0.001079535  |\n",
       "\n"
      ],
      "text/plain": [
       "  DATE       CNX           TATA AUTO     HDFC         LARSEN       TKK        \n",
       "1 2008-01-02  0.0098894062  0.0399715443 -0.016117043 -0.001902974 -0.01512743\n",
       "2 2008-01-03  0.0008092225 -0.0006308914 -0.008791511 -0.020174607  0.03094218\n",
       "3 2008-01-04  0.0110984346 -0.0110370313  0.000000000  0.047838843  0.08356275\n",
       "4 2008-01-07 -0.0004452797  0.0021068100 -0.021827253  0.008028064 -0.05484980\n",
       "5 2008-01-08 -0.0072452747 -0.0202298441  0.034994510  0.012734219 -0.04332701\n",
       "6 2008-01-09 -0.0015383593  0.0019494024  0.017761199  0.001210382 -0.02986226\n",
       "  DABUR        SUN          WIPRO         TATA STEEL   INDIAN       \n",
       "1 -0.005536793 -0.007507077 -0.0100763267  0.001394421 -0.0103092457\n",
       "2  0.019272009 -0.041964987 -0.0293519337 -0.007926269  0.0159504898\n",
       "3  0.020588257 -0.023058750 -0.0060479044  0.005506378  0.0009612863\n",
       "4  0.023466395  0.006452887 -0.0243427651 -0.005905758 -0.0371321556\n",
       "5 -0.037409488 -0.002378267  0.0226635315 -0.037265045 -0.0409573591\n",
       "6 -0.009193468 -0.012534100  0.0004036519  0.002804858 -0.0042982338\n",
       "  NTPC         BHARTI      \n",
       "1 -0.001370187 -0.001653821\n",
       "2  0.073902347 -0.015643159\n",
       "3 -0.016829677 -0.001263252\n",
       "4 -0.009768776 -0.014647007\n",
       "5 -0.014526201  0.039676104\n",
       "6  0.046241447 -0.001079535"
      ]
     },
     "metadata": {},
     "output_type": "display_data"
    }
   ],
   "source": [
    "SimpleRet_df<- add_column(SimpleRet_df,kapoor_df[-1,1],.before = TRUE)\n",
    "head(SimpleRet_df)"
   ]
  },
  {
   "cell_type": "code",
   "execution_count": 33,
   "metadata": {},
   "outputs": [
    {
     "data": {
      "image/png": "[encoded data removed]",
      "text/plain": [
       "plot without title"
      ]
     },
     "metadata": {},
     "output_type": "display_data"
    }
   ],
   "source": [
    "ggplot(SimpleRet_df) + geom_line(aes(DATE, SUN ))"
   ]
  },
  {
   "cell_type": "code",
   "execution_count": 34,
   "metadata": {
    "scrolled": true
   },
   "outputs": [
    {
     "data": {
      "text/html": [
       "<table>\n",
       "<thead><tr><th scope=col>CNX</th><th scope=col>TATA AUTO</th><th scope=col>HDFC</th><th scope=col>LARSEN</th><th scope=col>TKK</th><th scope=col>DABUR</th><th scope=col>SUN</th><th scope=col>WIPRO</th><th scope=col>TATA STEEL</th><th scope=col>INDIAN</th><th scope=col>NTPC</th><th scope=col>BHARTI</th></tr></thead>\n",
       "<tbody>\n",
       "\t<tr><td>0.0002530938 </td><td>0.001412376  </td><td>0.0008967399 </td><td>0.0004102782 </td><td>0.002180832  </td><td>0.001057902  </td><td>0.001490284  </td><td>0.0006893665 </td><td>7.333185e-05 </td><td>0.0002904934 </td><td>-2.990877e-05</td><td>0.0001326445 </td></tr>\n",
       "</tbody>\n",
       "</table>\n"
      ],
      "text/latex": [
       "\\begin{tabular}{r|llllllllllll}\n",
       " CNX & TATA AUTO & HDFC & LARSEN & TKK & DABUR & SUN & WIPRO & TATA STEEL & INDIAN & NTPC & BHARTI\\\\\n",
       "\\hline\n",
       "\t 0.0002530938  & 0.001412376   & 0.0008967399  & 0.0004102782  & 0.002180832   & 0.001057902   & 0.001490284   & 0.0006893665  & 7.333185e-05  & 0.0002904934  & -2.990877e-05 & 0.0001326445 \\\\\n",
       "\\end{tabular}\n"
      ],
      "text/markdown": [
       "\n",
       "| CNX | TATA AUTO | HDFC | LARSEN | TKK | DABUR | SUN | WIPRO | TATA STEEL | INDIAN | NTPC | BHARTI |\n",
       "|---|---|---|---|---|---|---|---|---|---|---|---|\n",
       "| 0.0002530938  | 0.001412376   | 0.0008967399  | 0.0004102782  | 0.002180832   | 0.001057902   | 0.001490284   | 0.0006893665  | 7.333185e-05  | 0.0002904934  | -2.990877e-05 | 0.0001326445  |\n",
       "\n"
      ],
      "text/plain": [
       "  CNX          TATA AUTO   HDFC         LARSEN       TKK         DABUR      \n",
       "1 0.0002530938 0.001412376 0.0008967399 0.0004102782 0.002180832 0.001057902\n",
       "  SUN         WIPRO        TATA STEEL   INDIAN       NTPC          BHARTI      \n",
       "1 0.001490284 0.0006893665 7.333185e-05 0.0002904934 -2.990877e-05 0.0001326445"
      ]
     },
     "metadata": {},
     "output_type": "display_data"
    }
   ],
   "source": [
    "dplyr::summarise_all(select(SimpleRet_df,CNX:BHARTI), mean)"
   ]
  },
  {
   "cell_type": "code",
   "execution_count": 35,
   "metadata": {},
   "outputs": [
    {
     "data": {
      "text/html": [
       "<table>\n",
       "<thead><tr><th scope=col>CNX</th><th scope=col>TATA AUTO</th><th scope=col>HDFC</th><th scope=col>LARSEN</th><th scope=col>TKK</th><th scope=col>DABUR</th><th scope=col>SUN</th><th scope=col>WIPRO</th><th scope=col>TATA STEEL</th><th scope=col>INDIAN</th><th scope=col>NTPC</th><th scope=col>BHARTI</th></tr></thead>\n",
       "<tbody>\n",
       "\t<tr><td>0.0155368 </td><td>0.0307536 </td><td>0.02129764</td><td>0.02503423</td><td>0.03065582</td><td>0.01948208</td><td>0.01958096</td><td>0.02337076</td><td>0.03027715</td><td>0.02329676</td><td>0.0202055 </td><td>0.02454893</td></tr>\n",
       "</tbody>\n",
       "</table>\n"
      ],
      "text/latex": [
       "\\begin{tabular}{r|llllllllllll}\n",
       " CNX & TATA AUTO & HDFC & LARSEN & TKK & DABUR & SUN & WIPRO & TATA STEEL & INDIAN & NTPC & BHARTI\\\\\n",
       "\\hline\n",
       "\t 0.0155368  & 0.0307536  & 0.02129764 & 0.02503423 & 0.03065582 & 0.01948208 & 0.01958096 & 0.02337076 & 0.03027715 & 0.02329676 & 0.0202055  & 0.02454893\\\\\n",
       "\\end{tabular}\n"
      ],
      "text/markdown": [
       "\n",
       "| CNX | TATA AUTO | HDFC | LARSEN | TKK | DABUR | SUN | WIPRO | TATA STEEL | INDIAN | NTPC | BHARTI |\n",
       "|---|---|---|---|---|---|---|---|---|---|---|---|\n",
       "| 0.0155368  | 0.0307536  | 0.02129764 | 0.02503423 | 0.03065582 | 0.01948208 | 0.01958096 | 0.02337076 | 0.03027715 | 0.02329676 | 0.0202055  | 0.02454893 |\n",
       "\n"
      ],
      "text/plain": [
       "  CNX       TATA AUTO HDFC       LARSEN     TKK        DABUR      SUN       \n",
       "1 0.0155368 0.0307536 0.02129764 0.02503423 0.03065582 0.01948208 0.01958096\n",
       "  WIPRO      TATA STEEL INDIAN     NTPC      BHARTI    \n",
       "1 0.02337076 0.03027715 0.02329676 0.0202055 0.02454893"
      ]
     },
     "metadata": {},
     "output_type": "display_data"
    }
   ],
   "source": [
    "dplyr::summarise_all(select(SimpleRet_df,CNX:BHARTI), sd)"
   ]
  },
  {
   "cell_type": "markdown",
   "metadata": {},
   "source": [
    "### Log Return\n",
    "\n",
    "Continously compounded returns \n",
    "\n",
    "$$ r_{t} = log(1+R_{t}) = log\\left(\\frac{P_{t}}{P_{t-1}}\\right) =p_{t}-p_{t-1} $$\n",
    "\n",
    "If $$R_{t}$$ is small then $$ log(1+R_{t}) \\approx R_{t} $$\n",
    "\n",
    "which makes it easy to calculate the return in a multiperiod return (k periods)\n",
    "\n",
    "$$ r_{t}(k) =  \\textrm{log}\\{1+R_{t}(k)\\} \\\\\n",
    " = \\textrm{log}\\{(1+R_{t})...(1+R_{t-k+1})\\} \\\\\n",
    " =  \\textrm{log}(1+R_{t})+...+ \\textrm{log}(1+R_{t-k+1})$$\n",
    "$$ = r_{t} + r_{t-1}+...+r_{t-k+1}$$\n",
    "\n",
    "then\n",
    "\n",
    "$$ r_{t}(k) =  \\textrm{log}\\{1+R_{t}(k)\\} = r_{t} + r_{t-1}+...+r_{t-k+1}$$"
   ]
  },
  {
   "cell_type": "code",
   "execution_count": 37,
   "metadata": {},
   "outputs": [
    {
     "data": {
      "text/html": [
       "<table>\n",
       "<thead><tr><th scope=col>DATE</th><th scope=col>CNX</th><th scope=col>TATA AUTO</th><th scope=col>HDFC</th><th scope=col>LARSEN</th><th scope=col>TKK</th><th scope=col>DABUR</th><th scope=col>SUN</th><th scope=col>WIPRO</th><th scope=col>TATA STEEL</th><th scope=col>INDIAN</th><th scope=col>NTPC</th><th scope=col>BHARTI</th></tr></thead>\n",
       "<tbody>\n",
       "\t<tr><td>2008-01-02</td><td>1.0098894 </td><td>1.0399715 </td><td>0.9838830 </td><td>0.9980970 </td><td>0.9848726 </td><td>0.9944632 </td><td>0.9924929 </td><td>0.9899237 </td><td>1.0013944 </td><td>0.9896908 </td><td>0.9986298 </td><td>0.9983462 </td></tr>\n",
       "\t<tr><td>2008-01-03</td><td>1.0008092 </td><td>0.9993691 </td><td>0.9912085 </td><td>0.9798254 </td><td>1.0309422 </td><td>1.0192720 </td><td>0.9580350 </td><td>0.9706481 </td><td>0.9920737 </td><td>1.0159505 </td><td>1.0739023 </td><td>0.9843568 </td></tr>\n",
       "\t<tr><td>2008-01-04</td><td>1.0110984 </td><td>0.9889630 </td><td>1.0000000 </td><td>1.0478388 </td><td>1.0835628 </td><td>1.0205883 </td><td>0.9769413 </td><td>0.9939521 </td><td>1.0055064 </td><td>1.0009613 </td><td>0.9831703 </td><td>0.9987367 </td></tr>\n",
       "\t<tr><td>2008-01-07</td><td>0.9995547 </td><td>1.0021068 </td><td>0.9781727 </td><td>1.0080281 </td><td>0.9451502 </td><td>1.0234664 </td><td>1.0064529 </td><td>0.9756572 </td><td>0.9940942 </td><td>0.9628678 </td><td>0.9902312 </td><td>0.9853530 </td></tr>\n",
       "\t<tr><td>2008-01-08</td><td>0.9927547 </td><td>0.9797702 </td><td>1.0349945 </td><td>1.0127342 </td><td>0.9566730 </td><td>0.9625905 </td><td>0.9976217 </td><td>1.0226635 </td><td>0.9627350 </td><td>0.9590426 </td><td>0.9854738 </td><td>1.0396761 </td></tr>\n",
       "\t<tr><td>2008-01-09</td><td>0.9984616 </td><td>1.0019494 </td><td>1.0177612 </td><td>1.0012104 </td><td>0.9701377 </td><td>0.9908065 </td><td>0.9874659 </td><td>1.0004037 </td><td>1.0028049 </td><td>0.9957018 </td><td>1.0462414 </td><td>0.9989205 </td></tr>\n",
       "</tbody>\n",
       "</table>\n"
      ],
      "text/latex": [
       "\\begin{tabular}{r|lllllllllllll}\n",
       " DATE & CNX & TATA AUTO & HDFC & LARSEN & TKK & DABUR & SUN & WIPRO & TATA STEEL & INDIAN & NTPC & BHARTI\\\\\n",
       "\\hline\n",
       "\t 2008-01-02 & 1.0098894  & 1.0399715  & 0.9838830  & 0.9980970  & 0.9848726  & 0.9944632  & 0.9924929  & 0.9899237  & 1.0013944  & 0.9896908  & 0.9986298  & 0.9983462 \\\\\n",
       "\t 2008-01-03 & 1.0008092  & 0.9993691  & 0.9912085  & 0.9798254  & 1.0309422  & 1.0192720  & 0.9580350  & 0.9706481  & 0.9920737  & 1.0159505  & 1.0739023  & 0.9843568 \\\\\n",
       "\t 2008-01-04 & 1.0110984  & 0.9889630  & 1.0000000  & 1.0478388  & 1.0835628  & 1.0205883  & 0.9769413  & 0.9939521  & 1.0055064  & 1.0009613  & 0.9831703  & 0.9987367 \\\\\n",
       "\t 2008-01-07 & 0.9995547  & 1.0021068  & 0.9781727  & 1.0080281  & 0.9451502  & 1.0234664  & 1.0064529  & 0.9756572  & 0.9940942  & 0.9628678  & 0.9902312  & 0.9853530 \\\\\n",
       "\t 2008-01-08 & 0.9927547  & 0.9797702  & 1.0349945  & 1.0127342  & 0.9566730  & 0.9625905  & 0.9976217  & 1.0226635  & 0.9627350  & 0.9590426  & 0.9854738  & 1.0396761 \\\\\n",
       "\t 2008-01-09 & 0.9984616  & 1.0019494  & 1.0177612  & 1.0012104  & 0.9701377  & 0.9908065  & 0.9874659  & 1.0004037  & 1.0028049  & 0.9957018  & 1.0462414  & 0.9989205 \\\\\n",
       "\\end{tabular}\n"
      ],
      "text/markdown": [
       "\n",
       "| DATE | CNX | TATA AUTO | HDFC | LARSEN | TKK | DABUR | SUN | WIPRO | TATA STEEL | INDIAN | NTPC | BHARTI |\n",
       "|---|---|---|---|---|---|---|---|---|---|---|---|---|\n",
       "| 2008-01-02 | 1.0098894  | 1.0399715  | 0.9838830  | 0.9980970  | 0.9848726  | 0.9944632  | 0.9924929  | 0.9899237  | 1.0013944  | 0.9896908  | 0.9986298  | 0.9983462  |\n",
       "| 2008-01-03 | 1.0008092  | 0.9993691  | 0.9912085  | 0.9798254  | 1.0309422  | 1.0192720  | 0.9580350  | 0.9706481  | 0.9920737  | 1.0159505  | 1.0739023  | 0.9843568  |\n",
       "| 2008-01-04 | 1.0110984  | 0.9889630  | 1.0000000  | 1.0478388  | 1.0835628  | 1.0205883  | 0.9769413  | 0.9939521  | 1.0055064  | 1.0009613  | 0.9831703  | 0.9987367  |\n",
       "| 2008-01-07 | 0.9995547  | 1.0021068  | 0.9781727  | 1.0080281  | 0.9451502  | 1.0234664  | 1.0064529  | 0.9756572  | 0.9940942  | 0.9628678  | 0.9902312  | 0.9853530  |\n",
       "| 2008-01-08 | 0.9927547  | 0.9797702  | 1.0349945  | 1.0127342  | 0.9566730  | 0.9625905  | 0.9976217  | 1.0226635  | 0.9627350  | 0.9590426  | 0.9854738  | 1.0396761  |\n",
       "| 2008-01-09 | 0.9984616  | 1.0019494  | 1.0177612  | 1.0012104  | 0.9701377  | 0.9908065  | 0.9874659  | 1.0004037  | 1.0028049  | 0.9957018  | 1.0462414  | 0.9989205  |\n",
       "\n"
      ],
      "text/plain": [
       "  DATE       CNX       TATA AUTO HDFC      LARSEN    TKK       DABUR    \n",
       "1 2008-01-02 1.0098894 1.0399715 0.9838830 0.9980970 0.9848726 0.9944632\n",
       "2 2008-01-03 1.0008092 0.9993691 0.9912085 0.9798254 1.0309422 1.0192720\n",
       "3 2008-01-04 1.0110984 0.9889630 1.0000000 1.0478388 1.0835628 1.0205883\n",
       "4 2008-01-07 0.9995547 1.0021068 0.9781727 1.0080281 0.9451502 1.0234664\n",
       "5 2008-01-08 0.9927547 0.9797702 1.0349945 1.0127342 0.9566730 0.9625905\n",
       "6 2008-01-09 0.9984616 1.0019494 1.0177612 1.0012104 0.9701377 0.9908065\n",
       "  SUN       WIPRO     TATA STEEL INDIAN    NTPC      BHARTI   \n",
       "1 0.9924929 0.9899237 1.0013944  0.9896908 0.9986298 0.9983462\n",
       "2 0.9580350 0.9706481 0.9920737  1.0159505 1.0739023 0.9843568\n",
       "3 0.9769413 0.9939521 1.0055064  1.0009613 0.9831703 0.9987367\n",
       "4 1.0064529 0.9756572 0.9940942  0.9628678 0.9902312 0.9853530\n",
       "5 0.9976217 1.0226635 0.9627350  0.9590426 0.9854738 1.0396761\n",
       "6 0.9874659 1.0004037 1.0028049  0.9957018 1.0462414 0.9989205"
      ]
     },
     "metadata": {},
     "output_type": "display_data"
    }
   ],
   "source": [
    "head(GrossRet_df)"
   ]
  },
  {
   "cell_type": "raw",
   "metadata": {},
   "source": []
  },
  {
   "cell_type": "code",
   "execution_count": 39,
   "metadata": {},
   "outputs": [],
   "source": [
    "LogRet_df <- log(GrossRet_df[,-1])"
   ]
  },
  {
   "cell_type": "code",
   "execution_count": 40,
   "metadata": {},
   "outputs": [
    {
     "data": {
      "text/html": [
       "<table>\n",
       "<thead><tr><th scope=col>CNX</th><th scope=col>TATA AUTO</th><th scope=col>HDFC</th><th scope=col>LARSEN</th><th scope=col>TKK</th><th scope=col>DABUR</th><th scope=col>SUN</th><th scope=col>WIPRO</th><th scope=col>TATA STEEL</th><th scope=col>INDIAN</th><th scope=col>NTPC</th><th scope=col>BHARTI</th></tr></thead>\n",
       "<tbody>\n",
       "\t<tr><td> 0.0098408260</td><td> 0.0391933515</td><td>-0.016248335 </td><td>-0.001904787 </td><td>-0.01524302  </td><td>-0.005552178 </td><td>-0.007535397 </td><td>-0.0101274365</td><td> 0.001393450 </td><td>-0.0103627541</td><td>-0.001371126 </td><td>-0.001655190 </td></tr>\n",
       "\t<tr><td> 0.0008088953</td><td>-0.0006310905</td><td>-0.008830384 </td><td>-0.020380893 </td><td> 0.03047312  </td><td> 0.019088656 </td><td>-0.042870953 </td><td>-0.0297913210</td><td>-0.007957849 </td><td> 0.0158246175</td><td> 0.071299067 </td><td>-0.015766804 </td></tr>\n",
       "\t<tr><td> 0.0110372989</td><td>-0.0110983912</td><td> 0.000000000 </td><td> 0.046729798 </td><td> 0.08025446  </td><td> 0.020379183 </td><td>-0.023328762 </td><td>-0.0060662671</td><td> 0.005491273 </td><td> 0.0009608246</td><td>-0.016972905 </td><td>-0.001264051 </td></tr>\n",
       "\t<tr><td>-0.0004453788</td><td> 0.0021045938</td><td>-0.022068992 </td><td> 0.007996010 </td><td>-0.05641142  </td><td> 0.023195292 </td><td> 0.006432156 </td><td>-0.0246439480</td><td>-0.005923266 </td><td>-0.0378391098</td><td>-0.009816803 </td><td>-0.014755333 </td></tr>\n",
       "\t<tr><td>-0.0072716492</td><td>-0.0204372696</td><td> 0.034396122 </td><td> 0.012653820 </td><td>-0.04429365  </td><td>-0.038127179 </td><td>-0.002381100 </td><td> 0.0224105292</td><td>-0.037977134 </td><td>-0.0418197411</td><td>-0.014632740 </td><td> 0.038909227 </td></tr>\n",
       "\t<tr><td>-0.0015395438</td><td> 0.0019475047</td><td> 0.017605312 </td><td> 0.001209650 </td><td>-0.03031722  </td><td>-0.009235988 </td><td>-0.012613315 </td><td> 0.0004035704</td><td> 0.002800932 </td><td>-0.0043074978</td><td> 0.045204168 </td><td>-0.001080118 </td></tr>\n",
       "</tbody>\n",
       "</table>\n"
      ],
      "text/latex": [
       "\\begin{tabular}{r|llllllllllll}\n",
       " CNX & TATA AUTO & HDFC & LARSEN & TKK & DABUR & SUN & WIPRO & TATA STEEL & INDIAN & NTPC & BHARTI\\\\\n",
       "\\hline\n",
       "\t  0.0098408260 &  0.0391933515 & -0.016248335  & -0.001904787  & -0.01524302   & -0.005552178  & -0.007535397  & -0.0101274365 &  0.001393450  & -0.0103627541 & -0.001371126  & -0.001655190 \\\\\n",
       "\t  0.0008088953 & -0.0006310905 & -0.008830384  & -0.020380893  &  0.03047312   &  0.019088656  & -0.042870953  & -0.0297913210 & -0.007957849  &  0.0158246175 &  0.071299067  & -0.015766804 \\\\\n",
       "\t  0.0110372989 & -0.0110983912 &  0.000000000  &  0.046729798  &  0.08025446   &  0.020379183  & -0.023328762  & -0.0060662671 &  0.005491273  &  0.0009608246 & -0.016972905  & -0.001264051 \\\\\n",
       "\t -0.0004453788 &  0.0021045938 & -0.022068992  &  0.007996010  & -0.05641142   &  0.023195292  &  0.006432156  & -0.0246439480 & -0.005923266  & -0.0378391098 & -0.009816803  & -0.014755333 \\\\\n",
       "\t -0.0072716492 & -0.0204372696 &  0.034396122  &  0.012653820  & -0.04429365   & -0.038127179  & -0.002381100  &  0.0224105292 & -0.037977134  & -0.0418197411 & -0.014632740  &  0.038909227 \\\\\n",
       "\t -0.0015395438 &  0.0019475047 &  0.017605312  &  0.001209650  & -0.03031722   & -0.009235988  & -0.012613315  &  0.0004035704 &  0.002800932  & -0.0043074978 &  0.045204168  & -0.001080118 \\\\\n",
       "\\end{tabular}\n"
      ],
      "text/markdown": [
       "\n",
       "| CNX | TATA AUTO | HDFC | LARSEN | TKK | DABUR | SUN | WIPRO | TATA STEEL | INDIAN | NTPC | BHARTI |\n",
       "|---|---|---|---|---|---|---|---|---|---|---|---|\n",
       "|  0.0098408260 |  0.0391933515 | -0.016248335  | -0.001904787  | -0.01524302   | -0.005552178  | -0.007535397  | -0.0101274365 |  0.001393450  | -0.0103627541 | -0.001371126  | -0.001655190  |\n",
       "|  0.0008088953 | -0.0006310905 | -0.008830384  | -0.020380893  |  0.03047312   |  0.019088656  | -0.042870953  | -0.0297913210 | -0.007957849  |  0.0158246175 |  0.071299067  | -0.015766804  |\n",
       "|  0.0110372989 | -0.0110983912 |  0.000000000  |  0.046729798  |  0.08025446   |  0.020379183  | -0.023328762  | -0.0060662671 |  0.005491273  |  0.0009608246 | -0.016972905  | -0.001264051  |\n",
       "| -0.0004453788 |  0.0021045938 | -0.022068992  |  0.007996010  | -0.05641142   |  0.023195292  |  0.006432156  | -0.0246439480 | -0.005923266  | -0.0378391098 | -0.009816803  | -0.014755333  |\n",
       "| -0.0072716492 | -0.0204372696 |  0.034396122  |  0.012653820  | -0.04429365   | -0.038127179  | -0.002381100  |  0.0224105292 | -0.037977134  | -0.0418197411 | -0.014632740  |  0.038909227  |\n",
       "| -0.0015395438 |  0.0019475047 |  0.017605312  |  0.001209650  | -0.03031722   | -0.009235988  | -0.012613315  |  0.0004035704 |  0.002800932  | -0.0043074978 |  0.045204168  | -0.001080118  |\n",
       "\n"
      ],
      "text/plain": [
       "  CNX           TATA AUTO     HDFC         LARSEN       TKK        \n",
       "1  0.0098408260  0.0391933515 -0.016248335 -0.001904787 -0.01524302\n",
       "2  0.0008088953 -0.0006310905 -0.008830384 -0.020380893  0.03047312\n",
       "3  0.0110372989 -0.0110983912  0.000000000  0.046729798  0.08025446\n",
       "4 -0.0004453788  0.0021045938 -0.022068992  0.007996010 -0.05641142\n",
       "5 -0.0072716492 -0.0204372696  0.034396122  0.012653820 -0.04429365\n",
       "6 -0.0015395438  0.0019475047  0.017605312  0.001209650 -0.03031722\n",
       "  DABUR        SUN          WIPRO         TATA STEEL   INDIAN       \n",
       "1 -0.005552178 -0.007535397 -0.0101274365  0.001393450 -0.0103627541\n",
       "2  0.019088656 -0.042870953 -0.0297913210 -0.007957849  0.0158246175\n",
       "3  0.020379183 -0.023328762 -0.0060662671  0.005491273  0.0009608246\n",
       "4  0.023195292  0.006432156 -0.0246439480 -0.005923266 -0.0378391098\n",
       "5 -0.038127179 -0.002381100  0.0224105292 -0.037977134 -0.0418197411\n",
       "6 -0.009235988 -0.012613315  0.0004035704  0.002800932 -0.0043074978\n",
       "  NTPC         BHARTI      \n",
       "1 -0.001371126 -0.001655190\n",
       "2  0.071299067 -0.015766804\n",
       "3 -0.016972905 -0.001264051\n",
       "4 -0.009816803 -0.014755333\n",
       "5 -0.014632740  0.038909227\n",
       "6  0.045204168 -0.001080118"
      ]
     },
     "metadata": {},
     "output_type": "display_data"
    }
   ],
   "source": [
    "head(LogRet_df)"
   ]
  },
  {
   "cell_type": "code",
   "execution_count": 41,
   "metadata": {},
   "outputs": [
    {
     "data": {
      "text/html": [
       "<table>\n",
       "<thead><tr><th scope=col>CNX</th><th scope=col>TATA AUTO</th><th scope=col>HDFC</th><th scope=col>LARSEN</th><th scope=col>TKK</th><th scope=col>DABUR</th><th scope=col>SUN</th><th scope=col>WIPRO</th><th scope=col>TATA STEEL</th><th scope=col>INDIAN</th><th scope=col>NTPC</th><th scope=col>BHARTI</th></tr></thead>\n",
       "<tbody>\n",
       "\t<tr><td>0.2295064 </td><td>1.632025  </td><td>1.160431  </td><td>0.1729914 </td><td>2.975127  </td><td>1.503043  </td><td>2.247987  </td><td>0.7180131 </td><td>-0.6677041</td><td>0.03359625</td><td>-0.4054651</td><td>-0.2884494</td></tr>\n",
       "</tbody>\n",
       "</table>\n"
      ],
      "text/latex": [
       "\\begin{tabular}{r|llllllllllll}\n",
       " CNX & TATA AUTO & HDFC & LARSEN & TKK & DABUR & SUN & WIPRO & TATA STEEL & INDIAN & NTPC & BHARTI\\\\\n",
       "\\hline\n",
       "\t 0.2295064  & 1.632025   & 1.160431   & 0.1729914  & 2.975127   & 1.503043   & 2.247987   & 0.7180131  & -0.6677041 & 0.03359625 & -0.4054651 & -0.2884494\\\\\n",
       "\\end{tabular}\n"
      ],
      "text/markdown": [
       "\n",
       "| CNX | TATA AUTO | HDFC | LARSEN | TKK | DABUR | SUN | WIPRO | TATA STEEL | INDIAN | NTPC | BHARTI |\n",
       "|---|---|---|---|---|---|---|---|---|---|---|---|\n",
       "| 0.2295064  | 1.632025   | 1.160431   | 0.1729914  | 2.975127   | 1.503043   | 2.247987   | 0.7180131  | -0.6677041 | 0.03359625 | -0.4054651 | -0.2884494 |\n",
       "\n"
      ],
      "text/plain": [
       "  CNX       TATA AUTO HDFC     LARSEN    TKK      DABUR    SUN      WIPRO    \n",
       "1 0.2295064 1.632025  1.160431 0.1729914 2.975127 1.503043 2.247987 0.7180131\n",
       "  TATA STEEL INDIAN     NTPC       BHARTI    \n",
       "1 -0.6677041 0.03359625 -0.4054651 -0.2884494"
      ]
     },
     "metadata": {},
     "output_type": "display_data"
    }
   ],
   "source": [
    "dplyr::summarise_all(LogRet_df, sum)"
   ]
  },
  {
   "cell_type": "code",
   "execution_count": 42,
   "metadata": {},
   "outputs": [
    {
     "data": {
      "text/html": [
       "<table>\n",
       "<thead><tr><th scope=col>DATE</th><th scope=col>CNX</th><th scope=col>TATA AUTO</th><th scope=col>HDFC</th><th scope=col>LARSEN</th><th scope=col>TKK</th><th scope=col>DABUR</th><th scope=col>SUN</th><th scope=col>WIPRO</th><th scope=col>TATA STEEL</th><th scope=col>INDIAN</th><th scope=col>NTPC</th><th scope=col>BHARTI</th></tr></thead>\n",
       "<tbody>\n",
       "\t<tr><td>2008-01-02   </td><td> 0.0098408260</td><td> 0.0391933515</td><td>-0.016248335 </td><td>-0.001904787 </td><td>-0.01524302  </td><td>-0.005552178 </td><td>-0.007535397 </td><td>-0.0101274365</td><td> 0.001393450 </td><td>-0.0103627541</td><td>-0.001371126 </td><td>-0.001655190 </td></tr>\n",
       "\t<tr><td>2008-01-03   </td><td> 0.0008088953</td><td>-0.0006310905</td><td>-0.008830384 </td><td>-0.020380893 </td><td> 0.03047312  </td><td> 0.019088656 </td><td>-0.042870953 </td><td>-0.0297913210</td><td>-0.007957849 </td><td> 0.0158246175</td><td> 0.071299067 </td><td>-0.015766804 </td></tr>\n",
       "\t<tr><td>2008-01-04   </td><td> 0.0110372989</td><td>-0.0110983912</td><td> 0.000000000 </td><td> 0.046729798 </td><td> 0.08025446  </td><td> 0.020379183 </td><td>-0.023328762 </td><td>-0.0060662671</td><td> 0.005491273 </td><td> 0.0009608246</td><td>-0.016972905 </td><td>-0.001264051 </td></tr>\n",
       "\t<tr><td>2008-01-07   </td><td>-0.0004453788</td><td> 0.0021045938</td><td>-0.022068992 </td><td> 0.007996010 </td><td>-0.05641142  </td><td> 0.023195292 </td><td> 0.006432156 </td><td>-0.0246439480</td><td>-0.005923266 </td><td>-0.0378391098</td><td>-0.009816803 </td><td>-0.014755333 </td></tr>\n",
       "\t<tr><td>2008-01-08   </td><td>-0.0072716492</td><td>-0.0204372696</td><td> 0.034396122 </td><td> 0.012653820 </td><td>-0.04429365  </td><td>-0.038127179 </td><td>-0.002381100 </td><td> 0.0224105292</td><td>-0.037977134 </td><td>-0.0418197411</td><td>-0.014632740 </td><td> 0.038909227 </td></tr>\n",
       "\t<tr><td>2008-01-09   </td><td>-0.0015395438</td><td> 0.0019475047</td><td> 0.017605312 </td><td> 0.001209650 </td><td>-0.03031722  </td><td>-0.009235988 </td><td>-0.012613315 </td><td> 0.0004035704</td><td> 0.002800932 </td><td>-0.0043074978</td><td> 0.045204168 </td><td>-0.001080118 </td></tr>\n",
       "</tbody>\n",
       "</table>\n"
      ],
      "text/latex": [
       "\\begin{tabular}{r|lllllllllllll}\n",
       " DATE & CNX & TATA AUTO & HDFC & LARSEN & TKK & DABUR & SUN & WIPRO & TATA STEEL & INDIAN & NTPC & BHARTI\\\\\n",
       "\\hline\n",
       "\t 2008-01-02    &  0.0098408260 &  0.0391933515 & -0.016248335  & -0.001904787  & -0.01524302   & -0.005552178  & -0.007535397  & -0.0101274365 &  0.001393450  & -0.0103627541 & -0.001371126  & -0.001655190 \\\\\n",
       "\t 2008-01-03    &  0.0008088953 & -0.0006310905 & -0.008830384  & -0.020380893  &  0.03047312   &  0.019088656  & -0.042870953  & -0.0297913210 & -0.007957849  &  0.0158246175 &  0.071299067  & -0.015766804 \\\\\n",
       "\t 2008-01-04    &  0.0110372989 & -0.0110983912 &  0.000000000  &  0.046729798  &  0.08025446   &  0.020379183  & -0.023328762  & -0.0060662671 &  0.005491273  &  0.0009608246 & -0.016972905  & -0.001264051 \\\\\n",
       "\t 2008-01-07    & -0.0004453788 &  0.0021045938 & -0.022068992  &  0.007996010  & -0.05641142   &  0.023195292  &  0.006432156  & -0.0246439480 & -0.005923266  & -0.0378391098 & -0.009816803  & -0.014755333 \\\\\n",
       "\t 2008-01-08    & -0.0072716492 & -0.0204372696 &  0.034396122  &  0.012653820  & -0.04429365   & -0.038127179  & -0.002381100  &  0.0224105292 & -0.037977134  & -0.0418197411 & -0.014632740  &  0.038909227 \\\\\n",
       "\t 2008-01-09    & -0.0015395438 &  0.0019475047 &  0.017605312  &  0.001209650  & -0.03031722   & -0.009235988  & -0.012613315  &  0.0004035704 &  0.002800932  & -0.0043074978 &  0.045204168  & -0.001080118 \\\\\n",
       "\\end{tabular}\n"
      ],
      "text/markdown": [
       "\n",
       "| DATE | CNX | TATA AUTO | HDFC | LARSEN | TKK | DABUR | SUN | WIPRO | TATA STEEL | INDIAN | NTPC | BHARTI |\n",
       "|---|---|---|---|---|---|---|---|---|---|---|---|---|\n",
       "| 2008-01-02    |  0.0098408260 |  0.0391933515 | -0.016248335  | -0.001904787  | -0.01524302   | -0.005552178  | -0.007535397  | -0.0101274365 |  0.001393450  | -0.0103627541 | -0.001371126  | -0.001655190  |\n",
       "| 2008-01-03    |  0.0008088953 | -0.0006310905 | -0.008830384  | -0.020380893  |  0.03047312   |  0.019088656  | -0.042870953  | -0.0297913210 | -0.007957849  |  0.0158246175 |  0.071299067  | -0.015766804  |\n",
       "| 2008-01-04    |  0.0110372989 | -0.0110983912 |  0.000000000  |  0.046729798  |  0.08025446   |  0.020379183  | -0.023328762  | -0.0060662671 |  0.005491273  |  0.0009608246 | -0.016972905  | -0.001264051  |\n",
       "| 2008-01-07    | -0.0004453788 |  0.0021045938 | -0.022068992  |  0.007996010  | -0.05641142   |  0.023195292  |  0.006432156  | -0.0246439480 | -0.005923266  | -0.0378391098 | -0.009816803  | -0.014755333  |\n",
       "| 2008-01-08    | -0.0072716492 | -0.0204372696 |  0.034396122  |  0.012653820  | -0.04429365   | -0.038127179  | -0.002381100  |  0.0224105292 | -0.037977134  | -0.0418197411 | -0.014632740  |  0.038909227  |\n",
       "| 2008-01-09    | -0.0015395438 |  0.0019475047 |  0.017605312  |  0.001209650  | -0.03031722   | -0.009235988  | -0.012613315  |  0.0004035704 |  0.002800932  | -0.0043074978 |  0.045204168  | -0.001080118  |\n",
       "\n"
      ],
      "text/plain": [
       "  DATE       CNX           TATA AUTO     HDFC         LARSEN       TKK        \n",
       "1 2008-01-02  0.0098408260  0.0391933515 -0.016248335 -0.001904787 -0.01524302\n",
       "2 2008-01-03  0.0008088953 -0.0006310905 -0.008830384 -0.020380893  0.03047312\n",
       "3 2008-01-04  0.0110372989 -0.0110983912  0.000000000  0.046729798  0.08025446\n",
       "4 2008-01-07 -0.0004453788  0.0021045938 -0.022068992  0.007996010 -0.05641142\n",
       "5 2008-01-08 -0.0072716492 -0.0204372696  0.034396122  0.012653820 -0.04429365\n",
       "6 2008-01-09 -0.0015395438  0.0019475047  0.017605312  0.001209650 -0.03031722\n",
       "  DABUR        SUN          WIPRO         TATA STEEL   INDIAN       \n",
       "1 -0.005552178 -0.007535397 -0.0101274365  0.001393450 -0.0103627541\n",
       "2  0.019088656 -0.042870953 -0.0297913210 -0.007957849  0.0158246175\n",
       "3  0.020379183 -0.023328762 -0.0060662671  0.005491273  0.0009608246\n",
       "4  0.023195292  0.006432156 -0.0246439480 -0.005923266 -0.0378391098\n",
       "5 -0.038127179 -0.002381100  0.0224105292 -0.037977134 -0.0418197411\n",
       "6 -0.009235988 -0.012613315  0.0004035704  0.002800932 -0.0043074978\n",
       "  NTPC         BHARTI      \n",
       "1 -0.001371126 -0.001655190\n",
       "2  0.071299067 -0.015766804\n",
       "3 -0.016972905 -0.001264051\n",
       "4 -0.009816803 -0.014755333\n",
       "5 -0.014632740  0.038909227\n",
       "6  0.045204168 -0.001080118"
      ]
     },
     "metadata": {},
     "output_type": "display_data"
    }
   ],
   "source": [
    "LogRet_df<- add_column(LogRet_df,kapoor_df[-1,1],.before = TRUE)\n",
    "head(LogRet_df)"
   ]
  },
  {
   "cell_type": "markdown",
   "metadata": {},
   "source": [
    "### Visualization (Single Line)"
   ]
  },
  {
   "cell_type": "code",
   "execution_count": 43,
   "metadata": {},
   "outputs": [
    {
     "data": {
      "image/png": "[encoded data removed]",
      "text/plain": [
       "plot without title"
      ]
     },
     "metadata": {},
     "output_type": "display_data"
    }
   ],
   "source": [
    "ggplot(LogRet_df) + geom_line(aes(DATE, cumsum(CNX)))"
   ]
  },
  {
   "cell_type": "code",
   "execution_count": 44,
   "metadata": {},
   "outputs": [
    {
     "data": {
      "text/html": [
       "<ol class=list-inline>\n",
       "\t<li>'DATE'</li>\n",
       "\t<li>'CNX'</li>\n",
       "\t<li>'TATA AUTO'</li>\n",
       "\t<li>'HDFC'</li>\n",
       "\t<li>'LARSEN'</li>\n",
       "\t<li>'TKK'</li>\n",
       "\t<li>'DABUR'</li>\n",
       "\t<li>'SUN'</li>\n",
       "\t<li>'WIPRO'</li>\n",
       "\t<li>'TATA STEEL'</li>\n",
       "\t<li>'INDIAN'</li>\n",
       "\t<li>'NTPC'</li>\n",
       "\t<li>'BHARTI'</li>\n",
       "</ol>\n"
      ],
      "text/latex": [
       "\\begin{enumerate*}\n",
       "\\item 'DATE'\n",
       "\\item 'CNX'\n",
       "\\item 'TATA AUTO'\n",
       "\\item 'HDFC'\n",
       "\\item 'LARSEN'\n",
       "\\item 'TKK'\n",
       "\\item 'DABUR'\n",
       "\\item 'SUN'\n",
       "\\item 'WIPRO'\n",
       "\\item 'TATA STEEL'\n",
       "\\item 'INDIAN'\n",
       "\\item 'NTPC'\n",
       "\\item 'BHARTI'\n",
       "\\end{enumerate*}\n"
      ],
      "text/markdown": [
       "1. 'DATE'\n",
       "2. 'CNX'\n",
       "3. 'TATA AUTO'\n",
       "4. 'HDFC'\n",
       "5. 'LARSEN'\n",
       "6. 'TKK'\n",
       "7. 'DABUR'\n",
       "8. 'SUN'\n",
       "9. 'WIPRO'\n",
       "10. 'TATA STEEL'\n",
       "11. 'INDIAN'\n",
       "12. 'NTPC'\n",
       "13. 'BHARTI'\n",
       "\n",
       "\n"
      ],
      "text/plain": [
       " [1] \"DATE\"       \"CNX\"        \"TATA AUTO\"  \"HDFC\"       \"LARSEN\"    \n",
       " [6] \"TKK\"        \"DABUR\"      \"SUN\"        \"WIPRO\"      \"TATA STEEL\"\n",
       "[11] \"INDIAN\"     \"NTPC\"       \"BHARTI\"    "
      ]
     },
     "metadata": {},
     "output_type": "display_data"
    }
   ],
   "source": [
    "names(LogRet_df)"
   ]
  },
  {
   "cell_type": "markdown",
   "metadata": {},
   "source": [
    "### Visualization Option 1 (Multiple lines)"
   ]
  },
  {
   "cell_type": "code",
   "execution_count": 45,
   "metadata": {},
   "outputs": [
    {
     "data": {
      "image/png": "[encoded data removed]",
      "text/plain": [
       "plot without title"
      ]
     },
     "metadata": {},
     "output_type": "display_data"
    }
   ],
   "source": [
    "\n",
    "p <- ggplot(LogRet_df, aes(x=DATE)) + geom_line(aes(y=cumsum(CNX)))\n",
    "p <- p + geom_line(aes(y=cumsum(SUN)), color=\"darkred\")\n",
    "p <- p + geom_line(aes(y=cumsum(TKK)), color=\"steelblue\")\n",
    "p"
   ]
  },
  {
   "cell_type": "code",
   "execution_count": null,
   "metadata": {},
   "outputs": [],
   "source": []
  },
  {
   "cell_type": "code",
   "execution_count": 46,
   "metadata": {},
   "outputs": [
    {
     "data": {
      "text/html": [
       "<table>\n",
       "<thead><tr><th scope=col>CNX</th><th scope=col>TATA AUTO</th><th scope=col>HDFC</th><th scope=col>LARSEN</th><th scope=col>TKK</th><th scope=col>DABUR</th><th scope=col>SUN</th><th scope=col>WIPRO</th><th scope=col>TATA STEEL</th><th scope=col>INDIAN</th><th scope=col>NTPC</th><th scope=col>BHARTI</th></tr></thead>\n",
       "<tbody>\n",
       "\t<tr><td>0.009840826 </td><td>0.039193351 </td><td>-0.016248335</td><td>-0.001904787</td><td>-0.015243019</td><td>-0.005552178</td><td>-0.007535397</td><td>-0.01012744 </td><td> 0.001393450</td><td>-0.010362754</td><td>-0.001371126</td><td>-0.001655190</td></tr>\n",
       "\t<tr><td>0.010649721 </td><td>0.038562261 </td><td>-0.025078719</td><td>-0.022285680</td><td> 0.015230101</td><td> 0.013536478</td><td>-0.050406351</td><td>-0.03991876 </td><td>-0.006564399</td><td> 0.005461863</td><td> 0.069927941</td><td>-0.017421995</td></tr>\n",
       "\t<tr><td>0.021687020 </td><td>0.027463870 </td><td>-0.025078719</td><td> 0.024444119</td><td> 0.095484559</td><td> 0.033915661</td><td>-0.073735112</td><td>-0.04598502 </td><td>-0.001073126</td><td> 0.006422688</td><td> 0.052955036</td><td>-0.018686045</td></tr>\n",
       "\t<tr><td>0.021241641 </td><td>0.029568464 </td><td>-0.047147711</td><td> 0.032440129</td><td> 0.039073138</td><td> 0.057110953</td><td>-0.067302957</td><td>-0.07062897 </td><td>-0.006996392</td><td>-0.031416422</td><td> 0.043138233</td><td>-0.033441379</td></tr>\n",
       "\t<tr><td>0.013969992 </td><td>0.009131194 </td><td>-0.012751588</td><td> 0.045093949</td><td>-0.005220509</td><td> 0.018983774</td><td>-0.069684056</td><td>-0.04821844 </td><td>-0.044973525</td><td>-0.073236163</td><td> 0.028505493</td><td> 0.005467848</td></tr>\n",
       "\t<tr><td>0.012430448 </td><td>0.011078699 </td><td> 0.004853724</td><td> 0.046303599</td><td>-0.035537726</td><td> 0.009747785</td><td>-0.082297371</td><td>-0.04781487 </td><td>-0.042172594</td><td>-0.077543661</td><td> 0.073709661</td><td> 0.004387730</td></tr>\n",
       "</tbody>\n",
       "</table>\n"
      ],
      "text/latex": [
       "\\begin{tabular}{r|llllllllllll}\n",
       " CNX & TATA AUTO & HDFC & LARSEN & TKK & DABUR & SUN & WIPRO & TATA STEEL & INDIAN & NTPC & BHARTI\\\\\n",
       "\\hline\n",
       "\t 0.009840826  & 0.039193351  & -0.016248335 & -0.001904787 & -0.015243019 & -0.005552178 & -0.007535397 & -0.01012744  &  0.001393450 & -0.010362754 & -0.001371126 & -0.001655190\\\\\n",
       "\t 0.010649721  & 0.038562261  & -0.025078719 & -0.022285680 &  0.015230101 &  0.013536478 & -0.050406351 & -0.03991876  & -0.006564399 &  0.005461863 &  0.069927941 & -0.017421995\\\\\n",
       "\t 0.021687020  & 0.027463870  & -0.025078719 &  0.024444119 &  0.095484559 &  0.033915661 & -0.073735112 & -0.04598502  & -0.001073126 &  0.006422688 &  0.052955036 & -0.018686045\\\\\n",
       "\t 0.021241641  & 0.029568464  & -0.047147711 &  0.032440129 &  0.039073138 &  0.057110953 & -0.067302957 & -0.07062897  & -0.006996392 & -0.031416422 &  0.043138233 & -0.033441379\\\\\n",
       "\t 0.013969992  & 0.009131194  & -0.012751588 &  0.045093949 & -0.005220509 &  0.018983774 & -0.069684056 & -0.04821844  & -0.044973525 & -0.073236163 &  0.028505493 &  0.005467848\\\\\n",
       "\t 0.012430448  & 0.011078699  &  0.004853724 &  0.046303599 & -0.035537726 &  0.009747785 & -0.082297371 & -0.04781487  & -0.042172594 & -0.077543661 &  0.073709661 &  0.004387730\\\\\n",
       "\\end{tabular}\n"
      ],
      "text/markdown": [
       "\n",
       "| CNX | TATA AUTO | HDFC | LARSEN | TKK | DABUR | SUN | WIPRO | TATA STEEL | INDIAN | NTPC | BHARTI |\n",
       "|---|---|---|---|---|---|---|---|---|---|---|---|\n",
       "| 0.009840826  | 0.039193351  | -0.016248335 | -0.001904787 | -0.015243019 | -0.005552178 | -0.007535397 | -0.01012744  |  0.001393450 | -0.010362754 | -0.001371126 | -0.001655190 |\n",
       "| 0.010649721  | 0.038562261  | -0.025078719 | -0.022285680 |  0.015230101 |  0.013536478 | -0.050406351 | -0.03991876  | -0.006564399 |  0.005461863 |  0.069927941 | -0.017421995 |\n",
       "| 0.021687020  | 0.027463870  | -0.025078719 |  0.024444119 |  0.095484559 |  0.033915661 | -0.073735112 | -0.04598502  | -0.001073126 |  0.006422688 |  0.052955036 | -0.018686045 |\n",
       "| 0.021241641  | 0.029568464  | -0.047147711 |  0.032440129 |  0.039073138 |  0.057110953 | -0.067302957 | -0.07062897  | -0.006996392 | -0.031416422 |  0.043138233 | -0.033441379 |\n",
       "| 0.013969992  | 0.009131194  | -0.012751588 |  0.045093949 | -0.005220509 |  0.018983774 | -0.069684056 | -0.04821844  | -0.044973525 | -0.073236163 |  0.028505493 |  0.005467848 |\n",
       "| 0.012430448  | 0.011078699  |  0.004853724 |  0.046303599 | -0.035537726 |  0.009747785 | -0.082297371 | -0.04781487  | -0.042172594 | -0.077543661 |  0.073709661 |  0.004387730 |\n",
       "\n"
      ],
      "text/plain": [
       "  CNX         TATA AUTO   HDFC         LARSEN       TKK          DABUR       \n",
       "1 0.009840826 0.039193351 -0.016248335 -0.001904787 -0.015243019 -0.005552178\n",
       "2 0.010649721 0.038562261 -0.025078719 -0.022285680  0.015230101  0.013536478\n",
       "3 0.021687020 0.027463870 -0.025078719  0.024444119  0.095484559  0.033915661\n",
       "4 0.021241641 0.029568464 -0.047147711  0.032440129  0.039073138  0.057110953\n",
       "5 0.013969992 0.009131194 -0.012751588  0.045093949 -0.005220509  0.018983774\n",
       "6 0.012430448 0.011078699  0.004853724  0.046303599 -0.035537726  0.009747785\n",
       "  SUN          WIPRO       TATA STEEL   INDIAN       NTPC         BHARTI      \n",
       "1 -0.007535397 -0.01012744  0.001393450 -0.010362754 -0.001371126 -0.001655190\n",
       "2 -0.050406351 -0.03991876 -0.006564399  0.005461863  0.069927941 -0.017421995\n",
       "3 -0.073735112 -0.04598502 -0.001073126  0.006422688  0.052955036 -0.018686045\n",
       "4 -0.067302957 -0.07062897 -0.006996392 -0.031416422  0.043138233 -0.033441379\n",
       "5 -0.069684056 -0.04821844 -0.044973525 -0.073236163  0.028505493  0.005467848\n",
       "6 -0.082297371 -0.04781487 -0.042172594 -0.077543661  0.073709661  0.004387730"
      ]
     },
     "metadata": {},
     "output_type": "display_data"
    }
   ],
   "source": [
    "CumLogRet_df <- cumsum(log(GrossRet_df[,-1]))\n",
    "head(CumLogRet_df)"
   ]
  },
  {
   "cell_type": "code",
   "execution_count": 47,
   "metadata": {},
   "outputs": [
    {
     "data": {
      "text/html": [
       "<table>\n",
       "<thead><tr><th scope=col>DATE</th><th scope=col>CNX</th><th scope=col>TATA AUTO</th><th scope=col>HDFC</th><th scope=col>LARSEN</th><th scope=col>TKK</th><th scope=col>DABUR</th><th scope=col>SUN</th><th scope=col>WIPRO</th><th scope=col>TATA STEEL</th><th scope=col>INDIAN</th><th scope=col>NTPC</th><th scope=col>BHARTI</th></tr></thead>\n",
       "<tbody>\n",
       "\t<tr><td>2008-01-02  </td><td>0.009840826 </td><td>0.039193351 </td><td>-0.016248335</td><td>-0.001904787</td><td>-0.015243019</td><td>-0.005552178</td><td>-0.007535397</td><td>-0.01012744 </td><td> 0.001393450</td><td>-0.010362754</td><td>-0.001371126</td><td>-0.001655190</td></tr>\n",
       "\t<tr><td>2008-01-03  </td><td>0.010649721 </td><td>0.038562261 </td><td>-0.025078719</td><td>-0.022285680</td><td> 0.015230101</td><td> 0.013536478</td><td>-0.050406351</td><td>-0.03991876 </td><td>-0.006564399</td><td> 0.005461863</td><td> 0.069927941</td><td>-0.017421995</td></tr>\n",
       "\t<tr><td>2008-01-04  </td><td>0.021687020 </td><td>0.027463870 </td><td>-0.025078719</td><td> 0.024444119</td><td> 0.095484559</td><td> 0.033915661</td><td>-0.073735112</td><td>-0.04598502 </td><td>-0.001073126</td><td> 0.006422688</td><td> 0.052955036</td><td>-0.018686045</td></tr>\n",
       "\t<tr><td>2008-01-07  </td><td>0.021241641 </td><td>0.029568464 </td><td>-0.047147711</td><td> 0.032440129</td><td> 0.039073138</td><td> 0.057110953</td><td>-0.067302957</td><td>-0.07062897 </td><td>-0.006996392</td><td>-0.031416422</td><td> 0.043138233</td><td>-0.033441379</td></tr>\n",
       "\t<tr><td>2008-01-08  </td><td>0.013969992 </td><td>0.009131194 </td><td>-0.012751588</td><td> 0.045093949</td><td>-0.005220509</td><td> 0.018983774</td><td>-0.069684056</td><td>-0.04821844 </td><td>-0.044973525</td><td>-0.073236163</td><td> 0.028505493</td><td> 0.005467848</td></tr>\n",
       "\t<tr><td>2008-01-09  </td><td>0.012430448 </td><td>0.011078699 </td><td> 0.004853724</td><td> 0.046303599</td><td>-0.035537726</td><td> 0.009747785</td><td>-0.082297371</td><td>-0.04781487 </td><td>-0.042172594</td><td>-0.077543661</td><td> 0.073709661</td><td> 0.004387730</td></tr>\n",
       "</tbody>\n",
       "</table>\n"
      ],
      "text/latex": [
       "\\begin{tabular}{r|lllllllllllll}\n",
       " DATE & CNX & TATA AUTO & HDFC & LARSEN & TKK & DABUR & SUN & WIPRO & TATA STEEL & INDIAN & NTPC & BHARTI\\\\\n",
       "\\hline\n",
       "\t 2008-01-02   & 0.009840826  & 0.039193351  & -0.016248335 & -0.001904787 & -0.015243019 & -0.005552178 & -0.007535397 & -0.01012744  &  0.001393450 & -0.010362754 & -0.001371126 & -0.001655190\\\\\n",
       "\t 2008-01-03   & 0.010649721  & 0.038562261  & -0.025078719 & -0.022285680 &  0.015230101 &  0.013536478 & -0.050406351 & -0.03991876  & -0.006564399 &  0.005461863 &  0.069927941 & -0.017421995\\\\\n",
       "\t 2008-01-04   & 0.021687020  & 0.027463870  & -0.025078719 &  0.024444119 &  0.095484559 &  0.033915661 & -0.073735112 & -0.04598502  & -0.001073126 &  0.006422688 &  0.052955036 & -0.018686045\\\\\n",
       "\t 2008-01-07   & 0.021241641  & 0.029568464  & -0.047147711 &  0.032440129 &  0.039073138 &  0.057110953 & -0.067302957 & -0.07062897  & -0.006996392 & -0.031416422 &  0.043138233 & -0.033441379\\\\\n",
       "\t 2008-01-08   & 0.013969992  & 0.009131194  & -0.012751588 &  0.045093949 & -0.005220509 &  0.018983774 & -0.069684056 & -0.04821844  & -0.044973525 & -0.073236163 &  0.028505493 &  0.005467848\\\\\n",
       "\t 2008-01-09   & 0.012430448  & 0.011078699  &  0.004853724 &  0.046303599 & -0.035537726 &  0.009747785 & -0.082297371 & -0.04781487  & -0.042172594 & -0.077543661 &  0.073709661 &  0.004387730\\\\\n",
       "\\end{tabular}\n"
      ],
      "text/markdown": [
       "\n",
       "| DATE | CNX | TATA AUTO | HDFC | LARSEN | TKK | DABUR | SUN | WIPRO | TATA STEEL | INDIAN | NTPC | BHARTI |\n",
       "|---|---|---|---|---|---|---|---|---|---|---|---|---|\n",
       "| 2008-01-02   | 0.009840826  | 0.039193351  | -0.016248335 | -0.001904787 | -0.015243019 | -0.005552178 | -0.007535397 | -0.01012744  |  0.001393450 | -0.010362754 | -0.001371126 | -0.001655190 |\n",
       "| 2008-01-03   | 0.010649721  | 0.038562261  | -0.025078719 | -0.022285680 |  0.015230101 |  0.013536478 | -0.050406351 | -0.03991876  | -0.006564399 |  0.005461863 |  0.069927941 | -0.017421995 |\n",
       "| 2008-01-04   | 0.021687020  | 0.027463870  | -0.025078719 |  0.024444119 |  0.095484559 |  0.033915661 | -0.073735112 | -0.04598502  | -0.001073126 |  0.006422688 |  0.052955036 | -0.018686045 |\n",
       "| 2008-01-07   | 0.021241641  | 0.029568464  | -0.047147711 |  0.032440129 |  0.039073138 |  0.057110953 | -0.067302957 | -0.07062897  | -0.006996392 | -0.031416422 |  0.043138233 | -0.033441379 |\n",
       "| 2008-01-08   | 0.013969992  | 0.009131194  | -0.012751588 |  0.045093949 | -0.005220509 |  0.018983774 | -0.069684056 | -0.04821844  | -0.044973525 | -0.073236163 |  0.028505493 |  0.005467848 |\n",
       "| 2008-01-09   | 0.012430448  | 0.011078699  |  0.004853724 |  0.046303599 | -0.035537726 |  0.009747785 | -0.082297371 | -0.04781487  | -0.042172594 | -0.077543661 |  0.073709661 |  0.004387730 |\n",
       "\n"
      ],
      "text/plain": [
       "  DATE       CNX         TATA AUTO   HDFC         LARSEN       TKK         \n",
       "1 2008-01-02 0.009840826 0.039193351 -0.016248335 -0.001904787 -0.015243019\n",
       "2 2008-01-03 0.010649721 0.038562261 -0.025078719 -0.022285680  0.015230101\n",
       "3 2008-01-04 0.021687020 0.027463870 -0.025078719  0.024444119  0.095484559\n",
       "4 2008-01-07 0.021241641 0.029568464 -0.047147711  0.032440129  0.039073138\n",
       "5 2008-01-08 0.013969992 0.009131194 -0.012751588  0.045093949 -0.005220509\n",
       "6 2008-01-09 0.012430448 0.011078699  0.004853724  0.046303599 -0.035537726\n",
       "  DABUR        SUN          WIPRO       TATA STEEL   INDIAN       NTPC        \n",
       "1 -0.005552178 -0.007535397 -0.01012744  0.001393450 -0.010362754 -0.001371126\n",
       "2  0.013536478 -0.050406351 -0.03991876 -0.006564399  0.005461863  0.069927941\n",
       "3  0.033915661 -0.073735112 -0.04598502 -0.001073126  0.006422688  0.052955036\n",
       "4  0.057110953 -0.067302957 -0.07062897 -0.006996392 -0.031416422  0.043138233\n",
       "5  0.018983774 -0.069684056 -0.04821844 -0.044973525 -0.073236163  0.028505493\n",
       "6  0.009747785 -0.082297371 -0.04781487 -0.042172594 -0.077543661  0.073709661\n",
       "  BHARTI      \n",
       "1 -0.001655190\n",
       "2 -0.017421995\n",
       "3 -0.018686045\n",
       "4 -0.033441379\n",
       "5  0.005467848\n",
       "6  0.004387730"
      ]
     },
     "metadata": {},
     "output_type": "display_data"
    }
   ],
   "source": [
    "CumLogRet_df<- add_column(CumLogRet_df,kapoor_df[-1,1],.before = TRUE)\n",
    "head(CumLogRet_df)"
   ]
  },
  {
   "cell_type": "markdown",
   "metadata": {},
   "source": [
    "### Visualization Option 2 (Multiple Lines)"
   ]
  },
  {
   "cell_type": "code",
   "execution_count": 48,
   "metadata": {},
   "outputs": [
    {
     "data": {
      "text/html": [
       "<table>\n",
       "<thead><tr><th scope=col>DATE</th><th scope=col>stock</th><th scope=col>CumReturn</th></tr></thead>\n",
       "<tbody>\n",
       "\t<tr><td>2008-01-02 </td><td>CNX        </td><td>0.009840826</td></tr>\n",
       "\t<tr><td>2008-01-03 </td><td>CNX        </td><td>0.010649721</td></tr>\n",
       "\t<tr><td>2008-01-04 </td><td>CNX        </td><td>0.021687020</td></tr>\n",
       "\t<tr><td>2008-01-07 </td><td>CNX        </td><td>0.021241641</td></tr>\n",
       "\t<tr><td>2008-01-08 </td><td>CNX        </td><td>0.013969992</td></tr>\n",
       "\t<tr><td>2008-01-09 </td><td>CNX        </td><td>0.012430448</td></tr>\n",
       "</tbody>\n",
       "</table>\n"
      ],
      "text/latex": [
       "\\begin{tabular}{r|lll}\n",
       " DATE & stock & CumReturn\\\\\n",
       "\\hline\n",
       "\t 2008-01-02  & CNX         & 0.009840826\\\\\n",
       "\t 2008-01-03  & CNX         & 0.010649721\\\\\n",
       "\t 2008-01-04  & CNX         & 0.021687020\\\\\n",
       "\t 2008-01-07  & CNX         & 0.021241641\\\\\n",
       "\t 2008-01-08  & CNX         & 0.013969992\\\\\n",
       "\t 2008-01-09  & CNX         & 0.012430448\\\\\n",
       "\\end{tabular}\n"
      ],
      "text/markdown": [
       "\n",
       "| DATE | stock | CumReturn |\n",
       "|---|---|---|\n",
       "| 2008-01-02  | CNX         | 0.009840826 |\n",
       "| 2008-01-03  | CNX         | 0.010649721 |\n",
       "| 2008-01-04  | CNX         | 0.021687020 |\n",
       "| 2008-01-07  | CNX         | 0.021241641 |\n",
       "| 2008-01-08  | CNX         | 0.013969992 |\n",
       "| 2008-01-09  | CNX         | 0.012430448 |\n",
       "\n"
      ],
      "text/plain": [
       "  DATE       stock CumReturn  \n",
       "1 2008-01-02 CNX   0.009840826\n",
       "2 2008-01-03 CNX   0.010649721\n",
       "3 2008-01-04 CNX   0.021687020\n",
       "4 2008-01-07 CNX   0.021241641\n",
       "5 2008-01-08 CNX   0.013969992\n",
       "6 2008-01-09 CNX   0.012430448"
      ]
     },
     "metadata": {},
     "output_type": "display_data"
    }
   ],
   "source": [
    "# Data preparation\n",
    "df <- CumLogRet_df %>%\n",
    "  gather(key = \"stock\", value = \"CumReturn\", -DATE)\n",
    "head(df)"
   ]
  },
  {
   "cell_type": "code",
   "execution_count": 49,
   "metadata": {},
   "outputs": [
    {
     "data": {
      "image/png": "[encoded data removed]",
      "text/plain": [
       "plot without title"
      ]
     },
     "metadata": {},
     "output_type": "display_data"
    }
   ],
   "source": [
    "# Visualization\n",
    "p <- ggplot(df, aes(x = DATE, y = CumReturn))  \n",
    "p <- p + geom_line(aes(color = stock))\n",
    "#p <- p +  scale_color_manual(values = c(\"darkred\", \"steelblue\"))\n",
    "p"
   ]
  },
  {
   "cell_type": "markdown",
   "metadata": {},
   "source": [
    "## CAPM\n",
    "\n",
    "### Obtain betas for each Sector"
   ]
  },
  {
   "cell_type": "code",
   "execution_count": 50,
   "metadata": {},
   "outputs": [
    {
     "data": {
      "text/html": [
       "<table>\n",
       "<thead><tr><th scope=col>CNX</th><th scope=col>TATA AUTO</th><th scope=col>HDFC</th><th scope=col>LARSEN</th><th scope=col>TKK</th><th scope=col>DABUR</th><th scope=col>SUN</th><th scope=col>WIPRO</th><th scope=col>TATA STEEL</th><th scope=col>INDIAN</th><th scope=col>NTPC</th><th scope=col>BHARTI</th></tr></thead>\n",
       "<tbody>\n",
       "\t<tr><td> 0.0098894062</td><td> 0.0399715443</td><td>-0.016117043 </td><td>-0.001902974 </td><td>-0.01512743  </td><td>-0.005536793 </td><td>-0.007507077 </td><td>-0.0100763267</td><td> 0.001394421 </td><td>-0.0103092457</td><td>-0.001370187 </td><td>-0.001653821 </td></tr>\n",
       "\t<tr><td> 0.0008092225</td><td>-0.0006308914</td><td>-0.008791511 </td><td>-0.020174607 </td><td> 0.03094218  </td><td> 0.019272009 </td><td>-0.041964987 </td><td>-0.0293519337</td><td>-0.007926269 </td><td> 0.0159504898</td><td> 0.073902347 </td><td>-0.015643159 </td></tr>\n",
       "\t<tr><td> 0.0110984346</td><td>-0.0110370313</td><td> 0.000000000 </td><td> 0.047838843 </td><td> 0.08356275  </td><td> 0.020588257 </td><td>-0.023058750 </td><td>-0.0060479044</td><td> 0.005506378 </td><td> 0.0009612863</td><td>-0.016829677 </td><td>-0.001263252 </td></tr>\n",
       "\t<tr><td>-0.0004452797</td><td> 0.0021068100</td><td>-0.021827253 </td><td> 0.008028064 </td><td>-0.05484980  </td><td> 0.023466395 </td><td> 0.006452887 </td><td>-0.0243427651</td><td>-0.005905758 </td><td>-0.0371321556</td><td>-0.009768776 </td><td>-0.014647007 </td></tr>\n",
       "\t<tr><td>-0.0072452747</td><td>-0.0202298441</td><td> 0.034994510 </td><td> 0.012734219 </td><td>-0.04332701  </td><td>-0.037409488 </td><td>-0.002378267 </td><td> 0.0226635315</td><td>-0.037265045 </td><td>-0.0409573591</td><td>-0.014526201 </td><td> 0.039676104 </td></tr>\n",
       "\t<tr><td>-0.0015383593</td><td> 0.0019494024</td><td> 0.017761199 </td><td> 0.001210382 </td><td>-0.02986226  </td><td>-0.009193468 </td><td>-0.012534100 </td><td> 0.0004036519</td><td> 0.002804858 </td><td>-0.0042982338</td><td> 0.046241447 </td><td>-0.001079535 </td></tr>\n",
       "</tbody>\n",
       "</table>\n"
      ],
      "text/latex": [
       "\\begin{tabular}{r|llllllllllll}\n",
       " CNX & TATA AUTO & HDFC & LARSEN & TKK & DABUR & SUN & WIPRO & TATA STEEL & INDIAN & NTPC & BHARTI\\\\\n",
       "\\hline\n",
       "\t  0.0098894062 &  0.0399715443 & -0.016117043  & -0.001902974  & -0.01512743   & -0.005536793  & -0.007507077  & -0.0100763267 &  0.001394421  & -0.0103092457 & -0.001370187  & -0.001653821 \\\\\n",
       "\t  0.0008092225 & -0.0006308914 & -0.008791511  & -0.020174607  &  0.03094218   &  0.019272009  & -0.041964987  & -0.0293519337 & -0.007926269  &  0.0159504898 &  0.073902347  & -0.015643159 \\\\\n",
       "\t  0.0110984346 & -0.0110370313 &  0.000000000  &  0.047838843  &  0.08356275   &  0.020588257  & -0.023058750  & -0.0060479044 &  0.005506378  &  0.0009612863 & -0.016829677  & -0.001263252 \\\\\n",
       "\t -0.0004452797 &  0.0021068100 & -0.021827253  &  0.008028064  & -0.05484980   &  0.023466395  &  0.006452887  & -0.0243427651 & -0.005905758  & -0.0371321556 & -0.009768776  & -0.014647007 \\\\\n",
       "\t -0.0072452747 & -0.0202298441 &  0.034994510  &  0.012734219  & -0.04332701   & -0.037409488  & -0.002378267  &  0.0226635315 & -0.037265045  & -0.0409573591 & -0.014526201  &  0.039676104 \\\\\n",
       "\t -0.0015383593 &  0.0019494024 &  0.017761199  &  0.001210382  & -0.02986226   & -0.009193468  & -0.012534100  &  0.0004036519 &  0.002804858  & -0.0042982338 &  0.046241447  & -0.001079535 \\\\\n",
       "\\end{tabular}\n"
      ],
      "text/markdown": [
       "\n",
       "| CNX | TATA AUTO | HDFC | LARSEN | TKK | DABUR | SUN | WIPRO | TATA STEEL | INDIAN | NTPC | BHARTI |\n",
       "|---|---|---|---|---|---|---|---|---|---|---|---|\n",
       "|  0.0098894062 |  0.0399715443 | -0.016117043  | -0.001902974  | -0.01512743   | -0.005536793  | -0.007507077  | -0.0100763267 |  0.001394421  | -0.0103092457 | -0.001370187  | -0.001653821  |\n",
       "|  0.0008092225 | -0.0006308914 | -0.008791511  | -0.020174607  |  0.03094218   |  0.019272009  | -0.041964987  | -0.0293519337 | -0.007926269  |  0.0159504898 |  0.073902347  | -0.015643159  |\n",
       "|  0.0110984346 | -0.0110370313 |  0.000000000  |  0.047838843  |  0.08356275   |  0.020588257  | -0.023058750  | -0.0060479044 |  0.005506378  |  0.0009612863 | -0.016829677  | -0.001263252  |\n",
       "| -0.0004452797 |  0.0021068100 | -0.021827253  |  0.008028064  | -0.05484980   |  0.023466395  |  0.006452887  | -0.0243427651 | -0.005905758  | -0.0371321556 | -0.009768776  | -0.014647007  |\n",
       "| -0.0072452747 | -0.0202298441 |  0.034994510  |  0.012734219  | -0.04332701   | -0.037409488  | -0.002378267  |  0.0226635315 | -0.037265045  | -0.0409573591 | -0.014526201  |  0.039676104  |\n",
       "| -0.0015383593 |  0.0019494024 |  0.017761199  |  0.001210382  | -0.02986226   | -0.009193468  | -0.012534100  |  0.0004036519 |  0.002804858  | -0.0042982338 |  0.046241447  | -0.001079535  |\n",
       "\n"
      ],
      "text/plain": [
       "  CNX           TATA AUTO     HDFC         LARSEN       TKK        \n",
       "1  0.0098894062  0.0399715443 -0.016117043 -0.001902974 -0.01512743\n",
       "2  0.0008092225 -0.0006308914 -0.008791511 -0.020174607  0.03094218\n",
       "3  0.0110984346 -0.0110370313  0.000000000  0.047838843  0.08356275\n",
       "4 -0.0004452797  0.0021068100 -0.021827253  0.008028064 -0.05484980\n",
       "5 -0.0072452747 -0.0202298441  0.034994510  0.012734219 -0.04332701\n",
       "6 -0.0015383593  0.0019494024  0.017761199  0.001210382 -0.02986226\n",
       "  DABUR        SUN          WIPRO         TATA STEEL   INDIAN       \n",
       "1 -0.005536793 -0.007507077 -0.0100763267  0.001394421 -0.0103092457\n",
       "2  0.019272009 -0.041964987 -0.0293519337 -0.007926269  0.0159504898\n",
       "3  0.020588257 -0.023058750 -0.0060479044  0.005506378  0.0009612863\n",
       "4  0.023466395  0.006452887 -0.0243427651 -0.005905758 -0.0371321556\n",
       "5 -0.037409488 -0.002378267  0.0226635315 -0.037265045 -0.0409573591\n",
       "6 -0.009193468 -0.012534100  0.0004036519  0.002804858 -0.0042982338\n",
       "  NTPC         BHARTI      \n",
       "1 -0.001370187 -0.001653821\n",
       "2  0.073902347 -0.015643159\n",
       "3 -0.016829677 -0.001263252\n",
       "4 -0.009768776 -0.014647007\n",
       "5 -0.014526201  0.039676104\n",
       "6  0.046241447 -0.001079535"
      ]
     },
     "metadata": {},
     "output_type": "display_data"
    }
   ],
   "source": [
    "simple_df <- select(SimpleRet_df, CNX:BHARTI)\n",
    "head(simple_df)"
   ]
  },
  {
   "cell_type": "markdown",
   "metadata": {},
   "source": [
    "### Slope of OLS of Simple Return\n",
    "\n",
    "$$ \\beta = \\frac{cov(x,y)}{var(x)}$$\n",
    "\n",
    "where x = CNX simple return and y = Stock simple return\n",
    "\n",
    "$$ \\beta = \\frac{cov(CNX,Stock)}{var(CNX)}$$"
   ]
  },
  {
   "cell_type": "code",
   "execution_count": 51,
   "metadata": {
    "scrolled": true
   },
   "outputs": [
    {
     "data": {
      "text/html": [
       "<table>\n",
       "<thead><tr><th scope=col>TATA AUTO</th><th scope=col>HDFC</th><th scope=col>LARSEN</th><th scope=col>TKK</th><th scope=col>DABUR</th><th scope=col>SUN</th><th scope=col>WIPRO</th><th scope=col>TATA STEEL</th><th scope=col>INDIAN</th><th scope=col>NTPC</th><th scope=col>BHARTI</th></tr></thead>\n",
       "<tbody>\n",
       "\t<tr><td>1.242252 </td><td>0.9598348</td><td>1.250483 </td><td>0.5828313</td><td>0.4746212</td><td>0.3869908</td><td>0.8092555</td><td>1.430779 </td><td>0.6873509</td><td>0.8365556</td><td>0.8498457</td></tr>\n",
       "</tbody>\n",
       "</table>\n"
      ],
      "text/latex": [
       "\\begin{tabular}{lllllllllll}\n",
       " TATA AUTO & HDFC & LARSEN & TKK & DABUR & SUN & WIPRO & TATA STEEL & INDIAN & NTPC & BHARTI\\\\\n",
       "\\hline\n",
       "\t 1.242252  & 0.9598348 & 1.250483  & 0.5828313 & 0.4746212 & 0.3869908 & 0.8092555 & 1.430779  & 0.6873509 & 0.8365556 & 0.8498457\\\\\n",
       "\\end{tabular}\n"
      ],
      "text/markdown": [
       "\n",
       "| TATA AUTO | HDFC | LARSEN | TKK | DABUR | SUN | WIPRO | TATA STEEL | INDIAN | NTPC | BHARTI |\n",
       "|---|---|---|---|---|---|---|---|---|---|---|\n",
       "| 1.242252  | 0.9598348 | 1.250483  | 0.5828313 | 0.4746212 | 0.3869908 | 0.8092555 | 1.430779  | 0.6873509 | 0.8365556 | 0.8498457 |\n",
       "\n"
      ],
      "text/plain": [
       "     TATA AUTO HDFC      LARSEN   TKK       DABUR     SUN       WIPRO    \n",
       "[1,] 1.242252  0.9598348 1.250483 0.5828313 0.4746212 0.3869908 0.8092555\n",
       "     TATA STEEL INDIAN    NTPC      BHARTI   \n",
       "[1,] 1.430779   0.6873509 0.8365556 0.8498457"
      ]
     },
     "metadata": {},
     "output_type": "display_data"
    }
   ],
   "source": [
    "cov(simple_df$CNX,simple_df[,-1])/var(simple_df$CNX)"
   ]
  },
  {
   "cell_type": "markdown",
   "metadata": {},
   "source": [
    "### Graphicaly"
   ]
  },
  {
   "cell_type": "code",
   "execution_count": 52,
   "metadata": {},
   "outputs": [
    {
     "data": {
      "image/png": "[encoded data removed]",
      "text/plain": [
       "plot without title"
      ]
     },
     "metadata": {},
     "output_type": "display_data"
    }
   ],
   "source": [
    "p <- ggplot(simple_df, aes(CNX,SUN))\n",
    "p <- p + geom_point(size=0.8, alpha=0.4)\n",
    "\n",
    "p"
   ]
  },
  {
   "cell_type": "code",
   "execution_count": 53,
   "metadata": {},
   "outputs": [
    {
     "data": {
      "image/png": "[encoded data removed]",
      "text/plain": [
       "plot without title"
      ]
     },
     "metadata": {},
     "output_type": "display_data"
    }
   ],
   "source": [
    "my.formula <- y ~ x\n",
    "p <- p + geom_smooth(method=\"lm\", formula = my.formula, se=FALSE, color=\"brown\", size=0.6)\n",
    "#p <- p + stat_poly_eq(formula = my.formula,aes(label = paste(..eq.label.., ..rr.label.., sep = \"~~~\")), parse = TRUE)\n",
    "p"
   ]
  },
  {
   "cell_type": "code",
   "execution_count": 54,
   "metadata": {},
   "outputs": [
    {
     "data": {
      "text/plain": [
       "\n",
       "Call:\n",
       "lm(formula = SUN ~ CNX, data = simple_df)\n",
       "\n",
       "Residuals:\n",
       "      Min        1Q    Median        3Q       Max \n",
       "-0.133076 -0.009781 -0.001185  0.009291  0.118347 \n",
       "\n",
       "Coefficients:\n",
       "             Estimate Std. Error t value Pr(>|t|)    \n",
       "(Intercept) 0.0013923  0.0004481   3.107  0.00192 ** \n",
       "CNX         0.3869908  0.0288450  13.416  < 2e-16 ***\n",
       "---\n",
       "Signif. codes:  0 '***' 0.001 '**' 0.01 '*' 0.05 '.' 0.1 ' ' 1\n",
       "\n",
       "Residual standard error: 0.01864 on 1729 degrees of freedom\n",
       "Multiple R-squared:  0.09429,\tAdjusted R-squared:  0.09376 \n",
       "F-statistic:   180 on 1 and 1729 DF,  p-value: < 2.2e-16\n"
      ]
     },
     "metadata": {},
     "output_type": "display_data"
    }
   ],
   "source": [
    "mod <- lm(SUN~CNX, data=simple_df)\n",
    "summary(mod)"
   ]
  },
  {
   "cell_type": "code",
   "execution_count": 55,
   "metadata": {},
   "outputs": [],
   "source": [
    "ggplotRegression <- function(dat, xvar, yvar){\n",
    "  \n",
    "  fml <- paste(yvar, \"~\", xvar)\n",
    "\n",
    "  fit <- lm(fml, dat)\n",
    "  \n",
    "  ggplot(fit$model, aes_string(x = names(fit$model)[2], y = names(fit$model)[1])) + \n",
    "    geom_point(size=0.8, alpha=0.4) +\n",
    "    stat_smooth(method = \"lm\", col = \"red\") +\n",
    "    labs(title = paste(\" Beta =\",signif(fit$coef[[2]], 5),\n",
    "                       \"Adj R2 = \",signif(summary(fit)$adj.r.squared, 5),\n",
    "                       \"Intercept =\",signif(fit$coef[[1]],5 ),\n",
    "                       \" P =\",signif(summary(fit)$coef[2,4], 5)))\n",
    "}"
   ]
  },
  {
   "cell_type": "code",
   "execution_count": 56,
   "metadata": {},
   "outputs": [
    {
     "name": "stderr",
     "output_type": "stream",
     "text": [
      "`geom_smooth()` using formula 'y ~ x'\n"
     ]
    },
    {
     "data": {
      "image/png": "[encoded data removed]",
      "text/plain": [
       "plot without title"
      ]
     },
     "metadata": {},
     "output_type": "display_data"
    }
   ],
   "source": [
    "ggplotRegression(simple_df, \"CNX\", \"SUN\")"
   ]
  },
  {
   "cell_type": "code",
   "execution_count": 57,
   "metadata": {},
   "outputs": [
    {
     "name": "stdout",
     "output_type": "stream",
     "text": [
      "package 'gridExtra' successfully unpacked and MD5 sums checked\n",
      "\n",
      "The downloaded binary packages are in\n",
      "\tC:\\Users\\woosh\\AppData\\Local\\Temp\\RtmpqWHac7\\downloaded_packages\n"
     ]
    }
   ],
   "source": [
    "install.packages(\"gridExtra\")\n"
   ]
  },
  {
   "cell_type": "code",
   "execution_count": 58,
   "metadata": {},
   "outputs": [
    {
     "data": {
      "text/html": [
       "<ol class=list-inline>\n",
       "\t<li>'CNX'</li>\n",
       "\t<li>'TATA AUTO'</li>\n",
       "\t<li>'HDFC'</li>\n",
       "\t<li>'LARSEN'</li>\n",
       "\t<li>'TKK'</li>\n",
       "\t<li>'DABUR'</li>\n",
       "\t<li>'SUN'</li>\n",
       "\t<li>'WIPRO'</li>\n",
       "\t<li>'TATA STEEL'</li>\n",
       "\t<li>'INDIAN'</li>\n",
       "\t<li>'NTPC'</li>\n",
       "\t<li>'BHARTI'</li>\n",
       "</ol>\n"
      ],
      "text/latex": [
       "\\begin{enumerate*}\n",
       "\\item 'CNX'\n",
       "\\item 'TATA AUTO'\n",
       "\\item 'HDFC'\n",
       "\\item 'LARSEN'\n",
       "\\item 'TKK'\n",
       "\\item 'DABUR'\n",
       "\\item 'SUN'\n",
       "\\item 'WIPRO'\n",
       "\\item 'TATA STEEL'\n",
       "\\item 'INDIAN'\n",
       "\\item 'NTPC'\n",
       "\\item 'BHARTI'\n",
       "\\end{enumerate*}\n"
      ],
      "text/markdown": [
       "1. 'CNX'\n",
       "2. 'TATA AUTO'\n",
       "3. 'HDFC'\n",
       "4. 'LARSEN'\n",
       "5. 'TKK'\n",
       "6. 'DABUR'\n",
       "7. 'SUN'\n",
       "8. 'WIPRO'\n",
       "9. 'TATA STEEL'\n",
       "10. 'INDIAN'\n",
       "11. 'NTPC'\n",
       "12. 'BHARTI'\n",
       "\n",
       "\n"
      ],
      "text/plain": [
       " [1] \"CNX\"        \"TATA AUTO\"  \"HDFC\"       \"LARSEN\"     \"TKK\"       \n",
       " [6] \"DABUR\"      \"SUN\"        \"WIPRO\"      \"TATA STEEL\" \"INDIAN\"    \n",
       "[11] \"NTPC\"       \"BHARTI\"    "
      ]
     },
     "metadata": {},
     "output_type": "display_data"
    }
   ],
   "source": [
    "names_df <- names(simple_df)\n",
    "names_df"
   ]
  },
  {
   "cell_type": "code",
   "execution_count": 59,
   "metadata": {},
   "outputs": [
    {
     "data": {
      "text/html": [
       "'TATA AUTO'"
      ],
      "text/latex": [
       "'TATA AUTO'"
      ],
      "text/markdown": [
       "'TATA AUTO'"
      ],
      "text/plain": [
       "[1] \"TATA AUTO\""
      ]
     },
     "metadata": {},
     "output_type": "display_data"
    }
   ],
   "source": [
    "names_df[2]"
   ]
  },
  {
   "cell_type": "code",
   "execution_count": 60,
   "metadata": {},
   "outputs": [],
   "source": [
    "names(simple_df)[2] <- \"TATA\"\n",
    "names(simple_df)[9] <- \"TATASTEEL\""
   ]
  },
  {
   "cell_type": "raw",
   "metadata": {},
   "source": []
  },
  {
   "cell_type": "code",
   "execution_count": 61,
   "metadata": {},
   "outputs": [
    {
     "data": {
      "text/html": [
       "<ol class=list-inline>\n",
       "\t<li>'CNX'</li>\n",
       "\t<li>'TATA'</li>\n",
       "\t<li>'HDFC'</li>\n",
       "\t<li>'LARSEN'</li>\n",
       "\t<li>'TKK'</li>\n",
       "\t<li>'DABUR'</li>\n",
       "\t<li>'SUN'</li>\n",
       "\t<li>'WIPRO'</li>\n",
       "\t<li>'TATASTEEL'</li>\n",
       "\t<li>'INDIAN'</li>\n",
       "\t<li>'NTPC'</li>\n",
       "\t<li>'BHARTI'</li>\n",
       "</ol>\n"
      ],
      "text/latex": [
       "\\begin{enumerate*}\n",
       "\\item 'CNX'\n",
       "\\item 'TATA'\n",
       "\\item 'HDFC'\n",
       "\\item 'LARSEN'\n",
       "\\item 'TKK'\n",
       "\\item 'DABUR'\n",
       "\\item 'SUN'\n",
       "\\item 'WIPRO'\n",
       "\\item 'TATASTEEL'\n",
       "\\item 'INDIAN'\n",
       "\\item 'NTPC'\n",
       "\\item 'BHARTI'\n",
       "\\end{enumerate*}\n"
      ],
      "text/markdown": [
       "1. 'CNX'\n",
       "2. 'TATA'\n",
       "3. 'HDFC'\n",
       "4. 'LARSEN'\n",
       "5. 'TKK'\n",
       "6. 'DABUR'\n",
       "7. 'SUN'\n",
       "8. 'WIPRO'\n",
       "9. 'TATASTEEL'\n",
       "10. 'INDIAN'\n",
       "11. 'NTPC'\n",
       "12. 'BHARTI'\n",
       "\n",
       "\n"
      ],
      "text/plain": [
       " [1] \"CNX\"       \"TATA\"      \"HDFC\"      \"LARSEN\"    \"TKK\"       \"DABUR\"    \n",
       " [7] \"SUN\"       \"WIPRO\"     \"TATASTEEL\" \"INDIAN\"    \"NTPC\"      \"BHARTI\"   "
      ]
     },
     "metadata": {},
     "output_type": "display_data"
    }
   ],
   "source": [
    "names(simple_df)"
   ]
  },
  {
   "cell_type": "code",
   "execution_count": 62,
   "metadata": {},
   "outputs": [
    {
     "name": "stderr",
     "output_type": "stream",
     "text": [
      "`geom_smooth()` using formula 'y ~ x'\n",
      "`geom_smooth()` using formula 'y ~ x'\n",
      "`geom_smooth()` using formula 'y ~ x'\n",
      "`geom_smooth()` using formula 'y ~ x'\n",
      "`geom_smooth()` using formula 'y ~ x'\n",
      "`geom_smooth()` using formula 'y ~ x'\n",
      "`geom_smooth()` using formula 'y ~ x'\n",
      "`geom_smooth()` using formula 'y ~ x'\n"
     ]
    },
    {
     "data": {
      "image/png": "[encoded data removed]",
      "text/plain": [
       "plot without title"
      ]
     },
     "metadata": {},
     "output_type": "display_data"
    }
   ],
   "source": [
    "#p1 <- ggplotRegression(simple_df, \"CNX\", names_df[2])\n",
    "p2 <- ggplotRegression(simple_df, \"CNX\", names_df[3])\n",
    "p3 <- ggplotRegression(simple_df, \"CNX\", names_df[4])\n",
    "p4 <- ggplotRegression(simple_df, \"CNX\", names_df[5])\n",
    "p5 <- ggplotRegression(simple_df, \"CNX\", names_df[6])\n",
    "p6 <- ggplotRegression(simple_df, \"CNX\", names_df[7])\n",
    "p7 <- ggplotRegression(simple_df, \"CNX\", names_df[8])\n",
    "#p8 <- ggplotRegression(simple_df, \"CNX\", names_df[9])\n",
    "p9 <- ggplotRegression(simple_df, \"CNX\", names_df[10])\n",
    "p10 <- ggplotRegression(simple_df, \"CNX\", names_df[11])\n",
    "gridExtra::grid.arrange(p2,p3,p4,p5,p6,p7,p9,p10)"
   ]
  },
  {
   "cell_type": "code",
   "execution_count": 63,
   "metadata": {
    "scrolled": false
   },
   "outputs": [
    {
     "name": "stderr",
     "output_type": "stream",
     "text": [
      "`geom_smooth()` using formula 'y ~ x'\n",
      "`geom_smooth()` using formula 'y ~ x'\n",
      "`geom_smooth()` using formula 'y ~ x'\n",
      "`geom_smooth()` using formula 'y ~ x'\n",
      "`geom_smooth()` using formula 'y ~ x'\n",
      "`geom_smooth()` using formula 'y ~ x'\n",
      "`geom_smooth()` using formula 'y ~ x'\n",
      "`geom_smooth()` using formula 'y ~ x'\n"
     ]
    },
    {
     "data": {
      "image/png": "[encoded data removed]",
      "text/plain": [
       "plot without title"
      ]
     },
     "metadata": {},
     "output_type": "display_data"
    }
   ],
   "source": [
    "gridExtra::grid.arrange(p2,p3,p4,p5,p6,p7,p9,p10, nrow=8)"
   ]
  },
  {
   "cell_type": "code",
   "execution_count": 64,
   "metadata": {},
   "outputs": [
    {
     "data": {
      "text/plain": [
       "\n",
       "Call:\n",
       "lm(formula = TATA ~ CNX, data = simple_df[, 1:2])\n",
       "\n",
       "Residuals:\n",
       "      Min        1Q    Median        3Q       Max \n",
       "-0.108002 -0.012560 -0.001661  0.011681  0.178869 \n",
       "\n",
       "Coefficients:\n",
       "             Estimate Std. Error t value Pr(>|t|)    \n",
       "(Intercept) 0.0010980  0.0005757   1.907   0.0567 .  \n",
       "CNX         1.2422522  0.0370613  33.519   <2e-16 ***\n",
       "---\n",
       "Signif. codes:  0 '***' 0.001 '**' 0.01 '*' 0.05 '.' 0.1 ' ' 1\n",
       "\n",
       "Residual standard error: 0.02395 on 1729 degrees of freedom\n",
       "Multiple R-squared:  0.3939,\tAdjusted R-squared:  0.3935 \n",
       "F-statistic:  1124 on 1 and 1729 DF,  p-value: < 2.2e-16\n"
      ]
     },
     "metadata": {},
     "output_type": "display_data"
    }
   ],
   "source": [
    "mod <- lm(TATA ~ CNX, data= simple_df[,1:2])\n",
    "summary(mod)"
   ]
  },
  {
   "cell_type": "code",
   "execution_count": null,
   "metadata": {},
   "outputs": [],
   "source": []
  },
  {
   "cell_type": "code",
   "execution_count": 65,
   "metadata": {},
   "outputs": [
    {
     "data": {
      "text/plain": [
       "\n",
       "Call:\n",
       "lm(formula = TATASTEEL ~ CNX, data = simple_df)\n",
       "\n",
       "Residuals:\n",
       "      Min        1Q    Median        3Q       Max \n",
       "-0.095248 -0.011193 -0.001121  0.010512  0.115324 \n",
       "\n",
       "Coefficients:\n",
       "              Estimate Std. Error t value Pr(>|t|)    \n",
       "(Intercept) -0.0002888  0.0004943  -0.584    0.559    \n",
       "CNX          1.4307787  0.0318184  44.967   <2e-16 ***\n",
       "---\n",
       "Signif. codes:  0 '***' 0.001 '**' 0.01 '*' 0.05 '.' 0.1 ' ' 1\n",
       "\n",
       "Residual standard error: 0.02056 on 1729 degrees of freedom\n",
       "Multiple R-squared:  0.5391,\tAdjusted R-squared:  0.5388 \n",
       "F-statistic:  2022 on 1 and 1729 DF,  p-value: < 2.2e-16\n"
      ]
     },
     "metadata": {},
     "output_type": "display_data"
    }
   ],
   "source": [
    "mod <- lm(TATASTEEL ~ CNX, data= simple_df)\n",
    "summary(mod)"
   ]
  },
  {
   "cell_type": "markdown",
   "metadata": {},
   "source": [
    "### Slope of OLS of Log Return\n",
    "\n",
    "$$ \\beta = \\frac{cov(log(x),log(y))}{var(log(x))}$$\n",
    "\n",
    "where x = CNX simple return and y = Stock simple return\n",
    "\n",
    "$$ \\beta = \\frac{cov(log(CNX),log(Stock))}{var(log(CNX))}$$"
   ]
  },
  {
   "cell_type": "code",
   "execution_count": 66,
   "metadata": {},
   "outputs": [
    {
     "data": {
      "text/html": [
       "<table>\n",
       "<thead><tr><th scope=col>CNX</th><th scope=col>TATA AUTO</th><th scope=col>HDFC</th><th scope=col>LARSEN</th><th scope=col>TKK</th><th scope=col>DABUR</th><th scope=col>SUN</th><th scope=col>WIPRO</th><th scope=col>TATA STEEL</th><th scope=col>INDIAN</th><th scope=col>NTPC</th><th scope=col>BHARTI</th></tr></thead>\n",
       "<tbody>\n",
       "\t<tr><td> 0.0098408260</td><td> 0.0391933515</td><td>-0.016248335 </td><td>-0.001904787 </td><td>-0.01524302  </td><td>-0.005552178 </td><td>-0.007535397 </td><td>-0.0101274365</td><td> 0.001393450 </td><td>-0.0103627541</td><td>-0.001371126 </td><td>-0.001655190 </td></tr>\n",
       "\t<tr><td> 0.0008088953</td><td>-0.0006310905</td><td>-0.008830384 </td><td>-0.020380893 </td><td> 0.03047312  </td><td> 0.019088656 </td><td>-0.042870953 </td><td>-0.0297913210</td><td>-0.007957849 </td><td> 0.0158246175</td><td> 0.071299067 </td><td>-0.015766804 </td></tr>\n",
       "\t<tr><td> 0.0110372989</td><td>-0.0110983912</td><td> 0.000000000 </td><td> 0.046729798 </td><td> 0.08025446  </td><td> 0.020379183 </td><td>-0.023328762 </td><td>-0.0060662671</td><td> 0.005491273 </td><td> 0.0009608246</td><td>-0.016972905 </td><td>-0.001264051 </td></tr>\n",
       "\t<tr><td>-0.0004453788</td><td> 0.0021045938</td><td>-0.022068992 </td><td> 0.007996010 </td><td>-0.05641142  </td><td> 0.023195292 </td><td> 0.006432156 </td><td>-0.0246439480</td><td>-0.005923266 </td><td>-0.0378391098</td><td>-0.009816803 </td><td>-0.014755333 </td></tr>\n",
       "\t<tr><td>-0.0072716492</td><td>-0.0204372696</td><td> 0.034396122 </td><td> 0.012653820 </td><td>-0.04429365  </td><td>-0.038127179 </td><td>-0.002381100 </td><td> 0.0224105292</td><td>-0.037977134 </td><td>-0.0418197411</td><td>-0.014632740 </td><td> 0.038909227 </td></tr>\n",
       "\t<tr><td>-0.0015395438</td><td> 0.0019475047</td><td> 0.017605312 </td><td> 0.001209650 </td><td>-0.03031722  </td><td>-0.009235988 </td><td>-0.012613315 </td><td> 0.0004035704</td><td> 0.002800932 </td><td>-0.0043074978</td><td> 0.045204168 </td><td>-0.001080118 </td></tr>\n",
       "</tbody>\n",
       "</table>\n"
      ],
      "text/latex": [
       "\\begin{tabular}{r|llllllllllll}\n",
       " CNX & TATA AUTO & HDFC & LARSEN & TKK & DABUR & SUN & WIPRO & TATA STEEL & INDIAN & NTPC & BHARTI\\\\\n",
       "\\hline\n",
       "\t  0.0098408260 &  0.0391933515 & -0.016248335  & -0.001904787  & -0.01524302   & -0.005552178  & -0.007535397  & -0.0101274365 &  0.001393450  & -0.0103627541 & -0.001371126  & -0.001655190 \\\\\n",
       "\t  0.0008088953 & -0.0006310905 & -0.008830384  & -0.020380893  &  0.03047312   &  0.019088656  & -0.042870953  & -0.0297913210 & -0.007957849  &  0.0158246175 &  0.071299067  & -0.015766804 \\\\\n",
       "\t  0.0110372989 & -0.0110983912 &  0.000000000  &  0.046729798  &  0.08025446   &  0.020379183  & -0.023328762  & -0.0060662671 &  0.005491273  &  0.0009608246 & -0.016972905  & -0.001264051 \\\\\n",
       "\t -0.0004453788 &  0.0021045938 & -0.022068992  &  0.007996010  & -0.05641142   &  0.023195292  &  0.006432156  & -0.0246439480 & -0.005923266  & -0.0378391098 & -0.009816803  & -0.014755333 \\\\\n",
       "\t -0.0072716492 & -0.0204372696 &  0.034396122  &  0.012653820  & -0.04429365   & -0.038127179  & -0.002381100  &  0.0224105292 & -0.037977134  & -0.0418197411 & -0.014632740  &  0.038909227 \\\\\n",
       "\t -0.0015395438 &  0.0019475047 &  0.017605312  &  0.001209650  & -0.03031722   & -0.009235988  & -0.012613315  &  0.0004035704 &  0.002800932  & -0.0043074978 &  0.045204168  & -0.001080118 \\\\\n",
       "\\end{tabular}\n"
      ],
      "text/markdown": [
       "\n",
       "| CNX | TATA AUTO | HDFC | LARSEN | TKK | DABUR | SUN | WIPRO | TATA STEEL | INDIAN | NTPC | BHARTI |\n",
       "|---|---|---|---|---|---|---|---|---|---|---|---|\n",
       "|  0.0098408260 |  0.0391933515 | -0.016248335  | -0.001904787  | -0.01524302   | -0.005552178  | -0.007535397  | -0.0101274365 |  0.001393450  | -0.0103627541 | -0.001371126  | -0.001655190  |\n",
       "|  0.0008088953 | -0.0006310905 | -0.008830384  | -0.020380893  |  0.03047312   |  0.019088656  | -0.042870953  | -0.0297913210 | -0.007957849  |  0.0158246175 |  0.071299067  | -0.015766804  |\n",
       "|  0.0110372989 | -0.0110983912 |  0.000000000  |  0.046729798  |  0.08025446   |  0.020379183  | -0.023328762  | -0.0060662671 |  0.005491273  |  0.0009608246 | -0.016972905  | -0.001264051  |\n",
       "| -0.0004453788 |  0.0021045938 | -0.022068992  |  0.007996010  | -0.05641142   |  0.023195292  |  0.006432156  | -0.0246439480 | -0.005923266  | -0.0378391098 | -0.009816803  | -0.014755333  |\n",
       "| -0.0072716492 | -0.0204372696 |  0.034396122  |  0.012653820  | -0.04429365   | -0.038127179  | -0.002381100  |  0.0224105292 | -0.037977134  | -0.0418197411 | -0.014632740  |  0.038909227  |\n",
       "| -0.0015395438 |  0.0019475047 |  0.017605312  |  0.001209650  | -0.03031722   | -0.009235988  | -0.012613315  |  0.0004035704 |  0.002800932  | -0.0043074978 |  0.045204168  | -0.001080118  |\n",
       "\n"
      ],
      "text/plain": [
       "  CNX           TATA AUTO     HDFC         LARSEN       TKK        \n",
       "1  0.0098408260  0.0391933515 -0.016248335 -0.001904787 -0.01524302\n",
       "2  0.0008088953 -0.0006310905 -0.008830384 -0.020380893  0.03047312\n",
       "3  0.0110372989 -0.0110983912  0.000000000  0.046729798  0.08025446\n",
       "4 -0.0004453788  0.0021045938 -0.022068992  0.007996010 -0.05641142\n",
       "5 -0.0072716492 -0.0204372696  0.034396122  0.012653820 -0.04429365\n",
       "6 -0.0015395438  0.0019475047  0.017605312  0.001209650 -0.03031722\n",
       "  DABUR        SUN          WIPRO         TATA STEEL   INDIAN       \n",
       "1 -0.005552178 -0.007535397 -0.0101274365  0.001393450 -0.0103627541\n",
       "2  0.019088656 -0.042870953 -0.0297913210 -0.007957849  0.0158246175\n",
       "3  0.020379183 -0.023328762 -0.0060662671  0.005491273  0.0009608246\n",
       "4  0.023195292  0.006432156 -0.0246439480 -0.005923266 -0.0378391098\n",
       "5 -0.038127179 -0.002381100  0.0224105292 -0.037977134 -0.0418197411\n",
       "6 -0.009235988 -0.012613315  0.0004035704  0.002800932 -0.0043074978\n",
       "  NTPC         BHARTI      \n",
       "1 -0.001371126 -0.001655190\n",
       "2  0.071299067 -0.015766804\n",
       "3 -0.016972905 -0.001264051\n",
       "4 -0.009816803 -0.014755333\n",
       "5 -0.014632740  0.038909227\n",
       "6  0.045204168 -0.001080118"
      ]
     },
     "metadata": {},
     "output_type": "display_data"
    }
   ],
   "source": [
    "log_df <- select(LogRet_df, CNX:BHARTI)\n",
    "head(log_df)"
   ]
  },
  {
   "cell_type": "code",
   "execution_count": 67,
   "metadata": {},
   "outputs": [
    {
     "data": {
      "text/html": [
       "<table>\n",
       "<thead><tr><th scope=col>TATA AUTO</th><th scope=col>HDFC</th><th scope=col>LARSEN</th><th scope=col>TKK</th><th scope=col>DABUR</th><th scope=col>SUN</th><th scope=col>WIPRO</th><th scope=col>TATA STEEL</th><th scope=col>INDIAN</th><th scope=col>NTPC</th><th scope=col>BHARTI</th></tr></thead>\n",
       "<tbody>\n",
       "\t<tr><td>1.24407  </td><td>0.9563905</td><td>1.237447 </td><td>0.5840551</td><td>0.4786407</td><td>0.3853105</td><td>0.8146319</td><td>1.438524 </td><td>0.691032 </td><td>0.8389921</td><td>0.8416566</td></tr>\n",
       "</tbody>\n",
       "</table>\n"
      ],
      "text/latex": [
       "\\begin{tabular}{lllllllllll}\n",
       " TATA AUTO & HDFC & LARSEN & TKK & DABUR & SUN & WIPRO & TATA STEEL & INDIAN & NTPC & BHARTI\\\\\n",
       "\\hline\n",
       "\t 1.24407   & 0.9563905 & 1.237447  & 0.5840551 & 0.4786407 & 0.3853105 & 0.8146319 & 1.438524  & 0.691032  & 0.8389921 & 0.8416566\\\\\n",
       "\\end{tabular}\n"
      ],
      "text/markdown": [
       "\n",
       "| TATA AUTO | HDFC | LARSEN | TKK | DABUR | SUN | WIPRO | TATA STEEL | INDIAN | NTPC | BHARTI |\n",
       "|---|---|---|---|---|---|---|---|---|---|---|\n",
       "| 1.24407   | 0.9563905 | 1.237447  | 0.5840551 | 0.4786407 | 0.3853105 | 0.8146319 | 1.438524  | 0.691032  | 0.8389921 | 0.8416566 |\n",
       "\n"
      ],
      "text/plain": [
       "     TATA AUTO HDFC      LARSEN   TKK       DABUR     SUN       WIPRO    \n",
       "[1,] 1.24407   0.9563905 1.237447 0.5840551 0.4786407 0.3853105 0.8146319\n",
       "     TATA STEEL INDIAN   NTPC      BHARTI   \n",
       "[1,] 1.438524   0.691032 0.8389921 0.8416566"
      ]
     },
     "metadata": {},
     "output_type": "display_data"
    }
   ],
   "source": [
    "cov(log_df$CNX,log_df[,-1])/var(log_df$CNX)"
   ]
  },
  {
   "cell_type": "code",
   "execution_count": 68,
   "metadata": {},
   "outputs": [
    {
     "data": {
      "text/html": [
       "<table>\n",
       "<thead><tr><th scope=col>TATA</th><th scope=col>HDFC</th><th scope=col>LARSEN</th><th scope=col>TKK</th><th scope=col>DABUR</th><th scope=col>SUN</th><th scope=col>WIPRO</th><th scope=col>TATASTEEL</th><th scope=col>INDIAN</th><th scope=col>NTPC</th><th scope=col>BHARTI</th></tr></thead>\n",
       "<tbody>\n",
       "\t<tr><td>1.242252 </td><td>0.9598348</td><td>1.250483 </td><td>0.5828313</td><td>0.4746212</td><td>0.3869908</td><td>0.8092555</td><td>1.430779 </td><td>0.6873509</td><td>0.8365556</td><td>0.8498457</td></tr>\n",
       "</tbody>\n",
       "</table>\n"
      ],
      "text/latex": [
       "\\begin{tabular}{lllllllllll}\n",
       " TATA & HDFC & LARSEN & TKK & DABUR & SUN & WIPRO & TATASTEEL & INDIAN & NTPC & BHARTI\\\\\n",
       "\\hline\n",
       "\t 1.242252  & 0.9598348 & 1.250483  & 0.5828313 & 0.4746212 & 0.3869908 & 0.8092555 & 1.430779  & 0.6873509 & 0.8365556 & 0.8498457\\\\\n",
       "\\end{tabular}\n"
      ],
      "text/markdown": [
       "\n",
       "| TATA | HDFC | LARSEN | TKK | DABUR | SUN | WIPRO | TATASTEEL | INDIAN | NTPC | BHARTI |\n",
       "|---|---|---|---|---|---|---|---|---|---|---|\n",
       "| 1.242252  | 0.9598348 | 1.250483  | 0.5828313 | 0.4746212 | 0.3869908 | 0.8092555 | 1.430779  | 0.6873509 | 0.8365556 | 0.8498457 |\n",
       "\n"
      ],
      "text/plain": [
       "     TATA     HDFC      LARSEN   TKK       DABUR     SUN       WIPRO    \n",
       "[1,] 1.242252 0.9598348 1.250483 0.5828313 0.4746212 0.3869908 0.8092555\n",
       "     TATASTEEL INDIAN    NTPC      BHARTI   \n",
       "[1,] 1.430779  0.6873509 0.8365556 0.8498457"
      ]
     },
     "metadata": {},
     "output_type": "display_data"
    }
   ],
   "source": [
    "cov(simple_df$CNX,simple_df[,-1])/var(simple_df$CNX)"
   ]
  },
  {
   "cell_type": "code",
   "execution_count": 69,
   "metadata": {},
   "outputs": [],
   "source": [
    "names(log_df)[2] <- \"TATA\"\n",
    "names(log_df)[9] <- \"TATASTEEL\""
   ]
  },
  {
   "cell_type": "code",
   "execution_count": 70,
   "metadata": {},
   "outputs": [
    {
     "data": {
      "text/plain": [
       "\n",
       "Call:\n",
       "lm(formula = SUN ~ CNX, data = log_df)\n",
       "\n",
       "Residuals:\n",
       "      Min        1Q    Median        3Q       Max \n",
       "-0.140826 -0.009639 -0.001027  0.009401  0.110861 \n",
       "\n",
       "Coefficients:\n",
       "             Estimate Std. Error t value Pr(>|t|)    \n",
       "(Intercept) 0.0012476  0.0004466   2.793  0.00527 ** \n",
       "CNX         0.3853105  0.0287704  13.393  < 2e-16 ***\n",
       "---\n",
       "Signif. codes:  0 '***' 0.001 '**' 0.01 '*' 0.05 '.' 0.1 ' ' 1\n",
       "\n",
       "Residual standard error: 0.01858 on 1729 degrees of freedom\n",
       "Multiple R-squared:  0.09399,\tAdjusted R-squared:  0.09346 \n",
       "F-statistic: 179.4 on 1 and 1729 DF,  p-value: < 2.2e-16\n"
      ]
     },
     "metadata": {},
     "output_type": "display_data"
    }
   ],
   "source": [
    "mod <- lm(SUN~CNX, data=log_df)\n",
    "summary(mod)"
   ]
  },
  {
   "cell_type": "code",
   "execution_count": 71,
   "metadata": {},
   "outputs": [
    {
     "name": "stderr",
     "output_type": "stream",
     "text": [
      "`geom_smooth()` using formula 'y ~ x'\n"
     ]
    },
    {
     "data": {
      "image/png": "[encoded data removed]",
      "text/plain": [
       "plot without title"
      ]
     },
     "metadata": {},
     "output_type": "display_data"
    }
   ],
   "source": [
    "ggplotRegression(log_df, \"CNX\", \"SUN\")"
   ]
  },
  {
   "cell_type": "code",
   "execution_count": 72,
   "metadata": {},
   "outputs": [
    {
     "name": "stderr",
     "output_type": "stream",
     "text": [
      "`geom_smooth()` using formula 'y ~ x'\n",
      "`geom_smooth()` using formula 'y ~ x'\n",
      "`geom_smooth()` using formula 'y ~ x'\n",
      "`geom_smooth()` using formula 'y ~ x'\n",
      "`geom_smooth()` using formula 'y ~ x'\n",
      "`geom_smooth()` using formula 'y ~ x'\n",
      "`geom_smooth()` using formula 'y ~ x'\n",
      "`geom_smooth()` using formula 'y ~ x'\n"
     ]
    },
    {
     "data": {
      "image/png": "[encoded data removed]",
      "text/plain": [
       "plot without title"
      ]
     },
     "metadata": {},
     "output_type": "display_data"
    }
   ],
   "source": [
    "#p1 <- ggplotRegression(log_df, \"CNX\", names_df[2])\n",
    "p2 <- ggplotRegression(log_df, \"CNX\", names_df[3])\n",
    "p3 <- ggplotRegression(log_df, \"CNX\", names_df[4])\n",
    "p4 <- ggplotRegression(log_df, \"CNX\", names_df[5])\n",
    "p5 <- ggplotRegression(log_df, \"CNX\", names_df[6])\n",
    "p6 <- ggplotRegression(log_df, \"CNX\", names_df[7])\n",
    "p7 <- ggplotRegression(log_df, \"CNX\", names_df[8])\n",
    "#p8 <- ggplotRegression(log_df, \"CNX\", names_df[9])\n",
    "p9 <- ggplotRegression(log_df, \"CNX\", names_df[10])\n",
    "p10 <- ggplotRegression(log_df, \"CNX\", names_df[11])\n",
    "gridExtra::grid.arrange(p2,p3,p4,p5,p6,p7,p9,p10)"
   ]
  },
  {
   "cell_type": "code",
   "execution_count": 73,
   "metadata": {},
   "outputs": [
    {
     "name": "stderr",
     "output_type": "stream",
     "text": [
      "`geom_smooth()` using formula 'y ~ x'\n",
      "`geom_smooth()` using formula 'y ~ x'\n",
      "`geom_smooth()` using formula 'y ~ x'\n",
      "`geom_smooth()` using formula 'y ~ x'\n",
      "`geom_smooth()` using formula 'y ~ x'\n",
      "`geom_smooth()` using formula 'y ~ x'\n",
      "`geom_smooth()` using formula 'y ~ x'\n",
      "`geom_smooth()` using formula 'y ~ x'\n"
     ]
    },
    {
     "data": {
      "image/png": "[encoded data removed]",
      "text/plain": [
       "plot without title"
      ]
     },
     "metadata": {},
     "output_type": "display_data"
    }
   ],
   "source": [
    "gridExtra::grid.arrange(p2,p3,p4,p5,p6,p7,p9,p10, nrow=8)\n"
   ]
  },
  {
   "cell_type": "code",
   "execution_count": 74,
   "metadata": {},
   "outputs": [
    {
     "data": {
      "text/plain": [
       "\n",
       "Call:\n",
       "lm(formula = TATA ~ CNX, data = log_df)\n",
       "\n",
       "Residuals:\n",
       "      Min        1Q    Median        3Q       Max \n",
       "-0.115251 -0.012537 -0.001344  0.012069  0.163051 \n",
       "\n",
       "Coefficients:\n",
       "             Estimate Std. Error t value Pr(>|t|)    \n",
       "(Intercept) 0.0007779  0.0005703   1.364    0.173    \n",
       "CNX         1.2440700  0.0367355  33.866   <2e-16 ***\n",
       "---\n",
       "Signif. codes:  0 '***' 0.001 '**' 0.01 '*' 0.05 '.' 0.1 ' ' 1\n",
       "\n",
       "Residual standard error: 0.02373 on 1729 degrees of freedom\n",
       "Multiple R-squared:  0.3988,\tAdjusted R-squared:  0.3984 \n",
       "F-statistic:  1147 on 1 and 1729 DF,  p-value: < 2.2e-16\n"
      ]
     },
     "metadata": {},
     "output_type": "display_data"
    }
   ],
   "source": [
    "mod <- lm(TATA ~ CNX, data= log_df)\n",
    "summary(mod)"
   ]
  },
  {
   "cell_type": "code",
   "execution_count": 75,
   "metadata": {},
   "outputs": [
    {
     "data": {
      "text/plain": [
       "\n",
       "Call:\n",
       "lm(formula = TATASTEEL ~ CNX, data = log_df)\n",
       "\n",
       "Residuals:\n",
       "      Min        1Q    Median        3Q       Max \n",
       "-0.106295 -0.010987 -0.000843  0.010650  0.108105 \n",
       "\n",
       "Coefficients:\n",
       "              Estimate Std. Error t value Pr(>|t|)    \n",
       "(Intercept) -0.0005765  0.0004936  -1.168    0.243    \n",
       "CNX          1.4385237  0.0317952  45.243   <2e-16 ***\n",
       "---\n",
       "Signif. codes:  0 '***' 0.001 '**' 0.01 '*' 0.05 '.' 0.1 ' ' 1\n",
       "\n",
       "Residual standard error: 0.02054 on 1729 degrees of freedom\n",
       "Multiple R-squared:  0.5421,\tAdjusted R-squared:  0.5418 \n",
       "F-statistic:  2047 on 1 and 1729 DF,  p-value: < 2.2e-16\n"
      ]
     },
     "metadata": {},
     "output_type": "display_data"
    }
   ],
   "source": [
    "mod <- lm(TATASTEEL ~ CNX, data= log_df)\n",
    "summary(mod)"
   ]
  },
  {
   "cell_type": "markdown",
   "metadata": {},
   "source": [
    "## Working with Dates"
   ]
  },
  {
   "cell_type": "code",
   "execution_count": 76,
   "metadata": {
    "scrolled": true
   },
   "outputs": [
    {
     "data": {
      "text/html": [
       "<ol class=list-inline>\n",
       "\t<li>'POSIXct'</li>\n",
       "\t<li>'POSIXt'</li>\n",
       "</ol>\n"
      ],
      "text/latex": [
       "\\begin{enumerate*}\n",
       "\\item 'POSIXct'\n",
       "\\item 'POSIXt'\n",
       "\\end{enumerate*}\n"
      ],
      "text/markdown": [
       "1. 'POSIXct'\n",
       "2. 'POSIXt'\n",
       "\n",
       "\n"
      ],
      "text/plain": [
       "[1] \"POSIXct\" \"POSIXt\" "
      ]
     },
     "metadata": {},
     "output_type": "display_data"
    }
   ],
   "source": [
    "class(CumLogRet_df$DATE)"
   ]
  },
  {
   "cell_type": "code",
   "execution_count": 77,
   "metadata": {},
   "outputs": [
    {
     "data": {
      "text/plain": [
       "[1] \"2008-01-02 UTC\" \"2008-01-03 UTC\" \"2008-01-04 UTC\" \"2008-01-07 UTC\"\n",
       "[5] \"2008-01-08 UTC\" \"2008-01-09 UTC\""
      ]
     },
     "metadata": {},
     "output_type": "display_data"
    }
   ],
   "source": [
    "head(CumLogRet_df$DATE)"
   ]
  },
  {
   "cell_type": "code",
   "execution_count": 78,
   "metadata": {},
   "outputs": [
    {
     "data": {
      "text/html": [
       "'2008'"
      ],
      "text/latex": [
       "'2008'"
      ],
      "text/markdown": [
       "'2008'"
      ],
      "text/plain": [
       "[1] \"2008\""
      ]
     },
     "metadata": {},
     "output_type": "display_data"
    }
   ],
   "source": [
    "format(CumLogRet_df$DATE[1], \"%Y\")"
   ]
  },
  {
   "cell_type": "code",
   "execution_count": 79,
   "metadata": {},
   "outputs": [],
   "source": [
    "SimpleRet_df$Year <- format(SimpleRet_df$DATE, \"%Y\")"
   ]
  },
  {
   "cell_type": "code",
   "execution_count": 80,
   "metadata": {},
   "outputs": [
    {
     "data": {
      "text/html": [
       "<table>\n",
       "<thead><tr><th scope=col>DATE</th><th scope=col>CNX</th><th scope=col>TATA AUTO</th><th scope=col>HDFC</th><th scope=col>LARSEN</th><th scope=col>TKK</th><th scope=col>DABUR</th><th scope=col>SUN</th><th scope=col>WIPRO</th><th scope=col>TATA STEEL</th><th scope=col>INDIAN</th><th scope=col>NTPC</th><th scope=col>BHARTI</th><th scope=col>Year</th></tr></thead>\n",
       "<tbody>\n",
       "\t<tr><td>2008-01-02   </td><td> 0.0098894062</td><td> 0.0399715443</td><td>-0.016117043 </td><td>-0.001902974 </td><td>-0.01512743  </td><td>-0.005536793 </td><td>-0.007507077 </td><td>-0.0100763267</td><td> 0.001394421 </td><td>-0.0103092457</td><td>-0.001370187 </td><td>-0.001653821 </td><td>2008         </td></tr>\n",
       "\t<tr><td>2008-01-03   </td><td> 0.0008092225</td><td>-0.0006308914</td><td>-0.008791511 </td><td>-0.020174607 </td><td> 0.03094218  </td><td> 0.019272009 </td><td>-0.041964987 </td><td>-0.0293519337</td><td>-0.007926269 </td><td> 0.0159504898</td><td> 0.073902347 </td><td>-0.015643159 </td><td>2008         </td></tr>\n",
       "\t<tr><td>2008-01-04   </td><td> 0.0110984346</td><td>-0.0110370313</td><td> 0.000000000 </td><td> 0.047838843 </td><td> 0.08356275  </td><td> 0.020588257 </td><td>-0.023058750 </td><td>-0.0060479044</td><td> 0.005506378 </td><td> 0.0009612863</td><td>-0.016829677 </td><td>-0.001263252 </td><td>2008         </td></tr>\n",
       "\t<tr><td>2008-01-07   </td><td>-0.0004452797</td><td> 0.0021068100</td><td>-0.021827253 </td><td> 0.008028064 </td><td>-0.05484980  </td><td> 0.023466395 </td><td> 0.006452887 </td><td>-0.0243427651</td><td>-0.005905758 </td><td>-0.0371321556</td><td>-0.009768776 </td><td>-0.014647007 </td><td>2008         </td></tr>\n",
       "\t<tr><td>2008-01-08   </td><td>-0.0072452747</td><td>-0.0202298441</td><td> 0.034994510 </td><td> 0.012734219 </td><td>-0.04332701  </td><td>-0.037409488 </td><td>-0.002378267 </td><td> 0.0226635315</td><td>-0.037265045 </td><td>-0.0409573591</td><td>-0.014526201 </td><td> 0.039676104 </td><td>2008         </td></tr>\n",
       "\t<tr><td>2008-01-09   </td><td>-0.0015383593</td><td> 0.0019494024</td><td> 0.017761199 </td><td> 0.001210382 </td><td>-0.02986226  </td><td>-0.009193468 </td><td>-0.012534100 </td><td> 0.0004036519</td><td> 0.002804858 </td><td>-0.0042982338</td><td> 0.046241447 </td><td>-0.001079535 </td><td>2008         </td></tr>\n",
       "</tbody>\n",
       "</table>\n"
      ],
      "text/latex": [
       "\\begin{tabular}{r|llllllllllllll}\n",
       " DATE & CNX & TATA AUTO & HDFC & LARSEN & TKK & DABUR & SUN & WIPRO & TATA STEEL & INDIAN & NTPC & BHARTI & Year\\\\\n",
       "\\hline\n",
       "\t 2008-01-02    &  0.0098894062 &  0.0399715443 & -0.016117043  & -0.001902974  & -0.01512743   & -0.005536793  & -0.007507077  & -0.0100763267 &  0.001394421  & -0.0103092457 & -0.001370187  & -0.001653821  & 2008         \\\\\n",
       "\t 2008-01-03    &  0.0008092225 & -0.0006308914 & -0.008791511  & -0.020174607  &  0.03094218   &  0.019272009  & -0.041964987  & -0.0293519337 & -0.007926269  &  0.0159504898 &  0.073902347  & -0.015643159  & 2008         \\\\\n",
       "\t 2008-01-04    &  0.0110984346 & -0.0110370313 &  0.000000000  &  0.047838843  &  0.08356275   &  0.020588257  & -0.023058750  & -0.0060479044 &  0.005506378  &  0.0009612863 & -0.016829677  & -0.001263252  & 2008         \\\\\n",
       "\t 2008-01-07    & -0.0004452797 &  0.0021068100 & -0.021827253  &  0.008028064  & -0.05484980   &  0.023466395  &  0.006452887  & -0.0243427651 & -0.005905758  & -0.0371321556 & -0.009768776  & -0.014647007  & 2008         \\\\\n",
       "\t 2008-01-08    & -0.0072452747 & -0.0202298441 &  0.034994510  &  0.012734219  & -0.04332701   & -0.037409488  & -0.002378267  &  0.0226635315 & -0.037265045  & -0.0409573591 & -0.014526201  &  0.039676104  & 2008         \\\\\n",
       "\t 2008-01-09    & -0.0015383593 &  0.0019494024 &  0.017761199  &  0.001210382  & -0.02986226   & -0.009193468  & -0.012534100  &  0.0004036519 &  0.002804858  & -0.0042982338 &  0.046241447  & -0.001079535  & 2008         \\\\\n",
       "\\end{tabular}\n"
      ],
      "text/markdown": [
       "\n",
       "| DATE | CNX | TATA AUTO | HDFC | LARSEN | TKK | DABUR | SUN | WIPRO | TATA STEEL | INDIAN | NTPC | BHARTI | Year |\n",
       "|---|---|---|---|---|---|---|---|---|---|---|---|---|---|\n",
       "| 2008-01-02    |  0.0098894062 |  0.0399715443 | -0.016117043  | -0.001902974  | -0.01512743   | -0.005536793  | -0.007507077  | -0.0100763267 |  0.001394421  | -0.0103092457 | -0.001370187  | -0.001653821  | 2008          |\n",
       "| 2008-01-03    |  0.0008092225 | -0.0006308914 | -0.008791511  | -0.020174607  |  0.03094218   |  0.019272009  | -0.041964987  | -0.0293519337 | -0.007926269  |  0.0159504898 |  0.073902347  | -0.015643159  | 2008          |\n",
       "| 2008-01-04    |  0.0110984346 | -0.0110370313 |  0.000000000  |  0.047838843  |  0.08356275   |  0.020588257  | -0.023058750  | -0.0060479044 |  0.005506378  |  0.0009612863 | -0.016829677  | -0.001263252  | 2008          |\n",
       "| 2008-01-07    | -0.0004452797 |  0.0021068100 | -0.021827253  |  0.008028064  | -0.05484980   |  0.023466395  |  0.006452887  | -0.0243427651 | -0.005905758  | -0.0371321556 | -0.009768776  | -0.014647007  | 2008          |\n",
       "| 2008-01-08    | -0.0072452747 | -0.0202298441 |  0.034994510  |  0.012734219  | -0.04332701   | -0.037409488  | -0.002378267  |  0.0226635315 | -0.037265045  | -0.0409573591 | -0.014526201  |  0.039676104  | 2008          |\n",
       "| 2008-01-09    | -0.0015383593 |  0.0019494024 |  0.017761199  |  0.001210382  | -0.02986226   | -0.009193468  | -0.012534100  |  0.0004036519 |  0.002804858  | -0.0042982338 |  0.046241447  | -0.001079535  | 2008          |\n",
       "\n"
      ],
      "text/plain": [
       "  DATE       CNX           TATA AUTO     HDFC         LARSEN       TKK        \n",
       "1 2008-01-02  0.0098894062  0.0399715443 -0.016117043 -0.001902974 -0.01512743\n",
       "2 2008-01-03  0.0008092225 -0.0006308914 -0.008791511 -0.020174607  0.03094218\n",
       "3 2008-01-04  0.0110984346 -0.0110370313  0.000000000  0.047838843  0.08356275\n",
       "4 2008-01-07 -0.0004452797  0.0021068100 -0.021827253  0.008028064 -0.05484980\n",
       "5 2008-01-08 -0.0072452747 -0.0202298441  0.034994510  0.012734219 -0.04332701\n",
       "6 2008-01-09 -0.0015383593  0.0019494024  0.017761199  0.001210382 -0.02986226\n",
       "  DABUR        SUN          WIPRO         TATA STEEL   INDIAN       \n",
       "1 -0.005536793 -0.007507077 -0.0100763267  0.001394421 -0.0103092457\n",
       "2  0.019272009 -0.041964987 -0.0293519337 -0.007926269  0.0159504898\n",
       "3  0.020588257 -0.023058750 -0.0060479044  0.005506378  0.0009612863\n",
       "4  0.023466395  0.006452887 -0.0243427651 -0.005905758 -0.0371321556\n",
       "5 -0.037409488 -0.002378267  0.0226635315 -0.037265045 -0.0409573591\n",
       "6 -0.009193468 -0.012534100  0.0004036519  0.002804858 -0.0042982338\n",
       "  NTPC         BHARTI       Year\n",
       "1 -0.001370187 -0.001653821 2008\n",
       "2  0.073902347 -0.015643159 2008\n",
       "3 -0.016829677 -0.001263252 2008\n",
       "4 -0.009768776 -0.014647007 2008\n",
       "5 -0.014526201  0.039676104 2008\n",
       "6  0.046241447 -0.001079535 2008"
      ]
     },
     "metadata": {},
     "output_type": "display_data"
    }
   ],
   "source": [
    "head(SimpleRet_df)"
   ]
  },
  {
   "cell_type": "code",
   "execution_count": 81,
   "metadata": {},
   "outputs": [
    {
     "data": {
      "text/html": [
       "<table>\n",
       "<thead><tr><th></th><th scope=col>DATE</th><th scope=col>CNX</th><th scope=col>TATA AUTO</th><th scope=col>HDFC</th><th scope=col>LARSEN</th><th scope=col>TKK</th><th scope=col>DABUR</th><th scope=col>SUN</th><th scope=col>WIPRO</th><th scope=col>TATA STEEL</th><th scope=col>INDIAN</th><th scope=col>NTPC</th><th scope=col>BHARTI</th><th scope=col>Year</th></tr></thead>\n",
       "<tbody>\n",
       "\t<tr><th scope=row>1726</th><td>2014-12-23   </td><td>-0.006101570 </td><td>-0.013239350 </td><td>-0.004098232 </td><td>-1.732049e-02</td><td>-0.0039271495</td><td> 0.007574121 </td><td>-0.0020252854</td><td>-0.004953500 </td><td>-0.022893227 </td><td>-0.0017875952</td><td> 0.0284140969</td><td> 0.018347566 </td><td>2014         </td></tr>\n",
       "\t<tr><th scope=row>1727</th><td>2014-12-24   </td><td>-0.007817381 </td><td>-0.008605089 </td><td>-0.015106184 </td><td>-1.331957e-02</td><td> 0.0004123015</td><td>-0.018900385 </td><td>-0.0102699711</td><td>-0.012492536 </td><td> 0.001139919 </td><td>-0.0244739137</td><td>-0.0252016849</td><td>-0.005911297 </td><td>2014         </td></tr>\n",
       "\t<tr><th scope=row>1728</th><td>2014-12-26   </td><td> 0.003638725 </td><td> 0.002479042 </td><td> 0.003591985 </td><td> 8.356703e-03</td><td>-0.0031739853</td><td> 0.006786369 </td><td> 0.0080775444</td><td> 0.003483681 </td><td> 0.007590111 </td><td> 0.0027534300</td><td>-0.0003661931</td><td> 0.003397563 </td><td>2014         </td></tr>\n",
       "\t<tr><th scope=row>1729</th><td>2014-12-29   </td><td> 0.006562038 </td><td> 0.020406207 </td><td> 0.003218029 </td><td> 6.717646e-05</td><td> 0.0015992236</td><td>-0.006523160 </td><td> 0.0111563116</td><td> 0.005023635 </td><td> 0.014689275 </td><td> 0.0128147815</td><td> 0.0057879698</td><td>-0.008750394 </td><td>2014         </td></tr>\n",
       "\t<tr><th scope=row>1730</th><td>2014-12-30   </td><td> 0.002254919 </td><td>-0.002625583 </td><td> 0.004986238 </td><td> 5.334442e-03</td><td> 0.0124867064</td><td> 0.016852718 </td><td> 0.0003657422</td><td> 0.004361876 </td><td>-0.019302251 </td><td> 0.0016568168</td><td> 0.0131847319</td><td>-0.004126055 </td><td>2014         </td></tr>\n",
       "\t<tr><th scope=row>1731</th><td>2014-12-31   </td><td> 0.005925361 </td><td> 0.003645780 </td><td>-0.005066838 </td><td>-2.402797e-03</td><td> 0.0120354353</td><td> 0.006241948 </td><td> 0.0068246908</td><td> 0.004797555 </td><td> 0.007822214 </td><td>-0.0007516583</td><td> 0.0144510748</td><td> 0.008432935 </td><td>2014         </td></tr>\n",
       "</tbody>\n",
       "</table>\n"
      ],
      "text/latex": [
       "\\begin{tabular}{r|llllllllllllll}\n",
       "  & DATE & CNX & TATA AUTO & HDFC & LARSEN & TKK & DABUR & SUN & WIPRO & TATA STEEL & INDIAN & NTPC & BHARTI & Year\\\\\n",
       "\\hline\n",
       "\t1726 & 2014-12-23    & -0.006101570  & -0.013239350  & -0.004098232  & -1.732049e-02 & -0.0039271495 &  0.007574121  & -0.0020252854 & -0.004953500  & -0.022893227  & -0.0017875952 &  0.0284140969 &  0.018347566  & 2014         \\\\\n",
       "\t1727 & 2014-12-24    & -0.007817381  & -0.008605089  & -0.015106184  & -1.331957e-02 &  0.0004123015 & -0.018900385  & -0.0102699711 & -0.012492536  &  0.001139919  & -0.0244739137 & -0.0252016849 & -0.005911297  & 2014         \\\\\n",
       "\t1728 & 2014-12-26    &  0.003638725  &  0.002479042  &  0.003591985  &  8.356703e-03 & -0.0031739853 &  0.006786369  &  0.0080775444 &  0.003483681  &  0.007590111  &  0.0027534300 & -0.0003661931 &  0.003397563  & 2014         \\\\\n",
       "\t1729 & 2014-12-29    &  0.006562038  &  0.020406207  &  0.003218029  &  6.717646e-05 &  0.0015992236 & -0.006523160  &  0.0111563116 &  0.005023635  &  0.014689275  &  0.0128147815 &  0.0057879698 & -0.008750394  & 2014         \\\\\n",
       "\t1730 & 2014-12-30    &  0.002254919  & -0.002625583  &  0.004986238  &  5.334442e-03 &  0.0124867064 &  0.016852718  &  0.0003657422 &  0.004361876  & -0.019302251  &  0.0016568168 &  0.0131847319 & -0.004126055  & 2014         \\\\\n",
       "\t1731 & 2014-12-31    &  0.005925361  &  0.003645780  & -0.005066838  & -2.402797e-03 &  0.0120354353 &  0.006241948  &  0.0068246908 &  0.004797555  &  0.007822214  & -0.0007516583 &  0.0144510748 &  0.008432935  & 2014         \\\\\n",
       "\\end{tabular}\n"
      ],
      "text/markdown": [
       "\n",
       "| <!--/--> | DATE | CNX | TATA AUTO | HDFC | LARSEN | TKK | DABUR | SUN | WIPRO | TATA STEEL | INDIAN | NTPC | BHARTI | Year |\n",
       "|---|---|---|---|---|---|---|---|---|---|---|---|---|---|---|\n",
       "| 1726 | 2014-12-23    | -0.006101570  | -0.013239350  | -0.004098232  | -1.732049e-02 | -0.0039271495 |  0.007574121  | -0.0020252854 | -0.004953500  | -0.022893227  | -0.0017875952 |  0.0284140969 |  0.018347566  | 2014          |\n",
       "| 1727 | 2014-12-24    | -0.007817381  | -0.008605089  | -0.015106184  | -1.331957e-02 |  0.0004123015 | -0.018900385  | -0.0102699711 | -0.012492536  |  0.001139919  | -0.0244739137 | -0.0252016849 | -0.005911297  | 2014          |\n",
       "| 1728 | 2014-12-26    |  0.003638725  |  0.002479042  |  0.003591985  |  8.356703e-03 | -0.0031739853 |  0.006786369  |  0.0080775444 |  0.003483681  |  0.007590111  |  0.0027534300 | -0.0003661931 |  0.003397563  | 2014          |\n",
       "| 1729 | 2014-12-29    |  0.006562038  |  0.020406207  |  0.003218029  |  6.717646e-05 |  0.0015992236 | -0.006523160  |  0.0111563116 |  0.005023635  |  0.014689275  |  0.0128147815 |  0.0057879698 | -0.008750394  | 2014          |\n",
       "| 1730 | 2014-12-30    |  0.002254919  | -0.002625583  |  0.004986238  |  5.334442e-03 |  0.0124867064 |  0.016852718  |  0.0003657422 |  0.004361876  | -0.019302251  |  0.0016568168 |  0.0131847319 | -0.004126055  | 2014          |\n",
       "| 1731 | 2014-12-31    |  0.005925361  |  0.003645780  | -0.005066838  | -2.402797e-03 |  0.0120354353 |  0.006241948  |  0.0068246908 |  0.004797555  |  0.007822214  | -0.0007516583 |  0.0144510748 |  0.008432935  | 2014          |\n",
       "\n"
      ],
      "text/plain": [
       "     DATE       CNX          TATA AUTO    HDFC         LARSEN       \n",
       "1726 2014-12-23 -0.006101570 -0.013239350 -0.004098232 -1.732049e-02\n",
       "1727 2014-12-24 -0.007817381 -0.008605089 -0.015106184 -1.331957e-02\n",
       "1728 2014-12-26  0.003638725  0.002479042  0.003591985  8.356703e-03\n",
       "1729 2014-12-29  0.006562038  0.020406207  0.003218029  6.717646e-05\n",
       "1730 2014-12-30  0.002254919 -0.002625583  0.004986238  5.334442e-03\n",
       "1731 2014-12-31  0.005925361  0.003645780 -0.005066838 -2.402797e-03\n",
       "     TKK           DABUR        SUN           WIPRO        TATA STEEL  \n",
       "1726 -0.0039271495  0.007574121 -0.0020252854 -0.004953500 -0.022893227\n",
       "1727  0.0004123015 -0.018900385 -0.0102699711 -0.012492536  0.001139919\n",
       "1728 -0.0031739853  0.006786369  0.0080775444  0.003483681  0.007590111\n",
       "1729  0.0015992236 -0.006523160  0.0111563116  0.005023635  0.014689275\n",
       "1730  0.0124867064  0.016852718  0.0003657422  0.004361876 -0.019302251\n",
       "1731  0.0120354353  0.006241948  0.0068246908  0.004797555  0.007822214\n",
       "     INDIAN        NTPC          BHARTI       Year\n",
       "1726 -0.0017875952  0.0284140969  0.018347566 2014\n",
       "1727 -0.0244739137 -0.0252016849 -0.005911297 2014\n",
       "1728  0.0027534300 -0.0003661931  0.003397563 2014\n",
       "1729  0.0128147815  0.0057879698 -0.008750394 2014\n",
       "1730  0.0016568168  0.0131847319 -0.004126055 2014\n",
       "1731 -0.0007516583  0.0144510748  0.008432935 2014"
      ]
     },
     "metadata": {},
     "output_type": "display_data"
    }
   ],
   "source": [
    "tail(SimpleRet_df)"
   ]
  },
  {
   "cell_type": "code",
   "execution_count": 82,
   "metadata": {},
   "outputs": [
    {
     "data": {
      "text/html": [
       "<ol class=list-inline>\n",
       "\t<li>1</li>\n",
       "\t<li>2</li>\n",
       "\t<li>3</li>\n",
       "\t<li>4</li>\n",
       "\t<li>5</li>\n",
       "\t<li>6</li>\n",
       "\t<li>7</li>\n",
       "</ol>\n"
      ],
      "text/latex": [
       "\\begin{enumerate*}\n",
       "\\item 1\n",
       "\\item 2\n",
       "\\item 3\n",
       "\\item 4\n",
       "\\item 5\n",
       "\\item 6\n",
       "\\item 7\n",
       "\\end{enumerate*}\n"
      ],
      "text/markdown": [
       "1. 1\n",
       "2. 2\n",
       "3. 3\n",
       "4. 4\n",
       "5. 5\n",
       "6. 6\n",
       "7. 7\n",
       "\n",
       "\n"
      ],
      "text/plain": [
       "[1] 1 2 3 4 5 6 7"
      ]
     },
     "metadata": {},
     "output_type": "display_data"
    }
   ],
   "source": [
    "seq(unique(SimpleRet_df$Year))"
   ]
  },
  {
   "cell_type": "code",
   "execution_count": 83,
   "metadata": {},
   "outputs": [
    {
     "data": {
      "text/html": [
       "<table>\n",
       "<thead><tr><th scope=col>YEAR</th><th scope=col>TATA AUTO</th><th scope=col>HDFC</th><th scope=col>LARSEN</th><th scope=col>TKK</th><th scope=col>DABUR</th><th scope=col>SUN</th><th scope=col>WIPRO</th><th scope=col>TATA STEEL</th><th scope=col>INDIAN</th><th scope=col>NTPC</th><th scope=col>BHARTI</th></tr></thead>\n",
       "<tbody>\n",
       "\t<tr><td>2008  </td><td>1.019 </td><td>0.9873</td><td>1.102 </td><td>0.4458</td><td>0.6541</td><td>0.3041</td><td>0.9692</td><td>1.314 </td><td>0.7692</td><td>0.9985</td><td>0.8243</td></tr>\n",
       "\t<tr><td>2009  </td><td>1.337 </td><td>0.8356</td><td>1.362 </td><td>0.4645</td><td>0.2412</td><td>0.3848</td><td>0.7549</td><td>1.592 </td><td>0.491 </td><td>0.6195</td><td>0.9192</td></tr>\n",
       "\t<tr><td>2010  </td><td>1.567 </td><td>0.8786</td><td>0.9776</td><td>0.8585</td><td>0.3417</td><td>0.4528</td><td>0.8857</td><td>1.658 </td><td>0.5407</td><td>0.6129</td><td>0.7723</td></tr>\n",
       "\t<tr><td>2011  </td><td>1.728 </td><td>1.093 </td><td>1.27  </td><td>1.009 </td><td>0.3633</td><td>0.6356</td><td>0.8782</td><td>1.325 </td><td>0.4947</td><td>0.866 </td><td>0.78  </td></tr>\n",
       "\t<tr><td>2012  </td><td>1.57  </td><td>0.9157</td><td>1.703 </td><td>1.078 </td><td>0.4133</td><td>0.4315</td><td>0.6336</td><td>1.544 </td><td>0.3982</td><td>0.6789</td><td>0.88  </td></tr>\n",
       "\t<tr><td>2013  </td><td>1.021 </td><td>1.245 </td><td>1.515 </td><td>0.5103</td><td>0.4947</td><td>0.6203</td><td>0.2144</td><td>1.351 </td><td>0.9737</td><td>0.7791</td><td>1.127 </td></tr>\n",
       "\t<tr><td>2014  </td><td>1.307 </td><td>0.8768</td><td>1.449 </td><td>0.8861</td><td>0.3988</td><td>0.1913</td><td>0.368 </td><td>1.573 </td><td>1.492 </td><td>1.113 </td><td>0.6701</td></tr>\n",
       "</tbody>\n",
       "</table>\n"
      ],
      "text/latex": [
       "\\begin{tabular}{r|llllllllllll}\n",
       " YEAR & TATA AUTO & HDFC & LARSEN & TKK & DABUR & SUN & WIPRO & TATA STEEL & INDIAN & NTPC & BHARTI\\\\\n",
       "\\hline\n",
       "\t 2008   & 1.019  & 0.9873 & 1.102  & 0.4458 & 0.6541 & 0.3041 & 0.9692 & 1.314  & 0.7692 & 0.9985 & 0.8243\\\\\n",
       "\t 2009   & 1.337  & 0.8356 & 1.362  & 0.4645 & 0.2412 & 0.3848 & 0.7549 & 1.592  & 0.491  & 0.6195 & 0.9192\\\\\n",
       "\t 2010   & 1.567  & 0.8786 & 0.9776 & 0.8585 & 0.3417 & 0.4528 & 0.8857 & 1.658  & 0.5407 & 0.6129 & 0.7723\\\\\n",
       "\t 2011   & 1.728  & 1.093  & 1.27   & 1.009  & 0.3633 & 0.6356 & 0.8782 & 1.325  & 0.4947 & 0.866  & 0.78  \\\\\n",
       "\t 2012   & 1.57   & 0.9157 & 1.703  & 1.078  & 0.4133 & 0.4315 & 0.6336 & 1.544  & 0.3982 & 0.6789 & 0.88  \\\\\n",
       "\t 2013   & 1.021  & 1.245  & 1.515  & 0.5103 & 0.4947 & 0.6203 & 0.2144 & 1.351  & 0.9737 & 0.7791 & 1.127 \\\\\n",
       "\t 2014   & 1.307  & 0.8768 & 1.449  & 0.8861 & 0.3988 & 0.1913 & 0.368  & 1.573  & 1.492  & 1.113  & 0.6701\\\\\n",
       "\\end{tabular}\n"
      ],
      "text/markdown": [
       "\n",
       "| YEAR | TATA AUTO | HDFC | LARSEN | TKK | DABUR | SUN | WIPRO | TATA STEEL | INDIAN | NTPC | BHARTI |\n",
       "|---|---|---|---|---|---|---|---|---|---|---|---|\n",
       "| 2008   | 1.019  | 0.9873 | 1.102  | 0.4458 | 0.6541 | 0.3041 | 0.9692 | 1.314  | 0.7692 | 0.9985 | 0.8243 |\n",
       "| 2009   | 1.337  | 0.8356 | 1.362  | 0.4645 | 0.2412 | 0.3848 | 0.7549 | 1.592  | 0.491  | 0.6195 | 0.9192 |\n",
       "| 2010   | 1.567  | 0.8786 | 0.9776 | 0.8585 | 0.3417 | 0.4528 | 0.8857 | 1.658  | 0.5407 | 0.6129 | 0.7723 |\n",
       "| 2011   | 1.728  | 1.093  | 1.27   | 1.009  | 0.3633 | 0.6356 | 0.8782 | 1.325  | 0.4947 | 0.866  | 0.78   |\n",
       "| 2012   | 1.57   | 0.9157 | 1.703  | 1.078  | 0.4133 | 0.4315 | 0.6336 | 1.544  | 0.3982 | 0.6789 | 0.88   |\n",
       "| 2013   | 1.021  | 1.245  | 1.515  | 0.5103 | 0.4947 | 0.6203 | 0.2144 | 1.351  | 0.9737 | 0.7791 | 1.127  |\n",
       "| 2014   | 1.307  | 0.8768 | 1.449  | 0.8861 | 0.3988 | 0.1913 | 0.368  | 1.573  | 1.492  | 1.113  | 0.6701 |\n",
       "\n"
      ],
      "text/plain": [
       "  YEAR TATA AUTO HDFC   LARSEN TKK    DABUR  SUN    WIPRO  TATA STEEL INDIAN\n",
       "1 2008 1.019     0.9873 1.102  0.4458 0.6541 0.3041 0.9692 1.314      0.7692\n",
       "2 2009 1.337     0.8356 1.362  0.4645 0.2412 0.3848 0.7549 1.592      0.491 \n",
       "3 2010 1.567     0.8786 0.9776 0.8585 0.3417 0.4528 0.8857 1.658      0.5407\n",
       "4 2011 1.728     1.093  1.27   1.009  0.3633 0.6356 0.8782 1.325      0.4947\n",
       "5 2012 1.57      0.9157 1.703  1.078  0.4133 0.4315 0.6336 1.544      0.3982\n",
       "6 2013 1.021     1.245  1.515  0.5103 0.4947 0.6203 0.2144 1.351      0.9737\n",
       "7 2014 1.307     0.8768 1.449  0.8861 0.3988 0.1913 0.368  1.573      1.492 \n",
       "  NTPC   BHARTI\n",
       "1 0.9985 0.8243\n",
       "2 0.6195 0.9192\n",
       "3 0.6129 0.7723\n",
       "4 0.866  0.78  \n",
       "5 0.6789 0.88  \n",
       "6 0.7791 1.127 \n",
       "7 1.113  0.6701"
      ]
     },
     "metadata": {},
     "output_type": "display_data"
    }
   ],
   "source": [
    "years <- unique(SimpleRet_df$Year)\n",
    "output <- matrix(ncol=12, nrow=length(years))\n",
    "\n",
    "for (y in 1:7){\n",
    "    df <- SimpleRet_df %>% filter(Year==years[y]) %>% select(CNX:BHARTI)  \n",
    "    #print(years[y])\n",
    "    beta_df <- cov(df$CNX,df[,-1])/var(df$CNX)\n",
    "    #print(beta_df)\n",
    "    \n",
    "    output[y,] <- c(years[y],signif(as.numeric(beta_df[1,]),4))\n",
    "}\n",
    "\n",
    "output <- data.frame(output)\n",
    "names(output) <- names(SimpleRet_df[2:13])\n",
    "names(output)[1] <- \"YEAR\"\n",
    "output"
   ]
  },
  {
   "cell_type": "code",
   "execution_count": 84,
   "metadata": {
    "scrolled": false
   },
   "outputs": [
    {
     "name": "stdout",
     "output_type": "stream",
     "text": [
      "[1] \"2008\"\n",
      "\n",
      "Call:\n",
      "lm(formula = SUN ~ CNX, data = df)\n",
      "\n",
      "Residuals:\n",
      "      Min        1Q    Median        3Q       Max \n",
      "-0.074748 -0.015433 -0.002657  0.013715  0.112454 \n",
      "\n",
      "Coefficients:\n",
      "            Estimate Std. Error t value Pr(>|t|)    \n",
      "(Intercept) 0.001195   0.001774   0.674    0.501    \n",
      "CNX         0.304067   0.064789   4.693 4.49e-06 ***\n",
      "---\n",
      "Signif. codes:  0 '***' 0.001 '**' 0.01 '*' 0.05 '.' 0.1 ' ' 1\n",
      "\n",
      "Residual standard error: 0.02759 on 243 degrees of freedom\n",
      "Multiple R-squared:  0.08311,\tAdjusted R-squared:  0.07934 \n",
      "F-statistic: 22.03 on 1 and 243 DF,  p-value: 4.495e-06\n",
      "\n",
      "[1] \"2009\"\n",
      "\n",
      "Call:\n",
      "lm(formula = SUN ~ CNX, data = df)\n",
      "\n",
      "Residuals:\n",
      "      Min        1Q    Median        3Q       Max \n",
      "-0.132807 -0.010269 -0.000169  0.011881  0.118663 \n",
      "\n",
      "Coefficients:\n",
      "            Estimate Std. Error t value Pr(>|t|)    \n",
      "(Intercept) 0.001179   0.001552   0.760    0.448    \n",
      "CNX         0.384847   0.074085   5.195 4.43e-07 ***\n",
      "---\n",
      "Signif. codes:  0 '***' 0.001 '**' 0.01 '*' 0.05 '.' 0.1 ' ' 1\n",
      "\n",
      "Residual standard error: 0.02371 on 236 degrees of freedom\n",
      "Multiple R-squared:  0.1026,\tAdjusted R-squared:  0.09881 \n",
      "F-statistic: 26.98 on 1 and 236 DF,  p-value: 4.432e-07\n",
      "\n",
      "[1] \"2010\"\n",
      "\n",
      "Call:\n",
      "lm(formula = SUN ~ CNX, data = df)\n",
      "\n",
      "Residuals:\n",
      "      Min        1Q    Median        3Q       Max \n",
      "-0.051299 -0.008735 -0.001795  0.008439  0.074599 \n",
      "\n",
      "Coefficients:\n",
      "             Estimate Std. Error t value Pr(>|t|)    \n",
      "(Intercept) 0.0020669  0.0009237   2.238   0.0261 *  \n",
      "CNX         0.4528371  0.0960816   4.713 4.06e-06 ***\n",
      "---\n",
      "Signif. codes:  0 '***' 0.001 '**' 0.01 '*' 0.05 '.' 0.1 ' ' 1\n",
      "\n",
      "Residual standard error: 0.01464 on 250 degrees of freedom\n",
      "Multiple R-squared:  0.0816,\tAdjusted R-squared:  0.07793 \n",
      "F-statistic: 22.21 on 1 and 250 DF,  p-value: 4.055e-06\n",
      "\n",
      "[1] \"2011\"\n",
      "\n",
      "Call:\n",
      "lm(formula = SUN ~ CNX, data = df)\n",
      "\n",
      "Residuals:\n",
      "      Min        1Q    Median        3Q       Max \n",
      "-0.038776 -0.010095 -0.000450  0.007991  0.042160 \n",
      "\n",
      "Coefficients:\n",
      "             Estimate Std. Error t value Pr(>|t|)    \n",
      "(Intercept) 0.0010803  0.0009797   1.103    0.271    \n",
      "CNX         0.6355866  0.0791411   8.031 4.17e-14 ***\n",
      "---\n",
      "Signif. codes:  0 '***' 0.001 '**' 0.01 '*' 0.05 '.' 0.1 ' ' 1\n",
      "\n",
      "Residual standard error: 0.01526 on 243 degrees of freedom\n",
      "Multiple R-squared:  0.2098,\tAdjusted R-squared:  0.2065 \n",
      "F-statistic:  64.5 on 1 and 243 DF,  p-value: 4.166e-14\n",
      "\n",
      "[1] \"2012\"\n",
      "\n",
      "Call:\n",
      "lm(formula = SUN ~ CNX, data = df)\n",
      "\n",
      "Residuals:\n",
      "      Min        1Q    Median        3Q       Max \n",
      "-0.067082 -0.007487 -0.001186  0.006929  0.040080 \n",
      "\n",
      "Coefficients:\n",
      "             Estimate Std. Error t value Pr(>|t|)    \n",
      "(Intercept) 0.0011855  0.0007765   1.527    0.128    \n",
      "CNX         0.4315255  0.0837532   5.152 5.18e-07 ***\n",
      "---\n",
      "Signif. codes:  0 '***' 0.001 '**' 0.01 '*' 0.05 '.' 0.1 ' ' 1\n",
      "\n",
      "Residual standard error: 0.01231 on 253 degrees of freedom\n",
      "Multiple R-squared:  0.09496,\tAdjusted R-squared:  0.09139 \n",
      "F-statistic: 26.55 on 1 and 253 DF,  p-value: 5.182e-07\n",
      "\n",
      "[1] \"2013\"\n",
      "\n",
      "Call:\n",
      "lm(formula = SUN ~ CNX, data = df)\n",
      "\n",
      "Residuals:\n",
      "      Min        1Q    Median        3Q       Max \n",
      "-0.040729 -0.009117 -0.001711  0.009003  0.070457 \n",
      "\n",
      "Coefficients:\n",
      "            Estimate Std. Error t value Pr(>|t|)    \n",
      "(Intercept) 0.001759   0.001020   1.725   0.0858 .  \n",
      "CNX         0.620305   0.094760   6.546 3.29e-10 ***\n",
      "---\n",
      "Signif. codes:  0 '***' 0.001 '**' 0.01 '*' 0.05 '.' 0.1 ' ' 1\n",
      "\n",
      "Residual standard error: 0.01625 on 252 degrees of freedom\n",
      "Multiple R-squared:  0.1453,\tAdjusted R-squared:  0.1419 \n",
      "F-statistic: 42.85 on 1 and 252 DF,  p-value: 3.286e-10\n",
      "\n",
      "[1] \"2014\"\n",
      "\n",
      "Call:\n",
      "lm(formula = SUN ~ CNX, data = df)\n",
      "\n",
      "Residuals:\n",
      "      Min        1Q    Median        3Q       Max \n",
      "-0.053302 -0.009281 -0.000429  0.008706  0.064664 \n",
      "\n",
      "Coefficients:\n",
      "            Estimate Std. Error t value Pr(>|t|)\n",
      "(Intercept) 0.001426   0.001045   1.364    0.174\n",
      "CNX         0.191263   0.123132   1.553    0.122\n",
      "\n",
      "Residual standard error: 0.01605 on 240 degrees of freedom\n",
      "Multiple R-squared:  0.009953,\tAdjusted R-squared:  0.005828 \n",
      "F-statistic: 2.413 on 1 and 240 DF,  p-value: 0.1217\n",
      "\n"
     ]
    }
   ],
   "source": [
    "years <- unique(SimpleRet_df$Year)\n",
    "for (y in 1:7){\n",
    "    df <- SimpleRet_df %>% filter(Year==years[y]) %>% select(CNX:BHARTI)\n",
    "    mod <- lm(SUN~CNX, data=df)\n",
    "    print(years[y])\n",
    "    print(summary(mod))\n",
    "}\n",
    "\n"
   ]
  },
  {
   "cell_type": "code",
   "execution_count": 92,
   "metadata": {},
   "outputs": [
    {
     "name": "stdout",
     "output_type": "stream",
     "text": [
      "[1] \"R-squared\"\n"
     ]
    },
    {
     "data": {
      "text/html": [
       "<table>\n",
       "<thead><tr><th scope=col>YEAR</th><th scope=col>TATA AUTO</th><th scope=col>HDFC</th><th scope=col>LARSEN</th><th scope=col>TKK</th><th scope=col>DABUR</th><th scope=col>SUN</th><th scope=col>WIPRO</th><th scope=col>TATA STEEL</th><th scope=col>INDIAN</th><th scope=col>NTPC</th><th scope=col>BHARTI</th></tr></thead>\n",
       "<tbody>\n",
       "\t<tr><td>2008   </td><td>0.423  </td><td>0.511  </td><td>0.668  </td><td>0.119  </td><td>0.289  </td><td>0.0831 </td><td>0.452  </td><td>0.603  </td><td>0.359  </td><td>0.653  </td><td>0.436  </td></tr>\n",
       "\t<tr><td>2009   </td><td>0.41   </td><td>0.532  </td><td>0.701  </td><td>0.0663 </td><td>0.0633 </td><td>0.103  </td><td>0.31   </td><td>0.586  </td><td>0.149  </td><td>0.385  </td><td>0.335  </td></tr>\n",
       "\t<tr><td>2010   </td><td>0.361  </td><td>0.29   </td><td>0.386  </td><td>0.0604 </td><td>0.0429 </td><td>0.0816 </td><td>0.223  </td><td>0.523  </td><td>0.0699 </td><td>0.25   </td><td>0.121  </td></tr>\n",
       "\t<tr><td>2011   </td><td>0.526  </td><td>0.592  </td><td>0.53   </td><td>0.147  </td><td>0.0843 </td><td>0.21   </td><td>0.362  </td><td>0.586  </td><td>0.125  </td><td>0.396  </td><td>0.266  </td></tr>\n",
       "\t<tr><td>2012   </td><td>0.373  </td><td>0.453  </td><td>0.592  </td><td>0.114  </td><td>0.08   </td><td>0.095  </td><td>0.148  </td><td>0.456  </td><td>0.0811 </td><td>0.201  </td><td>0.16   </td></tr>\n",
       "\t<tr><td>2013   </td><td>0.242  </td><td>0.526  </td><td>0.556  </td><td>0.066  </td><td>0.101  </td><td>0.145  </td><td>0.0143 </td><td>0.369  </td><td>0.228  </td><td>0.22   </td><td>0.277  </td></tr>\n",
       "\t<tr><td>2014   </td><td>0.341  </td><td>0.348  </td><td>0.468  </td><td>0.128  </td><td>0.0505 </td><td>0.00995</td><td>0.0391 </td><td>0.359  </td><td>0.278  </td><td>0.233  </td><td>0.122  </td></tr>\n",
       "</tbody>\n",
       "</table>\n"
      ],
      "text/latex": [
       "\\begin{tabular}{r|llllllllllll}\n",
       " YEAR & TATA AUTO & HDFC & LARSEN & TKK & DABUR & SUN & WIPRO & TATA STEEL & INDIAN & NTPC & BHARTI\\\\\n",
       "\\hline\n",
       "\t 2008    & 0.423   & 0.511   & 0.668   & 0.119   & 0.289   & 0.0831  & 0.452   & 0.603   & 0.359   & 0.653   & 0.436  \\\\\n",
       "\t 2009    & 0.41    & 0.532   & 0.701   & 0.0663  & 0.0633  & 0.103   & 0.31    & 0.586   & 0.149   & 0.385   & 0.335  \\\\\n",
       "\t 2010    & 0.361   & 0.29    & 0.386   & 0.0604  & 0.0429  & 0.0816  & 0.223   & 0.523   & 0.0699  & 0.25    & 0.121  \\\\\n",
       "\t 2011    & 0.526   & 0.592   & 0.53    & 0.147   & 0.0843  & 0.21    & 0.362   & 0.586   & 0.125   & 0.396   & 0.266  \\\\\n",
       "\t 2012    & 0.373   & 0.453   & 0.592   & 0.114   & 0.08    & 0.095   & 0.148   & 0.456   & 0.0811  & 0.201   & 0.16   \\\\\n",
       "\t 2013    & 0.242   & 0.526   & 0.556   & 0.066   & 0.101   & 0.145   & 0.0143  & 0.369   & 0.228   & 0.22    & 0.277  \\\\\n",
       "\t 2014    & 0.341   & 0.348   & 0.468   & 0.128   & 0.0505  & 0.00995 & 0.0391  & 0.359   & 0.278   & 0.233   & 0.122  \\\\\n",
       "\\end{tabular}\n"
      ],
      "text/markdown": [
       "\n",
       "| YEAR | TATA AUTO | HDFC | LARSEN | TKK | DABUR | SUN | WIPRO | TATA STEEL | INDIAN | NTPC | BHARTI |\n",
       "|---|---|---|---|---|---|---|---|---|---|---|---|\n",
       "| 2008    | 0.423   | 0.511   | 0.668   | 0.119   | 0.289   | 0.0831  | 0.452   | 0.603   | 0.359   | 0.653   | 0.436   |\n",
       "| 2009    | 0.41    | 0.532   | 0.701   | 0.0663  | 0.0633  | 0.103   | 0.31    | 0.586   | 0.149   | 0.385   | 0.335   |\n",
       "| 2010    | 0.361   | 0.29    | 0.386   | 0.0604  | 0.0429  | 0.0816  | 0.223   | 0.523   | 0.0699  | 0.25    | 0.121   |\n",
       "| 2011    | 0.526   | 0.592   | 0.53    | 0.147   | 0.0843  | 0.21    | 0.362   | 0.586   | 0.125   | 0.396   | 0.266   |\n",
       "| 2012    | 0.373   | 0.453   | 0.592   | 0.114   | 0.08    | 0.095   | 0.148   | 0.456   | 0.0811  | 0.201   | 0.16    |\n",
       "| 2013    | 0.242   | 0.526   | 0.556   | 0.066   | 0.101   | 0.145   | 0.0143  | 0.369   | 0.228   | 0.22    | 0.277   |\n",
       "| 2014    | 0.341   | 0.348   | 0.468   | 0.128   | 0.0505  | 0.00995 | 0.0391  | 0.359   | 0.278   | 0.233   | 0.122   |\n",
       "\n"
      ],
      "text/plain": [
       "  YEAR TATA AUTO HDFC  LARSEN TKK    DABUR  SUN     WIPRO  TATA STEEL INDIAN\n",
       "1 2008 0.423     0.511 0.668  0.119  0.289  0.0831  0.452  0.603      0.359 \n",
       "2 2009 0.41      0.532 0.701  0.0663 0.0633 0.103   0.31   0.586      0.149 \n",
       "3 2010 0.361     0.29  0.386  0.0604 0.0429 0.0816  0.223  0.523      0.0699\n",
       "4 2011 0.526     0.592 0.53   0.147  0.0843 0.21    0.362  0.586      0.125 \n",
       "5 2012 0.373     0.453 0.592  0.114  0.08   0.095   0.148  0.456      0.0811\n",
       "6 2013 0.242     0.526 0.556  0.066  0.101  0.145   0.0143 0.369      0.228 \n",
       "7 2014 0.341     0.348 0.468  0.128  0.0505 0.00995 0.0391 0.359      0.278 \n",
       "  NTPC  BHARTI\n",
       "1 0.653 0.436 \n",
       "2 0.385 0.335 \n",
       "3 0.25  0.121 \n",
       "4 0.396 0.266 \n",
       "5 0.201 0.16  \n",
       "6 0.22  0.277 \n",
       "7 0.233 0.122 "
      ]
     },
     "metadata": {},
     "output_type": "display_data"
    }
   ],
   "source": [
    "years <- unique(SimpleRet_df$Year)\n",
    "outputR <- matrix(ncol=12, nrow=length(years))\n",
    "R2_df <- matrix(ncol=11,nrow=1)\n",
    "\n",
    "for (y in 1:7){\n",
    "    df <- SimpleRet_df %>% filter(Year==years[y]) %>% select(CNX:BHARTI)  \n",
    "    #print(years[y])\n",
    "    for (i in 1:11){\n",
    "        rho <- cov(df$CNX,df[,i+1])/(sd(df$CNX)*sd(df[,i+1]))\n",
    "        #print(x)\n",
    "        R2_df[i] <- rho^2\n",
    "    }\n",
    "    #print(R2_df)\n",
    "    \n",
    "    outputR[y,] <- c(years[y],signif(as.numeric(R2_df),3))\n",
    "}\n",
    "\n",
    "outputR <- data.frame(outputR)\n",
    "names(outputR) <- names(SimpleRet_df[2:13])\n",
    "names(outputR)[1] <- \"YEAR\"\n",
    "print(\"R-squared\")\n",
    "outputR"
   ]
  },
  {
   "cell_type": "markdown",
   "metadata": {},
   "source": [
    "## Portfolio Optimization"
   ]
  },
  {
   "cell_type": "code",
   "execution_count": 96,
   "metadata": {},
   "outputs": [],
   "source": [
    "stockNames <- names(SimpleRet_df)[-which(names(SimpleRet_df) %in% c(\"DATE\",\"CNX\",\"Year\"))]"
   ]
  },
  {
   "cell_type": "code",
   "execution_count": 98,
   "metadata": {},
   "outputs": [
    {
     "data": {
      "text/html": [
       "<table>\n",
       "<thead><tr><th scope=col>TATA AUTO</th><th scope=col>HDFC</th><th scope=col>LARSEN</th><th scope=col>TKK</th><th scope=col>DABUR</th><th scope=col>SUN</th><th scope=col>WIPRO</th><th scope=col>TATA STEEL</th><th scope=col>INDIAN</th><th scope=col>NTPC</th><th scope=col>BHARTI</th></tr></thead>\n",
       "<tbody>\n",
       "\t<tr><td> 0.0399715443</td><td>-0.016117043 </td><td>-0.001902974 </td><td>-0.01512743  </td><td>-0.005536793 </td><td>-0.007507077 </td><td>-0.0100763267</td><td> 0.001394421 </td><td>-0.0103092457</td><td>-0.001370187 </td><td>-0.001653821 </td></tr>\n",
       "\t<tr><td>-0.0006308914</td><td>-0.008791511 </td><td>-0.020174607 </td><td> 0.03094218  </td><td> 0.019272009 </td><td>-0.041964987 </td><td>-0.0293519337</td><td>-0.007926269 </td><td> 0.0159504898</td><td> 0.073902347 </td><td>-0.015643159 </td></tr>\n",
       "\t<tr><td>-0.0110370313</td><td> 0.000000000 </td><td> 0.047838843 </td><td> 0.08356275  </td><td> 0.020588257 </td><td>-0.023058750 </td><td>-0.0060479044</td><td> 0.005506378 </td><td> 0.0009612863</td><td>-0.016829677 </td><td>-0.001263252 </td></tr>\n",
       "\t<tr><td> 0.0021068100</td><td>-0.021827253 </td><td> 0.008028064 </td><td>-0.05484980  </td><td> 0.023466395 </td><td> 0.006452887 </td><td>-0.0243427651</td><td>-0.005905758 </td><td>-0.0371321556</td><td>-0.009768776 </td><td>-0.014647007 </td></tr>\n",
       "\t<tr><td>-0.0202298441</td><td> 0.034994510 </td><td> 0.012734219 </td><td>-0.04332701  </td><td>-0.037409488 </td><td>-0.002378267 </td><td> 0.0226635315</td><td>-0.037265045 </td><td>-0.0409573591</td><td>-0.014526201 </td><td> 0.039676104 </td></tr>\n",
       "\t<tr><td> 0.0019494024</td><td> 0.017761199 </td><td> 0.001210382 </td><td>-0.02986226  </td><td>-0.009193468 </td><td>-0.012534100 </td><td> 0.0004036519</td><td> 0.002804858 </td><td>-0.0042982338</td><td> 0.046241447 </td><td>-0.001079535 </td></tr>\n",
       "</tbody>\n",
       "</table>\n"
      ],
      "text/latex": [
       "\\begin{tabular}{r|lllllllllll}\n",
       " TATA AUTO & HDFC & LARSEN & TKK & DABUR & SUN & WIPRO & TATA STEEL & INDIAN & NTPC & BHARTI\\\\\n",
       "\\hline\n",
       "\t  0.0399715443 & -0.016117043  & -0.001902974  & -0.01512743   & -0.005536793  & -0.007507077  & -0.0100763267 &  0.001394421  & -0.0103092457 & -0.001370187  & -0.001653821 \\\\\n",
       "\t -0.0006308914 & -0.008791511  & -0.020174607  &  0.03094218   &  0.019272009  & -0.041964987  & -0.0293519337 & -0.007926269  &  0.0159504898 &  0.073902347  & -0.015643159 \\\\\n",
       "\t -0.0110370313 &  0.000000000  &  0.047838843  &  0.08356275   &  0.020588257  & -0.023058750  & -0.0060479044 &  0.005506378  &  0.0009612863 & -0.016829677  & -0.001263252 \\\\\n",
       "\t  0.0021068100 & -0.021827253  &  0.008028064  & -0.05484980   &  0.023466395  &  0.006452887  & -0.0243427651 & -0.005905758  & -0.0371321556 & -0.009768776  & -0.014647007 \\\\\n",
       "\t -0.0202298441 &  0.034994510  &  0.012734219  & -0.04332701   & -0.037409488  & -0.002378267  &  0.0226635315 & -0.037265045  & -0.0409573591 & -0.014526201  &  0.039676104 \\\\\n",
       "\t  0.0019494024 &  0.017761199  &  0.001210382  & -0.02986226   & -0.009193468  & -0.012534100  &  0.0004036519 &  0.002804858  & -0.0042982338 &  0.046241447  & -0.001079535 \\\\\n",
       "\\end{tabular}\n"
      ],
      "text/markdown": [
       "\n",
       "| TATA AUTO | HDFC | LARSEN | TKK | DABUR | SUN | WIPRO | TATA STEEL | INDIAN | NTPC | BHARTI |\n",
       "|---|---|---|---|---|---|---|---|---|---|---|\n",
       "|  0.0399715443 | -0.016117043  | -0.001902974  | -0.01512743   | -0.005536793  | -0.007507077  | -0.0100763267 |  0.001394421  | -0.0103092457 | -0.001370187  | -0.001653821  |\n",
       "| -0.0006308914 | -0.008791511  | -0.020174607  |  0.03094218   |  0.019272009  | -0.041964987  | -0.0293519337 | -0.007926269  |  0.0159504898 |  0.073902347  | -0.015643159  |\n",
       "| -0.0110370313 |  0.000000000  |  0.047838843  |  0.08356275   |  0.020588257  | -0.023058750  | -0.0060479044 |  0.005506378  |  0.0009612863 | -0.016829677  | -0.001263252  |\n",
       "|  0.0021068100 | -0.021827253  |  0.008028064  | -0.05484980   |  0.023466395  |  0.006452887  | -0.0243427651 | -0.005905758  | -0.0371321556 | -0.009768776  | -0.014647007  |\n",
       "| -0.0202298441 |  0.034994510  |  0.012734219  | -0.04332701   | -0.037409488  | -0.002378267  |  0.0226635315 | -0.037265045  | -0.0409573591 | -0.014526201  |  0.039676104  |\n",
       "|  0.0019494024 |  0.017761199  |  0.001210382  | -0.02986226   | -0.009193468  | -0.012534100  |  0.0004036519 |  0.002804858  | -0.0042982338 |  0.046241447  | -0.001079535  |\n",
       "\n"
      ],
      "text/plain": [
       "  TATA AUTO     HDFC         LARSEN       TKK         DABUR        SUN         \n",
       "1  0.0399715443 -0.016117043 -0.001902974 -0.01512743 -0.005536793 -0.007507077\n",
       "2 -0.0006308914 -0.008791511 -0.020174607  0.03094218  0.019272009 -0.041964987\n",
       "3 -0.0110370313  0.000000000  0.047838843  0.08356275  0.020588257 -0.023058750\n",
       "4  0.0021068100 -0.021827253  0.008028064 -0.05484980  0.023466395  0.006452887\n",
       "5 -0.0202298441  0.034994510  0.012734219 -0.04332701 -0.037409488 -0.002378267\n",
       "6  0.0019494024  0.017761199  0.001210382 -0.02986226 -0.009193468 -0.012534100\n",
       "  WIPRO         TATA STEEL   INDIAN        NTPC         BHARTI      \n",
       "1 -0.0100763267  0.001394421 -0.0103092457 -0.001370187 -0.001653821\n",
       "2 -0.0293519337 -0.007926269  0.0159504898  0.073902347 -0.015643159\n",
       "3 -0.0060479044  0.005506378  0.0009612863 -0.016829677 -0.001263252\n",
       "4 -0.0243427651 -0.005905758 -0.0371321556 -0.009768776 -0.014647007\n",
       "5  0.0226635315 -0.037265045 -0.0409573591 -0.014526201  0.039676104\n",
       "6  0.0004036519  0.002804858 -0.0042982338  0.046241447 -0.001079535"
      ]
     },
     "metadata": {},
     "output_type": "display_data"
    }
   ],
   "source": [
    "head(SimpleRet_df[stockNames])"
   ]
  },
  {
   "cell_type": "code",
   "execution_count": null,
   "metadata": {},
   "outputs": [],
   "source": [
    "years"
   ]
  },
  {
   "cell_type": "code",
   "execution_count": null,
   "metadata": {},
   "outputs": [],
   "source": [
    "years[1]"
   ]
  },
  {
   "cell_type": "code",
   "execution_count": null,
   "metadata": {},
   "outputs": [],
   "source": [
    "length(years)"
   ]
  },
  {
   "cell_type": "code",
   "execution_count": null,
   "metadata": {},
   "outputs": [],
   "source": [
    "a <- 2.718282\n",
    "print (signif (a,3) )"
   ]
  },
  {
   "cell_type": "markdown",
   "metadata": {},
   "source": [
    "![title](img/optprobsum.png)"
   ]
  },
  {
   "cell_type": "code",
   "execution_count": 102,
   "metadata": {},
   "outputs": [
    {
     "name": "stderr",
     "output_type": "stream",
     "text": [
      "Warning message:\n",
      "\"package 'lpSolve' was built under R version 3.6.2\"Warning message:\n",
      "\"package 'lpSolveAPI' was built under R version 3.6.3\""
     ]
    }
   ],
   "source": [
    "#install.packages(\"lpSolve\")\n",
    "#install.packages(\"lpSolveAPI\")\n",
    "library(lpSolve)\n",
    "library(lpSolveAPI)"
   ]
  },
  {
   "cell_type": "code",
   "execution_count": 103,
   "metadata": {},
   "outputs": [],
   "source": [
    "maxLoss <- matrix(apply(SimpleRet_df[stockNames],2,min)) # apply min function to every Column(2) or Row(1)"
   ]
  },
  {
   "cell_type": "code",
   "execution_count": 105,
   "metadata": {},
   "outputs": [
    {
     "data": {
      "text/html": [
       "<table>\n",
       "<tbody>\n",
       "\t<tr><td>0.1765325</td></tr>\n",
       "\t<tr><td>0.1145992</td></tr>\n",
       "\t<tr><td>0.1089442</td></tr>\n",
       "\t<tr><td>0.1764230</td></tr>\n",
       "\t<tr><td>0.1634240</td></tr>\n",
       "\t<tr><td>0.1216849</td></tr>\n",
       "\t<tr><td>0.1780979</td></tr>\n",
       "\t<tr><td>0.1513670</td></tr>\n",
       "\t<tr><td>0.2093083</td></tr>\n",
       "\t<tr><td>0.1395952</td></tr>\n",
       "\t<tr><td>0.1706922</td></tr>\n",
       "</tbody>\n",
       "</table>\n"
      ],
      "text/latex": [
       "\\begin{tabular}{l}\n",
       "\t 0.1765325\\\\\n",
       "\t 0.1145992\\\\\n",
       "\t 0.1089442\\\\\n",
       "\t 0.1764230\\\\\n",
       "\t 0.1634240\\\\\n",
       "\t 0.1216849\\\\\n",
       "\t 0.1780979\\\\\n",
       "\t 0.1513670\\\\\n",
       "\t 0.2093083\\\\\n",
       "\t 0.1395952\\\\\n",
       "\t 0.1706922\\\\\n",
       "\\end{tabular}\n"
      ],
      "text/markdown": [
       "\n",
       "| 0.1765325 |\n",
       "| 0.1145992 |\n",
       "| 0.1089442 |\n",
       "| 0.1764230 |\n",
       "| 0.1634240 |\n",
       "| 0.1216849 |\n",
       "| 0.1780979 |\n",
       "| 0.1513670 |\n",
       "| 0.2093083 |\n",
       "| 0.1395952 |\n",
       "| 0.1706922 |\n",
       "\n"
      ],
      "text/plain": [
       "      [,1]     \n",
       " [1,] 0.1765325\n",
       " [2,] 0.1145992\n",
       " [3,] 0.1089442\n",
       " [4,] 0.1764230\n",
       " [5,] 0.1634240\n",
       " [6,] 0.1216849\n",
       " [7,] 0.1780979\n",
       " [8,] 0.1513670\n",
       " [9,] 0.2093083\n",
       "[10,] 0.1395952\n",
       "[11,] 0.1706922"
      ]
     },
     "metadata": {},
     "output_type": "display_data"
    }
   ],
   "source": [
    "maxLoss = -maxLoss # Risk needs to be a positive number for minimization to work (Risk = -1 x MaxLoss)\n",
    "maxLoss"
   ]
  },
  {
   "cell_type": "code",
   "execution_count": 108,
   "metadata": {},
   "outputs": [
    {
     "data": {
      "text/html": [
       "11"
      ],
      "text/latex": [
       "11"
      ],
      "text/markdown": [
       "11"
      ],
      "text/plain": [
       "[1] 11"
      ]
     },
     "metadata": {},
     "output_type": "display_data"
    }
   ],
   "source": [
    "n=nrow(maxLoss)\n",
    "n"
   ]
  },
  {
   "cell_type": "code",
   "execution_count": 109,
   "metadata": {},
   "outputs": [
    {
     "data": {
      "text/plain": [
       "Model name: \n",
       "  a linear program with 11 decision variables and 0 constraints"
      ]
     },
     "metadata": {},
     "output_type": "display_data"
    }
   ],
   "source": [
    "linearModel <- make.lp(0,n)\n",
    "linearModel"
   ]
  },
  {
   "cell_type": "code",
   "execution_count": 110,
   "metadata": {},
   "outputs": [],
   "source": [
    "# Specify the Objective function of the linear Model\n",
    "set.objfn(linearModel, c(maxLoss))"
   ]
  },
  {
   "cell_type": "code",
   "execution_count": 112,
   "metadata": {},
   "outputs": [
    {
     "data": {
      "text/html": [
       "<table>\n",
       "<tbody>\n",
       "\t<tr><td>0.001412376  </td><td>0.0008967399 </td><td>0.0004102782 </td><td>0.002180832  </td><td>0.001057902  </td><td>0.001490284  </td><td>0.0006893665 </td><td>7.333185e-05 </td><td>0.0002904934 </td><td>-2.990877e-05</td><td>0.0001326445 </td></tr>\n",
       "</tbody>\n",
       "</table>\n"
      ],
      "text/latex": [
       "\\begin{tabular}{lllllllllll}\n",
       "\t 0.001412376   & 0.0008967399  & 0.0004102782  & 0.002180832   & 0.001057902   & 0.001490284   & 0.0006893665  & 7.333185e-05  & 0.0002904934  & -2.990877e-05 & 0.0001326445 \\\\\n",
       "\\end{tabular}\n"
      ],
      "text/markdown": [
       "\n",
       "| 0.001412376   | 0.0008967399  | 0.0004102782  | 0.002180832   | 0.001057902   | 0.001490284   | 0.0006893665  | 7.333185e-05  | 0.0002904934  | -2.990877e-05 | 0.0001326445  |\n",
       "\n"
      ],
      "text/plain": [
       "     [,1]        [,2]         [,3]         [,4]        [,5]        [,6]       \n",
       "[1,] 0.001412376 0.0008967399 0.0004102782 0.002180832 0.001057902 0.001490284\n",
       "     [,7]         [,8]         [,9]         [,10]         [,11]       \n",
       "[1,] 0.0006893665 7.333185e-05 0.0002904934 -2.990877e-05 0.0001326445"
      ]
     },
     "metadata": {},
     "output_type": "display_data"
    }
   ],
   "source": [
    "#Constraints\n",
    "expectedReturn <- matrix(colMeans(SimpleRet_df[stockNames]),nrow=1)\n",
    "expectedReturn"
   ]
  },
  {
   "cell_type": "code",
   "execution_count": 113,
   "metadata": {},
   "outputs": [],
   "source": [
    "# Add Constraints\n",
    "add.constraint(linearModel,c(expectedReturn),\">=\", 0.0002)"
   ]
  },
  {
   "cell_type": "code",
   "execution_count": 115,
   "metadata": {},
   "outputs": [],
   "source": [
    "add.constraint(linearModel,rep(1,n),\"=\",1)"
   ]
  },
  {
   "cell_type": "code",
   "execution_count": 116,
   "metadata": {},
   "outputs": [
    {
     "data": {
      "text/plain": [
       "Model name: \n",
       "  a linear program with 11 decision variables and 2 constraints"
      ]
     },
     "metadata": {},
     "output_type": "display_data"
    }
   ],
   "source": [
    "linearModel"
   ]
  },
  {
   "cell_type": "code",
   "execution_count": 117,
   "metadata": {},
   "outputs": [],
   "source": [
    "# Set Boundaries\n",
    "set.bounds(linearModel, lower = rep(0,n), upper=(rep(1,n)))"
   ]
  },
  {
   "cell_type": "code",
   "execution_count": 118,
   "metadata": {},
   "outputs": [
    {
     "data": {
      "text/html": [
       "0"
      ],
      "text/latex": [
       "0"
      ],
      "text/markdown": [
       "0"
      ],
      "text/plain": [
       "[1] 0"
      ]
     },
     "metadata": {},
     "output_type": "display_data"
    }
   ],
   "source": [
    "solve(linearModel) # 0 = Success"
   ]
  },
  {
   "cell_type": "code",
   "execution_count": 119,
   "metadata": {},
   "outputs": [
    {
     "data": {
      "text/html": [
       "<ol class=list-inline>\n",
       "\t<li>0</li>\n",
       "\t<li>0</li>\n",
       "\t<li>1</li>\n",
       "\t<li>0</li>\n",
       "\t<li>0</li>\n",
       "\t<li>0</li>\n",
       "\t<li>0</li>\n",
       "\t<li>0</li>\n",
       "\t<li>0</li>\n",
       "\t<li>0</li>\n",
       "\t<li>0</li>\n",
       "</ol>\n"
      ],
      "text/latex": [
       "\\begin{enumerate*}\n",
       "\\item 0\n",
       "\\item 0\n",
       "\\item 1\n",
       "\\item 0\n",
       "\\item 0\n",
       "\\item 0\n",
       "\\item 0\n",
       "\\item 0\n",
       "\\item 0\n",
       "\\item 0\n",
       "\\item 0\n",
       "\\end{enumerate*}\n"
      ],
      "text/markdown": [
       "1. 0\n",
       "2. 0\n",
       "3. 1\n",
       "4. 0\n",
       "5. 0\n",
       "6. 0\n",
       "7. 0\n",
       "8. 0\n",
       "9. 0\n",
       "10. 0\n",
       "11. 0\n",
       "\n",
       "\n"
      ],
      "text/plain": [
       " [1] 0 0 1 0 0 0 0 0 0 0 0"
      ]
     },
     "metadata": {},
     "output_type": "display_data"
    }
   ],
   "source": [
    "get.variables(linearModel)"
   ]
  },
  {
   "cell_type": "code",
   "execution_count": 120,
   "metadata": {},
   "outputs": [
    {
     "data": {
      "text/html": [
       "0.10894424033625"
      ],
      "text/latex": [
       "0.10894424033625"
      ],
      "text/markdown": [
       "0.10894424033625"
      ],
      "text/plain": [
       "[1] 0.1089442"
      ]
     },
     "metadata": {},
     "output_type": "display_data"
    }
   ],
   "source": [
    "get.objective(linearModel)"
   ]
  },
  {
   "cell_type": "markdown",
   "metadata": {},
   "source": [
    "![title](img/qer1.png)\n",
    "![title](img/qer2.png)\n",
    "![title](img/qer3.png)\n",
    "![title](img/qer4.png)\n",
    "![title](img/qer5.png)\n",
    "![title](img/qer6.png)\n",
    "![title](img/qer7.png)"
   ]
  },
  {
   "cell_type": "code",
   "execution_count": 126,
   "metadata": {},
   "outputs": [],
   "source": [
    "#install.packages(\"quadprog\")\n",
    "library(quadprog)"
   ]
  },
  {
   "cell_type": "code",
   "execution_count": 127,
   "metadata": {},
   "outputs": [
    {
     "data": {
      "text/html": [
       "<table>\n",
       "<thead><tr><th></th><th scope=col>TATA AUTO</th><th scope=col>HDFC</th><th scope=col>LARSEN</th><th scope=col>TKK</th><th scope=col>DABUR</th><th scope=col>SUN</th><th scope=col>WIPRO</th><th scope=col>TATA STEEL</th><th scope=col>INDIAN</th><th scope=col>NTPC</th><th scope=col>BHARTI</th></tr></thead>\n",
       "<tbody>\n",
       "\t<tr><th scope=row>TATA AUTO</th><td>0.0009457837</td><td>2.679527e-04</td><td>0.0003780018</td><td>1.915930e-04</td><td>1.178336e-04</td><td>1.140694e-04</td><td>2.639769e-04</td><td>0.0005135660</td><td>1.846435e-04</td><td>2.271212e-04</td><td>2.326209e-04</td></tr>\n",
       "\t<tr><th scope=row>HDFC</th><td>0.0002679527</td><td>4.535896e-04</td><td>0.0003012964</td><td>1.220759e-04</td><td>9.894656e-05</td><td>1.000672e-04</td><td>1.829519e-04</td><td>0.0002947108</td><td>1.460357e-04</td><td>1.807425e-04</td><td>2.024354e-04</td></tr>\n",
       "\t<tr><th scope=row>LARSEN</th><td>0.0003780018</td><td>3.012964e-04</td><td>0.0006267129</td><td>1.786681e-04</td><td>1.163391e-04</td><td>9.808700e-05</td><td>2.200217e-04</td><td>0.0004313214</td><td>1.884761e-04</td><td>2.362783e-04</td><td>2.461578e-04</td></tr>\n",
       "\t<tr><th scope=row>TKK</th><td>0.0001915930</td><td>1.220759e-04</td><td>0.0001786681</td><td>9.397791e-04</td><td>7.857189e-05</td><td>4.571047e-05</td><td>1.009814e-04</td><td>0.0002122716</td><td>7.867681e-05</td><td>1.197445e-04</td><td>7.725312e-05</td></tr>\n",
       "\t<tr><th scope=row>DABUR</th><td>0.0001178336</td><td>9.894656e-05</td><td>0.0001163391</td><td>7.857189e-05</td><td>3.795513e-04</td><td>7.473666e-05</td><td>9.276535e-05</td><td>0.0001520999</td><td>8.666072e-05</td><td>1.037243e-04</td><td>7.559589e-05</td></tr>\n",
       "\t<tr><th scope=row>SUN</th><td>0.0001140694</td><td>1.000672e-04</td><td>0.0000980870</td><td>4.571047e-05</td><td>7.473666e-05</td><td>3.834138e-04</td><td>1.195650e-04</td><td>0.0001207438</td><td>3.606139e-05</td><td>8.179242e-05</td><td>8.678619e-05</td></tr>\n",
       "\t<tr><th scope=row>WIPRO</th><td>0.0002639769</td><td>1.829519e-04</td><td>0.0002200217</td><td>1.009814e-04</td><td>9.276535e-05</td><td>1.195650e-04</td><td>5.461926e-04</td><td>0.0002837002</td><td>9.638464e-05</td><td>1.556167e-04</td><td>1.801781e-04</td></tr>\n",
       "\t<tr><th scope=row>TATA STEEL</th><td>0.0005135660</td><td>2.947108e-04</td><td>0.0004313214</td><td>2.122716e-04</td><td>1.520999e-04</td><td>1.207438e-04</td><td>2.837002e-04</td><td>0.0009167059</td><td>1.828620e-04</td><td>2.657320e-04</td><td>2.706321e-04</td></tr>\n",
       "\t<tr><th scope=row>INDIAN</th><td>0.0001846435</td><td>1.460357e-04</td><td>0.0001884761</td><td>7.867681e-05</td><td>8.666072e-05</td><td>3.606139e-05</td><td>9.638464e-05</td><td>0.0001828620</td><td>5.427392e-04</td><td>1.636170e-04</td><td>1.310055e-04</td></tr>\n",
       "\t<tr><th scope=row>NTPC</th><td>0.0002271212</td><td>1.807425e-04</td><td>0.0002362783</td><td>1.197445e-04</td><td>1.037243e-04</td><td>8.179242e-05</td><td>1.556167e-04</td><td>0.0002657320</td><td>1.636170e-04</td><td>4.082624e-04</td><td>1.677862e-04</td></tr>\n",
       "\t<tr><th scope=row>BHARTI</th><td>0.0002326209</td><td>2.024354e-04</td><td>0.0002461578</td><td>7.725312e-05</td><td>7.559589e-05</td><td>8.678619e-05</td><td>1.801781e-04</td><td>0.0002706321</td><td>1.310055e-04</td><td>1.677862e-04</td><td>6.026498e-04</td></tr>\n",
       "</tbody>\n",
       "</table>\n"
      ],
      "text/latex": [
       "\\begin{tabular}{r|lllllllllll}\n",
       "  & TATA AUTO & HDFC & LARSEN & TKK & DABUR & SUN & WIPRO & TATA STEEL & INDIAN & NTPC & BHARTI\\\\\n",
       "\\hline\n",
       "\tTATA AUTO & 0.0009457837 & 2.679527e-04 & 0.0003780018 & 1.915930e-04 & 1.178336e-04 & 1.140694e-04 & 2.639769e-04 & 0.0005135660 & 1.846435e-04 & 2.271212e-04 & 2.326209e-04\\\\\n",
       "\tHDFC & 0.0002679527 & 4.535896e-04 & 0.0003012964 & 1.220759e-04 & 9.894656e-05 & 1.000672e-04 & 1.829519e-04 & 0.0002947108 & 1.460357e-04 & 1.807425e-04 & 2.024354e-04\\\\\n",
       "\tLARSEN & 0.0003780018 & 3.012964e-04 & 0.0006267129 & 1.786681e-04 & 1.163391e-04 & 9.808700e-05 & 2.200217e-04 & 0.0004313214 & 1.884761e-04 & 2.362783e-04 & 2.461578e-04\\\\\n",
       "\tTKK & 0.0001915930 & 1.220759e-04 & 0.0001786681 & 9.397791e-04 & 7.857189e-05 & 4.571047e-05 & 1.009814e-04 & 0.0002122716 & 7.867681e-05 & 1.197445e-04 & 7.725312e-05\\\\\n",
       "\tDABUR & 0.0001178336 & 9.894656e-05 & 0.0001163391 & 7.857189e-05 & 3.795513e-04 & 7.473666e-05 & 9.276535e-05 & 0.0001520999 & 8.666072e-05 & 1.037243e-04 & 7.559589e-05\\\\\n",
       "\tSUN & 0.0001140694 & 1.000672e-04 & 0.0000980870 & 4.571047e-05 & 7.473666e-05 & 3.834138e-04 & 1.195650e-04 & 0.0001207438 & 3.606139e-05 & 8.179242e-05 & 8.678619e-05\\\\\n",
       "\tWIPRO & 0.0002639769 & 1.829519e-04 & 0.0002200217 & 1.009814e-04 & 9.276535e-05 & 1.195650e-04 & 5.461926e-04 & 0.0002837002 & 9.638464e-05 & 1.556167e-04 & 1.801781e-04\\\\\n",
       "\tTATA STEEL & 0.0005135660 & 2.947108e-04 & 0.0004313214 & 2.122716e-04 & 1.520999e-04 & 1.207438e-04 & 2.837002e-04 & 0.0009167059 & 1.828620e-04 & 2.657320e-04 & 2.706321e-04\\\\\n",
       "\tINDIAN & 0.0001846435 & 1.460357e-04 & 0.0001884761 & 7.867681e-05 & 8.666072e-05 & 3.606139e-05 & 9.638464e-05 & 0.0001828620 & 5.427392e-04 & 1.636170e-04 & 1.310055e-04\\\\\n",
       "\tNTPC & 0.0002271212 & 1.807425e-04 & 0.0002362783 & 1.197445e-04 & 1.037243e-04 & 8.179242e-05 & 1.556167e-04 & 0.0002657320 & 1.636170e-04 & 4.082624e-04 & 1.677862e-04\\\\\n",
       "\tBHARTI & 0.0002326209 & 2.024354e-04 & 0.0002461578 & 7.725312e-05 & 7.559589e-05 & 8.678619e-05 & 1.801781e-04 & 0.0002706321 & 1.310055e-04 & 1.677862e-04 & 6.026498e-04\\\\\n",
       "\\end{tabular}\n"
      ],
      "text/markdown": [
       "\n",
       "| <!--/--> | TATA AUTO | HDFC | LARSEN | TKK | DABUR | SUN | WIPRO | TATA STEEL | INDIAN | NTPC | BHARTI |\n",
       "|---|---|---|---|---|---|---|---|---|---|---|---|\n",
       "| TATA AUTO | 0.0009457837 | 2.679527e-04 | 0.0003780018 | 1.915930e-04 | 1.178336e-04 | 1.140694e-04 | 2.639769e-04 | 0.0005135660 | 1.846435e-04 | 2.271212e-04 | 2.326209e-04 |\n",
       "| HDFC | 0.0002679527 | 4.535896e-04 | 0.0003012964 | 1.220759e-04 | 9.894656e-05 | 1.000672e-04 | 1.829519e-04 | 0.0002947108 | 1.460357e-04 | 1.807425e-04 | 2.024354e-04 |\n",
       "| LARSEN | 0.0003780018 | 3.012964e-04 | 0.0006267129 | 1.786681e-04 | 1.163391e-04 | 9.808700e-05 | 2.200217e-04 | 0.0004313214 | 1.884761e-04 | 2.362783e-04 | 2.461578e-04 |\n",
       "| TKK | 0.0001915930 | 1.220759e-04 | 0.0001786681 | 9.397791e-04 | 7.857189e-05 | 4.571047e-05 | 1.009814e-04 | 0.0002122716 | 7.867681e-05 | 1.197445e-04 | 7.725312e-05 |\n",
       "| DABUR | 0.0001178336 | 9.894656e-05 | 0.0001163391 | 7.857189e-05 | 3.795513e-04 | 7.473666e-05 | 9.276535e-05 | 0.0001520999 | 8.666072e-05 | 1.037243e-04 | 7.559589e-05 |\n",
       "| SUN | 0.0001140694 | 1.000672e-04 | 0.0000980870 | 4.571047e-05 | 7.473666e-05 | 3.834138e-04 | 1.195650e-04 | 0.0001207438 | 3.606139e-05 | 8.179242e-05 | 8.678619e-05 |\n",
       "| WIPRO | 0.0002639769 | 1.829519e-04 | 0.0002200217 | 1.009814e-04 | 9.276535e-05 | 1.195650e-04 | 5.461926e-04 | 0.0002837002 | 9.638464e-05 | 1.556167e-04 | 1.801781e-04 |\n",
       "| TATA STEEL | 0.0005135660 | 2.947108e-04 | 0.0004313214 | 2.122716e-04 | 1.520999e-04 | 1.207438e-04 | 2.837002e-04 | 0.0009167059 | 1.828620e-04 | 2.657320e-04 | 2.706321e-04 |\n",
       "| INDIAN | 0.0001846435 | 1.460357e-04 | 0.0001884761 | 7.867681e-05 | 8.666072e-05 | 3.606139e-05 | 9.638464e-05 | 0.0001828620 | 5.427392e-04 | 1.636170e-04 | 1.310055e-04 |\n",
       "| NTPC | 0.0002271212 | 1.807425e-04 | 0.0002362783 | 1.197445e-04 | 1.037243e-04 | 8.179242e-05 | 1.556167e-04 | 0.0002657320 | 1.636170e-04 | 4.082624e-04 | 1.677862e-04 |\n",
       "| BHARTI | 0.0002326209 | 2.024354e-04 | 0.0002461578 | 7.725312e-05 | 7.559589e-05 | 8.678619e-05 | 1.801781e-04 | 0.0002706321 | 1.310055e-04 | 1.677862e-04 | 6.026498e-04 |\n",
       "\n"
      ],
      "text/plain": [
       "           TATA AUTO    HDFC         LARSEN       TKK          DABUR       \n",
       "TATA AUTO  0.0009457837 2.679527e-04 0.0003780018 1.915930e-04 1.178336e-04\n",
       "HDFC       0.0002679527 4.535896e-04 0.0003012964 1.220759e-04 9.894656e-05\n",
       "LARSEN     0.0003780018 3.012964e-04 0.0006267129 1.786681e-04 1.163391e-04\n",
       "TKK        0.0001915930 1.220759e-04 0.0001786681 9.397791e-04 7.857189e-05\n",
       "DABUR      0.0001178336 9.894656e-05 0.0001163391 7.857189e-05 3.795513e-04\n",
       "SUN        0.0001140694 1.000672e-04 0.0000980870 4.571047e-05 7.473666e-05\n",
       "WIPRO      0.0002639769 1.829519e-04 0.0002200217 1.009814e-04 9.276535e-05\n",
       "TATA STEEL 0.0005135660 2.947108e-04 0.0004313214 2.122716e-04 1.520999e-04\n",
       "INDIAN     0.0001846435 1.460357e-04 0.0001884761 7.867681e-05 8.666072e-05\n",
       "NTPC       0.0002271212 1.807425e-04 0.0002362783 1.197445e-04 1.037243e-04\n",
       "BHARTI     0.0002326209 2.024354e-04 0.0002461578 7.725312e-05 7.559589e-05\n",
       "           SUN          WIPRO        TATA STEEL   INDIAN       NTPC        \n",
       "TATA AUTO  1.140694e-04 2.639769e-04 0.0005135660 1.846435e-04 2.271212e-04\n",
       "HDFC       1.000672e-04 1.829519e-04 0.0002947108 1.460357e-04 1.807425e-04\n",
       "LARSEN     9.808700e-05 2.200217e-04 0.0004313214 1.884761e-04 2.362783e-04\n",
       "TKK        4.571047e-05 1.009814e-04 0.0002122716 7.867681e-05 1.197445e-04\n",
       "DABUR      7.473666e-05 9.276535e-05 0.0001520999 8.666072e-05 1.037243e-04\n",
       "SUN        3.834138e-04 1.195650e-04 0.0001207438 3.606139e-05 8.179242e-05\n",
       "WIPRO      1.195650e-04 5.461926e-04 0.0002837002 9.638464e-05 1.556167e-04\n",
       "TATA STEEL 1.207438e-04 2.837002e-04 0.0009167059 1.828620e-04 2.657320e-04\n",
       "INDIAN     3.606139e-05 9.638464e-05 0.0001828620 5.427392e-04 1.636170e-04\n",
       "NTPC       8.179242e-05 1.556167e-04 0.0002657320 1.636170e-04 4.082624e-04\n",
       "BHARTI     8.678619e-05 1.801781e-04 0.0002706321 1.310055e-04 1.677862e-04\n",
       "           BHARTI      \n",
       "TATA AUTO  2.326209e-04\n",
       "HDFC       2.024354e-04\n",
       "LARSEN     2.461578e-04\n",
       "TKK        7.725312e-05\n",
       "DABUR      7.559589e-05\n",
       "SUN        8.678619e-05\n",
       "WIPRO      1.801781e-04\n",
       "TATA STEEL 2.706321e-04\n",
       "INDIAN     1.310055e-04\n",
       "NTPC       1.677862e-04\n",
       "BHARTI     6.026498e-04"
      ]
     },
     "metadata": {},
     "output_type": "display_data"
    }
   ],
   "source": [
    "objectveMatrix=cov(SimpleRet_df[stockNames])\n",
    "objectveMatrix"
   ]
  },
  {
   "cell_type": "code",
   "execution_count": 128,
   "metadata": {},
   "outputs": [
    {
     "data": {
      "text/html": [
       "<ol class=list-inline>\n",
       "\t<li>0</li>\n",
       "\t<li>0</li>\n",
       "\t<li>0</li>\n",
       "\t<li>0</li>\n",
       "\t<li>0</li>\n",
       "\t<li>0</li>\n",
       "\t<li>0</li>\n",
       "\t<li>0</li>\n",
       "\t<li>0</li>\n",
       "\t<li>0</li>\n",
       "\t<li>0</li>\n",
       "</ol>\n"
      ],
      "text/latex": [
       "\\begin{enumerate*}\n",
       "\\item 0\n",
       "\\item 0\n",
       "\\item 0\n",
       "\\item 0\n",
       "\\item 0\n",
       "\\item 0\n",
       "\\item 0\n",
       "\\item 0\n",
       "\\item 0\n",
       "\\item 0\n",
       "\\item 0\n",
       "\\end{enumerate*}\n"
      ],
      "text/markdown": [
       "1. 0\n",
       "2. 0\n",
       "3. 0\n",
       "4. 0\n",
       "5. 0\n",
       "6. 0\n",
       "7. 0\n",
       "8. 0\n",
       "9. 0\n",
       "10. 0\n",
       "11. 0\n",
       "\n",
       "\n"
      ],
      "text/plain": [
       " [1] 0 0 0 0 0 0 0 0 0 0 0"
      ]
     },
     "metadata": {},
     "output_type": "display_data"
    }
   ],
   "source": [
    "objectiveVectorQuad=rep(0,n) # n zeros\n",
    "objectiveVectorQuad"
   ]
  },
  {
   "cell_type": "code",
   "execution_count": 129,
   "metadata": {},
   "outputs": [
    {
     "data": {
      "text/html": [
       "<table>\n",
       "<tbody>\n",
       "\t<tr><td>1</td><td>1</td><td>1</td><td>1</td><td>1</td><td>1</td><td>1</td><td>1</td><td>1</td><td>1</td><td>1</td></tr>\n",
       "</tbody>\n",
       "</table>\n"
      ],
      "text/latex": [
       "\\begin{tabular}{lllllllllll}\n",
       "\t 1 & 1 & 1 & 1 & 1 & 1 & 1 & 1 & 1 & 1 & 1\\\\\n",
       "\\end{tabular}\n"
      ],
      "text/markdown": [
       "\n",
       "| 1 | 1 | 1 | 1 | 1 | 1 | 1 | 1 | 1 | 1 | 1 |\n",
       "\n"
      ],
      "text/plain": [
       "     [,1] [,2] [,3] [,4] [,5] [,6] [,7] [,8] [,9] [,10] [,11]\n",
       "[1,] 1    1    1    1    1    1    1    1    1    1     1    "
      ]
     },
     "metadata": {},
     "output_type": "display_data"
    }
   ],
   "source": [
    "# Constraints\n",
    "constraintMatrixQuadRow1 = matrix(1,1,n)\n",
    "constraintMatrixQuadRow1"
   ]
  },
  {
   "cell_type": "code",
   "execution_count": 130,
   "metadata": {},
   "outputs": [
    {
     "data": {
      "text/html": [
       "<table>\n",
       "<tbody>\n",
       "\t<tr><td>0.001412376  </td><td>0.0008967399 </td><td>0.0004102782 </td><td>0.002180832  </td><td>0.001057902  </td><td>0.001490284  </td><td>0.0006893665 </td><td>7.333185e-05 </td><td>0.0002904934 </td><td>-2.990877e-05</td><td>0.0001326445 </td></tr>\n",
       "</tbody>\n",
       "</table>\n"
      ],
      "text/latex": [
       "\\begin{tabular}{lllllllllll}\n",
       "\t 0.001412376   & 0.0008967399  & 0.0004102782  & 0.002180832   & 0.001057902   & 0.001490284   & 0.0006893665  & 7.333185e-05  & 0.0002904934  & -2.990877e-05 & 0.0001326445 \\\\\n",
       "\\end{tabular}\n"
      ],
      "text/markdown": [
       "\n",
       "| 0.001412376   | 0.0008967399  | 0.0004102782  | 0.002180832   | 0.001057902   | 0.001490284   | 0.0006893665  | 7.333185e-05  | 0.0002904934  | -2.990877e-05 | 0.0001326445  |\n",
       "\n"
      ],
      "text/plain": [
       "     [,1]        [,2]         [,3]         [,4]        [,5]        [,6]       \n",
       "[1,] 0.001412376 0.0008967399 0.0004102782 0.002180832 0.001057902 0.001490284\n",
       "     [,7]         [,8]         [,9]         [,10]         [,11]       \n",
       "[1,] 0.0006893665 7.333185e-05 0.0002904934 -2.990877e-05 0.0001326445"
      ]
     },
     "metadata": {},
     "output_type": "display_data"
    }
   ],
   "source": [
    "constraintMatrixQuadRow2 = expectedReturn\n",
    "constraintMatrixQuadRow2"
   ]
  },
  {
   "cell_type": "code",
   "execution_count": 134,
   "metadata": {},
   "outputs": [
    {
     "data": {
      "text/html": [
       "<table>\n",
       "<tbody>\n",
       "\t<tr><td>1.000000000  </td><td>1.0000000000 </td><td>1.0000000000 </td><td>1.000000000  </td><td>1.000000000  </td><td>1.000000000  </td><td>1.0000000000 </td><td>1.000000e+00 </td><td>1.0000000000 </td><td> 1.000000e+00</td><td>1.0000000000 </td></tr>\n",
       "\t<tr><td>0.001412376  </td><td>0.0008967399 </td><td>0.0004102782 </td><td>0.002180832  </td><td>0.001057902  </td><td>0.001490284  </td><td>0.0006893665 </td><td>7.333185e-05 </td><td>0.0002904934 </td><td>-2.990877e-05</td><td>0.0001326445 </td></tr>\n",
       "</tbody>\n",
       "</table>\n"
      ],
      "text/latex": [
       "\\begin{tabular}{lllllllllll}\n",
       "\t 1.000000000   & 1.0000000000  & 1.0000000000  & 1.000000000   & 1.000000000   & 1.000000000   & 1.0000000000  & 1.000000e+00  & 1.0000000000  &  1.000000e+00 & 1.0000000000 \\\\\n",
       "\t 0.001412376   & 0.0008967399  & 0.0004102782  & 0.002180832   & 0.001057902   & 0.001490284   & 0.0006893665  & 7.333185e-05  & 0.0002904934  & -2.990877e-05 & 0.0001326445 \\\\\n",
       "\\end{tabular}\n"
      ],
      "text/markdown": [
       "\n",
       "| 1.000000000   | 1.0000000000  | 1.0000000000  | 1.000000000   | 1.000000000   | 1.000000000   | 1.0000000000  | 1.000000e+00  | 1.0000000000  |  1.000000e+00 | 1.0000000000  |\n",
       "| 0.001412376   | 0.0008967399  | 0.0004102782  | 0.002180832   | 0.001057902   | 0.001490284   | 0.0006893665  | 7.333185e-05  | 0.0002904934  | -2.990877e-05 | 0.0001326445  |\n",
       "\n"
      ],
      "text/plain": [
       "     [,1]        [,2]         [,3]         [,4]        [,5]        [,6]       \n",
       "[1,] 1.000000000 1.0000000000 1.0000000000 1.000000000 1.000000000 1.000000000\n",
       "[2,] 0.001412376 0.0008967399 0.0004102782 0.002180832 0.001057902 0.001490284\n",
       "     [,7]         [,8]         [,9]         [,10]         [,11]       \n",
       "[1,] 1.0000000000 1.000000e+00 1.0000000000  1.000000e+00 1.0000000000\n",
       "[2,] 0.0006893665 7.333185e-05 0.0002904934 -2.990877e-05 0.0001326445"
      ]
     },
     "metadata": {},
     "output_type": "display_data"
    }
   ],
   "source": [
    "# left hand side\n",
    "constraintMatrixQuadCombined = rbind(constraintMatrixQuadRow1,constraintMatrixQuadRow2)\n",
    "constraintMatrixQuadCombined"
   ]
  },
  {
   "cell_type": "code",
   "execution_count": 135,
   "metadata": {},
   "outputs": [],
   "source": [
    "# columnwise\n",
    "constraintMatrixQuadCombined = t(constraintMatrixQuadCombined) #transpose"
   ]
  },
  {
   "cell_type": "code",
   "execution_count": 136,
   "metadata": {},
   "outputs": [
    {
     "data": {
      "text/html": [
       "<table>\n",
       "<tbody>\n",
       "\t<tr><td>1            </td><td> 1.412376e-03</td></tr>\n",
       "\t<tr><td>1            </td><td> 8.967399e-04</td></tr>\n",
       "\t<tr><td>1            </td><td> 4.102782e-04</td></tr>\n",
       "\t<tr><td>1            </td><td> 2.180832e-03</td></tr>\n",
       "\t<tr><td>1            </td><td> 1.057902e-03</td></tr>\n",
       "\t<tr><td>1            </td><td> 1.490284e-03</td></tr>\n",
       "\t<tr><td>1            </td><td> 6.893665e-04</td></tr>\n",
       "\t<tr><td>1            </td><td> 7.333185e-05</td></tr>\n",
       "\t<tr><td>1            </td><td> 2.904934e-04</td></tr>\n",
       "\t<tr><td>1            </td><td>-2.990877e-05</td></tr>\n",
       "\t<tr><td>1            </td><td> 1.326445e-04</td></tr>\n",
       "</tbody>\n",
       "</table>\n"
      ],
      "text/latex": [
       "\\begin{tabular}{ll}\n",
       "\t 1             &  1.412376e-03\\\\\n",
       "\t 1             &  8.967399e-04\\\\\n",
       "\t 1             &  4.102782e-04\\\\\n",
       "\t 1             &  2.180832e-03\\\\\n",
       "\t 1             &  1.057902e-03\\\\\n",
       "\t 1             &  1.490284e-03\\\\\n",
       "\t 1             &  6.893665e-04\\\\\n",
       "\t 1             &  7.333185e-05\\\\\n",
       "\t 1             &  2.904934e-04\\\\\n",
       "\t 1             & -2.990877e-05\\\\\n",
       "\t 1             &  1.326445e-04\\\\\n",
       "\\end{tabular}\n"
      ],
      "text/markdown": [
       "\n",
       "| 1             |  1.412376e-03 |\n",
       "| 1             |  8.967399e-04 |\n",
       "| 1             |  4.102782e-04 |\n",
       "| 1             |  2.180832e-03 |\n",
       "| 1             |  1.057902e-03 |\n",
       "| 1             |  1.490284e-03 |\n",
       "| 1             |  6.893665e-04 |\n",
       "| 1             |  7.333185e-05 |\n",
       "| 1             |  2.904934e-04 |\n",
       "| 1             | -2.990877e-05 |\n",
       "| 1             |  1.326445e-04 |\n",
       "\n"
      ],
      "text/plain": [
       "      [,1] [,2]         \n",
       " [1,] 1     1.412376e-03\n",
       " [2,] 1     8.967399e-04\n",
       " [3,] 1     4.102782e-04\n",
       " [4,] 1     2.180832e-03\n",
       " [5,] 1     1.057902e-03\n",
       " [6,] 1     1.490284e-03\n",
       " [7,] 1     6.893665e-04\n",
       " [8,] 1     7.333185e-05\n",
       " [9,] 1     2.904934e-04\n",
       "[10,] 1    -2.990877e-05\n",
       "[11,] 1     1.326445e-04"
      ]
     },
     "metadata": {},
     "output_type": "display_data"
    }
   ],
   "source": [
    "constraintMatrixQuadCombined"
   ]
  },
  {
   "cell_type": "code",
   "execution_count": 144,
   "metadata": {},
   "outputs": [
    {
     "data": {
      "text/html": [
       "<ol class=list-inline>\n",
       "\t<li>1</li>\n",
       "\t<li>0.005</li>\n",
       "</ol>\n"
      ],
      "text/latex": [
       "\\begin{enumerate*}\n",
       "\\item 1\n",
       "\\item 0.005\n",
       "\\end{enumerate*}\n"
      ],
      "text/markdown": [
       "1. 1\n",
       "2. 0.005\n",
       "\n",
       "\n"
      ],
      "text/plain": [
       "[1] 1.000 0.005"
      ]
     },
     "metadata": {},
     "output_type": "display_data"
    }
   ],
   "source": [
    "# right hand side\n",
    "constraintVectorQuadCombined=c(1,0.005)\n",
    "constraintVectorQuadCombined"
   ]
  },
  {
   "cell_type": "code",
   "execution_count": 145,
   "metadata": {},
   "outputs": [],
   "source": [
    "# Number of equality constraints\n",
    "numEqualityConstraints=1"
   ]
  },
  {
   "cell_type": "code",
   "execution_count": 146,
   "metadata": {},
   "outputs": [],
   "source": [
    "# Solve Quadratic Problem\n",
    "# Dmat = covariance matrix (i.e. Quadratic term in objective function)\n",
    "# dvec = Linear Term in objective function - here all zeroes\n",
    "# Amat = Left Hand Side (LHS) constraints\n",
    "# bvec = Right Hand Side (RHS) constraints\n",
    "# meq = Number of equality constraints\n",
    "\n",
    "solutionQuad <- solve.QP(Dmat=objectveMatrix, \n",
    "                         dvec = objectiveVectorQuad,\n",
    "                        Amat = constraintMatrixQuadCombined,\n",
    "                        bvec = constraintVectorQuadCombined,\n",
    "                        meq=numEqualityConstraints)"
   ]
  },
  {
   "cell_type": "code",
   "execution_count": 147,
   "metadata": {},
   "outputs": [
    {
     "data": {
      "text/html": [
       "<ol class=list-inline>\n",
       "\t<li>0.696245058645846</li>\n",
       "\t<li>0.542841342479924</li>\n",
       "\t<li>-0.246169313749505</li>\n",
       "\t<li>0.778552774514722</li>\n",
       "\t<li>0.515172696846817</li>\n",
       "\t<li>1.02540772935889</li>\n",
       "\t<li>-0.0306377224076998</li>\n",
       "\t<li>-0.635841572169094</li>\n",
       "\t<li>-0.188970443151364</li>\n",
       "\t<li>-1.08062717258329</li>\n",
       "\t<li>-0.375973377785243</li>\n",
       "</ol>\n"
      ],
      "text/latex": [
       "\\begin{enumerate*}\n",
       "\\item 0.696245058645846\n",
       "\\item 0.542841342479924\n",
       "\\item -0.246169313749505\n",
       "\\item 0.778552774514722\n",
       "\\item 0.515172696846817\n",
       "\\item 1.02540772935889\n",
       "\\item -0.0306377224076998\n",
       "\\item -0.635841572169094\n",
       "\\item -0.188970443151364\n",
       "\\item -1.08062717258329\n",
       "\\item -0.375973377785243\n",
       "\\end{enumerate*}\n"
      ],
      "text/markdown": [
       "1. 0.696245058645846\n",
       "2. 0.542841342479924\n",
       "3. -0.246169313749505\n",
       "4. 0.778552774514722\n",
       "5. 0.515172696846817\n",
       "6. 1.02540772935889\n",
       "7. -0.0306377224076998\n",
       "8. -0.635841572169094\n",
       "9. -0.188970443151364\n",
       "10. -1.08062717258329\n",
       "11. -0.375973377785243\n",
       "\n",
       "\n"
      ],
      "text/plain": [
       " [1]  0.69624506  0.54284134 -0.24616931  0.77855277  0.51517270  1.02540773\n",
       " [7] -0.03063772 -0.63584157 -0.18897044 -1.08062717 -0.37597338"
      ]
     },
     "metadata": {},
     "output_type": "display_data"
    }
   ],
   "source": [
    "# Results: Optimal Values of decision variables\n",
    "weightsQuad=solutionQuad$solution\n",
    "weightsQuad"
   ]
  },
  {
   "cell_type": "code",
   "execution_count": 148,
   "metadata": {},
   "outputs": [
    {
     "data": {
      "text/html": [
       "1"
      ],
      "text/latex": [
       "1"
      ],
      "text/markdown": [
       "1"
      ],
      "text/plain": [
       "[1] 1"
      ]
     },
     "metadata": {},
     "output_type": "display_data"
    }
   ],
   "source": [
    "sum(weightsQuad)"
   ]
  },
  {
   "cell_type": "markdown",
   "metadata": {},
   "source": [
    "![title](img/qer8.png)"
   ]
  },
  {
   "cell_type": "code",
   "execution_count": 149,
   "metadata": {},
   "outputs": [
    {
     "data": {
      "text/html": [
       "<table>\n",
       "<tbody>\n",
       "\t<tr><td>0.001866637</td></tr>\n",
       "</tbody>\n",
       "</table>\n"
      ],
      "text/latex": [
       "\\begin{tabular}{l}\n",
       "\t 0.001866637\\\\\n",
       "\\end{tabular}\n"
      ],
      "text/markdown": [
       "\n",
       "| 0.001866637 |\n",
       "\n"
      ],
      "text/plain": [
       "     [,1]       \n",
       "[1,] 0.001866637"
      ]
     },
     "metadata": {},
     "output_type": "display_data"
    }
   ],
   "source": [
    "# Forecast Variance of daily Return\n",
    "portfolioRiskQuad <- t(weightsQuad) %*% cov(SimpleRet_df[stockNames]) %*% weightsQuad\n",
    "portfolioRiskQuad"
   ]
  },
  {
   "cell_type": "code",
   "execution_count": 150,
   "metadata": {},
   "outputs": [
    {
     "data": {
      "text/html": [
       "<table>\n",
       "<tbody>\n",
       "\t<tr><td>0.005</td></tr>\n",
       "</tbody>\n",
       "</table>\n"
      ],
      "text/latex": [
       "\\begin{tabular}{l}\n",
       "\t 0.005\\\\\n",
       "\\end{tabular}\n"
      ],
      "text/markdown": [
       "\n",
       "| 0.005 |\n",
       "\n"
      ],
      "text/plain": [
       "     [,1] \n",
       "[1,] 0.005"
      ]
     },
     "metadata": {},
     "output_type": "display_data"
    }
   ],
   "source": [
    "# Expected Portfolio Return\n",
    "portfolioReturnQuad=expectedReturn %*% weightsQuad\n",
    "portfolioReturnQuad"
   ]
  },
  {
   "cell_type": "markdown",
   "metadata": {},
   "source": [
    "![text](img/qer9.png)"
   ]
  },
  {
   "cell_type": "code",
   "execution_count": 151,
   "metadata": {},
   "outputs": [
    {
     "data": {
      "text/html": [
       "<table>\n",
       "<tbody>\n",
       "\t<tr><td>1</td><td>0</td><td>0</td><td>0</td><td>0</td><td>0</td><td>0</td><td>0</td><td>0</td><td>0</td><td>0</td></tr>\n",
       "\t<tr><td>0</td><td>1</td><td>0</td><td>0</td><td>0</td><td>0</td><td>0</td><td>0</td><td>0</td><td>0</td><td>0</td></tr>\n",
       "\t<tr><td>0</td><td>0</td><td>1</td><td>0</td><td>0</td><td>0</td><td>0</td><td>0</td><td>0</td><td>0</td><td>0</td></tr>\n",
       "\t<tr><td>0</td><td>0</td><td>0</td><td>1</td><td>0</td><td>0</td><td>0</td><td>0</td><td>0</td><td>0</td><td>0</td></tr>\n",
       "\t<tr><td>0</td><td>0</td><td>0</td><td>0</td><td>1</td><td>0</td><td>0</td><td>0</td><td>0</td><td>0</td><td>0</td></tr>\n",
       "\t<tr><td>0</td><td>0</td><td>0</td><td>0</td><td>0</td><td>1</td><td>0</td><td>0</td><td>0</td><td>0</td><td>0</td></tr>\n",
       "\t<tr><td>0</td><td>0</td><td>0</td><td>0</td><td>0</td><td>0</td><td>1</td><td>0</td><td>0</td><td>0</td><td>0</td></tr>\n",
       "\t<tr><td>0</td><td>0</td><td>0</td><td>0</td><td>0</td><td>0</td><td>0</td><td>1</td><td>0</td><td>0</td><td>0</td></tr>\n",
       "\t<tr><td>0</td><td>0</td><td>0</td><td>0</td><td>0</td><td>0</td><td>0</td><td>0</td><td>1</td><td>0</td><td>0</td></tr>\n",
       "\t<tr><td>0</td><td>0</td><td>0</td><td>0</td><td>0</td><td>0</td><td>0</td><td>0</td><td>0</td><td>1</td><td>0</td></tr>\n",
       "\t<tr><td>0</td><td>0</td><td>0</td><td>0</td><td>0</td><td>0</td><td>0</td><td>0</td><td>0</td><td>0</td><td>1</td></tr>\n",
       "</tbody>\n",
       "</table>\n"
      ],
      "text/latex": [
       "\\begin{tabular}{lllllllllll}\n",
       "\t 1 & 0 & 0 & 0 & 0 & 0 & 0 & 0 & 0 & 0 & 0\\\\\n",
       "\t 0 & 1 & 0 & 0 & 0 & 0 & 0 & 0 & 0 & 0 & 0\\\\\n",
       "\t 0 & 0 & 1 & 0 & 0 & 0 & 0 & 0 & 0 & 0 & 0\\\\\n",
       "\t 0 & 0 & 0 & 1 & 0 & 0 & 0 & 0 & 0 & 0 & 0\\\\\n",
       "\t 0 & 0 & 0 & 0 & 1 & 0 & 0 & 0 & 0 & 0 & 0\\\\\n",
       "\t 0 & 0 & 0 & 0 & 0 & 1 & 0 & 0 & 0 & 0 & 0\\\\\n",
       "\t 0 & 0 & 0 & 0 & 0 & 0 & 1 & 0 & 0 & 0 & 0\\\\\n",
       "\t 0 & 0 & 0 & 0 & 0 & 0 & 0 & 1 & 0 & 0 & 0\\\\\n",
       "\t 0 & 0 & 0 & 0 & 0 & 0 & 0 & 0 & 1 & 0 & 0\\\\\n",
       "\t 0 & 0 & 0 & 0 & 0 & 0 & 0 & 0 & 0 & 1 & 0\\\\\n",
       "\t 0 & 0 & 0 & 0 & 0 & 0 & 0 & 0 & 0 & 0 & 1\\\\\n",
       "\\end{tabular}\n"
      ],
      "text/markdown": [
       "\n",
       "| 1 | 0 | 0 | 0 | 0 | 0 | 0 | 0 | 0 | 0 | 0 |\n",
       "| 0 | 1 | 0 | 0 | 0 | 0 | 0 | 0 | 0 | 0 | 0 |\n",
       "| 0 | 0 | 1 | 0 | 0 | 0 | 0 | 0 | 0 | 0 | 0 |\n",
       "| 0 | 0 | 0 | 1 | 0 | 0 | 0 | 0 | 0 | 0 | 0 |\n",
       "| 0 | 0 | 0 | 0 | 1 | 0 | 0 | 0 | 0 | 0 | 0 |\n",
       "| 0 | 0 | 0 | 0 | 0 | 1 | 0 | 0 | 0 | 0 | 0 |\n",
       "| 0 | 0 | 0 | 0 | 0 | 0 | 1 | 0 | 0 | 0 | 0 |\n",
       "| 0 | 0 | 0 | 0 | 0 | 0 | 0 | 1 | 0 | 0 | 0 |\n",
       "| 0 | 0 | 0 | 0 | 0 | 0 | 0 | 0 | 1 | 0 | 0 |\n",
       "| 0 | 0 | 0 | 0 | 0 | 0 | 0 | 0 | 0 | 1 | 0 |\n",
       "| 0 | 0 | 0 | 0 | 0 | 0 | 0 | 0 | 0 | 0 | 1 |\n",
       "\n"
      ],
      "text/plain": [
       "      [,1] [,2] [,3] [,4] [,5] [,6] [,7] [,8] [,9] [,10] [,11]\n",
       " [1,] 1    0    0    0    0    0    0    0    0    0     0    \n",
       " [2,] 0    1    0    0    0    0    0    0    0    0     0    \n",
       " [3,] 0    0    1    0    0    0    0    0    0    0     0    \n",
       " [4,] 0    0    0    1    0    0    0    0    0    0     0    \n",
       " [5,] 0    0    0    0    1    0    0    0    0    0     0    \n",
       " [6,] 0    0    0    0    0    1    0    0    0    0     0    \n",
       " [7,] 0    0    0    0    0    0    1    0    0    0     0    \n",
       " [8,] 0    0    0    0    0    0    0    1    0    0     0    \n",
       " [9,] 0    0    0    0    0    0    0    0    1    0     0    \n",
       "[10,] 0    0    0    0    0    0    0    0    0    1     0    \n",
       "[11,] 0    0    0    0    0    0    0    0    0    0     1    "
      ]
     },
     "metadata": {},
     "output_type": "display_data"
    }
   ],
   "source": [
    "# DO NOT ALLOW SHORT SELLING\n",
    "# LHS of non-negativity constraints\n",
    "constraintMatrixQuadLongOnlyRow1 =diag(n)\n",
    "constraintMatrixQuadLongOnlyRow1"
   ]
  },
  {
   "cell_type": "code",
   "execution_count": 152,
   "metadata": {},
   "outputs": [
    {
     "data": {
      "text/html": [
       "<table>\n",
       "<tbody>\n",
       "\t<tr><td>1.000000000  </td><td>1.0000000000 </td><td>1.0000000000 </td><td>1.000000000  </td><td>1.000000000  </td><td>1.000000000  </td><td>1.0000000000 </td><td>1.000000e+00 </td><td>1.0000000000 </td><td> 1.000000e+00</td><td>1.0000000000 </td></tr>\n",
       "\t<tr><td>0.001412376  </td><td>0.0008967399 </td><td>0.0004102782 </td><td>0.002180832  </td><td>0.001057902  </td><td>0.001490284  </td><td>0.0006893665 </td><td>7.333185e-05 </td><td>0.0002904934 </td><td>-2.990877e-05</td><td>0.0001326445 </td></tr>\n",
       "\t<tr><td>1.000000000  </td><td>0.0000000000 </td><td>0.0000000000 </td><td>0.000000000  </td><td>0.000000000  </td><td>0.000000000  </td><td>0.0000000000 </td><td>0.000000e+00 </td><td>0.0000000000 </td><td> 0.000000e+00</td><td>0.0000000000 </td></tr>\n",
       "\t<tr><td>0.000000000  </td><td>1.0000000000 </td><td>0.0000000000 </td><td>0.000000000  </td><td>0.000000000  </td><td>0.000000000  </td><td>0.0000000000 </td><td>0.000000e+00 </td><td>0.0000000000 </td><td> 0.000000e+00</td><td>0.0000000000 </td></tr>\n",
       "\t<tr><td>0.000000000  </td><td>0.0000000000 </td><td>1.0000000000 </td><td>0.000000000  </td><td>0.000000000  </td><td>0.000000000  </td><td>0.0000000000 </td><td>0.000000e+00 </td><td>0.0000000000 </td><td> 0.000000e+00</td><td>0.0000000000 </td></tr>\n",
       "\t<tr><td>0.000000000  </td><td>0.0000000000 </td><td>0.0000000000 </td><td>1.000000000  </td><td>0.000000000  </td><td>0.000000000  </td><td>0.0000000000 </td><td>0.000000e+00 </td><td>0.0000000000 </td><td> 0.000000e+00</td><td>0.0000000000 </td></tr>\n",
       "\t<tr><td>0.000000000  </td><td>0.0000000000 </td><td>0.0000000000 </td><td>0.000000000  </td><td>1.000000000  </td><td>0.000000000  </td><td>0.0000000000 </td><td>0.000000e+00 </td><td>0.0000000000 </td><td> 0.000000e+00</td><td>0.0000000000 </td></tr>\n",
       "\t<tr><td>0.000000000  </td><td>0.0000000000 </td><td>0.0000000000 </td><td>0.000000000  </td><td>0.000000000  </td><td>1.000000000  </td><td>0.0000000000 </td><td>0.000000e+00 </td><td>0.0000000000 </td><td> 0.000000e+00</td><td>0.0000000000 </td></tr>\n",
       "\t<tr><td>0.000000000  </td><td>0.0000000000 </td><td>0.0000000000 </td><td>0.000000000  </td><td>0.000000000  </td><td>0.000000000  </td><td>1.0000000000 </td><td>0.000000e+00 </td><td>0.0000000000 </td><td> 0.000000e+00</td><td>0.0000000000 </td></tr>\n",
       "\t<tr><td>0.000000000  </td><td>0.0000000000 </td><td>0.0000000000 </td><td>0.000000000  </td><td>0.000000000  </td><td>0.000000000  </td><td>0.0000000000 </td><td>1.000000e+00 </td><td>0.0000000000 </td><td> 0.000000e+00</td><td>0.0000000000 </td></tr>\n",
       "\t<tr><td>0.000000000  </td><td>0.0000000000 </td><td>0.0000000000 </td><td>0.000000000  </td><td>0.000000000  </td><td>0.000000000  </td><td>0.0000000000 </td><td>0.000000e+00 </td><td>1.0000000000 </td><td> 0.000000e+00</td><td>0.0000000000 </td></tr>\n",
       "\t<tr><td>0.000000000  </td><td>0.0000000000 </td><td>0.0000000000 </td><td>0.000000000  </td><td>0.000000000  </td><td>0.000000000  </td><td>0.0000000000 </td><td>0.000000e+00 </td><td>0.0000000000 </td><td> 1.000000e+00</td><td>0.0000000000 </td></tr>\n",
       "\t<tr><td>0.000000000  </td><td>0.0000000000 </td><td>0.0000000000 </td><td>0.000000000  </td><td>0.000000000  </td><td>0.000000000  </td><td>0.0000000000 </td><td>0.000000e+00 </td><td>0.0000000000 </td><td> 0.000000e+00</td><td>1.0000000000 </td></tr>\n",
       "</tbody>\n",
       "</table>\n"
      ],
      "text/latex": [
       "\\begin{tabular}{lllllllllll}\n",
       "\t 1.000000000   & 1.0000000000  & 1.0000000000  & 1.000000000   & 1.000000000   & 1.000000000   & 1.0000000000  & 1.000000e+00  & 1.0000000000  &  1.000000e+00 & 1.0000000000 \\\\\n",
       "\t 0.001412376   & 0.0008967399  & 0.0004102782  & 0.002180832   & 0.001057902   & 0.001490284   & 0.0006893665  & 7.333185e-05  & 0.0002904934  & -2.990877e-05 & 0.0001326445 \\\\\n",
       "\t 1.000000000   & 0.0000000000  & 0.0000000000  & 0.000000000   & 0.000000000   & 0.000000000   & 0.0000000000  & 0.000000e+00  & 0.0000000000  &  0.000000e+00 & 0.0000000000 \\\\\n",
       "\t 0.000000000   & 1.0000000000  & 0.0000000000  & 0.000000000   & 0.000000000   & 0.000000000   & 0.0000000000  & 0.000000e+00  & 0.0000000000  &  0.000000e+00 & 0.0000000000 \\\\\n",
       "\t 0.000000000   & 0.0000000000  & 1.0000000000  & 0.000000000   & 0.000000000   & 0.000000000   & 0.0000000000  & 0.000000e+00  & 0.0000000000  &  0.000000e+00 & 0.0000000000 \\\\\n",
       "\t 0.000000000   & 0.0000000000  & 0.0000000000  & 1.000000000   & 0.000000000   & 0.000000000   & 0.0000000000  & 0.000000e+00  & 0.0000000000  &  0.000000e+00 & 0.0000000000 \\\\\n",
       "\t 0.000000000   & 0.0000000000  & 0.0000000000  & 0.000000000   & 1.000000000   & 0.000000000   & 0.0000000000  & 0.000000e+00  & 0.0000000000  &  0.000000e+00 & 0.0000000000 \\\\\n",
       "\t 0.000000000   & 0.0000000000  & 0.0000000000  & 0.000000000   & 0.000000000   & 1.000000000   & 0.0000000000  & 0.000000e+00  & 0.0000000000  &  0.000000e+00 & 0.0000000000 \\\\\n",
       "\t 0.000000000   & 0.0000000000  & 0.0000000000  & 0.000000000   & 0.000000000   & 0.000000000   & 1.0000000000  & 0.000000e+00  & 0.0000000000  &  0.000000e+00 & 0.0000000000 \\\\\n",
       "\t 0.000000000   & 0.0000000000  & 0.0000000000  & 0.000000000   & 0.000000000   & 0.000000000   & 0.0000000000  & 1.000000e+00  & 0.0000000000  &  0.000000e+00 & 0.0000000000 \\\\\n",
       "\t 0.000000000   & 0.0000000000  & 0.0000000000  & 0.000000000   & 0.000000000   & 0.000000000   & 0.0000000000  & 0.000000e+00  & 1.0000000000  &  0.000000e+00 & 0.0000000000 \\\\\n",
       "\t 0.000000000   & 0.0000000000  & 0.0000000000  & 0.000000000   & 0.000000000   & 0.000000000   & 0.0000000000  & 0.000000e+00  & 0.0000000000  &  1.000000e+00 & 0.0000000000 \\\\\n",
       "\t 0.000000000   & 0.0000000000  & 0.0000000000  & 0.000000000   & 0.000000000   & 0.000000000   & 0.0000000000  & 0.000000e+00  & 0.0000000000  &  0.000000e+00 & 1.0000000000 \\\\\n",
       "\\end{tabular}\n"
      ],
      "text/markdown": [
       "\n",
       "| 1.000000000   | 1.0000000000  | 1.0000000000  | 1.000000000   | 1.000000000   | 1.000000000   | 1.0000000000  | 1.000000e+00  | 1.0000000000  |  1.000000e+00 | 1.0000000000  |\n",
       "| 0.001412376   | 0.0008967399  | 0.0004102782  | 0.002180832   | 0.001057902   | 0.001490284   | 0.0006893665  | 7.333185e-05  | 0.0002904934  | -2.990877e-05 | 0.0001326445  |\n",
       "| 1.000000000   | 0.0000000000  | 0.0000000000  | 0.000000000   | 0.000000000   | 0.000000000   | 0.0000000000  | 0.000000e+00  | 0.0000000000  |  0.000000e+00 | 0.0000000000  |\n",
       "| 0.000000000   | 1.0000000000  | 0.0000000000  | 0.000000000   | 0.000000000   | 0.000000000   | 0.0000000000  | 0.000000e+00  | 0.0000000000  |  0.000000e+00 | 0.0000000000  |\n",
       "| 0.000000000   | 0.0000000000  | 1.0000000000  | 0.000000000   | 0.000000000   | 0.000000000   | 0.0000000000  | 0.000000e+00  | 0.0000000000  |  0.000000e+00 | 0.0000000000  |\n",
       "| 0.000000000   | 0.0000000000  | 0.0000000000  | 1.000000000   | 0.000000000   | 0.000000000   | 0.0000000000  | 0.000000e+00  | 0.0000000000  |  0.000000e+00 | 0.0000000000  |\n",
       "| 0.000000000   | 0.0000000000  | 0.0000000000  | 0.000000000   | 1.000000000   | 0.000000000   | 0.0000000000  | 0.000000e+00  | 0.0000000000  |  0.000000e+00 | 0.0000000000  |\n",
       "| 0.000000000   | 0.0000000000  | 0.0000000000  | 0.000000000   | 0.000000000   | 1.000000000   | 0.0000000000  | 0.000000e+00  | 0.0000000000  |  0.000000e+00 | 0.0000000000  |\n",
       "| 0.000000000   | 0.0000000000  | 0.0000000000  | 0.000000000   | 0.000000000   | 0.000000000   | 1.0000000000  | 0.000000e+00  | 0.0000000000  |  0.000000e+00 | 0.0000000000  |\n",
       "| 0.000000000   | 0.0000000000  | 0.0000000000  | 0.000000000   | 0.000000000   | 0.000000000   | 0.0000000000  | 1.000000e+00  | 0.0000000000  |  0.000000e+00 | 0.0000000000  |\n",
       "| 0.000000000   | 0.0000000000  | 0.0000000000  | 0.000000000   | 0.000000000   | 0.000000000   | 0.0000000000  | 0.000000e+00  | 1.0000000000  |  0.000000e+00 | 0.0000000000  |\n",
       "| 0.000000000   | 0.0000000000  | 0.0000000000  | 0.000000000   | 0.000000000   | 0.000000000   | 0.0000000000  | 0.000000e+00  | 0.0000000000  |  1.000000e+00 | 0.0000000000  |\n",
       "| 0.000000000   | 0.0000000000  | 0.0000000000  | 0.000000000   | 0.000000000   | 0.000000000   | 0.0000000000  | 0.000000e+00  | 0.0000000000  |  0.000000e+00 | 1.0000000000  |\n",
       "\n"
      ],
      "text/plain": [
       "      [,1]        [,2]         [,3]         [,4]        [,5]        [,6]       \n",
       " [1,] 1.000000000 1.0000000000 1.0000000000 1.000000000 1.000000000 1.000000000\n",
       " [2,] 0.001412376 0.0008967399 0.0004102782 0.002180832 0.001057902 0.001490284\n",
       " [3,] 1.000000000 0.0000000000 0.0000000000 0.000000000 0.000000000 0.000000000\n",
       " [4,] 0.000000000 1.0000000000 0.0000000000 0.000000000 0.000000000 0.000000000\n",
       " [5,] 0.000000000 0.0000000000 1.0000000000 0.000000000 0.000000000 0.000000000\n",
       " [6,] 0.000000000 0.0000000000 0.0000000000 1.000000000 0.000000000 0.000000000\n",
       " [7,] 0.000000000 0.0000000000 0.0000000000 0.000000000 1.000000000 0.000000000\n",
       " [8,] 0.000000000 0.0000000000 0.0000000000 0.000000000 0.000000000 1.000000000\n",
       " [9,] 0.000000000 0.0000000000 0.0000000000 0.000000000 0.000000000 0.000000000\n",
       "[10,] 0.000000000 0.0000000000 0.0000000000 0.000000000 0.000000000 0.000000000\n",
       "[11,] 0.000000000 0.0000000000 0.0000000000 0.000000000 0.000000000 0.000000000\n",
       "[12,] 0.000000000 0.0000000000 0.0000000000 0.000000000 0.000000000 0.000000000\n",
       "[13,] 0.000000000 0.0000000000 0.0000000000 0.000000000 0.000000000 0.000000000\n",
       "      [,7]         [,8]         [,9]         [,10]         [,11]       \n",
       " [1,] 1.0000000000 1.000000e+00 1.0000000000  1.000000e+00 1.0000000000\n",
       " [2,] 0.0006893665 7.333185e-05 0.0002904934 -2.990877e-05 0.0001326445\n",
       " [3,] 0.0000000000 0.000000e+00 0.0000000000  0.000000e+00 0.0000000000\n",
       " [4,] 0.0000000000 0.000000e+00 0.0000000000  0.000000e+00 0.0000000000\n",
       " [5,] 0.0000000000 0.000000e+00 0.0000000000  0.000000e+00 0.0000000000\n",
       " [6,] 0.0000000000 0.000000e+00 0.0000000000  0.000000e+00 0.0000000000\n",
       " [7,] 0.0000000000 0.000000e+00 0.0000000000  0.000000e+00 0.0000000000\n",
       " [8,] 0.0000000000 0.000000e+00 0.0000000000  0.000000e+00 0.0000000000\n",
       " [9,] 1.0000000000 0.000000e+00 0.0000000000  0.000000e+00 0.0000000000\n",
       "[10,] 0.0000000000 1.000000e+00 0.0000000000  0.000000e+00 0.0000000000\n",
       "[11,] 0.0000000000 0.000000e+00 1.0000000000  0.000000e+00 0.0000000000\n",
       "[12,] 0.0000000000 0.000000e+00 0.0000000000  1.000000e+00 0.0000000000\n",
       "[13,] 0.0000000000 0.000000e+00 0.0000000000  0.000000e+00 1.0000000000"
      ]
     },
     "metadata": {},
     "output_type": "display_data"
    }
   ],
   "source": [
    "constraintsMatrixQuadLongOnlyCombined = rbind(t(constraintMatrixQuadCombined),constraintMatrixQuadLongOnlyRow1)\n",
    "constraintsMatrixQuadLongOnlyCombined\n"
   ]
  },
  {
   "cell_type": "code",
   "execution_count": 153,
   "metadata": {},
   "outputs": [
    {
     "data": {
      "text/html": [
       "<table>\n",
       "<tbody>\n",
       "\t<tr><td>1            </td><td> 1.412376e-03</td><td>1            </td><td>0            </td><td>0            </td><td>0            </td><td>0            </td><td>0            </td><td>0            </td><td>0            </td><td>0            </td><td>0            </td><td>0            </td></tr>\n",
       "\t<tr><td>1            </td><td> 8.967399e-04</td><td>0            </td><td>1            </td><td>0            </td><td>0            </td><td>0            </td><td>0            </td><td>0            </td><td>0            </td><td>0            </td><td>0            </td><td>0            </td></tr>\n",
       "\t<tr><td>1            </td><td> 4.102782e-04</td><td>0            </td><td>0            </td><td>1            </td><td>0            </td><td>0            </td><td>0            </td><td>0            </td><td>0            </td><td>0            </td><td>0            </td><td>0            </td></tr>\n",
       "\t<tr><td>1            </td><td> 2.180832e-03</td><td>0            </td><td>0            </td><td>0            </td><td>1            </td><td>0            </td><td>0            </td><td>0            </td><td>0            </td><td>0            </td><td>0            </td><td>0            </td></tr>\n",
       "\t<tr><td>1            </td><td> 1.057902e-03</td><td>0            </td><td>0            </td><td>0            </td><td>0            </td><td>1            </td><td>0            </td><td>0            </td><td>0            </td><td>0            </td><td>0            </td><td>0            </td></tr>\n",
       "\t<tr><td>1            </td><td> 1.490284e-03</td><td>0            </td><td>0            </td><td>0            </td><td>0            </td><td>0            </td><td>1            </td><td>0            </td><td>0            </td><td>0            </td><td>0            </td><td>0            </td></tr>\n",
       "\t<tr><td>1            </td><td> 6.893665e-04</td><td>0            </td><td>0            </td><td>0            </td><td>0            </td><td>0            </td><td>0            </td><td>1            </td><td>0            </td><td>0            </td><td>0            </td><td>0            </td></tr>\n",
       "\t<tr><td>1            </td><td> 7.333185e-05</td><td>0            </td><td>0            </td><td>0            </td><td>0            </td><td>0            </td><td>0            </td><td>0            </td><td>1            </td><td>0            </td><td>0            </td><td>0            </td></tr>\n",
       "\t<tr><td>1            </td><td> 2.904934e-04</td><td>0            </td><td>0            </td><td>0            </td><td>0            </td><td>0            </td><td>0            </td><td>0            </td><td>0            </td><td>1            </td><td>0            </td><td>0            </td></tr>\n",
       "\t<tr><td>1            </td><td>-2.990877e-05</td><td>0            </td><td>0            </td><td>0            </td><td>0            </td><td>0            </td><td>0            </td><td>0            </td><td>0            </td><td>0            </td><td>1            </td><td>0            </td></tr>\n",
       "\t<tr><td>1            </td><td> 1.326445e-04</td><td>0            </td><td>0            </td><td>0            </td><td>0            </td><td>0            </td><td>0            </td><td>0            </td><td>0            </td><td>0            </td><td>0            </td><td>1            </td></tr>\n",
       "</tbody>\n",
       "</table>\n"
      ],
      "text/latex": [
       "\\begin{tabular}{lllllllllllll}\n",
       "\t 1             &  1.412376e-03 & 1             & 0             & 0             & 0             & 0             & 0             & 0             & 0             & 0             & 0             & 0            \\\\\n",
       "\t 1             &  8.967399e-04 & 0             & 1             & 0             & 0             & 0             & 0             & 0             & 0             & 0             & 0             & 0            \\\\\n",
       "\t 1             &  4.102782e-04 & 0             & 0             & 1             & 0             & 0             & 0             & 0             & 0             & 0             & 0             & 0            \\\\\n",
       "\t 1             &  2.180832e-03 & 0             & 0             & 0             & 1             & 0             & 0             & 0             & 0             & 0             & 0             & 0            \\\\\n",
       "\t 1             &  1.057902e-03 & 0             & 0             & 0             & 0             & 1             & 0             & 0             & 0             & 0             & 0             & 0            \\\\\n",
       "\t 1             &  1.490284e-03 & 0             & 0             & 0             & 0             & 0             & 1             & 0             & 0             & 0             & 0             & 0            \\\\\n",
       "\t 1             &  6.893665e-04 & 0             & 0             & 0             & 0             & 0             & 0             & 1             & 0             & 0             & 0             & 0            \\\\\n",
       "\t 1             &  7.333185e-05 & 0             & 0             & 0             & 0             & 0             & 0             & 0             & 1             & 0             & 0             & 0            \\\\\n",
       "\t 1             &  2.904934e-04 & 0             & 0             & 0             & 0             & 0             & 0             & 0             & 0             & 1             & 0             & 0            \\\\\n",
       "\t 1             & -2.990877e-05 & 0             & 0             & 0             & 0             & 0             & 0             & 0             & 0             & 0             & 1             & 0            \\\\\n",
       "\t 1             &  1.326445e-04 & 0             & 0             & 0             & 0             & 0             & 0             & 0             & 0             & 0             & 0             & 1            \\\\\n",
       "\\end{tabular}\n"
      ],
      "text/markdown": [
       "\n",
       "| 1             |  1.412376e-03 | 1             | 0             | 0             | 0             | 0             | 0             | 0             | 0             | 0             | 0             | 0             |\n",
       "| 1             |  8.967399e-04 | 0             | 1             | 0             | 0             | 0             | 0             | 0             | 0             | 0             | 0             | 0             |\n",
       "| 1             |  4.102782e-04 | 0             | 0             | 1             | 0             | 0             | 0             | 0             | 0             | 0             | 0             | 0             |\n",
       "| 1             |  2.180832e-03 | 0             | 0             | 0             | 1             | 0             | 0             | 0             | 0             | 0             | 0             | 0             |\n",
       "| 1             |  1.057902e-03 | 0             | 0             | 0             | 0             | 1             | 0             | 0             | 0             | 0             | 0             | 0             |\n",
       "| 1             |  1.490284e-03 | 0             | 0             | 0             | 0             | 0             | 1             | 0             | 0             | 0             | 0             | 0             |\n",
       "| 1             |  6.893665e-04 | 0             | 0             | 0             | 0             | 0             | 0             | 1             | 0             | 0             | 0             | 0             |\n",
       "| 1             |  7.333185e-05 | 0             | 0             | 0             | 0             | 0             | 0             | 0             | 1             | 0             | 0             | 0             |\n",
       "| 1             |  2.904934e-04 | 0             | 0             | 0             | 0             | 0             | 0             | 0             | 0             | 1             | 0             | 0             |\n",
       "| 1             | -2.990877e-05 | 0             | 0             | 0             | 0             | 0             | 0             | 0             | 0             | 0             | 1             | 0             |\n",
       "| 1             |  1.326445e-04 | 0             | 0             | 0             | 0             | 0             | 0             | 0             | 0             | 0             | 0             | 1             |\n",
       "\n"
      ],
      "text/plain": [
       "      [,1] [,2]          [,3] [,4] [,5] [,6] [,7] [,8] [,9] [,10] [,11] [,12]\n",
       " [1,] 1     1.412376e-03 1    0    0    0    0    0    0    0     0     0    \n",
       " [2,] 1     8.967399e-04 0    1    0    0    0    0    0    0     0     0    \n",
       " [3,] 1     4.102782e-04 0    0    1    0    0    0    0    0     0     0    \n",
       " [4,] 1     2.180832e-03 0    0    0    1    0    0    0    0     0     0    \n",
       " [5,] 1     1.057902e-03 0    0    0    0    1    0    0    0     0     0    \n",
       " [6,] 1     1.490284e-03 0    0    0    0    0    1    0    0     0     0    \n",
       " [7,] 1     6.893665e-04 0    0    0    0    0    0    1    0     0     0    \n",
       " [8,] 1     7.333185e-05 0    0    0    0    0    0    0    1     0     0    \n",
       " [9,] 1     2.904934e-04 0    0    0    0    0    0    0    0     1     0    \n",
       "[10,] 1    -2.990877e-05 0    0    0    0    0    0    0    0     0     1    \n",
       "[11,] 1     1.326445e-04 0    0    0    0    0    0    0    0     0     0    \n",
       "      [,13]\n",
       " [1,] 0    \n",
       " [2,] 0    \n",
       " [3,] 0    \n",
       " [4,] 0    \n",
       " [5,] 0    \n",
       " [6,] 0    \n",
       " [7,] 0    \n",
       " [8,] 0    \n",
       " [9,] 0    \n",
       "[10,] 0    \n",
       "[11,] 1    "
      ]
     },
     "metadata": {},
     "output_type": "display_data"
    }
   ],
   "source": [
    "# Transpose to column Matrix\n",
    "constraintsMatrixQuadLongOnlyCombined=t(constraintsMatrixQuadLongOnlyCombined)\n",
    "constraintsMatrixQuadLongOnlyCombined"
   ]
  },
  {
   "cell_type": "code",
   "execution_count": 154,
   "metadata": {},
   "outputs": [
    {
     "data": {
      "text/html": [
       "<ol class=list-inline>\n",
       "\t<li>1</li>\n",
       "\t<li>0.002</li>\n",
       "\t<li>0</li>\n",
       "\t<li>0</li>\n",
       "\t<li>0</li>\n",
       "\t<li>0</li>\n",
       "\t<li>0</li>\n",
       "\t<li>0</li>\n",
       "\t<li>0</li>\n",
       "\t<li>0</li>\n",
       "\t<li>0</li>\n",
       "\t<li>0</li>\n",
       "\t<li>0</li>\n",
       "</ol>\n"
      ],
      "text/latex": [
       "\\begin{enumerate*}\n",
       "\\item 1\n",
       "\\item 0.002\n",
       "\\item 0\n",
       "\\item 0\n",
       "\\item 0\n",
       "\\item 0\n",
       "\\item 0\n",
       "\\item 0\n",
       "\\item 0\n",
       "\\item 0\n",
       "\\item 0\n",
       "\\item 0\n",
       "\\item 0\n",
       "\\end{enumerate*}\n"
      ],
      "text/markdown": [
       "1. 1\n",
       "2. 0.002\n",
       "3. 0\n",
       "4. 0\n",
       "5. 0\n",
       "6. 0\n",
       "7. 0\n",
       "8. 0\n",
       "9. 0\n",
       "10. 0\n",
       "11. 0\n",
       "12. 0\n",
       "13. 0\n",
       "\n",
       "\n"
      ],
      "text/plain": [
       " [1] 1.000 0.002 0.000 0.000 0.000 0.000 0.000 0.000 0.000 0.000 0.000 0.000\n",
       "[13] 0.000"
      ]
     },
     "metadata": {},
     "output_type": "display_data"
    }
   ],
   "source": [
    "# RHS of Constraints\n",
    "constraintsVectorQuadLongOnlyCombined=c(1,0.002,rep(0,n))\n",
    "constraintsVectorQuadLongOnlyCombined"
   ]
  },
  {
   "cell_type": "code",
   "execution_count": 155,
   "metadata": {},
   "outputs": [],
   "source": [
    "solutionQuadLongOnly <- solve.QP(Dmat = objectveMatrix,\n",
    "                                dvec = objectiveVectorQuad,\n",
    "                                Amat = constraintsMatrixQuadLongOnlyCombined,\n",
    "                                bvec = constraintsVectorQuadLongOnlyCombined,\n",
    "                                meq = numEqualityConstraints)"
   ]
  },
  {
   "cell_type": "code",
   "execution_count": 156,
   "metadata": {},
   "outputs": [
    {
     "data": {
      "text/html": [
       "<ol class=list-inline>\n",
       "\t<li>0</li>\n",
       "\t<li>5.95960305686163e-18</li>\n",
       "\t<li>-9.03270200410116e-18</li>\n",
       "\t<li>0.738132539746855</li>\n",
       "\t<li>0</li>\n",
       "\t<li>0.261867460253145</li>\n",
       "\t<li>2.43474405778064e-17</li>\n",
       "\t<li>-2.00799128603798e-17</li>\n",
       "\t<li>2.13698536801214e-16</li>\n",
       "\t<li>2.45119098803839e-16</li>\n",
       "\t<li>-3.27949880387329e-17</li>\n",
       "</ol>\n"
      ],
      "text/latex": [
       "\\begin{enumerate*}\n",
       "\\item 0\n",
       "\\item 5.95960305686163e-18\n",
       "\\item -9.03270200410116e-18\n",
       "\\item 0.738132539746855\n",
       "\\item 0\n",
       "\\item 0.261867460253145\n",
       "\\item 2.43474405778064e-17\n",
       "\\item -2.00799128603798e-17\n",
       "\\item 2.13698536801214e-16\n",
       "\\item 2.45119098803839e-16\n",
       "\\item -3.27949880387329e-17\n",
       "\\end{enumerate*}\n"
      ],
      "text/markdown": [
       "1. 0\n",
       "2. 5.95960305686163e-18\n",
       "3. -9.03270200410116e-18\n",
       "4. 0.738132539746855\n",
       "5. 0\n",
       "6. 0.261867460253145\n",
       "7. 2.43474405778064e-17\n",
       "8. -2.00799128603798e-17\n",
       "9. 2.13698536801214e-16\n",
       "10. 2.45119098803839e-16\n",
       "11. -3.27949880387329e-17\n",
       "\n",
       "\n"
      ],
      "text/plain": [
       " [1]  0.000000e+00  5.959603e-18 -9.032702e-18  7.381325e-01  0.000000e+00\n",
       " [6]  2.618675e-01  2.434744e-17 -2.007991e-17  2.136985e-16  2.451191e-16\n",
       "[11] -3.279499e-17"
      ]
     },
     "metadata": {},
     "output_type": "display_data"
    }
   ],
   "source": [
    "# Optimal values of decision variables\n",
    "weightsQuadLongOnly=solutionQuadLongOnly$solution\n",
    "weightsQuadLongOnly"
   ]
  },
  {
   "cell_type": "code",
   "execution_count": 157,
   "metadata": {},
   "outputs": [
    {
     "data": {
      "text/html": [
       "1"
      ],
      "text/latex": [
       "1"
      ],
      "text/markdown": [
       "1"
      ],
      "text/plain": [
       "[1] 1"
      ]
     },
     "metadata": {},
     "output_type": "display_data"
    }
   ],
   "source": [
    "sum(weightsQuadLongOnly)"
   ]
  },
  {
   "cell_type": "code",
   "execution_count": 158,
   "metadata": {},
   "outputs": [
    {
     "data": {
      "text/html": [
       "<table>\n",
       "<tbody>\n",
       "\t<tr><td>0.0005559924</td></tr>\n",
       "</tbody>\n",
       "</table>\n"
      ],
      "text/latex": [
       "\\begin{tabular}{l}\n",
       "\t 0.0005559924\\\\\n",
       "\\end{tabular}\n"
      ],
      "text/markdown": [
       "\n",
       "| 0.0005559924 |\n",
       "\n"
      ],
      "text/plain": [
       "     [,1]        \n",
       "[1,] 0.0005559924"
      ]
     },
     "metadata": {},
     "output_type": "display_data"
    }
   ],
   "source": [
    "# Forecast Variance of daily Return\n",
    "portfolioRiskQuadLongOnly <- t(weightsQuadLongOnly) %*% cov(SimpleRet_df[stockNames]) %*% weightsQuadLongOnly\n",
    "portfolioRiskQuadLongOnly"
   ]
  },
  {
   "cell_type": "code",
   "execution_count": 159,
   "metadata": {},
   "outputs": [
    {
     "data": {
      "text/html": [
       "<table>\n",
       "<tbody>\n",
       "\t<tr><td>0.002</td></tr>\n",
       "</tbody>\n",
       "</table>\n"
      ],
      "text/latex": [
       "\\begin{tabular}{l}\n",
       "\t 0.002\\\\\n",
       "\\end{tabular}\n"
      ],
      "text/markdown": [
       "\n",
       "| 0.002 |\n",
       "\n"
      ],
      "text/plain": [
       "     [,1] \n",
       "[1,] 0.002"
      ]
     },
     "metadata": {},
     "output_type": "display_data"
    }
   ],
   "source": [
    "# Expected Portfolio Return\n",
    "portfolioReturnQuadLongOnly=expectedReturn %*% weightsQuadLongOnly\n",
    "portfolioReturnQuadLongOnly"
   ]
  },
  {
   "cell_type": "markdown",
   "metadata": {},
   "source": [
    "![text](img/qer10.png)"
   ]
  },
  {
   "cell_type": "code",
   "execution_count": null,
   "metadata": {},
   "outputs": [],
   "source": []
  }
 ],
 "metadata": {
  "kernelspec": {
   "display_name": "R",
   "language": "R",
   "name": "ir"
  },
  "language_info": {
   "codemirror_mode": "r",
   "file_extension": ".r",
   "mimetype": "text/x-r-source",
   "name": "R",
   "pygments_lexer": "r",
   "version": "4.0.2"
  }
 },
 "nbformat": 4,
 "nbformat_minor": 2
}
