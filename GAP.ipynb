{
 "cells": [
  {
   "cell_type": "code",
   "execution_count": 4,
   "metadata": {},
   "outputs": [
    {
     "name": "stderr",
     "output_type": "stream",
     "text": [
      "\n",
      "Attaching package: 'lubridate'\n",
      "\n",
      "\n",
      "The following objects are masked from 'package:igraph':\n",
      "\n",
      "    %--%, union\n",
      "\n",
      "\n",
      "The following objects are masked from 'package:base':\n",
      "\n",
      "    date, intersect, setdiff, union\n",
      "\n",
      "\n"
     ]
    }
   ],
   "source": [
    "#```{r results='hide', message=FALSE, warning=FALSE}\n",
    "# install all Packages required\n",
    "# install.packages('ggplot2')\n",
    "# Load Libraries to be used\n",
    "library(ggplot2)\n",
    "library(knitr)\n",
    "library(dplyr)\n",
    "library(tidyverse)\n",
    "library(summarytools)\n",
    "library(visdat)\n",
    "library(igraph)\n",
    "#library(treemap)\n",
    "#library(dplyr)\n",
    "library(devtools)\n",
    "library(\"readxl\")\n",
    "library(repr)\n",
    "library(forecast)\n",
    "library(lubridate)\n",
    "library(forecast)\n",
    "#install.packages(\"readxl\")\n",
    "#install.packages(\"lubridate\")\n",
    "#install.packages(\"forecast\")\n",
    "# my_data <- read_excel(file.choose())\n",
    "#```# Do not show warnings"
   ]
  },
  {
   "cell_type": "code",
   "execution_count": 2,
   "metadata": {},
   "outputs": [
    {
     "data": {
      "text/html": [
       "<table>\n",
       "<caption>A tibble: 6 × 3</caption>\n",
       "<thead>\n",
       "\t<tr><th scope=col>Year</th><th scope=col>Sales</th><th scope=col>GDP</th></tr>\n",
       "\t<tr><th scope=col>&lt;dbl&gt;</th><th scope=col>&lt;dbl&gt;</th><th scope=col>&lt;dbl&gt;</th></tr>\n",
       "</thead>\n",
       "<tbody>\n",
       "\t<tr><td>1984</td><td>      NA</td><td>6577.125</td></tr>\n",
       "\t<tr><td>1985</td><td> 647.333</td><td>6849.250</td></tr>\n",
       "\t<tr><td>1986</td><td> 848.009</td><td>7086.550</td></tr>\n",
       "\t<tr><td>1987</td><td>1062.021</td><td>7313.275</td></tr>\n",
       "\t<tr><td>1988</td><td>1252.097</td><td>7613.900</td></tr>\n",
       "\t<tr><td>1989</td><td>1586.596</td><td>7885.925</td></tr>\n",
       "</tbody>\n",
       "</table>\n"
      ],
      "text/latex": [
       "A tibble: 6 × 3\n",
       "\\begin{tabular}{lll}\n",
       " Year & Sales & GDP\\\\\n",
       " <dbl> & <dbl> & <dbl>\\\\\n",
       "\\hline\n",
       "\t 1984 &       NA & 6577.125\\\\\n",
       "\t 1985 &  647.333 & 6849.250\\\\\n",
       "\t 1986 &  848.009 & 7086.550\\\\\n",
       "\t 1987 & 1062.021 & 7313.275\\\\\n",
       "\t 1988 & 1252.097 & 7613.900\\\\\n",
       "\t 1989 & 1586.596 & 7885.925\\\\\n",
       "\\end{tabular}\n"
      ],
      "text/markdown": [
       "\n",
       "A tibble: 6 × 3\n",
       "\n",
       "| Year &lt;dbl&gt; | Sales &lt;dbl&gt; | GDP &lt;dbl&gt; |\n",
       "|---|---|---|\n",
       "| 1984 |       NA | 6577.125 |\n",
       "| 1985 |  647.333 | 6849.250 |\n",
       "| 1986 |  848.009 | 7086.550 |\n",
       "| 1987 | 1062.021 | 7313.275 |\n",
       "| 1988 | 1252.097 | 7613.900 |\n",
       "| 1989 | 1586.596 | 7885.925 |\n",
       "\n"
      ],
      "text/plain": [
       "  Year Sales    GDP     \n",
       "1 1984       NA 6577.125\n",
       "2 1985  647.333 6849.250\n",
       "3 1986  848.009 7086.550\n",
       "4 1987 1062.021 7313.275\n",
       "5 1988 1252.097 7613.900\n",
       "6 1989 1586.596 7885.925"
      ]
     },
     "metadata": {},
     "output_type": "display_data"
    }
   ],
   "source": [
    "yearly_df <- read_excel(\"Data/gap.xlsx\", sheet=\"Yearly\")\n",
    "\n",
    "head(yearly_df)"
   ]
  },
  {
   "cell_type": "code",
   "execution_count": 3,
   "metadata": {},
   "outputs": [
    {
     "data": {
      "text/html": [
       "<table>\n",
       "<caption>A tibble: 6 × 2</caption>\n",
       "<thead>\n",
       "\t<tr><th scope=col>Quarter</th><th scope=col>Sales</th></tr>\n",
       "\t<tr><th scope=col>&lt;chr&gt;</th><th scope=col>&lt;dbl&gt;</th></tr>\n",
       "</thead>\n",
       "<tbody>\n",
       "\t<tr><td>1985 - I  </td><td>105.715</td></tr>\n",
       "\t<tr><td>1985 - II </td><td>120.136</td></tr>\n",
       "\t<tr><td>1985 - III</td><td>181.669</td></tr>\n",
       "\t<tr><td>1985 - IV </td><td>239.813</td></tr>\n",
       "\t<tr><td>1986 - I  </td><td>159.980</td></tr>\n",
       "\t<tr><td>1986 - II </td><td>164.760</td></tr>\n",
       "</tbody>\n",
       "</table>\n"
      ],
      "text/latex": [
       "A tibble: 6 × 2\n",
       "\\begin{tabular}{ll}\n",
       " Quarter & Sales\\\\\n",
       " <chr> & <dbl>\\\\\n",
       "\\hline\n",
       "\t 1985 - I   & 105.715\\\\\n",
       "\t 1985 - II  & 120.136\\\\\n",
       "\t 1985 - III & 181.669\\\\\n",
       "\t 1985 - IV  & 239.813\\\\\n",
       "\t 1986 - I   & 159.980\\\\\n",
       "\t 1986 - II  & 164.760\\\\\n",
       "\\end{tabular}\n"
      ],
      "text/markdown": [
       "\n",
       "A tibble: 6 × 2\n",
       "\n",
       "| Quarter &lt;chr&gt; | Sales &lt;dbl&gt; |\n",
       "|---|---|\n",
       "| 1985 - I   | 105.715 |\n",
       "| 1985 - II  | 120.136 |\n",
       "| 1985 - III | 181.669 |\n",
       "| 1985 - IV  | 239.813 |\n",
       "| 1986 - I   | 159.980 |\n",
       "| 1986 - II  | 164.760 |\n",
       "\n"
      ],
      "text/plain": [
       "  Quarter    Sales  \n",
       "1 1985 - I   105.715\n",
       "2 1985 - II  120.136\n",
       "3 1985 - III 181.669\n",
       "4 1985 - IV  239.813\n",
       "5 1986 - I   159.980\n",
       "6 1986 - II  164.760"
      ]
     },
     "metadata": {},
     "output_type": "display_data"
    }
   ],
   "source": [
    "quart_df <- read_excel(\"Data/gap.xlsx\", sheet=\"Quarterly\")\n",
    "\n",
    "head(quart_df)"
   ]
  },
  {
   "cell_type": "code",
   "execution_count": 7,
   "metadata": {},
   "outputs": [],
   "source": [
    "# import data\n",
    "d <- read_xlsx(\"Data/gap.xlsx\", sheet = \"Quarterly\")"
   ]
  },
  {
   "cell_type": "code",
   "execution_count": 8,
   "metadata": {},
   "outputs": [],
   "source": [
    "\n",
    "# time\n",
    "d$time <- c(1:112)\n",
    "d$quarter <- rep(1:4,28)"
   ]
  },
  {
   "cell_type": "code",
   "execution_count": 9,
   "metadata": {},
   "outputs": [
    {
     "data": {
      "text/html": [
       "<table>\n",
       "<caption>A tibble: 6 × 4</caption>\n",
       "<thead>\n",
       "\t<tr><th scope=col>Quarter</th><th scope=col>Sales</th><th scope=col>time</th><th scope=col>quarter</th></tr>\n",
       "\t<tr><th scope=col>&lt;chr&gt;</th><th scope=col>&lt;dbl&gt;</th><th scope=col>&lt;int&gt;</th><th scope=col>&lt;int&gt;</th></tr>\n",
       "</thead>\n",
       "<tbody>\n",
       "\t<tr><td>1985 - I  </td><td>105.715</td><td>1</td><td>1</td></tr>\n",
       "\t<tr><td>1985 - II </td><td>120.136</td><td>2</td><td>2</td></tr>\n",
       "\t<tr><td>1985 - III</td><td>181.669</td><td>3</td><td>3</td></tr>\n",
       "\t<tr><td>1985 - IV </td><td>239.813</td><td>4</td><td>4</td></tr>\n",
       "\t<tr><td>1986 - I  </td><td>159.980</td><td>5</td><td>1</td></tr>\n",
       "\t<tr><td>1986 - II </td><td>164.760</td><td>6</td><td>2</td></tr>\n",
       "</tbody>\n",
       "</table>\n"
      ],
      "text/latex": [
       "A tibble: 6 × 4\n",
       "\\begin{tabular}{llll}\n",
       " Quarter & Sales & time & quarter\\\\\n",
       " <chr> & <dbl> & <int> & <int>\\\\\n",
       "\\hline\n",
       "\t 1985 - I   & 105.715 & 1 & 1\\\\\n",
       "\t 1985 - II  & 120.136 & 2 & 2\\\\\n",
       "\t 1985 - III & 181.669 & 3 & 3\\\\\n",
       "\t 1985 - IV  & 239.813 & 4 & 4\\\\\n",
       "\t 1986 - I   & 159.980 & 5 & 1\\\\\n",
       "\t 1986 - II  & 164.760 & 6 & 2\\\\\n",
       "\\end{tabular}\n"
      ],
      "text/markdown": [
       "\n",
       "A tibble: 6 × 4\n",
       "\n",
       "| Quarter &lt;chr&gt; | Sales &lt;dbl&gt; | time &lt;int&gt; | quarter &lt;int&gt; |\n",
       "|---|---|---|---|\n",
       "| 1985 - I   | 105.715 | 1 | 1 |\n",
       "| 1985 - II  | 120.136 | 2 | 2 |\n",
       "| 1985 - III | 181.669 | 3 | 3 |\n",
       "| 1985 - IV  | 239.813 | 4 | 4 |\n",
       "| 1986 - I   | 159.980 | 5 | 1 |\n",
       "| 1986 - II  | 164.760 | 6 | 2 |\n",
       "\n"
      ],
      "text/plain": [
       "  Quarter    Sales   time quarter\n",
       "1 1985 - I   105.715 1    1      \n",
       "2 1985 - II  120.136 2    2      \n",
       "3 1985 - III 181.669 3    3      \n",
       "4 1985 - IV  239.813 4    4      \n",
       "5 1986 - I   159.980 5    1      \n",
       "6 1986 - II  164.760 6    2      "
      ]
     },
     "metadata": {},
     "output_type": "display_data"
    }
   ],
   "source": [
    "head(d)"
   ]
  },
  {
   "cell_type": "code",
   "execution_count": 10,
   "metadata": {},
   "outputs": [],
   "source": [
    "# Quadratic model ---------------------------------------------------------\n",
    "\n",
    "# trend\n",
    "trend <- lm(Sales ~ time+I(time^2)+I(time^3)+I(time^4)+I(time^5), data = d)\n",
    "d$trend <-  predict(trend)"
   ]
  },
  {
   "cell_type": "code",
   "execution_count": 11,
   "metadata": {
    "scrolled": true
   },
   "outputs": [
    {
     "data": {
      "text/plain": [
       "\n",
       "Call:\n",
       "lm(formula = Sales ~ time + I(time^2) + I(time^3) + I(time^4) + \n",
       "    I(time^5), data = d)\n",
       "\n",
       "Residuals:\n",
       "    Min      1Q  Median      3Q     Max \n",
       "-709.12 -255.61  -85.24  124.89 1359.97 \n",
       "\n",
       "Coefficients:\n",
       "              Estimate Std. Error t value Pr(>|t|)    \n",
       "(Intercept) -3.226e+02  2.381e+02  -1.355 0.178382    \n",
       "time         1.554e+02  4.192e+01   3.708 0.000334 ***\n",
       "I(time^2)   -1.082e+01  2.274e+00  -4.758 6.22e-06 ***\n",
       "I(time^3)    3.061e-01  5.076e-02   6.031 2.41e-08 ***\n",
       "I(time^4)   -3.286e-03  4.943e-04  -6.648 1.33e-09 ***\n",
       "I(time^5)    1.190e-05  1.741e-06   6.837 5.35e-10 ***\n",
       "---\n",
       "Signif. codes:  0 '***' 0.001 '**' 0.01 '*' 0.05 '.' 0.1 ' ' 1\n",
       "\n",
       "Residual standard error: 387.7 on 106 degrees of freedom\n",
       "Multiple R-squared:  0.942,\tAdjusted R-squared:  0.9393 \n",
       "F-statistic: 344.5 on 5 and 106 DF,  p-value: < 2.2e-16\n"
      ]
     },
     "metadata": {},
     "output_type": "display_data"
    }
   ],
   "source": [
    "summary(trend)"
   ]
  },
  {
   "cell_type": "code",
   "execution_count": 25,
   "metadata": {},
   "outputs": [
    {
     "name": "stdout",
     "output_type": "stream",
     "text": [
      "List of 12\n",
      " $ coefficients : Named num [1:6] -3.23e+02 1.55e+02 -1.08e+01 3.06e-01 -3.29e-03 ...\n",
      "  ..- attr(*, \"names\")= chr [1:6] \"(Intercept)\" \"time\" \"I(time^2)\" \"I(time^3)\" ...\n",
      " $ residuals    : Named num [1:112] 283.4 172.7 127.3 95 -60.5 ...\n",
      "  ..- attr(*, \"names\")= chr [1:112] \"1\" \"2\" \"3\" \"4\" ...\n",
      " $ effects      : Named num [1:112] -23727 15157 1933 -4244 -607 ...\n",
      "  ..- attr(*, \"names\")= chr [1:112] \"(Intercept)\" \"time\" \"I(time^2)\" \"I(time^3)\" ...\n",
      " $ rank         : int 6\n",
      " $ fitted.values: Named num [1:112] -177.7 -52.6 54.4 144.9 220.4 ...\n",
      "  ..- attr(*, \"names\")= chr [1:112] \"1\" \"2\" \"3\" \"4\" ...\n",
      " $ assign       : int [1:6] 0 1 2 3 4 5\n",
      " $ qr           :List of 5\n",
      "  ..$ qr   : num [1:112, 1:6] -10.583 0.0945 0.0945 0.0945 0.0945 ...\n",
      "  .. ..- attr(*, \"dimnames\")=List of 2\n",
      "  .. .. ..$ : chr [1:112] \"1\" \"2\" \"3\" \"4\" ...\n",
      "  .. .. ..$ : chr [1:6] \"(Intercept)\" \"time\" \"I(time^2)\" \"I(time^3)\" ...\n",
      "  .. ..- attr(*, \"assign\")= int [1:6] 0 1 2 3 4 5\n",
      "  ..$ qraux: num [1:6] 1.09 1.15 1.14 1.1 1.03 ...\n",
      "  ..$ pivot: int [1:6] 1 2 3 4 5 6\n",
      "  ..$ tol  : num 1e-07\n",
      "  ..$ rank : int 6\n",
      "  ..- attr(*, \"class\")= chr \"qr\"\n",
      " $ df.residual  : int 106\n",
      " $ xlevels      : Named list()\n",
      " $ call         : language lm(formula = Sales ~ time + I(time^2) + I(time^3) + I(time^4) + I(time^5),      data = d)\n",
      " $ terms        :Classes 'terms', 'formula'  language Sales ~ time + I(time^2) + I(time^3) + I(time^4) + I(time^5)\n",
      "  .. ..- attr(*, \"variables\")= language list(Sales, time, I(time^2), I(time^3), I(time^4), I(time^5))\n",
      "  .. ..- attr(*, \"factors\")= int [1:6, 1:5] 0 1 0 0 0 0 0 0 1 0 ...\n",
      "  .. .. ..- attr(*, \"dimnames\")=List of 2\n",
      "  .. .. .. ..$ : chr [1:6] \"Sales\" \"time\" \"I(time^2)\" \"I(time^3)\" ...\n",
      "  .. .. .. ..$ : chr [1:5] \"time\" \"I(time^2)\" \"I(time^3)\" \"I(time^4)\" ...\n",
      "  .. ..- attr(*, \"term.labels\")= chr [1:5] \"time\" \"I(time^2)\" \"I(time^3)\" \"I(time^4)\" ...\n",
      "  .. ..- attr(*, \"order\")= int [1:5] 1 1 1 1 1\n",
      "  .. ..- attr(*, \"intercept\")= int 1\n",
      "  .. ..- attr(*, \"response\")= int 1\n",
      "  .. ..- attr(*, \".Environment\")=<environment: R_GlobalEnv> \n",
      "  .. ..- attr(*, \"predvars\")= language list(Sales, time, I(time^2), I(time^3), I(time^4), I(time^5))\n",
      "  .. ..- attr(*, \"dataClasses\")= Named chr [1:6] \"numeric\" \"numeric\" \"numeric\" \"numeric\" ...\n",
      "  .. .. ..- attr(*, \"names\")= chr [1:6] \"Sales\" \"time\" \"I(time^2)\" \"I(time^3)\" ...\n",
      " $ model        :'data.frame':\t112 obs. of  6 variables:\n",
      "  ..$ Sales    : num [1:112] 106 120 182 240 160 ...\n",
      "  ..$ time     : int [1:112] 1 2 3 4 5 6 7 8 9 10 ...\n",
      "  ..$ I(time^2): 'AsIs' num [1:112]   1   4   9  16  25  36  49  64  81 100 ...\n",
      "  ..$ I(time^3): 'AsIs' num [1:112]    1    8   27   64  125  216  343  512  729 1000 ...\n",
      "  ..$ I(time^4): 'AsIs' num [1:112]   1  16  81 256 625 ...\n",
      "  ..$ I(time^5): 'AsIs' num [1:112]    1   32  243 1024 3125 ...\n",
      "  ..- attr(*, \"terms\")=Classes 'terms', 'formula'  language Sales ~ time + I(time^2) + I(time^3) + I(time^4) + I(time^5)\n",
      "  .. .. ..- attr(*, \"variables\")= language list(Sales, time, I(time^2), I(time^3), I(time^4), I(time^5))\n",
      "  .. .. ..- attr(*, \"factors\")= int [1:6, 1:5] 0 1 0 0 0 0 0 0 1 0 ...\n",
      "  .. .. .. ..- attr(*, \"dimnames\")=List of 2\n",
      "  .. .. .. .. ..$ : chr [1:6] \"Sales\" \"time\" \"I(time^2)\" \"I(time^3)\" ...\n",
      "  .. .. .. .. ..$ : chr [1:5] \"time\" \"I(time^2)\" \"I(time^3)\" \"I(time^4)\" ...\n",
      "  .. .. ..- attr(*, \"term.labels\")= chr [1:5] \"time\" \"I(time^2)\" \"I(time^3)\" \"I(time^4)\" ...\n",
      "  .. .. ..- attr(*, \"order\")= int [1:5] 1 1 1 1 1\n",
      "  .. .. ..- attr(*, \"intercept\")= int 1\n",
      "  .. .. ..- attr(*, \"response\")= int 1\n",
      "  .. .. ..- attr(*, \".Environment\")=<environment: R_GlobalEnv> \n",
      "  .. .. ..- attr(*, \"predvars\")= language list(Sales, time, I(time^2), I(time^3), I(time^4), I(time^5))\n",
      "  .. .. ..- attr(*, \"dataClasses\")= Named chr [1:6] \"numeric\" \"numeric\" \"numeric\" \"numeric\" ...\n",
      "  .. .. .. ..- attr(*, \"names\")= chr [1:6] \"Sales\" \"time\" \"I(time^2)\" \"I(time^3)\" ...\n",
      " - attr(*, \"class\")= chr \"lm\"\n"
     ]
    }
   ],
   "source": [
    "str(trend)"
   ]
  },
  {
   "cell_type": "code",
   "execution_count": 12,
   "metadata": {},
   "outputs": [
    {
     "data": {
      "image/png": "[encoded data removed]",
      "text/plain": [
       "plot without title"
      ]
     },
     "metadata": {
      "image/png": {
       "height": 420,
       "width": 420
      }
     },
     "output_type": "display_data"
    }
   ],
   "source": [
    "# plot\n",
    "plot(d$Sales, type=\"l\")\n",
    "lines(d$trend, type=\"l\", col=\"blue\")"
   ]
  },
  {
   "cell_type": "code",
   "execution_count": 13,
   "metadata": {},
   "outputs": [
    {
     "data": {
      "image/png": "[encoded data removed]",
      "text/plain": [
       "plot without title"
      ]
     },
     "metadata": {
      "image/png": {
       "height": 420,
       "width": 420
      }
     },
     "output_type": "display_data"
    }
   ],
   "source": [
    "# residual\n",
    "plot(resid(trend), type=\"l\")"
   ]
  },
  {
   "cell_type": "code",
   "execution_count": 14,
   "metadata": {},
   "outputs": [],
   "source": [
    "# seasonal multiplicative \n",
    "d$multi <- d$Sales / d$trend\n",
    "d <- d %>% group_by(quarter) %>% mutate(seasonal = mean(multi))"
   ]
  },
  {
   "cell_type": "code",
   "execution_count": 15,
   "metadata": {},
   "outputs": [],
   "source": [
    "# prediction multiplicative\n",
    "d$predicted <- d$trend * d$seasonal "
   ]
  },
  {
   "cell_type": "code",
   "execution_count": 16,
   "metadata": {},
   "outputs": [
    {
     "data": {
      "image/png": "[encoded data removed]",
      "text/plain": [
       "plot without title"
      ]
     },
     "metadata": {
      "image/png": {
       "height": 420,
       "width": 420
      }
     },
     "output_type": "display_data"
    }
   ],
   "source": [
    "# plot predictions\n",
    "plot(d$Sales, type=\"l\")\n",
    "lines(d$predicted, type=\"l\", col=\"blue\")"
   ]
  },
  {
   "cell_type": "code",
   "execution_count": 17,
   "metadata": {},
   "outputs": [
    {
     "data": {
      "image/png": "[encoded data removed]",
      "text/plain": [
       "plot without title"
      ]
     },
     "metadata": {
      "image/png": {
       "height": 420,
       "width": 420
      }
     },
     "output_type": "display_data"
    }
   ],
   "source": [
    "# residual\n",
    "plot(d$Sales - d$predicted, type=\"l\")\n"
   ]
  },
  {
   "cell_type": "code",
   "execution_count": 18,
   "metadata": {},
   "outputs": [],
   "source": [
    "# Holt-Winters ------------------------------------------------------------\n",
    "\n",
    "library(forecast)\n",
    "\n",
    "# time series data\n",
    "d.ts <- ts(d$Sales, frequency=4)\n"
   ]
  },
  {
   "cell_type": "code",
   "execution_count": 19,
   "metadata": {},
   "outputs": [
    {
     "data": {
      "text/html": [
       "<table>\n",
       "<caption>A Time Series: 2 × 4</caption>\n",
       "<thead>\n",
       "\t<tr><th></th><th scope=col>Qtr1</th><th scope=col>Qtr2</th><th scope=col>Qtr3</th><th scope=col>Qtr4</th></tr>\n",
       "</thead>\n",
       "<tbody>\n",
       "\t<tr><th scope=row>1</th><td>105.715</td><td>120.136</td><td>181.669</td><td>239.813</td></tr>\n",
       "\t<tr><th scope=row>2</th><td>159.980</td><td>164.760</td><td>       </td><td>       </td></tr>\n",
       "</tbody>\n",
       "</table>\n"
      ],
      "text/latex": [
       "A Time Series: 2 × 4\n",
       "\\begin{tabular}{r|llll}\n",
       "  & Qtr1 & Qtr2 & Qtr3 & Qtr4\\\\\n",
       "\\hline\n",
       "\t1 & 105.715 & 120.136 & 181.669 & 239.813\\\\\n",
       "\t2 & 159.980 & 164.760 &         &        \\\\\n",
       "\\end{tabular}\n"
      ],
      "text/markdown": [
       "\n",
       "A Time Series: 2 × 4\n",
       "\n",
       "| <!--/--> | Qtr1 | Qtr2 | Qtr3 | Qtr4 |\n",
       "|---|---|---|---|---|\n",
       "| 1 | 105.715 | 120.136 | 181.669 | 239.813 |\n",
       "| 2 | 159.980 | 164.760 | <!----> | <!----> |\n",
       "\n"
      ],
      "text/plain": [
       "  Qtr1    Qtr2    Qtr3    Qtr4   \n",
       "1 105.715 120.136 181.669 239.813\n",
       "2 159.980 164.760                "
      ]
     },
     "metadata": {},
     "output_type": "display_data"
    }
   ],
   "source": [
    "head(d.ts)"
   ]
  },
  {
   "cell_type": "code",
   "execution_count": 21,
   "metadata": {},
   "outputs": [
    {
     "data": {
      "text/html": [
       "<table>\n",
       "<caption>A Time Series: 2 × 4</caption>\n",
       "<thead>\n",
       "\t<tr><th></th><th scope=col>Qtr1</th><th scope=col>Qtr2</th><th scope=col>Qtr3</th><th scope=col>Qtr4</th></tr>\n",
       "</thead>\n",
       "<tbody>\n",
       "\t<tr><th scope=row>1</th><td>108.5173</td><td>122.5963</td><td>170.7011</td><td>234.2317</td></tr>\n",
       "\t<tr><th scope=row>2</th><td>170.6721</td><td>177.9985</td><td>        </td><td>        </td></tr>\n",
       "</tbody>\n",
       "</table>\n"
      ],
      "text/latex": [
       "A Time Series: 2 × 4\n",
       "\\begin{tabular}{r|llll}\n",
       "  & Qtr1 & Qtr2 & Qtr3 & Qtr4\\\\\n",
       "\\hline\n",
       "\t1 & 108.5173 & 122.5963 & 170.7011 & 234.2317\\\\\n",
       "\t2 & 170.6721 & 177.9985 &          &         \\\\\n",
       "\\end{tabular}\n"
      ],
      "text/markdown": [
       "\n",
       "A Time Series: 2 × 4\n",
       "\n",
       "| <!--/--> | Qtr1 | Qtr2 | Qtr3 | Qtr4 |\n",
       "|---|---|---|---|---|\n",
       "| 1 | 108.5173 | 122.5963 | 170.7011 | 234.2317 |\n",
       "| 2 | 170.6721 | 177.9985 | <!----> | <!----> |\n",
       "\n"
      ],
      "text/plain": [
       "  Qtr1     Qtr2     Qtr3     Qtr4    \n",
       "1 108.5173 122.5963 170.7011 234.2317\n",
       "2 170.6721 177.9985                  "
      ]
     },
     "metadata": {},
     "output_type": "display_data"
    }
   ],
   "source": [
    "# HW model\n",
    "hw <- ets(d.ts, model=\"MAM\", alpha=0.2, beta=0.2, gamma=0.2)\n",
    "head(hw$fitted)"
   ]
  },
  {
   "cell_type": "code",
   "execution_count": 22,
   "metadata": {},
   "outputs": [
    {
     "data": {
      "text/html": [
       "0.992129561898791"
      ],
      "text/latex": [
       "0.992129561898791"
      ],
      "text/markdown": [
       "0.992129561898791"
      ],
      "text/plain": [
       "[1] 0.9921296"
      ]
     },
     "metadata": {},
     "output_type": "display_data"
    }
   ],
   "source": [
    "cor(hw$fitted,d$Sales)"
   ]
  },
  {
   "cell_type": "code",
   "execution_count": 23,
   "metadata": {},
   "outputs": [
    {
     "data": {
      "image/png": "[encoded data removed]",
      "text/plain": [
       "plot without title"
      ]
     },
     "metadata": {
      "image/png": {
       "height": 420,
       "width": 420
      }
     },
     "output_type": "display_data"
    }
   ],
   "source": [
    "# plot \n",
    "plot(d.ts, type=\"l\")\n",
    "lines(hw$fitted, type=\"l\",col=\"blue\")"
   ]
  },
  {
   "cell_type": "code",
   "execution_count": 24,
   "metadata": {},
   "outputs": [
    {
     "data": {
      "image/png": "[encoded data removed]",
      "text/plain": [
       "Plot with title \"Forecasts from ETS(M,Ad,M)\""
      ]
     },
     "metadata": {
      "image/png": {
       "height": 420,
       "width": 420
      }
     },
     "output_type": "display_data"
    }
   ],
   "source": [
    "# forecast\n",
    "forecast <- forecast(hw, h=8, level=c(90))\n",
    "plot(forecast)"
   ]
  },
  {
   "cell_type": "code",
   "execution_count": null,
   "metadata": {},
   "outputs": [],
   "source": []
  }
 ],
 "metadata": {
  "kernelspec": {
   "display_name": "R",
   "language": "R",
   "name": "ir"
  },
  "language_info": {
   "codemirror_mode": "r",
   "file_extension": ".r",
   "mimetype": "text/x-r-source",
   "name": "R",
   "pygments_lexer": "r",
   "version": "4.0.2"
  }
 },
 "nbformat": 4,
 "nbformat_minor": 2
}
