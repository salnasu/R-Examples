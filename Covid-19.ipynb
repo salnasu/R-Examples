{
 "cells": [
  {
   "cell_type": "code",
   "execution_count": 1,
   "metadata": {},
   "outputs": [
    {
     "name": "stderr",
     "output_type": "stream",
     "text": [
      "-- \u001b[1mAttaching packages\u001b[22m --------------------------------------- tidyverse 1.3.0 --\n",
      "\n",
      "\u001b[32mv\u001b[39m \u001b[34mtibble \u001b[39m 3.0.3     \u001b[32mv\u001b[39m \u001b[34mdplyr  \u001b[39m 1.0.1\n",
      "\u001b[32mv\u001b[39m \u001b[34mtidyr  \u001b[39m 1.1.1     \u001b[32mv\u001b[39m \u001b[34mstringr\u001b[39m 1.4.0\n",
      "\u001b[32mv\u001b[39m \u001b[34mreadr  \u001b[39m 1.3.1     \u001b[32mv\u001b[39m \u001b[34mforcats\u001b[39m 0.5.0\n",
      "\u001b[32mv\u001b[39m \u001b[34mpurrr  \u001b[39m 0.3.4     \n",
      "\n",
      "-- \u001b[1mConflicts\u001b[22m ------------------------------------------ tidyverse_conflicts() --\n",
      "\u001b[31mx\u001b[39m \u001b[34mdplyr\u001b[39m::\u001b[32mfilter()\u001b[39m masks \u001b[34mstats\u001b[39m::filter()\n",
      "\u001b[31mx\u001b[39m \u001b[34mdplyr\u001b[39m::\u001b[32mlag()\u001b[39m    masks \u001b[34mstats\u001b[39m::lag()\n",
      "\n",
      "Registered S3 method overwritten by 'pryr':\n",
      "  method      from\n",
      "  print.bytes Rcpp\n",
      "\n",
      "For best results, restart R session and update pander using devtools:: or remotes::install_github('rapporter/pander')\n",
      "\n",
      "\n",
      "Attaching package: 'summarytools'\n",
      "\n",
      "\n",
      "The following object is masked from 'package:tibble':\n",
      "\n",
      "    view\n",
      "\n",
      "\n",
      "\n",
      "Attaching package: 'igraph'\n",
      "\n",
      "\n",
      "The following objects are masked from 'package:dplyr':\n",
      "\n",
      "    as_data_frame, groups, union\n",
      "\n",
      "\n",
      "The following objects are masked from 'package:purrr':\n",
      "\n",
      "    compose, simplify\n",
      "\n",
      "\n",
      "The following object is masked from 'package:tidyr':\n",
      "\n",
      "    crossing\n",
      "\n",
      "\n",
      "The following object is masked from 'package:tibble':\n",
      "\n",
      "    as_data_frame\n",
      "\n",
      "\n",
      "The following objects are masked from 'package:stats':\n",
      "\n",
      "    decompose, spectrum\n",
      "\n",
      "\n",
      "The following object is masked from 'package:base':\n",
      "\n",
      "    union\n",
      "\n",
      "\n",
      "Loading required package: usethis\n",
      "\n"
     ]
    }
   ],
   "source": [
    "#```{r results='hide', message=FALSE, warning=FALSE}\n",
    "# install all Packages required\n",
    "# install.packages('ggplot2')\n",
    "# Load Libraries to be used\n",
    "library(ggplot2)\n",
    "library(knitr)\n",
    "library(tidyverse)\n",
    "library(summarytools)\n",
    "library(visdat)\n",
    "library(igraph)\n",
    "#library(treemap)\n",
    "#library(dplr)\n",
    "library(devtools)\n",
    "#``` # Do not show warnings"
   ]
  },
  {
   "cell_type": "code",
   "execution_count": 2,
   "metadata": {},
   "outputs": [],
   "source": [
    "#install.packages(\"readxl\")\n",
    "library(\"readxl\")\n",
    "# my_data <- read_excel(file.choose())"
   ]
  },
  {
   "cell_type": "markdown",
   "metadata": {},
   "source": [
    "# Covid 19 vs Pollution"
   ]
  },
  {
   "cell_type": "code",
   "execution_count": 3,
   "metadata": {},
   "outputs": [
    {
     "data": {
      "text/html": [
       "<table>\n",
       "<caption>A tibble: 6 × 4</caption>\n",
       "<thead>\n",
       "\t<tr><th scope=col>fips</th><th scope=col>county</th><th scope=col>pollution</th><th scope=col>deaths</th></tr>\n",
       "\t<tr><th scope=col>&lt;dbl&gt;</th><th scope=col>&lt;chr&gt;</th><th scope=col>&lt;dbl&gt;</th><th scope=col>&lt;dbl&gt;</th></tr>\n",
       "</thead>\n",
       "<tbody>\n",
       "\t<tr><td>1017</td><td>Chambers, Alabama  </td><td>11.4</td><td>18.0</td></tr>\n",
       "\t<tr><td>1093</td><td>Marion, Alabama    </td><td>10.5</td><td> 6.7</td></tr>\n",
       "\t<tr><td>1129</td><td>Washington, Alabama</td><td>10.4</td><td> 6.1</td></tr>\n",
       "\t<tr><td>5023</td><td>Cleburne, Arkansas </td><td> 8.6</td><td> 8.0</td></tr>\n",
       "\t<tr><td>6051</td><td>Mono, California   </td><td> 4.5</td><td> 6.9</td></tr>\n",
       "\t<tr><td>8015</td><td>Chaffee, Colorado  </td><td> 3.9</td><td> 9.8</td></tr>\n",
       "</tbody>\n",
       "</table>\n"
      ],
      "text/latex": [
       "A tibble: 6 × 4\n",
       "\\begin{tabular}{llll}\n",
       " fips & county & pollution & deaths\\\\\n",
       " <dbl> & <chr> & <dbl> & <dbl>\\\\\n",
       "\\hline\n",
       "\t 1017 & Chambers, Alabama   & 11.4 & 18.0\\\\\n",
       "\t 1093 & Marion, Alabama     & 10.5 &  6.7\\\\\n",
       "\t 1129 & Washington, Alabama & 10.4 &  6.1\\\\\n",
       "\t 5023 & Cleburne, Arkansas  &  8.6 &  8.0\\\\\n",
       "\t 6051 & Mono, California    &  4.5 &  6.9\\\\\n",
       "\t 8015 & Chaffee, Colorado   &  3.9 &  9.8\\\\\n",
       "\\end{tabular}\n"
      ],
      "text/markdown": [
       "\n",
       "A tibble: 6 × 4\n",
       "\n",
       "| fips &lt;dbl&gt; | county &lt;chr&gt; | pollution &lt;dbl&gt; | deaths &lt;dbl&gt; |\n",
       "|---|---|---|---|\n",
       "| 1017 | Chambers, Alabama   | 11.4 | 18.0 |\n",
       "| 1093 | Marion, Alabama     | 10.5 |  6.7 |\n",
       "| 1129 | Washington, Alabama | 10.4 |  6.1 |\n",
       "| 5023 | Cleburne, Arkansas  |  8.6 |  8.0 |\n",
       "| 6051 | Mono, California    |  4.5 |  6.9 |\n",
       "| 8015 | Chaffee, Colorado   |  3.9 |  9.8 |\n",
       "\n"
      ],
      "text/plain": [
       "  fips county              pollution deaths\n",
       "1 1017 Chambers, Alabama   11.4      18.0  \n",
       "2 1093 Marion, Alabama     10.5       6.7  \n",
       "3 1129 Washington, Alabama 10.4       6.1  \n",
       "4 5023 Cleburne, Arkansas   8.6       8.0  \n",
       "5 6051 Mono, California     4.5       6.9  \n",
       "6 8015 Chaffee, Colorado    3.9       9.8  "
      ]
     },
     "metadata": {},
     "output_type": "display_data"
    }
   ],
   "source": [
    "covid_df <- read_excel(\"Data/covid19.xlsx\")\n",
    "head(covid_df)"
   ]
  },
  {
   "cell_type": "markdown",
   "metadata": {},
   "source": [
    "## Description"
   ]
  },
  {
   "cell_type": "code",
   "execution_count": 4,
   "metadata": {},
   "outputs": [
    {
     "data": {
      "text/plain": [
       "   pollution          deaths     \n",
       " Min.   : 3.500   Min.   : 5.00  \n",
       " 1st Qu.: 7.750   1st Qu.: 6.40  \n",
       " Median : 9.900   Median : 8.40  \n",
       " Mean   : 9.138   Mean   :10.25  \n",
       " 3rd Qu.:10.850   3rd Qu.:11.65  \n",
       " Max.   :12.000   Max.   :34.80  "
      ]
     },
     "metadata": {},
     "output_type": "display_data"
    }
   ],
   "source": [
    "summary(select(covid_df,pollution:deaths))"
   ]
  },
  {
   "cell_type": "code",
   "execution_count": 5,
   "metadata": {},
   "outputs": [
    {
     "name": "stderr",
     "output_type": "stream",
     "text": [
      "Output file written: C:\\Users\\woosh\\Documents\\RScripts\\Data\\dfSummary_covid.html\n",
      "\n"
     ]
    }
   ],
   "source": [
    "view(dfSummary(select(covid_df,pollution:deaths)), method = \"viewer\", file = \"Data/dfSummary_covid.html\")"
   ]
  },
  {
   "cell_type": "code",
   "execution_count": 6,
   "metadata": {},
   "outputs": [
    {
     "data": {
      "text/html": [
       "<iframe src=\"./Data/dfSummary_covid.html\" width=1000, height=500></iframe>"
      ]
     },
     "metadata": {},
     "output_type": "display_data"
    }
   ],
   "source": [
    "#install.packages('IRdisplay')\n",
    "IRdisplay::display_html('<iframe src=\"./Data/dfSummary_covid.html\" width=1000, height=500></iframe>')"
   ]
  },
  {
   "cell_type": "code",
   "execution_count": 7,
   "metadata": {},
   "outputs": [
    {
     "data": {
      "image/png": "[encoded data removed]",
      "text/plain": [
       "plot without title"
      ]
     },
     "metadata": {
      "image/png": {
       "height": 420,
       "width": 420
      }
     },
     "output_type": "display_data"
    }
   ],
   "source": [
    "covid_df %>% ggplot(aes(pollution)) + geom_histogram(binwidth = 0.5, alpha = 0.3, fill = \"black\", color=\"grey40\")"
   ]
  },
  {
   "cell_type": "code",
   "execution_count": 8,
   "metadata": {},
   "outputs": [
    {
     "data": {
      "image/png": "[encoded data removed]",
      "text/plain": [
       "plot without title"
      ]
     },
     "metadata": {
      "image/png": {
       "height": 420,
       "width": 420
      }
     },
     "output_type": "display_data"
    }
   ],
   "source": [
    "p <- covid_df %>% ggplot(aes(deaths)) \n",
    "p <- p + geom_histogram(binwidth = 5, alpha = 0.3, fill = \"black\", color=\"grey40\")\n",
    "p <- p +coord_flip()\n",
    "p"
   ]
  },
  {
   "cell_type": "code",
   "execution_count": 9,
   "metadata": {},
   "outputs": [
    {
     "data": {
      "image/png": "[encoded data removed]",
      "text/plain": [
       "plot without title"
      ]
     },
     "metadata": {
      "image/png": {
       "height": 420,
       "width": 420
      }
     },
     "output_type": "display_data"
    }
   ],
   "source": [
    "ggplot(data=covid_df) + geom_point(aes(pollution,deaths))"
   ]
  },
  {
   "cell_type": "markdown",
   "metadata": {},
   "source": [
    "## Linear Regression Model"
   ]
  },
  {
   "cell_type": "code",
   "execution_count": 10,
   "metadata": {},
   "outputs": [
    {
     "data": {
      "text/plain": [
       "\n",
       "Call:\n",
       "lm(formula = deaths ~ pollution, data = covid_df)\n",
       "\n",
       "Residuals:\n",
       "   Min     1Q Median     3Q    Max \n",
       "-5.692 -3.841 -2.122  1.290 24.500 \n",
       "\n",
       "Coefficients:\n",
       "            Estimate Std. Error t value Pr(>|t|)   \n",
       "(Intercept)   7.2472     2.4026   3.016  0.00321 **\n",
       "pollution     0.3282     0.2549   1.288  0.20064   \n",
       "---\n",
       "Signif. codes:  0 '***' 0.001 '**' 0.01 '*' 0.05 '.' 0.1 ' ' 1\n",
       "\n",
       "Residual standard error: 6.1 on 105 degrees of freedom\n",
       "Multiple R-squared:  0.01555,\tAdjusted R-squared:  0.006174 \n",
       "F-statistic: 1.658 on 1 and 105 DF,  p-value: 0.2006\n"
      ]
     },
     "metadata": {},
     "output_type": "display_data"
    }
   ],
   "source": [
    "mod <- lm(deaths~pollution, data=covid_df)\n",
    "summary(mod)"
   ]
  },
  {
   "cell_type": "code",
   "execution_count": 11,
   "metadata": {},
   "outputs": [
    {
     "name": "stderr",
     "output_type": "stream",
     "text": [
      "`geom_smooth()` using formula 'y ~ x'\n",
      "\n"
     ]
    },
    {
     "data": {
      "image/png": "[encoded data removed]",
      "text/plain": [
       "plot without title"
      ]
     },
     "metadata": {
      "image/png": {
       "height": 420,
       "width": 420
      }
     },
     "output_type": "display_data"
    }
   ],
   "source": [
    "p <- ggplot(covid_df, aes(pollution,deaths)) + geom_point(size=0.8, alpha=0.4)\n",
    "p <- p + geom_smooth(method = \"lm\", se=FALSE, color = \"black\", size = 0.6)\n",
    "p"
   ]
  },
  {
   "cell_type": "code",
   "execution_count": 12,
   "metadata": {},
   "outputs": [
    {
     "data": {
      "text/html": [
       "<table>\n",
       "<caption>A tibble: 6 × 6</caption>\n",
       "<thead>\n",
       "\t<tr><th scope=col>fips</th><th scope=col>county</th><th scope=col>pollution</th><th scope=col>deaths</th><th scope=col>pred</th><th scope=col>res</th></tr>\n",
       "\t<tr><th scope=col>&lt;dbl&gt;</th><th scope=col>&lt;chr&gt;</th><th scope=col>&lt;dbl&gt;</th><th scope=col>&lt;dbl&gt;</th><th scope=col>&lt;dbl&gt;</th><th scope=col>&lt;dbl&gt;</th></tr>\n",
       "</thead>\n",
       "<tbody>\n",
       "\t<tr><td>1017</td><td>Chambers, Alabama  </td><td>11.4</td><td>18.0</td><td>10.989094</td><td> 7.010906</td></tr>\n",
       "\t<tr><td>1093</td><td>Marion, Alabama    </td><td>10.5</td><td> 6.7</td><td>10.693682</td><td>-3.993682</td></tr>\n",
       "\t<tr><td>1129</td><td>Washington, Alabama</td><td>10.4</td><td> 6.1</td><td>10.660858</td><td>-4.560858</td></tr>\n",
       "\t<tr><td>5023</td><td>Cleburne, Arkansas </td><td> 8.6</td><td> 8.0</td><td>10.070034</td><td>-2.070034</td></tr>\n",
       "\t<tr><td>6051</td><td>Mono, California   </td><td> 4.5</td><td> 6.9</td><td> 8.724266</td><td>-1.824266</td></tr>\n",
       "\t<tr><td>8015</td><td>Chaffee, Colorado  </td><td> 3.9</td><td> 9.8</td><td> 8.527325</td><td> 1.272675</td></tr>\n",
       "</tbody>\n",
       "</table>\n"
      ],
      "text/latex": [
       "A tibble: 6 × 6\n",
       "\\begin{tabular}{llllll}\n",
       " fips & county & pollution & deaths & pred & res\\\\\n",
       " <dbl> & <chr> & <dbl> & <dbl> & <dbl> & <dbl>\\\\\n",
       "\\hline\n",
       "\t 1017 & Chambers, Alabama   & 11.4 & 18.0 & 10.989094 &  7.010906\\\\\n",
       "\t 1093 & Marion, Alabama     & 10.5 &  6.7 & 10.693682 & -3.993682\\\\\n",
       "\t 1129 & Washington, Alabama & 10.4 &  6.1 & 10.660858 & -4.560858\\\\\n",
       "\t 5023 & Cleburne, Arkansas  &  8.6 &  8.0 & 10.070034 & -2.070034\\\\\n",
       "\t 6051 & Mono, California    &  4.5 &  6.9 &  8.724266 & -1.824266\\\\\n",
       "\t 8015 & Chaffee, Colorado   &  3.9 &  9.8 &  8.527325 &  1.272675\\\\\n",
       "\\end{tabular}\n"
      ],
      "text/markdown": [
       "\n",
       "A tibble: 6 × 6\n",
       "\n",
       "| fips &lt;dbl&gt; | county &lt;chr&gt; | pollution &lt;dbl&gt; | deaths &lt;dbl&gt; | pred &lt;dbl&gt; | res &lt;dbl&gt; |\n",
       "|---|---|---|---|---|---|\n",
       "| 1017 | Chambers, Alabama   | 11.4 | 18.0 | 10.989094 |  7.010906 |\n",
       "| 1093 | Marion, Alabama     | 10.5 |  6.7 | 10.693682 | -3.993682 |\n",
       "| 1129 | Washington, Alabama | 10.4 |  6.1 | 10.660858 | -4.560858 |\n",
       "| 5023 | Cleburne, Arkansas  |  8.6 |  8.0 | 10.070034 | -2.070034 |\n",
       "| 6051 | Mono, California    |  4.5 |  6.9 |  8.724266 | -1.824266 |\n",
       "| 8015 | Chaffee, Colorado   |  3.9 |  9.8 |  8.527325 |  1.272675 |\n",
       "\n"
      ],
      "text/plain": [
       "  fips county              pollution deaths pred      res      \n",
       "1 1017 Chambers, Alabama   11.4      18.0   10.989094  7.010906\n",
       "2 1093 Marion, Alabama     10.5       6.7   10.693682 -3.993682\n",
       "3 1129 Washington, Alabama 10.4       6.1   10.660858 -4.560858\n",
       "4 5023 Cleburne, Arkansas   8.6       8.0   10.070034 -2.070034\n",
       "5 6051 Mono, California     4.5       6.9    8.724266 -1.824266\n",
       "6 8015 Chaffee, Colorado    3.9       9.8    8.527325  1.272675"
      ]
     },
     "metadata": {},
     "output_type": "display_data"
    }
   ],
   "source": [
    "covid_df$pred <- predict(mod, data=covid_df$pollution)\n",
    "covid_df$res <- covid_df$deaths - covid_df$pred\n",
    "head(covid_df)"
   ]
  },
  {
   "cell_type": "code",
   "execution_count": 13,
   "metadata": {},
   "outputs": [
    {
     "data": {
      "text/html": [
       "<style>\n",
       ".dl-inline {width: auto; margin:0; padding: 0}\n",
       ".dl-inline>dt, .dl-inline>dd {float: none; width: auto; display: inline-block}\n",
       ".dl-inline>dt::after {content: \":\\0020\"; padding-right: .5ex}\n",
       ".dl-inline>dt:not(:first-of-type) {padding-left: .5ex}\n",
       "</style><dl class=dl-inline><dt>0%</dt><dd>-5.6921528623421</dd><dt>25%</dt><dd>-3.84103314003983</dd><dt>50%</dt><dd>-2.12191804450983</dd><dt>75%</dt><dd>1.29026124977031</dd><dt>100%</dt><dd>24.5002010994459</dd></dl>\n"
      ],
      "text/latex": [
       "\\begin{description*}\n",
       "\\item[0\\textbackslash{}\\%] -5.6921528623421\n",
       "\\item[25\\textbackslash{}\\%] -3.84103314003983\n",
       "\\item[50\\textbackslash{}\\%] -2.12191804450983\n",
       "\\item[75\\textbackslash{}\\%] 1.29026124977031\n",
       "\\item[100\\textbackslash{}\\%] 24.5002010994459\n",
       "\\end{description*}\n"
      ],
      "text/markdown": [
       "0%\n",
       ":   -5.692152862342125%\n",
       ":   -3.8410331400398350%\n",
       ":   -2.1219180445098375%\n",
       ":   1.29026124977031100%\n",
       ":   24.5002010994459\n",
       "\n"
      ],
      "text/plain": [
       "       0%       25%       50%       75%      100% \n",
       "-5.692153 -3.841033 -2.121918  1.290261 24.500201 "
      ]
     },
     "metadata": {},
     "output_type": "display_data"
    }
   ],
   "source": [
    "stats::quantile(covid_df$res)"
   ]
  },
  {
   "cell_type": "markdown",
   "metadata": {},
   "source": [
    "### Correlation"
   ]
  },
  {
   "cell_type": "code",
   "execution_count": 14,
   "metadata": {},
   "outputs": [
    {
     "data": {
      "text/html": [
       "1.77338123787692"
      ],
      "text/latex": [
       "1.77338123787692"
      ],
      "text/markdown": [
       "1.77338123787692"
      ],
      "text/plain": [
       "[1] 1.773381"
      ]
     },
     "metadata": {},
     "output_type": "display_data"
    }
   ],
   "source": [
    "cov(covid_df$pollution, covid_df$deaths)"
   ]
  },
  {
   "cell_type": "code",
   "execution_count": 15,
   "metadata": {},
   "outputs": [
    {
     "data": {
      "text/html": [
       "0.124696518966767"
      ],
      "text/latex": [
       "0.124696518966767"
      ],
      "text/markdown": [
       "0.124696518966767"
      ],
      "text/plain": [
       "[1] 0.1246965"
      ]
     },
     "metadata": {},
     "output_type": "display_data"
    }
   ],
   "source": [
    "cor(covid_df$pollution, covid_df$deaths)"
   ]
  },
  {
   "cell_type": "code",
   "execution_count": 16,
   "metadata": {},
   "outputs": [
    {
     "data": {
      "text/html": [
       "0.193347297809133"
      ],
      "text/latex": [
       "0.193347297809133"
      ],
      "text/markdown": [
       "0.193347297809133"
      ],
      "text/plain": [
       "[1] 0.1933473"
      ]
     },
     "metadata": {},
     "output_type": "display_data"
    }
   ],
   "source": [
    "# Pearson correlation: relationship exists if rho > 2/sqrt(n) n: Number of data points\n",
    "2/sqrt(nrow(covid_df))"
   ]
  },
  {
   "cell_type": "code",
   "execution_count": 17,
   "metadata": {},
   "outputs": [
    {
     "data": {
      "text/html": [
       "<style>\n",
       ".list-inline {list-style: none; margin:0; padding: 0}\n",
       ".list-inline>li {display: inline-block}\n",
       ".list-inline>li:not(:last-child)::after {content: \"\\00b7\"; padding: 0 .5ex}\n",
       "</style>\n",
       "<ol class=list-inline><li>'R-Squared = '</li><li>'1.55492218424292'</li><li>' %'</li></ol>\n"
      ],
      "text/latex": [
       "\\begin{enumerate*}\n",
       "\\item 'R-Squared = '\n",
       "\\item '1.55492218424292'\n",
       "\\item ' \\%'\n",
       "\\end{enumerate*}\n"
      ],
      "text/markdown": [
       "1. 'R-Squared = '\n",
       "2. '1.55492218424292'\n",
       "3. ' %'\n",
       "\n",
       "\n"
      ],
      "text/plain": [
       "[1] \"R-Squared = \"     \"1.55492218424292\" \" %\"              "
      ]
     },
     "metadata": {},
     "output_type": "display_data"
    }
   ],
   "source": [
    "# R-squared (Rho^2)\n",
    "paste(c(\"R-Squared = \",100*(cor(covid_df$pollution, covid_df$deaths)^2),\" %\"))"
   ]
  },
  {
   "cell_type": "code",
   "execution_count": 18,
   "metadata": {},
   "outputs": [
    {
     "data": {
      "image/png": "[encoded data removed]",
      "text/plain": [
       "Plot with title \"\""
      ]
     },
     "metadata": {
      "image/png": {
       "height": 420,
       "width": 420
      }
     },
     "output_type": "display_data"
    }
   ],
   "source": [
    "plot(mod, which=2, col=c(\"red\"))  # Q-Q Plot"
   ]
  },
  {
   "cell_type": "markdown",
   "metadata": {},
   "source": [
    "## Logarithmic Regression Model"
   ]
  },
  {
   "cell_type": "code",
   "execution_count": 19,
   "metadata": {},
   "outputs": [
    {
     "data": {
      "text/plain": [
       "\n",
       "Call:\n",
       "lm(formula = deaths ~ log(pollution), data = covid_df)\n",
       "\n",
       "Residuals:\n",
       "   Min     1Q Median     3Q    Max \n",
       "-5.598 -3.777 -2.203  1.355 24.426 \n",
       "\n",
       "Coefficients:\n",
       "               Estimate Std. Error t value Pr(>|t|)\n",
       "(Intercept)       5.543      4.212   1.316    0.191\n",
       "log(pollution)    2.166      1.921   1.128    0.262\n",
       "\n",
       "Residual standard error: 6.111 on 105 degrees of freedom\n",
       "Multiple R-squared:  0.01197,\tAdjusted R-squared:  0.00256 \n",
       "F-statistic: 1.272 on 1 and 105 DF,  p-value: 0.262\n"
      ]
     },
     "metadata": {},
     "output_type": "display_data"
    }
   ],
   "source": [
    "mod_log <- lm(deaths~log(pollution), data= covid_df)\n",
    "summary(mod_log)"
   ]
  },
  {
   "cell_type": "code",
   "execution_count": 20,
   "metadata": {},
   "outputs": [
    {
     "data": {
      "image/png": "[encoded data removed]",
      "text/plain": [
       "plot without title"
      ]
     },
     "metadata": {
      "image/png": {
       "height": 420,
       "width": 420
      }
     },
     "output_type": "display_data"
    }
   ],
   "source": [
    "p <- ggplot(covid_df, aes(pollution,deaths)) + geom_point(size=0.8, alpha=0.4)\n",
    "p <- p + geom_smooth(method = \"lm\",formula = y~log(x) , se=TRUE, color = \"black\", size = 0.6)\n",
    "p"
   ]
  },
  {
   "cell_type": "code",
   "execution_count": 21,
   "metadata": {},
   "outputs": [
    {
     "data": {
      "image/png": "[encoded data removed]",
      "text/plain": [
       "Plot with title \"\""
      ]
     },
     "metadata": {
      "image/png": {
       "height": 420,
       "width": 420
      }
     },
     "output_type": "display_data"
    }
   ],
   "source": [
    "plot(mod_log, which=2, col=c(\"red\"))  # Q-Q Plot"
   ]
  },
  {
   "cell_type": "markdown",
   "metadata": {},
   "source": [
    "## Curvilinear Regression Model"
   ]
  },
  {
   "cell_type": "code",
   "execution_count": 22,
   "metadata": {},
   "outputs": [
    {
     "data": {
      "text/plain": [
       "\n",
       "Call:\n",
       "lm(formula = deaths ~ pollution + I(pollution^2), data = covid_df)\n",
       "\n",
       "Residuals:\n",
       "   Min     1Q Median     3Q    Max \n",
       "-6.277 -3.850 -2.083  1.344 25.288 \n",
       "\n",
       "Coefficients:\n",
       "               Estimate Std. Error t value Pr(>|t|)  \n",
       "(Intercept)     16.5734     7.6321   2.172   0.0322 *\n",
       "pollution       -2.2270     2.0017  -1.113   0.2684  \n",
       "I(pollution^2)   0.1578     0.1226   1.287   0.2010  \n",
       "---\n",
       "Signif. codes:  0 '***' 0.001 '**' 0.01 '*' 0.05 '.' 0.1 ' ' 1\n",
       "\n",
       "Residual standard error: 6.081 on 104 degrees of freedom\n",
       "Multiple R-squared:  0.03098,\tAdjusted R-squared:  0.01235 \n",
       "F-statistic: 1.663 on 2 and 104 DF,  p-value: 0.1947\n"
      ]
     },
     "metadata": {},
     "output_type": "display_data"
    }
   ],
   "source": [
    "mod_curv <- lm(deaths~pollution + I(pollution^2), data= covid_df)\n",
    "summary(mod_curv)"
   ]
  },
  {
   "cell_type": "code",
   "execution_count": 23,
   "metadata": {},
   "outputs": [
    {
     "data": {
      "image/png": "[encoded data removed]",
      "text/plain": [
       "plot without title"
      ]
     },
     "metadata": {
      "image/png": {
       "height": 420,
       "width": 420
      }
     },
     "output_type": "display_data"
    }
   ],
   "source": [
    "p <- ggplot(covid_df, aes(pollution,deaths)) + geom_point(size=0.8, alpha=0.4)\n",
    "p <- p + geom_smooth(method = \"lm\",formula = y~poly(x,2) , se=TRUE, color = \"black\", size = 0.6)\n",
    "p"
   ]
  },
  {
   "cell_type": "code",
   "execution_count": 24,
   "metadata": {},
   "outputs": [
    {
     "data": {
      "text/plain": [
       "\n",
       "Call:\n",
       "lm(formula = deaths ~ poly(pollution, 3), data = covid_df)\n",
       "\n",
       "Residuals:\n",
       "   Min     1Q Median     3Q    Max \n",
       "-7.315 -3.693 -1.798  1.317 25.692 \n",
       "\n",
       "Coefficients:\n",
       "                    Estimate Std. Error t value Pr(>|t|)    \n",
       "(Intercept)          10.2467     0.5878  17.432   <2e-16 ***\n",
       "poly(pollution, 3)1   7.8550     6.0803   1.292    0.199    \n",
       "poly(pollution, 3)2   7.8255     6.0803   1.287    0.201    \n",
       "poly(pollution, 3)3   6.1001     6.0803   1.003    0.318    \n",
       "---\n",
       "Signif. codes:  0 '***' 0.001 '**' 0.01 '*' 0.05 '.' 0.1 ' ' 1\n",
       "\n",
       "Residual standard error: 6.08 on 103 degrees of freedom\n",
       "Multiple R-squared:  0.04036,\tAdjusted R-squared:  0.01241 \n",
       "F-statistic: 1.444 on 3 and 103 DF,  p-value: 0.2344\n"
      ]
     },
     "metadata": {},
     "output_type": "display_data"
    }
   ],
   "source": [
    "mod_curv3 <- lm(deaths~poly(pollution,3), data= covid_df)\n",
    "summary(mod_curv3)"
   ]
  },
  {
   "cell_type": "code",
   "execution_count": 25,
   "metadata": {},
   "outputs": [
    {
     "data": {
      "image/png": "[encoded data removed]",
      "text/plain": [
       "plot without title"
      ]
     },
     "metadata": {
      "image/png": {
       "height": 420,
       "width": 420
      }
     },
     "output_type": "display_data"
    }
   ],
   "source": [
    "p <- ggplot(covid_df, aes(pollution,deaths)) + geom_point(size=0.8, alpha=0.4)\n",
    "p <- p + geom_smooth(method = \"lm\",formula = y~poly(x,3) , se=TRUE, color = \"black\", size = 0.6)\n",
    "p"
   ]
  },
  {
   "cell_type": "code",
   "execution_count": 26,
   "metadata": {},
   "outputs": [
    {
     "data": {
      "text/plain": [
       "\n",
       "Call:\n",
       "lm(formula = deaths ~ sin(pollution), data = covid_df)\n",
       "\n",
       "Residuals:\n",
       "   Min     1Q Median     3Q    Max \n",
       "-5.830 -3.981 -1.898  1.280 25.250 \n",
       "\n",
       "Coefficients:\n",
       "               Estimate Std. Error t value Pr(>|t|)    \n",
       "(Intercept)      9.7057     0.7109   13.65   <2e-16 ***\n",
       "sin(pollution)  -1.2477     0.9173   -1.36    0.177    \n",
       "---\n",
       "Signif. codes:  0 '***' 0.001 '**' 0.01 '*' 0.05 '.' 0.1 ' ' 1\n",
       "\n",
       "Residual standard error: 6.094 on 105 degrees of freedom\n",
       "Multiple R-squared:  0.01732,\tAdjusted R-squared:  0.007956 \n",
       "F-statistic:  1.85 on 1 and 105 DF,  p-value: 0.1767\n"
      ]
     },
     "metadata": {},
     "output_type": "display_data"
    }
   ],
   "source": [
    "mod_sin <- lm(deaths~sin(pollution), data= covid_df)\n",
    "summary(mod_sin)"
   ]
  },
  {
   "cell_type": "code",
   "execution_count": 27,
   "metadata": {},
   "outputs": [
    {
     "data": {
      "image/png": "[encoded data removed]",
      "text/plain": [
       "plot without title"
      ]
     },
     "metadata": {
      "image/png": {
       "height": 420,
       "width": 420
      }
     },
     "output_type": "display_data"
    }
   ],
   "source": [
    "p <- ggplot(covid_df, aes(pollution,deaths)) + geom_point(size=0.8, alpha=0.4)\n",
    "p <- p + geom_smooth(method = \"lm\",formula = y~sin(x) , se=TRUE, color = \"black\", size = 0.6)\n",
    "p"
   ]
  },
  {
   "cell_type": "code",
   "execution_count": 28,
   "metadata": {},
   "outputs": [
    {
     "data": {
      "image/png": "[encoded data removed]",
      "text/plain": [
       "Plot with title \"\""
      ]
     },
     "metadata": {
      "image/png": {
       "height": 420,
       "width": 420
      }
     },
     "output_type": "display_data"
    }
   ],
   "source": [
    "plot(mod_sin, which=2, col=c(\"red\"))  # Q-Q Plot"
   ]
  },
  {
   "cell_type": "code",
   "execution_count": 29,
   "metadata": {},
   "outputs": [
    {
     "data": {
      "image/png": "[encoded data removed]",
      "text/plain": [
       "plot without title"
      ]
     },
     "metadata": {
      "image/png": {
       "height": 420,
       "width": 420
      }
     },
     "output_type": "display_data"
    }
   ],
   "source": [
    "p <- ggplot(covid_df, aes(pollution,deaths)) + geom_point(size=0.8, alpha=0.4)\n",
    "p <- p + geom_smooth(method = \"lm\",formula = y~exp(x) , se=TRUE, color = \"black\", size = 0.6)\n",
    "p"
   ]
  },
  {
   "cell_type": "markdown",
   "metadata": {},
   "source": [
    "## Log Scale"
   ]
  },
  {
   "cell_type": "code",
   "execution_count": 30,
   "metadata": {},
   "outputs": [
    {
     "data": {
      "text/html": [
       "<table>\n",
       "<caption>A tibble: 6 × 7</caption>\n",
       "<thead>\n",
       "\t<tr><th scope=col>fips</th><th scope=col>county</th><th scope=col>pollution</th><th scope=col>deaths</th><th scope=col>pred</th><th scope=col>res</th><th scope=col>log_deaths</th></tr>\n",
       "\t<tr><th scope=col>&lt;dbl&gt;</th><th scope=col>&lt;chr&gt;</th><th scope=col>&lt;dbl&gt;</th><th scope=col>&lt;dbl&gt;</th><th scope=col>&lt;dbl&gt;</th><th scope=col>&lt;dbl&gt;</th><th scope=col>&lt;dbl&gt;</th></tr>\n",
       "</thead>\n",
       "<tbody>\n",
       "\t<tr><td>1017</td><td>Chambers, Alabama  </td><td>11.4</td><td>18.0</td><td>10.989094</td><td> 7.010906</td><td>2.890372</td></tr>\n",
       "\t<tr><td>1093</td><td>Marion, Alabama    </td><td>10.5</td><td> 6.7</td><td>10.693682</td><td>-3.993682</td><td>1.902108</td></tr>\n",
       "\t<tr><td>1129</td><td>Washington, Alabama</td><td>10.4</td><td> 6.1</td><td>10.660858</td><td>-4.560858</td><td>1.808289</td></tr>\n",
       "\t<tr><td>5023</td><td>Cleburne, Arkansas </td><td> 8.6</td><td> 8.0</td><td>10.070034</td><td>-2.070034</td><td>2.079442</td></tr>\n",
       "\t<tr><td>6051</td><td>Mono, California   </td><td> 4.5</td><td> 6.9</td><td> 8.724266</td><td>-1.824266</td><td>1.931521</td></tr>\n",
       "\t<tr><td>8015</td><td>Chaffee, Colorado  </td><td> 3.9</td><td> 9.8</td><td> 8.527325</td><td> 1.272675</td><td>2.282382</td></tr>\n",
       "</tbody>\n",
       "</table>\n"
      ],
      "text/latex": [
       "A tibble: 6 × 7\n",
       "\\begin{tabular}{lllllll}\n",
       " fips & county & pollution & deaths & pred & res & log\\_deaths\\\\\n",
       " <dbl> & <chr> & <dbl> & <dbl> & <dbl> & <dbl> & <dbl>\\\\\n",
       "\\hline\n",
       "\t 1017 & Chambers, Alabama   & 11.4 & 18.0 & 10.989094 &  7.010906 & 2.890372\\\\\n",
       "\t 1093 & Marion, Alabama     & 10.5 &  6.7 & 10.693682 & -3.993682 & 1.902108\\\\\n",
       "\t 1129 & Washington, Alabama & 10.4 &  6.1 & 10.660858 & -4.560858 & 1.808289\\\\\n",
       "\t 5023 & Cleburne, Arkansas  &  8.6 &  8.0 & 10.070034 & -2.070034 & 2.079442\\\\\n",
       "\t 6051 & Mono, California    &  4.5 &  6.9 &  8.724266 & -1.824266 & 1.931521\\\\\n",
       "\t 8015 & Chaffee, Colorado   &  3.9 &  9.8 &  8.527325 &  1.272675 & 2.282382\\\\\n",
       "\\end{tabular}\n"
      ],
      "text/markdown": [
       "\n",
       "A tibble: 6 × 7\n",
       "\n",
       "| fips &lt;dbl&gt; | county &lt;chr&gt; | pollution &lt;dbl&gt; | deaths &lt;dbl&gt; | pred &lt;dbl&gt; | res &lt;dbl&gt; | log_deaths &lt;dbl&gt; |\n",
       "|---|---|---|---|---|---|---|\n",
       "| 1017 | Chambers, Alabama   | 11.4 | 18.0 | 10.989094 |  7.010906 | 2.890372 |\n",
       "| 1093 | Marion, Alabama     | 10.5 |  6.7 | 10.693682 | -3.993682 | 1.902108 |\n",
       "| 1129 | Washington, Alabama | 10.4 |  6.1 | 10.660858 | -4.560858 | 1.808289 |\n",
       "| 5023 | Cleburne, Arkansas  |  8.6 |  8.0 | 10.070034 | -2.070034 | 2.079442 |\n",
       "| 6051 | Mono, California    |  4.5 |  6.9 |  8.724266 | -1.824266 | 1.931521 |\n",
       "| 8015 | Chaffee, Colorado   |  3.9 |  9.8 |  8.527325 |  1.272675 | 2.282382 |\n",
       "\n"
      ],
      "text/plain": [
       "  fips county              pollution deaths pred      res       log_deaths\n",
       "1 1017 Chambers, Alabama   11.4      18.0   10.989094  7.010906 2.890372  \n",
       "2 1093 Marion, Alabama     10.5       6.7   10.693682 -3.993682 1.902108  \n",
       "3 1129 Washington, Alabama 10.4       6.1   10.660858 -4.560858 1.808289  \n",
       "4 5023 Cleburne, Arkansas   8.6       8.0   10.070034 -2.070034 2.079442  \n",
       "5 6051 Mono, California     4.5       6.9    8.724266 -1.824266 1.931521  \n",
       "6 8015 Chaffee, Colorado    3.9       9.8    8.527325  1.272675 2.282382  "
      ]
     },
     "metadata": {},
     "output_type": "display_data"
    }
   ],
   "source": [
    "covid_df$log_deaths <- log(covid_df$deaths)\n",
    "head(covid_df)"
   ]
  },
  {
   "cell_type": "code",
   "execution_count": 31,
   "metadata": {},
   "outputs": [
    {
     "data": {
      "text/plain": [
       "\n",
       "Call:\n",
       "lm(formula = log_deaths ~ pollution, data = covid_df)\n",
       "\n",
       "Residuals:\n",
       "    Min      1Q  Median      3Q     Max \n",
       "-0.6093 -0.3461 -0.1090  0.2462  1.3424 \n",
       "\n",
       "Coefficients:\n",
       "            Estimate Std. Error t value Pr(>|t|)    \n",
       "(Intercept)  2.01270    0.18232  11.039   <2e-16 ***\n",
       "pollution    0.02091    0.01934   1.081    0.282    \n",
       "---\n",
       "Signif. codes:  0 '***' 0.001 '**' 0.01 '*' 0.05 '.' 0.1 ' ' 1\n",
       "\n",
       "Residual standard error: 0.4629 on 105 degrees of freedom\n",
       "Multiple R-squared:  0.01101,\tAdjusted R-squared:  0.00159 \n",
       "F-statistic: 1.169 on 1 and 105 DF,  p-value: 0.2821\n"
      ]
     },
     "metadata": {},
     "output_type": "display_data"
    }
   ],
   "source": [
    "mod <- lm(log_deaths~pollution, data=covid_df)\n",
    "summary(mod)"
   ]
  },
  {
   "cell_type": "code",
   "execution_count": 32,
   "metadata": {},
   "outputs": [
    {
     "data": {
      "text/html": [
       "<table>\n",
       "<caption>A tibble: 6 × 8</caption>\n",
       "<thead>\n",
       "\t<tr><th scope=col>fips</th><th scope=col>county</th><th scope=col>pollution</th><th scope=col>deaths</th><th scope=col>pred</th><th scope=col>res</th><th scope=col>log_deaths</th><th scope=col>log_pollution</th></tr>\n",
       "\t<tr><th scope=col>&lt;dbl&gt;</th><th scope=col>&lt;chr&gt;</th><th scope=col>&lt;dbl&gt;</th><th scope=col>&lt;dbl&gt;</th><th scope=col>&lt;dbl&gt;</th><th scope=col>&lt;dbl&gt;</th><th scope=col>&lt;dbl&gt;</th><th scope=col>&lt;dbl&gt;</th></tr>\n",
       "</thead>\n",
       "<tbody>\n",
       "\t<tr><td>1017</td><td>Chambers, Alabama  </td><td>11.4</td><td>18.0</td><td>10.989094</td><td> 7.010906</td><td>2.890372</td><td>2.433613</td></tr>\n",
       "\t<tr><td>1093</td><td>Marion, Alabama    </td><td>10.5</td><td> 6.7</td><td>10.693682</td><td>-3.993682</td><td>1.902108</td><td>2.351375</td></tr>\n",
       "\t<tr><td>1129</td><td>Washington, Alabama</td><td>10.4</td><td> 6.1</td><td>10.660858</td><td>-4.560858</td><td>1.808289</td><td>2.341806</td></tr>\n",
       "\t<tr><td>5023</td><td>Cleburne, Arkansas </td><td> 8.6</td><td> 8.0</td><td>10.070034</td><td>-2.070034</td><td>2.079442</td><td>2.151762</td></tr>\n",
       "\t<tr><td>6051</td><td>Mono, California   </td><td> 4.5</td><td> 6.9</td><td> 8.724266</td><td>-1.824266</td><td>1.931521</td><td>1.504077</td></tr>\n",
       "\t<tr><td>8015</td><td>Chaffee, Colorado  </td><td> 3.9</td><td> 9.8</td><td> 8.527325</td><td> 1.272675</td><td>2.282382</td><td>1.360977</td></tr>\n",
       "</tbody>\n",
       "</table>\n"
      ],
      "text/latex": [
       "A tibble: 6 × 8\n",
       "\\begin{tabular}{llllllll}\n",
       " fips & county & pollution & deaths & pred & res & log\\_deaths & log\\_pollution\\\\\n",
       " <dbl> & <chr> & <dbl> & <dbl> & <dbl> & <dbl> & <dbl> & <dbl>\\\\\n",
       "\\hline\n",
       "\t 1017 & Chambers, Alabama   & 11.4 & 18.0 & 10.989094 &  7.010906 & 2.890372 & 2.433613\\\\\n",
       "\t 1093 & Marion, Alabama     & 10.5 &  6.7 & 10.693682 & -3.993682 & 1.902108 & 2.351375\\\\\n",
       "\t 1129 & Washington, Alabama & 10.4 &  6.1 & 10.660858 & -4.560858 & 1.808289 & 2.341806\\\\\n",
       "\t 5023 & Cleburne, Arkansas  &  8.6 &  8.0 & 10.070034 & -2.070034 & 2.079442 & 2.151762\\\\\n",
       "\t 6051 & Mono, California    &  4.5 &  6.9 &  8.724266 & -1.824266 & 1.931521 & 1.504077\\\\\n",
       "\t 8015 & Chaffee, Colorado   &  3.9 &  9.8 &  8.527325 &  1.272675 & 2.282382 & 1.360977\\\\\n",
       "\\end{tabular}\n"
      ],
      "text/markdown": [
       "\n",
       "A tibble: 6 × 8\n",
       "\n",
       "| fips &lt;dbl&gt; | county &lt;chr&gt; | pollution &lt;dbl&gt; | deaths &lt;dbl&gt; | pred &lt;dbl&gt; | res &lt;dbl&gt; | log_deaths &lt;dbl&gt; | log_pollution &lt;dbl&gt; |\n",
       "|---|---|---|---|---|---|---|---|\n",
       "| 1017 | Chambers, Alabama   | 11.4 | 18.0 | 10.989094 |  7.010906 | 2.890372 | 2.433613 |\n",
       "| 1093 | Marion, Alabama     | 10.5 |  6.7 | 10.693682 | -3.993682 | 1.902108 | 2.351375 |\n",
       "| 1129 | Washington, Alabama | 10.4 |  6.1 | 10.660858 | -4.560858 | 1.808289 | 2.341806 |\n",
       "| 5023 | Cleburne, Arkansas  |  8.6 |  8.0 | 10.070034 | -2.070034 | 2.079442 | 2.151762 |\n",
       "| 6051 | Mono, California    |  4.5 |  6.9 |  8.724266 | -1.824266 | 1.931521 | 1.504077 |\n",
       "| 8015 | Chaffee, Colorado   |  3.9 |  9.8 |  8.527325 |  1.272675 | 2.282382 | 1.360977 |\n",
       "\n"
      ],
      "text/plain": [
       "  fips county              pollution deaths pred      res       log_deaths\n",
       "1 1017 Chambers, Alabama   11.4      18.0   10.989094  7.010906 2.890372  \n",
       "2 1093 Marion, Alabama     10.5       6.7   10.693682 -3.993682 1.902108  \n",
       "3 1129 Washington, Alabama 10.4       6.1   10.660858 -4.560858 1.808289  \n",
       "4 5023 Cleburne, Arkansas   8.6       8.0   10.070034 -2.070034 2.079442  \n",
       "5 6051 Mono, California     4.5       6.9    8.724266 -1.824266 1.931521  \n",
       "6 8015 Chaffee, Colorado    3.9       9.8    8.527325  1.272675 2.282382  \n",
       "  log_pollution\n",
       "1 2.433613     \n",
       "2 2.351375     \n",
       "3 2.341806     \n",
       "4 2.151762     \n",
       "5 1.504077     \n",
       "6 1.360977     "
      ]
     },
     "metadata": {},
     "output_type": "display_data"
    }
   ],
   "source": [
    "covid_df$log_pollution <- log(covid_df$pollution)\n",
    "head(covid_df)"
   ]
  },
  {
   "cell_type": "code",
   "execution_count": 33,
   "metadata": {},
   "outputs": [
    {
     "data": {
      "text/html": [
       "0.10940482632592"
      ],
      "text/latex": [
       "0.10940482632592"
      ],
      "text/markdown": [
       "0.10940482632592"
      ],
      "text/plain": [
       "[1] 0.1094048"
      ]
     },
     "metadata": {},
     "output_type": "display_data"
    }
   ],
   "source": [
    "cor(covid_df$log_pollution, covid_df$deaths)"
   ]
  },
  {
   "cell_type": "code",
   "execution_count": 34,
   "metadata": {},
   "outputs": [
    {
     "data": {
      "text/html": [
       "0.104925712442725"
      ],
      "text/latex": [
       "0.104925712442725"
      ],
      "text/markdown": [
       "0.104925712442725"
      ],
      "text/plain": [
       "[1] 0.1049257"
      ]
     },
     "metadata": {},
     "output_type": "display_data"
    }
   ],
   "source": [
    "cor(covid_df$pollution, covid_df$log_deaths)"
   ]
  },
  {
   "cell_type": "code",
   "execution_count": 35,
   "metadata": {},
   "outputs": [
    {
     "data": {
      "text/html": [
       "0.0892035031408008"
      ],
      "text/latex": [
       "0.0892035031408008"
      ],
      "text/markdown": [
       "0.0892035031408008"
      ],
      "text/plain": [
       "[1] 0.0892035"
      ]
     },
     "metadata": {},
     "output_type": "display_data"
    }
   ],
   "source": [
    "cor(covid_df$log_pollution, covid_df$log_deaths)"
   ]
  },
  {
   "cell_type": "code",
   "execution_count": 36,
   "metadata": {},
   "outputs": [
    {
     "data": {
      "text/html": [
       "0.10940482632592"
      ],
      "text/latex": [
       "0.10940482632592"
      ],
      "text/markdown": [
       "0.10940482632592"
      ],
      "text/plain": [
       "[1] 0.1094048"
      ]
     },
     "metadata": {},
     "output_type": "display_data"
    }
   ],
   "source": [
    "cor(covid_df$log_pollution, covid_df$deaths)"
   ]
  },
  {
   "cell_type": "code",
   "execution_count": null,
   "metadata": {},
   "outputs": [],
   "source": []
  }
 ],
 "metadata": {
  "kernelspec": {
   "display_name": "R",
   "language": "R",
   "name": "ir"
  },
  "language_info": {
   "codemirror_mode": "r",
   "file_extension": ".r",
   "mimetype": "text/x-r-source",
   "name": "R",
   "pygments_lexer": "r",
   "version": "4.0.2"
  }
 },
 "nbformat": 4,
 "nbformat_minor": 2
}
